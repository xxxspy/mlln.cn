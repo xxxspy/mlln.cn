{
 "cells": [
  {
   "cell_type": "markdown",
   "metadata": {},
   "source": [
    "---\n",
    "title: EM算法详解和numpy代码实现\n",
    "date: 2018-09-13 8:17:55\n",
    "tags: [python, EM]\n",
    "toc: true\n",
    "xiongzhang: true\n",
    "\n",
    "---\n",
    "<span></span>\n",
    "<!-- more -->\n",
    "\n",
    "> 声明: 本文由[DataScience](http://mlln.cn)原创发表, 转载请注明[本文链接](http://mlln.cn)mlln.cn, 并在文后留言`转载`.\n",
    "\n",
    "本文代码运行环境:\n",
    "\n",
    "- windows10\n",
    "- python3.6\n",
    "- jupyter notebook\n"
   ]
  },
  {
   "cell_type": "markdown",
   "metadata": {},
   "source": [
    "### 用到的资源和基本配置\n",
    "\n",
    "在教程开始之前了解一下我们将用到的工具, 可以让你们评估一下教程的难度, 并且了解教程的大概内容。我们的教程和本站的大部分内容类似, 都运行在jupyter notebook中, 并且在后续可能会增加在线运行代码的功能。"
   ]
  },
  {
   "cell_type": "code",
   "execution_count": 17,
   "metadata": {},
   "outputs": [],
   "source": [
    "%matplotlib inline\n",
    "import numpy as np\n",
    "\n",
    "import matplotlib.pyplot as plt\n",
    "import pandas as pd\n"
   ]
  },
  {
   "cell_type": "markdown",
   "metadata": {},
   "source": [
    "### 问题介绍\n",
    "\n",
    "这个例子来自书 Computer Age Statistical Inference By Efron和Hastie。假设我们的数据采自正太双变量:\n",
    "\n",
    "<img src=\"images/bi-variate-normal.png\" />"
   ]
  },
  {
   "cell_type": "markdown",
   "metadata": {},
   "source": [
    "用代码来说明就是这样:"
   ]
  },
  {
   "cell_type": "code",
   "execution_count": 5,
   "metadata": {},
   "outputs": [
    {
     "name": "stdout",
     "output_type": "stream",
     "text": [
      "均值: [1.85 1.  ]\n",
      "协方差矩阵: [[1.     0.615 ]\n",
      " [0.615  0.5625]]\n"
     ]
    }
   ],
   "source": [
    "# 标准差\n",
    "sig1=1\n",
    "sig2=0.75\n",
    "# 均值\n",
    "mu1=1.85\n",
    "mu2=1\n",
    "rho=0.82\n",
    "# 均值\n",
    "means=np.array([mu1, mu2])\n",
    "#协方差矩阵\n",
    "cov = np.array([\n",
    "    [sig1**2, sig1*sig2*rho],\n",
    "    [sig2*sig1*rho, sig2**2]\n",
    "])\n",
    "print('均值:', means)\n",
    "print('协方差矩阵:', cov)"
   ]
  },
  {
   "cell_type": "markdown",
   "metadata": {},
   "source": [
    "生成我们用到的样本, 第一列表示x, 第二列表示y"
   ]
  },
  {
   "cell_type": "code",
   "execution_count": 7,
   "metadata": {},
   "outputs": [
    {
     "data": {
      "text/plain": [
       "array([[ 2.68359748,  1.48379834],\n",
       "       [ 1.17791924,  1.38894689],\n",
       "       [ 1.86489988,  0.64818678],\n",
       "       [ 3.46263848,  2.52003738],\n",
       "       [ 3.28320055,  2.09838814],\n",
       "       [ 2.2243539 ,  0.68423906],\n",
       "       [-0.81846598,  0.25206792],\n",
       "       [ 2.8875052 ,  1.21514733],\n",
       "       [ 2.8089101 ,  2.66763322],\n",
       "       [-0.43096351, -0.40946548],\n",
       "       [ 1.59169105,  0.83110871],\n",
       "       [ 2.33259334,  0.74321063],\n",
       "       [ 1.23234749,  0.10636416],\n",
       "       [ 2.77710826,  1.22676301],\n",
       "       [ 2.30041259,  1.26537629],\n",
       "       [ 1.46274197,  0.86375528],\n",
       "       [ 2.34134553,  0.60329965],\n",
       "       [ 1.41575413,  0.12814199],\n",
       "       [ 2.89978014,  1.662521  ],\n",
       "       [ 1.94268688,  0.96135903],\n",
       "       [ 1.8706036 ,  0.23341228],\n",
       "       [-0.95437589, -1.59097527],\n",
       "       [ 2.31569597,  1.16615578],\n",
       "       [ 2.22949385,  1.51688792],\n",
       "       [ 1.20585795,  0.65294385],\n",
       "       [ 1.35490525,  1.49116327],\n",
       "       [ 0.65720096, -0.04390794],\n",
       "       [ 3.50395539,  0.94368355],\n",
       "       [ 2.87762334,  2.1871402 ],\n",
       "       [ 1.72990085,  0.06746951],\n",
       "       [ 1.81482228,  1.13994364],\n",
       "       [ 2.90097921,  2.68693399],\n",
       "       [ 0.17064598, -0.57392392],\n",
       "       [ 3.54635827,  1.9893743 ],\n",
       "       [ 0.14184182, -0.16384488],\n",
       "       [ 1.62707491,  1.3287029 ],\n",
       "       [ 0.98461819,  1.14653502],\n",
       "       [ 2.90010676,  1.67282818],\n",
       "       [ 1.40230423,  0.11994606],\n",
       "       [ 2.9772189 ,  1.59642522]])"
      ]
     },
     "execution_count": 7,
     "metadata": {},
     "output_type": "execute_result"
    }
   ],
   "source": [
    "samples=np.random.multivariate_normal(means, cov, size=40)\n",
    "samples"
   ]
  },
  {
   "cell_type": "markdown",
   "metadata": {},
   "source": [
    "不幸的是, 有些数据是缺失的, 所以我们伪造一些缺失数据, 用0表示缺失, 设置后20行数据的y都为0"
   ]
  },
  {
   "cell_type": "code",
   "execution_count": 8,
   "metadata": {},
   "outputs": [],
   "source": [
    "samples_censored=np.copy(samples)\n",
    "samples_censored[20:,1]=0"
   ]
  },
  {
   "cell_type": "markdown",
   "metadata": {},
   "source": [
    "我们将上面的样本绘制成蓝色点。现在我们丢失了最后20个数据的y值。我们留下了丢失的数据或隐藏数据或潜在变量。"
   ]
  },
  {
   "cell_type": "code",
   "execution_count": 9,
   "metadata": {},
   "outputs": [
    {
     "data": {
      "text/plain": [
       "[<matplotlib.lines.Line2D at 0x21ea51ba2e8>]"
      ]
     },
     "execution_count": 9,
     "metadata": {},
     "output_type": "execute_result"
    },
    {
     "data": {
      "image/png": "[encoded data removed]",
      "text/plain": [
       "<Figure size 432x288 with 1 Axes>"
      ]
     },
     "metadata": {},
     "output_type": "display_data"
    }
   ],
   "source": [
    "plt.plot(samples[:,0], samples[:,1], 'o', alpha=0.8)\n",
    "plt.plot(samples_censored[:,0], samples_censored[:,1], 's', alpha=0.3)"
   ]
  },
  {
   "cell_type": "markdown",
   "metadata": {},
   "source": [
    "如果我们已知所有的数据, 数据没有缺失, 我们可以使用MLE(极大似然估计)的方法求得下面所有的统计量, 下面的公式就是基于MLE推倒而得:\n",
    "\n",
    "<img src=\"images/mle.png\" />"
   ]
  },
  {
   "cell_type": "markdown",
   "metadata": {},
   "source": [
    "我们假设缺失值已知, 可以计算得到这些统计量, 这个过程就叫做M-step。下面先写出计算的公式:"
   ]
  },
  {
   "cell_type": "code",
   "execution_count": 10,
   "metadata": {},
   "outputs": [],
   "source": [
    "mu1 = lambda s: np.mean(s[:,0])\n",
    "mu2 = lambda s: np.mean(s[:,1])\n",
    "s1 = lambda s: np.std(s[:,0])\n",
    "s2 = lambda s: np.std(s[:,1])\n",
    "rho = lambda s: np.mean((s[:,0] - mu1(s))*(s[:,1] - mu2(s)))/(s1(s)*s2(s))"
   ]
  },
  {
   "cell_type": "markdown",
   "metadata": {},
   "source": [
    "但是我们缺少y的部分数据,暂时用0来代替缺失值, 使用这个缺失值, 我们可以计算得到上面所有的统计量,  我们应该用迭代的方式找出缺失值的更好的替代值。下这些列表用于存放中间数据:"
   ]
  },
  {
   "cell_type": "code",
   "execution_count": 11,
   "metadata": {},
   "outputs": [],
   "source": [
    "mu1s=[]\n",
    "mu2s=[]\n",
    "s1s=[]\n",
    "s2s=[]\n",
    "# 相关系数, 后面有用到\n",
    "rhos=[]"
   ]
  },
  {
   "cell_type": "markdown",
   "metadata": {},
   "source": [
    "先使用缺失值0计算所有的统计量:"
   ]
  },
  {
   "cell_type": "code",
   "execution_count": 12,
   "metadata": {},
   "outputs": [
    {
     "data": {
      "text/plain": [
       "([1.8674222131186482],\n",
       " [0.5235219836257345],\n",
       " [1.1279568484950988],\n",
       " [0.7551359797772168],\n",
       " [0.43680179723920937])"
      ]
     },
     "execution_count": 12,
     "metadata": {},
     "output_type": "execute_result"
    }
   ],
   "source": [
    "mu1s.append(mu1(samples_censored))\n",
    "mu2s.append(mu2(samples_censored))\n",
    "s1s.append(s1(samples_censored))\n",
    "s2s.append(s2(samples_censored))\n",
    "rhos.append(rho(samples_censored))\n",
    "mu1s,mu2s,s1s,s2s,rhos"
   ]
  },
  {
   "cell_type": "markdown",
   "metadata": {},
   "source": [
    "有了这些参数, 我们可以反过来想, 那些缺失的y是不是可以被估计出来, 一种思路是用平均值代替缺失的y, 也就是下面的公式, 它指的是条件期望,也就是已知x和参数$\\theta$的情况下, 去估计y的期望:\n",
    "\n",
    "$$\n",
    "E_{p(z \\vert \\theta, x)}[z]\n",
    "$$\n",
    "\n",
    "公式中的$z$表示缺失的y, 用代码表示就是:\n",
    "\n",
    "条件期望的公式就是:\n",
    "\n",
    "$$\n",
    "\\bar{y}(t+1) - \\hat{\\mu_2}(t) = \\hat{\\rho}(t)\\frac{\\hat{\\sigma_2}(t)}{\\hat{\\sigma_1}(t)} \\left( \\bar{x} - \\hat{\\mu_1}(t) \\right)\n",
    "$$\n",
    "\n",
    "因为我们的目的是讲解EM算法, 所以条件期望的公式就不详解了, 有兴趣的话看一下wiki的推倒:https://en.wikipedia.org/wiki/Multivariate_normal_distribution#Conditional_distributions"
   ]
  },
  {
   "cell_type": "code",
   "execution_count": 16,
   "metadata": {},
   "outputs": [
    {
     "data": {
      "text/plain": [
       "array([ 0.52445231, -0.30164726,  0.65460922,  0.62940142,  0.3300629 ,\n",
       "        0.37364831,  0.16962092,  1.00208806,  0.81893182,  0.48330706,\n",
       "        0.50814036,  0.82576169,  0.02733923,  1.01448779,  0.01891612,\n",
       "        0.453238  ,  0.26536647,  0.82550657,  0.38750904,  0.84805622])"
      ]
     },
     "execution_count": 16,
     "metadata": {},
     "output_type": "execute_result"
    }
   ],
   "source": [
    "\n",
    "# 用代码实现上面的公式就是:\n",
    "def ynew(x, mu1, mu2, s1, s2, rho):\n",
    "    return mu2 + rho*(s2/s1)*(x - mu1)\n",
    "\n",
    "# 注意计算y的时候, 只使用了缺失值对应的x\n",
    "newys=ynew(samples_censored[20:,0], mu1s[0], mu2s[0], s1s[0], s2s[0], rhos[0])\n",
    "newys"
   ]
  },
  {
   "cell_type": "markdown",
   "metadata": {},
   "source": [
    "上面的这个过程就叫做E-step, 因为我们计算了期望, 下面我们迭代一下看是否能收敛:"
   ]
  },
  {
   "cell_type": "code",
   "execution_count": 15,
   "metadata": {},
   "outputs": [
    {
     "data": {
      "text/html": [
       "<div>\n",
       "<style scoped>\n",
       "    .dataframe tbody tr th:only-of-type {\n",
       "        vertical-align: middle;\n",
       "    }\n",
       "\n",
       "    .dataframe tbody tr th {\n",
       "        vertical-align: top;\n",
       "    }\n",
       "\n",
       "    .dataframe thead th {\n",
       "        text-align: right;\n",
       "    }\n",
       "</style>\n",
       "<table border=\"1\" class=\"dataframe\">\n",
       "  <thead>\n",
       "    <tr style=\"text-align: right;\">\n",
       "      <th></th>\n",
       "      <th>mu1</th>\n",
       "      <th>mu2</th>\n",
       "      <th>s1</th>\n",
       "      <th>s2</th>\n",
       "      <th>rho</th>\n",
       "    </tr>\n",
       "  </thead>\n",
       "  <tbody>\n",
       "    <tr>\n",
       "      <th>0</th>\n",
       "      <td>1.867422</td>\n",
       "      <td>0.523522</td>\n",
       "      <td>1.127957</td>\n",
       "      <td>0.755136</td>\n",
       "      <td>0.436802</td>\n",
       "    </tr>\n",
       "    <tr>\n",
       "      <th>1</th>\n",
       "      <td>1.867422</td>\n",
       "      <td>0.769992</td>\n",
       "      <td>1.127957</td>\n",
       "      <td>0.656320</td>\n",
       "      <td>0.734940</td>\n",
       "    </tr>\n",
       "    <tr>\n",
       "      <th>2</th>\n",
       "      <td>1.867422</td>\n",
       "      <td>0.886157</td>\n",
       "      <td>1.127957</td>\n",
       "      <td>0.667636</td>\n",
       "      <td>0.827798</td>\n",
       "    </tr>\n",
       "    <tr>\n",
       "      <th>3</th>\n",
       "      <td>1.867422</td>\n",
       "      <td>0.940980</td>\n",
       "      <td>1.127957</td>\n",
       "      <td>0.685415</td>\n",
       "      <td>0.853448</td>\n",
       "    </tr>\n",
       "    <tr>\n",
       "      <th>4</th>\n",
       "      <td>1.867422</td>\n",
       "      <td>0.966894</td>\n",
       "      <td>1.127957</td>\n",
       "      <td>0.696062</td>\n",
       "      <td>0.861611</td>\n",
       "    </tr>\n",
       "    <tr>\n",
       "      <th>5</th>\n",
       "      <td>1.867422</td>\n",
       "      <td>0.979166</td>\n",
       "      <td>1.127957</td>\n",
       "      <td>0.701419</td>\n",
       "      <td>0.864603</td>\n",
       "    </tr>\n",
       "    <tr>\n",
       "      <th>6</th>\n",
       "      <td>1.867422</td>\n",
       "      <td>0.984991</td>\n",
       "      <td>1.127957</td>\n",
       "      <td>0.703944</td>\n",
       "      <td>0.865806</td>\n",
       "    </tr>\n",
       "    <tr>\n",
       "      <th>7</th>\n",
       "      <td>1.867422</td>\n",
       "      <td>0.987763</td>\n",
       "      <td>1.127957</td>\n",
       "      <td>0.705095</td>\n",
       "      <td>0.866312</td>\n",
       "    </tr>\n",
       "    <tr>\n",
       "      <th>8</th>\n",
       "      <td>1.867422</td>\n",
       "      <td>0.989086</td>\n",
       "      <td>1.127957</td>\n",
       "      <td>0.705607</td>\n",
       "      <td>0.866529</td>\n",
       "    </tr>\n",
       "    <tr>\n",
       "      <th>9</th>\n",
       "      <td>1.867422</td>\n",
       "      <td>0.989720</td>\n",
       "      <td>1.127957</td>\n",
       "      <td>0.705830</td>\n",
       "      <td>0.866621</td>\n",
       "    </tr>\n",
       "    <tr>\n",
       "      <th>10</th>\n",
       "      <td>1.867422</td>\n",
       "      <td>0.990025</td>\n",
       "      <td>1.127957</td>\n",
       "      <td>0.705925</td>\n",
       "      <td>0.866660</td>\n",
       "    </tr>\n",
       "    <tr>\n",
       "      <th>11</th>\n",
       "      <td>1.867422</td>\n",
       "      <td>0.990173</td>\n",
       "      <td>1.127957</td>\n",
       "      <td>0.705963</td>\n",
       "      <td>0.866676</td>\n",
       "    </tr>\n",
       "    <tr>\n",
       "      <th>12</th>\n",
       "      <td>1.867422</td>\n",
       "      <td>0.990244</td>\n",
       "      <td>1.127957</td>\n",
       "      <td>0.705978</td>\n",
       "      <td>0.866682</td>\n",
       "    </tr>\n",
       "    <tr>\n",
       "      <th>13</th>\n",
       "      <td>1.867422</td>\n",
       "      <td>0.990279</td>\n",
       "      <td>1.127957</td>\n",
       "      <td>0.705983</td>\n",
       "      <td>0.866684</td>\n",
       "    </tr>\n",
       "    <tr>\n",
       "      <th>14</th>\n",
       "      <td>1.867422</td>\n",
       "      <td>0.990297</td>\n",
       "      <td>1.127957</td>\n",
       "      <td>0.705984</td>\n",
       "      <td>0.866684</td>\n",
       "    </tr>\n",
       "    <tr>\n",
       "      <th>15</th>\n",
       "      <td>1.867422</td>\n",
       "      <td>0.990305</td>\n",
       "      <td>1.127957</td>\n",
       "      <td>0.705984</td>\n",
       "      <td>0.866684</td>\n",
       "    </tr>\n",
       "    <tr>\n",
       "      <th>16</th>\n",
       "      <td>1.867422</td>\n",
       "      <td>0.990309</td>\n",
       "      <td>1.127957</td>\n",
       "      <td>0.705984</td>\n",
       "      <td>0.866684</td>\n",
       "    </tr>\n",
       "    <tr>\n",
       "      <th>17</th>\n",
       "      <td>1.867422</td>\n",
       "      <td>0.990312</td>\n",
       "      <td>1.127957</td>\n",
       "      <td>0.705984</td>\n",
       "      <td>0.866684</td>\n",
       "    </tr>\n",
       "    <tr>\n",
       "      <th>18</th>\n",
       "      <td>1.867422</td>\n",
       "      <td>0.990313</td>\n",
       "      <td>1.127957</td>\n",
       "      <td>0.705983</td>\n",
       "      <td>0.866684</td>\n",
       "    </tr>\n",
       "    <tr>\n",
       "      <th>19</th>\n",
       "      <td>1.867422</td>\n",
       "      <td>0.990313</td>\n",
       "      <td>1.127957</td>\n",
       "      <td>0.705983</td>\n",
       "      <td>0.866684</td>\n",
       "    </tr>\n",
       "  </tbody>\n",
       "</table>\n",
       "</div>"
      ],
      "text/plain": [
       "         mu1       mu2        s1        s2       rho\n",
       "0   1.867422  0.523522  1.127957  0.755136  0.436802\n",
       "1   1.867422  0.769992  1.127957  0.656320  0.734940\n",
       "2   1.867422  0.886157  1.127957  0.667636  0.827798\n",
       "3   1.867422  0.940980  1.127957  0.685415  0.853448\n",
       "4   1.867422  0.966894  1.127957  0.696062  0.861611\n",
       "5   1.867422  0.979166  1.127957  0.701419  0.864603\n",
       "6   1.867422  0.984991  1.127957  0.703944  0.865806\n",
       "7   1.867422  0.987763  1.127957  0.705095  0.866312\n",
       "8   1.867422  0.989086  1.127957  0.705607  0.866529\n",
       "9   1.867422  0.989720  1.127957  0.705830  0.866621\n",
       "10  1.867422  0.990025  1.127957  0.705925  0.866660\n",
       "11  1.867422  0.990173  1.127957  0.705963  0.866676\n",
       "12  1.867422  0.990244  1.127957  0.705978  0.866682\n",
       "13  1.867422  0.990279  1.127957  0.705983  0.866684\n",
       "14  1.867422  0.990297  1.127957  0.705984  0.866684\n",
       "15  1.867422  0.990305  1.127957  0.705984  0.866684\n",
       "16  1.867422  0.990309  1.127957  0.705984  0.866684\n",
       "17  1.867422  0.990312  1.127957  0.705984  0.866684\n",
       "18  1.867422  0.990313  1.127957  0.705983  0.866684\n",
       "19  1.867422  0.990313  1.127957  0.705983  0.866684"
      ]
     },
     "execution_count": 15,
     "metadata": {},
     "output_type": "execute_result"
    }
   ],
   "source": [
    "for step in range(1,20):\n",
    "    samples_censored[20:,1] = newys\n",
    "    #M-step\n",
    "    mu1s.append(mu1(samples_censored))\n",
    "    mu2s.append(mu2(samples_censored))\n",
    "    s1s.append(s1(samples_censored))\n",
    "    s2s.append(s2(samples_censored))\n",
    "    rhos.append(rho(samples_censored))\n",
    "    #E-step\n",
    "    newys=ynew(samples_censored[20:,0], mu1s[step], mu2s[step], s1s[step], s2s[step], rhos[step])\n",
    "df=pd.DataFrame.from_dict(dict(mu1=mu1s, mu2=mu2s, s1=s1s, s2=s2s, rho=rhos))\n",
    "df"
   ]
  },
  {
   "cell_type": "markdown",
   "metadata": {},
   "source": [
    "我们可以看到, 估计得到的mu2和s2跟初始值(1, 0.75)相比有些出入, 不过也差不多, 因为EM算法只能找到局部最小值, 而不能得到全局最小值。"
   ]
  }
 ],
 "metadata": {
  "kernelspec": {
   "display_name": "Python 3",
   "language": "python",
   "name": "python3"
  },
  "language_info": {
   "codemirror_mode": {
    "name": "ipython",
    "version": 3
   },
   "file_extension": ".py",
   "mimetype": "text/x-python",
   "name": "python",
   "nbconvert_exporter": "python",
   "pygments_lexer": "ipython3",
   "version": "3.6.4"
  }
 },
 "nbformat": 4,
 "nbformat_minor": 2
}
