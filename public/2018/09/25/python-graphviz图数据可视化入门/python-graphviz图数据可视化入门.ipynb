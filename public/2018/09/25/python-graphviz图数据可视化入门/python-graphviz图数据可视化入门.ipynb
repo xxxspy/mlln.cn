{
 "cells": [
  {
   "cell_type": "markdown",
   "metadata": {},
   "source": [
    "---\n",
    "title: python-graphviz图数据可视化入门\n",
    "date: 2018-09-25 20:17:55\n",
    "tags: [graphviz]\n",
    "toc: true\n",
    "xiongzhang: false\n",
    "\n",
    "---\n",
    "<span></span>\n",
    "<!-- more -->\n",
    "\n",
    "\n",
    "本文代码运行环境:\n",
    "\n",
    "- windows10\n",
    "- python3.6\n",
    "- jupyter notebook"
   ]
  },
  {
   "cell_type": "markdown",
   "metadata": {},
   "source": [
    "### 安装 \n",
    "\n",
    "graphviz为Graphviz图形绘制软件提供了一个简单的纯Python接口。它在Python 2.7和3.4+下运行。要使用pip安装它，请运行以下命令：\n",
    "\n",
    "```\n",
    "pip install graphviz\n",
    "```"
   ]
  },
  {
   "cell_type": "markdown",
   "metadata": {},
   "source": [
    "### 依赖\n",
    "\n",
    "graphviz有一个同名依赖`graphviz`, 这是一个c开发的软件包, 可以通过命令行调用。它的安装很简单, 如果在windows下, 只需要下载二进制包进行安装即可, 具体过程参考这篇文章的[安装Graphviz](http://mlln.cn/2018/09/21/pydotplus%E5%AE%89%E8%A3%85%E5%92%8C%E5%9F%BA%E6%9C%AC%E5%85%A5%E9%97%A8/#%E5%AE%89%E8%A3%85Graphviz)部分。"
   ]
  },
  {
   "cell_type": "markdown",
   "metadata": {},
   "source": [
    "### 基本用法\n",
    "\n",
    "\n",
    "graphviz模块提供两个类：`Graph`和`Digraph`。他们使用DOT语言为无向和有向图创建图形描述。他们有相同的API。\n",
    "\n",
    "通过实例化新的Graph或Digraph对象来创建图形："
   ]
  },
  {
   "cell_type": "code",
   "execution_count": 2,
   "metadata": {},
   "outputs": [
    {
     "data": {
      "text/plain": [
       "'// 这是一个有向图\\ndigraph {\\n}'"
      ]
     },
     "execution_count": 2,
     "metadata": {},
     "output_type": "execute_result"
    }
   ],
   "source": [
    "from graphviz import Digraph\n",
    "dot = Digraph(comment='这是一个有向图')\n",
    "str(dot)"
   ]
  },
  {
   "cell_type": "markdown",
   "metadata": {},
   "source": [
    "它们的构造函数允许设置图形的`name`，DOT代码的`filename`，源代码行的注释等。\n",
    "\n",
    "使用`node（）`和`edge（）`或`edges（）`方法将节点和边添加到图形对象：\n",
    "\n",
    "- `node()`方法第一个参数是name, 第二个参数是label\n",
    "- `edges()`方法可以一次添加多个边, 每个边用字符串表示, 比如`AB`表示从A到B的边\n",
    "- `edge()`方法一次添加一个边"
   ]
  },
  {
   "cell_type": "code",
   "execution_count": 7,
   "metadata": {},
   "outputs": [
    {
     "name": "stdout",
     "output_type": "stream",
     "text": [
      "// 这是一个有向图\n",
      "digraph {\n",
      "\tA [label=\"作者\"]\n",
      "\tB [label=\"医生\"]\n",
      "\tC [label=\"律师\"]\n",
      "\tA -> B\n",
      "\tA -> C\n",
      "\tB -> C\n",
      "}\n"
     ]
    }
   ],
   "source": [
    "dot = Digraph(comment='这是一个有向图')\n",
    "dot.node('A', '作者')\n",
    "dot.node('B', '医生')\n",
    "dot.node('C', '律师')\n",
    "\n",
    "dot.edges(['AB', 'AC'])\n",
    "dot.edge('B', 'C')\n",
    "print(dot.source)"
   ]
  },
  {
   "cell_type": "markdown",
   "metadata": {},
   "source": [
    "使用`render`方法将保存dot源码, 并且会渲染图形, 使用`view=True`参数可以自动打开应用程序以便浏览生成的图:"
   ]
  },
  {
   "cell_type": "code",
   "execution_count": 8,
   "metadata": {},
   "outputs": [
    {
     "data": {
      "text/plain": [
       "'output-graph.gv.pdf'"
      ]
     },
     "execution_count": 8,
     "metadata": {},
     "output_type": "execute_result"
    }
   ],
   "source": [
    "# 将dot源码保存到文件:output-graph.gv\n",
    "# 同时会生成一个pdf文件: output-graph.gv.pdf\n",
    "dot.render('output-graph.gv', view=True)"
   ]
  },
  {
   "cell_type": "markdown",
   "metadata": {},
   "source": [
    "除了PDF, 还可以生成其他格式, 比如png:"
   ]
  },
  {
   "cell_type": "code",
   "execution_count": 13,
   "metadata": {},
   "outputs": [
    {
     "data": {
      "text/plain": [
       "'output-graph.gv.png'"
      ]
     },
     "execution_count": 13,
     "metadata": {},
     "output_type": "execute_result"
    }
   ],
   "source": [
    "dot.format = 'png'\n",
    "dot.render('output-graph.gv', view=True)"
   ]
  },
  {
   "cell_type": "markdown",
   "metadata": {},
   "source": [
    "由于这是jupyter notebook环境, 我们直接使用notebook展示生成的图片即可:"
   ]
  },
  {
   "cell_type": "code",
   "execution_count": 14,
   "metadata": {},
   "outputs": [
    {
     "data": {
      "image/png": "[encoded data removed]",
      "text/plain": [
       "<IPython.core.display.Image object>"
      ]
     },
     "execution_count": 14,
     "metadata": {},
     "output_type": "execute_result"
    }
   ],
   "source": [
    "from IPython.display import display, Image\n",
    "Image(dot.render('output-graph.gv'))"
   ]
  },
  {
   "cell_type": "markdown",
   "metadata": {},
   "source": [
    "### 字体乱码\n",
    "\n",
    "我们可以看到中文的label无法正确显示在图中, 因为默认的字体并不支持中文, 需要我们为node设置字体, 比如我们设置成黑体:"
   ]
  },
  {
   "cell_type": "code",
   "execution_count": 19,
   "metadata": {},
   "outputs": [
    {
     "name": "stderr",
     "output_type": "stream",
     "text": [
      "\r\n",
      "(dot.exe:10280): Pango-WARNING **: couldn't load font \"Heiti Not-Rotated 14\", falling back to \"Sans Not-Rotated 14\", expect ugly output.\r\n"
     ]
    },
    {
     "data": {
      "image/png": "[encoded data removed]",
      "text/plain": [
       "<IPython.core.display.Image object>"
      ]
     },
     "execution_count": 19,
     "metadata": {},
     "output_type": "execute_result"
    }
   ],
   "source": [
    "dot = Digraph(comment='这是一个有向图')\n",
    "dot.node('A', '作者', fontname=\"Heiti\")\n",
    "dot.node('B', '医生')\n",
    "dot.node('C', '律师')\n",
    "dot.edges(['AB', 'AC'])\n",
    "dot.edge('B', 'C')\n",
    "dot.format = 'png'\n",
    "Image(dot.render('output-graph-font.gv'))\n"
   ]
  },
  {
   "cell_type": "markdown",
   "metadata": {},
   "source": [
    "### piped输出\n",
    "\n",
    "为了直接获取Graphviz软件渲染结果, 而不是让它保存到文件中, 我们可以使用`pipe()`方法, 比如我们可以直接获取渲染后的svg源码:"
   ]
  },
  {
   "cell_type": "code",
   "execution_count": 21,
   "metadata": {},
   "outputs": [
    {
     "name": "stdout",
     "output_type": "stream",
     "text": [
      "<?xml version=\"1.0\" encoding=\"UTF-8\" standalone=\"no\"?>\r\n",
      "<!DOCTYPE svg PUBLIC \"-//W3C//DTD SVG 1.1//EN\"\r\n",
      " \"http://www.w3.org/Graphics/SVG/1.1/DTD/svg11.dtd\">\r\n",
      "<!-- Generated by graphviz version 2.38.0 (20140413.2041)\r\n",
      " -->\r\n",
      "<!-- Title: hello Pages: 1 -->\r\n",
      "<svg width=\"77pt\" height=\"116pt\"\r\n",
      " viewBox=\"0.00 0.00 76.89 116.00\" xmlns=\"http://www.w3.org/2000/svg\" xmlns:xlink=\"http://www.w3.org/1999/xlink\">\r\n",
      "<g id=\"graph0\" class=\"graph\" transform=\"scale(1 1) rotate(0) translate(4 112)\">\r\n",
      "<title>hello</title>\r\n",
      "<polygon fill=\"white\" stroke=\"none\" points=\"-4,4 -4,-112 72.8939,-112 72.8939,4 -4,4\"/>\r\n",
      "<!-- Hello -->\r\n",
      "<g id=\"node1\" class=\"node\"><title>Hello</title>\r\n",
      "<ellipse fill=\"none\" stroke=\"black\" cx=\"34.4469\" cy=\"-90\" rx=\"29.795\" ry=\"18\"/>\r\n",
      "<text text-anchor=\"middle\" x=\"34.4469\" y=\"-86.3\" font-family=\"Times New Roman,serif\" font-size=\"14.00\">Hello</text>\r\n",
      "</g>\r\n",
      "<!-- World -->\r\n",
      "<g id=\"node2\" class=\"node\"><title>World</title>\r\n",
      "<ellipse fill=\"none\" stroke=\"black\" cx=\"34.4469\" cy=\"-18\" rx=\"34.394\" ry=\"18\"/>\r\n",
      "<text text-anchor=\"middle\" x=\"34.4469\" y=\"-14.3\" font-family=\"Times New Roman,serif\" font-size=\"14.00\">World</text>\r\n",
      "</g>\r\n",
      "<!-- Hello&#45;&#45;World -->\r\n",
      "<g id=\"edge1\" class=\"edge\"><title>Hello&#45;&#45;World</title>\r\n",
      "<path fill=\"none\" stroke=\"black\" d=\"M34.4469,-71.6966C34.4469,-60.8463 34.4469,-46.9167 34.4469,-36.1043\"/>\r\n",
      "</g>\r\n",
      "</g>\r\n",
      "</svg>\r\n",
      "\n"
     ]
    }
   ],
   "source": [
    "from graphviz import Graph\n",
    "h = Graph('hello', format='svg')\n",
    "h.edge('Hello', 'World')\n",
    "print(h.pipe().decode('utf-8'))  "
   ]
  },
  {
   "cell_type": "markdown",
   "metadata": {},
   "source": [
    "### jupyter notebook中显示\n",
    "\n",
    "因为Graph和Bigraph类都有`_repr_svg_()`方法, 因此他们可以直接显示在notebook中, 而不需要做任何处理, 例如, 上面的svg图, 可以直接显示:"
   ]
  },
  {
   "cell_type": "code",
   "execution_count": 22,
   "metadata": {},
   "outputs": [
    {
     "data": {
      "image/svg+xml": [
       "<?xml version=\"1.0\" encoding=\"UTF-8\" standalone=\"no\"?>\r\n",
       "<!DOCTYPE svg PUBLIC \"-//W3C//DTD SVG 1.1//EN\"\r\n",
       " \"http://www.w3.org/Graphics/SVG/1.1/DTD/svg11.dtd\">\r\n",
       "<!-- Generated by graphviz version 2.38.0 (20140413.2041)\r\n",
       " -->\r\n",
       "<!-- Title: hello Pages: 1 -->\r\n",
       "<svg width=\"77pt\" height=\"116pt\"\r\n",
       " viewBox=\"0.00 0.00 76.89 116.00\" xmlns=\"http://www.w3.org/2000/svg\" xmlns:xlink=\"http://www.w3.org/1999/xlink\">\r\n",
       "<g id=\"graph0\" class=\"graph\" transform=\"scale(1 1) rotate(0) translate(4 112)\">\r\n",
       "<title>hello</title>\r\n",
       "<polygon fill=\"white\" stroke=\"none\" points=\"-4,4 -4,-112 72.8939,-112 72.8939,4 -4,4\"/>\r\n",
       "<!-- Hello -->\r\n",
       "<g id=\"node1\" class=\"node\"><title>Hello</title>\r\n",
       "<ellipse fill=\"none\" stroke=\"black\" cx=\"34.4469\" cy=\"-90\" rx=\"29.795\" ry=\"18\"/>\r\n",
       "<text text-anchor=\"middle\" x=\"34.4469\" y=\"-86.3\" font-family=\"Times New Roman,serif\" font-size=\"14.00\">Hello</text>\r\n",
       "</g>\r\n",
       "<!-- World -->\r\n",
       "<g id=\"node2\" class=\"node\"><title>World</title>\r\n",
       "<ellipse fill=\"none\" stroke=\"black\" cx=\"34.4469\" cy=\"-18\" rx=\"34.394\" ry=\"18\"/>\r\n",
       "<text text-anchor=\"middle\" x=\"34.4469\" y=\"-14.3\" font-family=\"Times New Roman,serif\" font-size=\"14.00\">World</text>\r\n",
       "</g>\r\n",
       "<!-- Hello&#45;&#45;World -->\r\n",
       "<g id=\"edge1\" class=\"edge\"><title>Hello&#45;&#45;World</title>\r\n",
       "<path fill=\"none\" stroke=\"black\" d=\"M34.4469,-71.6966C34.4469,-60.8463 34.4469,-46.9167 34.4469,-36.1043\"/>\r\n",
       "</g>\r\n",
       "</g>\r\n",
       "</svg>\r\n"
      ],
      "text/plain": [
       "<graphviz.dot.Graph at 0x2953f035438>"
      ]
     },
     "execution_count": 22,
     "metadata": {},
     "output_type": "execute_result"
    }
   ],
   "source": [
    "h"
   ]
  },
  {
   "cell_type": "markdown",
   "metadata": {},
   "source": [
    "### 显示风格\n",
    "\n",
    "使用`graph_attr`, `node_attr`, `edge_attr`参数, 你可以更改图中节点和边的显示样式:"
   ]
  },
  {
   "cell_type": "code",
   "execution_count": 23,
   "metadata": {},
   "outputs": [
    {
     "data": {
      "image/svg+xml": [
       "<?xml version=\"1.0\" encoding=\"UTF-8\" standalone=\"no\"?>\r\n",
       "<!DOCTYPE svg PUBLIC \"-//W3C//DTD SVG 1.1//EN\"\r\n",
       " \"http://www.w3.org/Graphics/SVG/1.1/DTD/svg11.dtd\">\r\n",
       "<!-- Generated by graphviz version 2.38.0 (20140413.2041)\r\n",
       " -->\r\n",
       "<!-- Title: pet&#45;shop Pages: 1 -->\r\n",
       "<svg width=\"62pt\" height=\"116pt\"\r\n",
       " viewBox=\"0.00 0.00 62.00 116.00\" xmlns=\"http://www.w3.org/2000/svg\" xmlns:xlink=\"http://www.w3.org/1999/xlink\">\r\n",
       "<g id=\"graph0\" class=\"graph\" transform=\"scale(1 1) rotate(0) translate(4 112)\">\r\n",
       "<title>pet&#45;shop</title>\r\n",
       "<polygon fill=\"white\" stroke=\"none\" points=\"-4,4 -4,-112 58,-112 58,4 -4,4\"/>\r\n",
       "<!-- parrot -->\r\n",
       "<g id=\"node1\" class=\"node\"><title>parrot</title>\r\n",
       "<text text-anchor=\"middle\" x=\"27\" y=\"-86.3\" font-family=\"Times New Roman,serif\" font-size=\"14.00\">parrot</text>\r\n",
       "</g>\r\n",
       "<!-- dead -->\r\n",
       "<g id=\"node2\" class=\"node\"><title>dead</title>\r\n",
       "<text text-anchor=\"middle\" x=\"27\" y=\"-14.3\" font-family=\"Times New Roman,serif\" font-size=\"14.00\">dead</text>\r\n",
       "</g>\r\n",
       "<!-- parrot&#45;&gt;dead -->\r\n",
       "<g id=\"edge1\" class=\"edge\"><title>parrot&#45;&gt;dead</title>\r\n",
       "<path fill=\"none\" stroke=\"black\" d=\"M27,-71.6966C27,-63.9827 27,-54.7125 27,-46.1124\"/>\r\n",
       "<polygon fill=\"black\" stroke=\"black\" points=\"30.5001,-46.1043 27,-36.1043 23.5001,-46.1044 30.5001,-46.1043\"/>\r\n",
       "</g>\r\n",
       "</g>\r\n",
       "</svg>\r\n"
      ],
      "text/plain": [
       "<graphviz.dot.Digraph at 0x2953f0357b8>"
      ]
     },
     "execution_count": 23,
     "metadata": {},
     "output_type": "execute_result"
    }
   ],
   "source": [
    "ps = Digraph(name='pet-shop', node_attr={'shape': 'plaintext'})\n",
    "ps.node('parrot')\n",
    "ps.node('dead')\n",
    "ps.edge('parrot', 'dead')\n",
    "ps"
   ]
  },
  {
   "cell_type": "markdown",
   "metadata": {},
   "source": [
    "创建完毕以后, 你可以更改这些样式:"
   ]
  },
  {
   "cell_type": "code",
   "execution_count": 24,
   "metadata": {},
   "outputs": [
    {
     "data": {
      "image/svg+xml": [
       "<?xml version=\"1.0\" encoding=\"UTF-8\" standalone=\"no\"?>\r\n",
       "<!DOCTYPE svg PUBLIC \"-//W3C//DTD SVG 1.1//EN\"\r\n",
       " \"http://www.w3.org/Graphics/SVG/1.1/DTD/svg11.dtd\">\r\n",
       "<!-- Generated by graphviz version 2.38.0 (20140413.2041)\r\n",
       " -->\r\n",
       "<!-- Title: pet&#45;shop Pages: 1 -->\r\n",
       "<svg width=\"152pt\" height=\"44pt\"\r\n",
       " viewBox=\"0.00 0.00 152.00 44.00\" xmlns=\"http://www.w3.org/2000/svg\" xmlns:xlink=\"http://www.w3.org/1999/xlink\">\r\n",
       "<g id=\"graph0\" class=\"graph\" transform=\"scale(1 1) rotate(0) translate(4 40)\">\r\n",
       "<title>pet&#45;shop</title>\r\n",
       "<polygon fill=\"white\" stroke=\"none\" points=\"-4,4 -4,-40 148,-40 148,4 -4,4\"/>\r\n",
       "<!-- parrot -->\r\n",
       "<g id=\"node1\" class=\"node\"><title>parrot</title>\r\n",
       "<text text-anchor=\"middle\" x=\"27\" y=\"-14.3\" font-family=\"Times New Roman,serif\" font-size=\"14.00\">parrot</text>\r\n",
       "</g>\r\n",
       "<!-- dead -->\r\n",
       "<g id=\"node2\" class=\"node\"><title>dead</title>\r\n",
       "<text text-anchor=\"middle\" x=\"117\" y=\"-14.3\" font-family=\"Times New Roman,serif\" font-size=\"14.00\">dead</text>\r\n",
       "</g>\r\n",
       "<!-- parrot&#45;&gt;dead -->\r\n",
       "<g id=\"edge1\" class=\"edge\"><title>parrot&#45;&gt;dead</title>\r\n",
       "<path fill=\"none\" stroke=\"black\" d=\"M54.4029,-18C59.32,-18 64.5882,-18 69.8973,-18\"/>\r\n",
       "<polygon fill=\"black\" stroke=\"black\" points=\"89.919,-18 69.919,-27.0001 79.919,-18 69.919,-18.0001 69.919,-18.0001 69.919,-18.0001 79.919,-18 69.9189,-9.0001 89.919,-18 89.919,-18\"/>\r\n",
       "</g>\r\n",
       "</g>\r\n",
       "</svg>\r\n"
      ],
      "text/plain": [
       "<graphviz.dot.Digraph at 0x2953f0357b8>"
      ]
     },
     "execution_count": 24,
     "metadata": {},
     "output_type": "execute_result"
    }
   ],
   "source": [
    "ps.graph_attr['rankdir'] = 'LR'\n",
    "ps.edge_attr.update(arrowhead='vee', arrowsize='2')\n",
    "ps"
   ]
  },
  {
   "cell_type": "markdown",
   "metadata": {},
   "source": [
    "### 属性\n",
    "\n",
    "我们可以直接更改图中所有节点和边的属性, 相当于全局配置, 只要使用`attr`方法即可:"
   ]
  },
  {
   "cell_type": "code",
   "execution_count": 27,
   "metadata": {},
   "outputs": [
    {
     "data": {
      "image/svg+xml": [
       "<?xml version=\"1.0\" encoding=\"UTF-8\" standalone=\"no\"?>\r\n",
       "<!DOCTYPE svg PUBLIC \"-//W3C//DTD SVG 1.1//EN\"\r\n",
       " \"http://www.w3.org/Graphics/SVG/1.1/DTD/svg11.dtd\">\r\n",
       "<!-- Generated by graphviz version 2.38.0 (20140413.2041)\r\n",
       " -->\r\n",
       "<!-- Title: ni Pages: 1 -->\r\n",
       "<svg width=\"282pt\" height=\"44pt\"\r\n",
       " viewBox=\"0.00 0.00 282.00 44.00\" xmlns=\"http://www.w3.org/2000/svg\" xmlns:xlink=\"http://www.w3.org/1999/xlink\">\r\n",
       "<g id=\"graph0\" class=\"graph\" transform=\"scale(1 1) rotate(0) translate(4 40)\">\r\n",
       "<title>ni</title>\r\n",
       "<polygon fill=\"white\" stroke=\"none\" points=\"-4,4 -4,-40 278,-40 278,4 -4,4\"/>\r\n",
       "<!-- 1 -->\r\n",
       "<g id=\"node1\" class=\"node\"><title>1</title>\r\n",
       "<polygon fill=\"none\" stroke=\"black\" points=\"36,-30 0,-30 0,-6 36,-6 36,-0 54,-18 36,-36 36,-30\"/>\r\n",
       "<text text-anchor=\"middle\" x=\"27\" y=\"-14.3\" font-family=\"Times New Roman,serif\" font-size=\"14.00\">Ni!</text>\r\n",
       "</g>\r\n",
       "<!-- 2 -->\r\n",
       "<g id=\"node2\" class=\"node\"><title>2</title>\r\n",
       "<polygon fill=\"none\" stroke=\"black\" points=\"108,-30 72,-30 72,-6 108,-6 108,-0 126,-18 108,-36 108,-30\"/>\r\n",
       "<text text-anchor=\"middle\" x=\"99\" y=\"-14.3\" font-family=\"Times New Roman,serif\" font-size=\"14.00\">Ni!</text>\r\n",
       "</g>\r\n",
       "<!-- 3 -->\r\n",
       "<g id=\"node3\" class=\"node\"><title>3</title>\r\n",
       "<polygon fill=\"none\" stroke=\"black\" points=\"175.683,-0.0493367 177.459,-0.147875 179.216,-0.295345 180.948,-0.491342 182.648,-0.735329 184.308,-1.02664 185.923,-1.36447 187.485,-1.7479 188.989,-2.17587 190.429,-2.64722 191.8,-3.16064 193.098,-3.71474 194.317,-4.308 195.455,-4.93879 196.507,-5.60537 197.472,-6.30593 198.346,-7.03854 199.127,-7.80119 199.815,-8.5918 200.408,-9.4082 200.906,-10.2481 201.309,-11.1093 201.617,-11.9894 201.832,-12.886 201.956,-13.7965 201.989,-14.7186 201.934,-15.6497 201.794,-16.5873 201.571,-17.5287 201.269,-18.4713 200.89,-19.4127 200.439,-20.3503 199.918,-21.2814 199.332,-22.2035 198.685,-23.114 197.981,-24.0106 197.223,-24.8907 196.415,-25.7519 195.561,-26.5918 194.666,-27.4082 193.732,-28.1988 192.764,-28.9615 191.764,-29.6941 190.737,-30.3946 189.684,-31.0612 188.61,-31.692 187.516,-32.2853 186.405,-32.8394 185.28,-33.3528 184.142,-33.8241 182.994,-34.2521 181.837,-34.6355 180.672,-34.9734 179.501,-35.2647 178.325,-35.5087 177.145,-35.7047 175.963,-35.8521 174.779,-35.9507 173.593,-36 172.407,-36 171.221,-35.9507 170.037,-35.8521 168.855,-35.7047 167.675,-35.5087 166.499,-35.2647 165.328,-34.9734 164.163,-34.6355 163.006,-34.2521 161.858,-33.8241 160.72,-33.3528 159.595,-32.8394 158.484,-32.2853 157.39,-31.692 156.316,-31.0612 155.263,-30.3946 154.236,-29.6941 153.236,-28.9615 152.268,-28.1988 151.334,-27.4082 150.439,-26.5918 149.585,-25.7519 148.777,-24.8907 148.019,-24.0106 147.315,-23.114 146.668,-22.2035 146.082,-21.2814 145.561,-20.3503 145.11,-19.4127 144.731,-18.4713 144.429,-17.5287 144.206,-16.5873 144.066,-15.6497 144.011,-14.7186 144.044,-13.7965 144.168,-12.886 144.383,-11.9894 144.691,-11.1093 145.094,-10.2481 145.592,-9.4082 146.185,-8.5918 146.873,-7.80119 147.654,-7.03854 148.528,-6.30593 149.493,-5.60537 150.545,-4.93879 151.683,-4.308 152.902,-3.71474 154.2,-3.16064 155.571,-2.64722 157.011,-2.17587 158.515,-1.7479 160.077,-1.36447 161.692,-1.02664 163.352,-0.735329 165.052,-0.491342 166.784,-0.295345 168.541,-0.147875 170.317,-0.0493367 172.105,-1.77636e-013 173.895,-1.84741e-013 175.683,-0.0493367\"/>\r\n",
       "<text text-anchor=\"middle\" x=\"173\" y=\"-14.3\" font-family=\"Times New Roman,serif\" font-size=\"14.00\">Ni!</text>\r\n",
       "</g>\r\n",
       "<!-- 4 -->\r\n",
       "<g id=\"node4\" class=\"node\"><title>4</title>\r\n",
       "<polygon fill=\"none\" stroke=\"black\" points=\"256,-30 220,-30 220,-6 256,-6 256,-0 274,-18 256,-36 256,-30\"/>\r\n",
       "<text text-anchor=\"middle\" x=\"247\" y=\"-14.3\" font-family=\"Times New Roman,serif\" font-size=\"14.00\">Ni!</text>\r\n",
       "</g>\r\n",
       "</g>\r\n",
       "</svg>\r\n"
      ],
      "text/plain": [
       "<graphviz.dot.Graph at 0x2953f035ef0>"
      ]
     },
     "execution_count": 27,
     "metadata": {},
     "output_type": "execute_result"
    }
   ],
   "source": [
    "ni = Graph('ni')\n",
    "# 设置所有节点的形状\n",
    "ni.attr('node', shape='rarrow')\n",
    "ni.node('1', 'Ni!')\n",
    "ni.node('2', 'Ni!')\n",
    "# 如果单独设置, 优先级更高\n",
    "ni.node('3', 'Ni!', shape='egg')\n",
    "ni.node('4', 'Ni!')\n",
    "ni"
   ]
  },
  {
   "cell_type": "markdown",
   "metadata": {},
   "source": [
    "### 使用引号和HTML作为label\n",
    "\n",
    "在label中使用引号需要使用转义字符`\\`:"
   ]
  },
  {
   "cell_type": "code",
   "execution_count": 28,
   "metadata": {},
   "outputs": [
    {
     "data": {
      "image/svg+xml": [
       "<?xml version=\"1.0\" encoding=\"UTF-8\" standalone=\"no\"?>\r\n",
       "<!DOCTYPE svg PUBLIC \"-//W3C//DTD SVG 1.1//EN\"\r\n",
       " \"http://www.w3.org/Graphics/SVG/1.1/DTD/svg11.dtd\">\r\n",
       "<!-- Generated by graphviz version 2.38.0 (20140413.2041)\r\n",
       " -->\r\n",
       "<!-- Title: ni Pages: 1 -->\r\n",
       "<svg width=\"354pt\" height=\"44pt\"\r\n",
       " viewBox=\"0.00 0.00 354.00 44.00\" xmlns=\"http://www.w3.org/2000/svg\" xmlns:xlink=\"http://www.w3.org/1999/xlink\">\r\n",
       "<g id=\"graph0\" class=\"graph\" transform=\"scale(1 1) rotate(0) translate(4 40)\">\r\n",
       "<title>ni</title>\r\n",
       "<polygon fill=\"white\" stroke=\"none\" points=\"-4,4 -4,-40 350,-40 350,4 -4,4\"/>\r\n",
       "<!-- 1 -->\r\n",
       "<g id=\"node1\" class=\"node\"><title>1</title>\r\n",
       "<polygon fill=\"none\" stroke=\"black\" points=\"36,-30 0,-30 0,-6 36,-6 36,-0 54,-18 36,-36 36,-30\"/>\r\n",
       "<text text-anchor=\"middle\" x=\"27\" y=\"-14.3\" font-family=\"Times New Roman,serif\" font-size=\"14.00\">Ni!</text>\r\n",
       "</g>\r\n",
       "<!-- 2 -->\r\n",
       "<g id=\"node2\" class=\"node\"><title>2</title>\r\n",
       "<polygon fill=\"none\" stroke=\"black\" points=\"108,-30 72,-30 72,-6 108,-6 108,-0 126,-18 108,-36 108,-30\"/>\r\n",
       "<text text-anchor=\"middle\" x=\"99\" y=\"-14.3\" font-family=\"Times New Roman,serif\" font-size=\"14.00\">Ni!</text>\r\n",
       "</g>\r\n",
       "<!-- 3 -->\r\n",
       "<g id=\"node3\" class=\"node\"><title>3</title>\r\n",
       "<polygon fill=\"none\" stroke=\"black\" points=\"175.683,-0.0493367 177.459,-0.147875 179.216,-0.295345 180.948,-0.491342 182.648,-0.735329 184.308,-1.02664 185.923,-1.36447 187.485,-1.7479 188.989,-2.17587 190.429,-2.64722 191.8,-3.16064 193.098,-3.71474 194.317,-4.308 195.455,-4.93879 196.507,-5.60537 197.472,-6.30593 198.346,-7.03854 199.127,-7.80119 199.815,-8.5918 200.408,-9.4082 200.906,-10.2481 201.309,-11.1093 201.617,-11.9894 201.832,-12.886 201.956,-13.7965 201.989,-14.7186 201.934,-15.6497 201.794,-16.5873 201.571,-17.5287 201.269,-18.4713 200.89,-19.4127 200.439,-20.3503 199.918,-21.2814 199.332,-22.2035 198.685,-23.114 197.981,-24.0106 197.223,-24.8907 196.415,-25.7519 195.561,-26.5918 194.666,-27.4082 193.732,-28.1988 192.764,-28.9615 191.764,-29.6941 190.737,-30.3946 189.684,-31.0612 188.61,-31.692 187.516,-32.2853 186.405,-32.8394 185.28,-33.3528 184.142,-33.8241 182.994,-34.2521 181.837,-34.6355 180.672,-34.9734 179.501,-35.2647 178.325,-35.5087 177.145,-35.7047 175.963,-35.8521 174.779,-35.9507 173.593,-36 172.407,-36 171.221,-35.9507 170.037,-35.8521 168.855,-35.7047 167.675,-35.5087 166.499,-35.2647 165.328,-34.9734 164.163,-34.6355 163.006,-34.2521 161.858,-33.8241 160.72,-33.3528 159.595,-32.8394 158.484,-32.2853 157.39,-31.692 156.316,-31.0612 155.263,-30.3946 154.236,-29.6941 153.236,-28.9615 152.268,-28.1988 151.334,-27.4082 150.439,-26.5918 149.585,-25.7519 148.777,-24.8907 148.019,-24.0106 147.315,-23.114 146.668,-22.2035 146.082,-21.2814 145.561,-20.3503 145.11,-19.4127 144.731,-18.4713 144.429,-17.5287 144.206,-16.5873 144.066,-15.6497 144.011,-14.7186 144.044,-13.7965 144.168,-12.886 144.383,-11.9894 144.691,-11.1093 145.094,-10.2481 145.592,-9.4082 146.185,-8.5918 146.873,-7.80119 147.654,-7.03854 148.528,-6.30593 149.493,-5.60537 150.545,-4.93879 151.683,-4.308 152.902,-3.71474 154.2,-3.16064 155.571,-2.64722 157.011,-2.17587 158.515,-1.7479 160.077,-1.36447 161.692,-1.02664 163.352,-0.735329 165.052,-0.491342 166.784,-0.295345 168.541,-0.147875 170.317,-0.0493367 172.105,-1.77636e-013 173.895,-1.84741e-013 175.683,-0.0493367\"/>\r\n",
       "<text text-anchor=\"middle\" x=\"173\" y=\"-14.3\" font-family=\"Times New Roman,serif\" font-size=\"14.00\">Ni!</text>\r\n",
       "</g>\r\n",
       "<!-- 4 -->\r\n",
       "<g id=\"node4\" class=\"node\"><title>4</title>\r\n",
       "<polygon fill=\"none\" stroke=\"black\" points=\"256,-30 220,-30 220,-6 256,-6 256,-0 274,-18 256,-36 256,-30\"/>\r\n",
       "<text text-anchor=\"middle\" x=\"247\" y=\"-14.3\" font-family=\"Times New Roman,serif\" font-size=\"14.00\">Ni!</text>\r\n",
       "</g>\r\n",
       "<!-- 5 -->\r\n",
       "<g id=\"node5\" class=\"node\"><title>5</title>\r\n",
       "<polygon fill=\"none\" stroke=\"black\" points=\"328,-30 292,-30 292,-6 328,-6 328,-0 346,-18 328,-36 328,-30\"/>\r\n",
       "<text text-anchor=\"middle\" x=\"319\" y=\"-14.3\" font-family=\"Times New Roman,serif\" font-size=\"14.00\">&quot;Ni&quot;</text>\r\n",
       "</g>\r\n",
       "</g>\r\n",
       "</svg>\r\n"
      ],
      "text/plain": [
       "<graphviz.dot.Graph at 0x2953f035ef0>"
      ]
     },
     "execution_count": 28,
     "metadata": {},
     "output_type": "execute_result"
    }
   ],
   "source": [
    "ni.node('5', '\\\"Ni\\\"')\n",
    "ni"
   ]
  },
  {
   "cell_type": "markdown",
   "metadata": {},
   "source": [
    "在label中使用html可以使用`< >`将html内容括起来, 比如, 我们可以使用下标`sub`:"
   ]
  },
  {
   "cell_type": "code",
   "execution_count": 36,
   "metadata": {},
   "outputs": [
    {
     "data": {
      "image/svg+xml": [
       "<?xml version=\"1.0\" encoding=\"UTF-8\" standalone=\"no\"?>\r\n",
       "<!DOCTYPE svg PUBLIC \"-//W3C//DTD SVG 1.1//EN\"\r\n",
       " \"http://www.w3.org/Graphics/SVG/1.1/DTD/svg11.dtd\">\r\n",
       "<!-- Generated by graphviz version 2.38.0 (20140413.2041)\r\n",
       " -->\r\n",
       "<!-- Title: ni Pages: 1 -->\r\n",
       "<svg width=\"426pt\" height=\"44pt\"\r\n",
       " viewBox=\"0.00 0.00 426.00 44.00\" xmlns=\"http://www.w3.org/2000/svg\" xmlns:xlink=\"http://www.w3.org/1999/xlink\">\r\n",
       "<g id=\"graph0\" class=\"graph\" transform=\"scale(1 1) rotate(0) translate(4 40)\">\r\n",
       "<title>ni</title>\r\n",
       "<polygon fill=\"white\" stroke=\"none\" points=\"-4,4 -4,-40 422,-40 422,4 -4,4\"/>\r\n",
       "<!-- 1 -->\r\n",
       "<g id=\"node1\" class=\"node\"><title>1</title>\r\n",
       "<polygon fill=\"none\" stroke=\"black\" points=\"36,-30 0,-30 0,-6 36,-6 36,-0 54,-18 36,-36 36,-30\"/>\r\n",
       "<text text-anchor=\"middle\" x=\"27\" y=\"-14.3\" font-family=\"Times New Roman,serif\" font-size=\"14.00\">Ni!</text>\r\n",
       "</g>\r\n",
       "<!-- 2 -->\r\n",
       "<g id=\"node2\" class=\"node\"><title>2</title>\r\n",
       "<polygon fill=\"none\" stroke=\"black\" points=\"108,-30 72,-30 72,-6 108,-6 108,-0 126,-18 108,-36 108,-30\"/>\r\n",
       "<text text-anchor=\"middle\" x=\"99\" y=\"-14.3\" font-family=\"Times New Roman,serif\" font-size=\"14.00\">Ni!</text>\r\n",
       "</g>\r\n",
       "<!-- 3 -->\r\n",
       "<g id=\"node3\" class=\"node\"><title>3</title>\r\n",
       "<polygon fill=\"none\" stroke=\"black\" points=\"175.683,-0.0493367 177.459,-0.147875 179.216,-0.295345 180.948,-0.491342 182.648,-0.735329 184.308,-1.02664 185.923,-1.36447 187.485,-1.7479 188.989,-2.17587 190.429,-2.64722 191.8,-3.16064 193.098,-3.71474 194.317,-4.308 195.455,-4.93879 196.507,-5.60537 197.472,-6.30593 198.346,-7.03854 199.127,-7.80119 199.815,-8.5918 200.408,-9.4082 200.906,-10.2481 201.309,-11.1093 201.617,-11.9894 201.832,-12.886 201.956,-13.7965 201.989,-14.7186 201.934,-15.6497 201.794,-16.5873 201.571,-17.5287 201.269,-18.4713 200.89,-19.4127 200.439,-20.3503 199.918,-21.2814 199.332,-22.2035 198.685,-23.114 197.981,-24.0106 197.223,-24.8907 196.415,-25.7519 195.561,-26.5918 194.666,-27.4082 193.732,-28.1988 192.764,-28.9615 191.764,-29.6941 190.737,-30.3946 189.684,-31.0612 188.61,-31.692 187.516,-32.2853 186.405,-32.8394 185.28,-33.3528 184.142,-33.8241 182.994,-34.2521 181.837,-34.6355 180.672,-34.9734 179.501,-35.2647 178.325,-35.5087 177.145,-35.7047 175.963,-35.8521 174.779,-35.9507 173.593,-36 172.407,-36 171.221,-35.9507 170.037,-35.8521 168.855,-35.7047 167.675,-35.5087 166.499,-35.2647 165.328,-34.9734 164.163,-34.6355 163.006,-34.2521 161.858,-33.8241 160.72,-33.3528 159.595,-32.8394 158.484,-32.2853 157.39,-31.692 156.316,-31.0612 155.263,-30.3946 154.236,-29.6941 153.236,-28.9615 152.268,-28.1988 151.334,-27.4082 150.439,-26.5918 149.585,-25.7519 148.777,-24.8907 148.019,-24.0106 147.315,-23.114 146.668,-22.2035 146.082,-21.2814 145.561,-20.3503 145.11,-19.4127 144.731,-18.4713 144.429,-17.5287 144.206,-16.5873 144.066,-15.6497 144.011,-14.7186 144.044,-13.7965 144.168,-12.886 144.383,-11.9894 144.691,-11.1093 145.094,-10.2481 145.592,-9.4082 146.185,-8.5918 146.873,-7.80119 147.654,-7.03854 148.528,-6.30593 149.493,-5.60537 150.545,-4.93879 151.683,-4.308 152.902,-3.71474 154.2,-3.16064 155.571,-2.64722 157.011,-2.17587 158.515,-1.7479 160.077,-1.36447 161.692,-1.02664 163.352,-0.735329 165.052,-0.491342 166.784,-0.295345 168.541,-0.147875 170.317,-0.0493367 172.105,-1.77636e-013 173.895,-1.84741e-013 175.683,-0.0493367\"/>\r\n",
       "<text text-anchor=\"middle\" x=\"173\" y=\"-14.3\" font-family=\"Times New Roman,serif\" font-size=\"14.00\">Ni!</text>\r\n",
       "</g>\r\n",
       "<!-- 4 -->\r\n",
       "<g id=\"node4\" class=\"node\"><title>4</title>\r\n",
       "<polygon fill=\"none\" stroke=\"black\" points=\"256,-30 220,-30 220,-6 256,-6 256,-0 274,-18 256,-36 256,-30\"/>\r\n",
       "<text text-anchor=\"middle\" x=\"247\" y=\"-14.3\" font-family=\"Times New Roman,serif\" font-size=\"14.00\">Ni!</text>\r\n",
       "</g>\r\n",
       "<!-- 5 -->\r\n",
       "<g id=\"node5\" class=\"node\"><title>5</title>\r\n",
       "<polygon fill=\"none\" stroke=\"black\" points=\"328,-30 292,-30 292,-6 328,-6 328,-0 346,-18 328,-36 328,-30\"/>\r\n",
       "<text text-anchor=\"middle\" x=\"319\" y=\"-14.3\" font-family=\"Times New Roman,serif\" font-size=\"14.00\">&quot;Ni&quot;</text>\r\n",
       "</g>\r\n",
       "<!-- 6 -->\r\n",
       "<g id=\"node6\" class=\"node\"><title>6</title>\r\n",
       "<polygon fill=\"none\" stroke=\"black\" points=\"400,-30 364,-30 364,-6 400,-6 400,-0 418,-18 400,-36 400,-30\"/>\r\n",
       "<text text-anchor=\"start\" x=\"384.5\" y=\"-15.3\" font-family=\"Times New Roman,serif\" font-size=\"14.00\">N</text>\r\n",
       "<text text-anchor=\"start\" x=\"394.5\" y=\"-15.3\" font-family=\"Times New Roman,serif\" baseline-shift=\"sub\" font-size=\"14.00\">i</text>\r\n",
       "</g>\r\n",
       "</g>\r\n",
       "</svg>\r\n"
      ],
      "text/plain": [
       "<graphviz.dot.Graph at 0x2953f035ef0>"
      ]
     },
     "execution_count": 36,
     "metadata": {},
     "output_type": "execute_result"
    }
   ],
   "source": [
    "ni.node('6', '<N<sub>i</sub>>')\n",
    "ni"
   ]
  },
  {
   "cell_type": "markdown",
   "metadata": {},
   "source": [
    "### 子图和集群\n",
    "\n",
    "`Graph`和`Bigraph'对象都有`subgraph()`方法用于添加子图, 它有两种用法:\n",
    "\n",
    "- 可以直接添加一个Graph或者Bigraph对象:"
   ]
  },
  {
   "cell_type": "code",
   "execution_count": 37,
   "metadata": {},
   "outputs": [
    {
     "data": {
      "image/svg+xml": [
       "<?xml version=\"1.0\" encoding=\"UTF-8\" standalone=\"no\"?>\r\n",
       "<!DOCTYPE svg PUBLIC \"-//W3C//DTD SVG 1.1//EN\"\r\n",
       " \"http://www.w3.org/Graphics/SVG/1.1/DTD/svg11.dtd\">\r\n",
       "<!-- Generated by graphviz version 2.38.0 (20140413.2041)\r\n",
       " -->\r\n",
       "<!-- Title: parent Pages: 1 -->\r\n",
       "<svg width=\"142pt\" height=\"116pt\"\r\n",
       " viewBox=\"0.00 0.00 141.55 116.00\" xmlns=\"http://www.w3.org/2000/svg\" xmlns:xlink=\"http://www.w3.org/1999/xlink\">\r\n",
       "<g id=\"graph0\" class=\"graph\" transform=\"scale(1 1) rotate(0) translate(4 112)\">\r\n",
       "<title>parent</title>\r\n",
       "<polygon fill=\"white\" stroke=\"none\" points=\"-4,4 -4,-112 137.547,-112 137.547,4 -4,4\"/>\r\n",
       "<!-- spam -->\r\n",
       "<g id=\"node1\" class=\"node\"><title>spam</title>\r\n",
       "<ellipse fill=\"none\" stroke=\"black\" cx=\"30.5473\" cy=\"-90\" rx=\"30.5947\" ry=\"18\"/>\r\n",
       "<text text-anchor=\"middle\" x=\"30.5473\" y=\"-86.3\" font-family=\"Times New Roman,serif\" font-size=\"14.00\">spam</text>\r\n",
       "</g>\r\n",
       "<!-- eggs -->\r\n",
       "<g id=\"node2\" class=\"node\"><title>eggs</title>\r\n",
       "<ellipse fill=\"none\" stroke=\"black\" cx=\"30.5473\" cy=\"-18\" rx=\"27.0966\" ry=\"18\"/>\r\n",
       "<text text-anchor=\"middle\" x=\"30.5473\" y=\"-14.3\" font-family=\"Times New Roman,serif\" font-size=\"14.00\">eggs</text>\r\n",
       "</g>\r\n",
       "<!-- spam&#45;&#45;eggs -->\r\n",
       "<g id=\"edge1\" class=\"edge\"><title>spam&#45;&#45;eggs</title>\r\n",
       "<path fill=\"none\" stroke=\"black\" d=\"M30.5473,-71.6966C30.5473,-60.8463 30.5473,-46.9167 30.5473,-36.1043\"/>\r\n",
       "</g>\r\n",
       "<!-- foo -->\r\n",
       "<g id=\"node3\" class=\"node\"><title>foo</title>\r\n",
       "<polygon fill=\"none\" stroke=\"black\" points=\"133.547,-108 79.5473,-108 79.5473,-72 133.547,-72 133.547,-108\"/>\r\n",
       "<text text-anchor=\"middle\" x=\"106.547\" y=\"-86.3\" font-family=\"Times New Roman,serif\" font-size=\"14.00\">foo</text>\r\n",
       "</g>\r\n",
       "<!-- bar -->\r\n",
       "<g id=\"node4\" class=\"node\"><title>bar</title>\r\n",
       "<polygon fill=\"none\" stroke=\"black\" points=\"133.547,-36 79.5473,-36 79.5473,-0 133.547,-0 133.547,-36\"/>\r\n",
       "<text text-anchor=\"middle\" x=\"106.547\" y=\"-14.3\" font-family=\"Times New Roman,serif\" font-size=\"14.00\">bar</text>\r\n",
       "</g>\r\n",
       "<!-- foo&#45;&#45;bar -->\r\n",
       "<g id=\"edge2\" class=\"edge\"><title>foo&#45;&#45;bar</title>\r\n",
       "<path fill=\"none\" stroke=\"black\" d=\"M106.547,-71.6966C106.547,-60.8463 106.547,-46.9167 106.547,-36.1043\"/>\r\n",
       "</g>\r\n",
       "</g>\r\n",
       "</svg>\r\n"
      ],
      "text/plain": [
       "<graphviz.dot.Graph at 0x2953ef7cef0>"
      ]
     },
     "execution_count": 37,
     "metadata": {},
     "output_type": "execute_result"
    }
   ],
   "source": [
    "p = Graph(name='parent')\n",
    "p.edge('spam', 'eggs')\n",
    "\n",
    "c = Graph(name='child', node_attr={'shape': 'box'})\n",
    "c.edge('foo', 'bar')\n",
    "\n",
    "p.subgraph(c)\n",
    "p"
   ]
  },
  {
   "cell_type": "markdown",
   "metadata": {},
   "source": [
    "- 使用`with`代码块:"
   ]
  },
  {
   "cell_type": "code",
   "execution_count": 38,
   "metadata": {},
   "outputs": [
    {
     "data": {
      "image/svg+xml": [
       "<?xml version=\"1.0\" encoding=\"UTF-8\" standalone=\"no\"?>\r\n",
       "<!DOCTYPE svg PUBLIC \"-//W3C//DTD SVG 1.1//EN\"\r\n",
       " \"http://www.w3.org/Graphics/SVG/1.1/DTD/svg11.dtd\">\r\n",
       "<!-- Generated by graphviz version 2.38.0 (20140413.2041)\r\n",
       " -->\r\n",
       "<!-- Title: parent Pages: 1 -->\r\n",
       "<svg width=\"142pt\" height=\"116pt\"\r\n",
       " viewBox=\"0.00 0.00 141.55 116.00\" xmlns=\"http://www.w3.org/2000/svg\" xmlns:xlink=\"http://www.w3.org/1999/xlink\">\r\n",
       "<g id=\"graph0\" class=\"graph\" transform=\"scale(1 1) rotate(0) translate(4 112)\">\r\n",
       "<title>parent</title>\r\n",
       "<polygon fill=\"white\" stroke=\"none\" points=\"-4,4 -4,-112 137.547,-112 137.547,4 -4,4\"/>\r\n",
       "<!-- spam -->\r\n",
       "<g id=\"node1\" class=\"node\"><title>spam</title>\r\n",
       "<ellipse fill=\"none\" stroke=\"black\" cx=\"30.5473\" cy=\"-90\" rx=\"30.5947\" ry=\"18\"/>\r\n",
       "<text text-anchor=\"middle\" x=\"30.5473\" y=\"-86.3\" font-family=\"Times New Roman,serif\" font-size=\"14.00\">spam</text>\r\n",
       "</g>\r\n",
       "<!-- eggs -->\r\n",
       "<g id=\"node2\" class=\"node\"><title>eggs</title>\r\n",
       "<ellipse fill=\"none\" stroke=\"black\" cx=\"30.5473\" cy=\"-18\" rx=\"27.0966\" ry=\"18\"/>\r\n",
       "<text text-anchor=\"middle\" x=\"30.5473\" y=\"-14.3\" font-family=\"Times New Roman,serif\" font-size=\"14.00\">eggs</text>\r\n",
       "</g>\r\n",
       "<!-- spam&#45;&#45;eggs -->\r\n",
       "<g id=\"edge1\" class=\"edge\"><title>spam&#45;&#45;eggs</title>\r\n",
       "<path fill=\"none\" stroke=\"black\" d=\"M30.5473,-71.6966C30.5473,-60.8463 30.5473,-46.9167 30.5473,-36.1043\"/>\r\n",
       "</g>\r\n",
       "<!-- foo -->\r\n",
       "<g id=\"node3\" class=\"node\"><title>foo</title>\r\n",
       "<polygon fill=\"none\" stroke=\"black\" points=\"133.547,-108 79.5473,-108 79.5473,-72 133.547,-72 133.547,-108\"/>\r\n",
       "<text text-anchor=\"middle\" x=\"106.547\" y=\"-86.3\" font-family=\"Times New Roman,serif\" font-size=\"14.00\">foo</text>\r\n",
       "</g>\r\n",
       "<!-- bar -->\r\n",
       "<g id=\"node4\" class=\"node\"><title>bar</title>\r\n",
       "<polygon fill=\"none\" stroke=\"black\" points=\"133.547,-36 79.5473,-36 79.5473,-0 133.547,-0 133.547,-36\"/>\r\n",
       "<text text-anchor=\"middle\" x=\"106.547\" y=\"-14.3\" font-family=\"Times New Roman,serif\" font-size=\"14.00\">bar</text>\r\n",
       "</g>\r\n",
       "<!-- foo&#45;&#45;bar -->\r\n",
       "<g id=\"edge2\" class=\"edge\"><title>foo&#45;&#45;bar</title>\r\n",
       "<path fill=\"none\" stroke=\"black\" d=\"M106.547,-71.6966C106.547,-60.8463 106.547,-46.9167 106.547,-36.1043\"/>\r\n",
       "</g>\r\n",
       "</g>\r\n",
       "</svg>\r\n"
      ],
      "text/plain": [
       "<graphviz.dot.Graph at 0x2953ef7c630>"
      ]
     },
     "execution_count": 38,
     "metadata": {},
     "output_type": "execute_result"
    }
   ],
   "source": [
    "p = Graph(name='parent')\n",
    "p.edge('spam', 'eggs')\n",
    "\n",
    "with p.subgraph(name='child', node_attr={'shape': 'box'}) as c:\n",
    "   c.edge('foo', 'bar')\n",
    "p"
   ]
  },
  {
   "cell_type": "markdown",
   "metadata": {},
   "source": [
    "### 引擎\n",
    "\n",
    "渲染引擎可以选择多种, 而不仅仅是`dot`, 比如你可以使用`neato`:\n"
   ]
  },
  {
   "cell_type": "code",
   "execution_count": 39,
   "metadata": {},
   "outputs": [],
   "source": [
    "g = Graph(engine='neato')"
   ]
  },
  {
   "cell_type": "markdown",
   "metadata": {},
   "source": [
    "或者也可以直接更改渲染引擎:"
   ]
  },
  {
   "cell_type": "code",
   "execution_count": 40,
   "metadata": {},
   "outputs": [],
   "source": [
    "g.engine = 'circo'"
   ]
  },
  {
   "cell_type": "markdown",
   "metadata": {},
   "source": [
    "### 添加dot语句\n",
    "\n",
    "有些应用场景是需要使用已经写好的dot语句的, 这时候我们可以直接调用`body.append`方法来追加dot语句:"
   ]
  },
  {
   "cell_type": "code",
   "execution_count": 41,
   "metadata": {},
   "outputs": [
    {
     "data": {
      "image/svg+xml": [
       "<?xml version=\"1.0\" encoding=\"UTF-8\" standalone=\"no\"?>\r\n",
       "<!DOCTYPE svg PUBLIC \"-//W3C//DTD SVG 1.1//EN\"\r\n",
       " \"http://www.w3.org/Graphics/SVG/1.1/DTD/svg11.dtd\">\r\n",
       "<!-- Generated by graphviz version 2.38.0 (20140413.2041)\r\n",
       " -->\r\n",
       "<!-- Title: %3 Pages: 1 -->\r\n",
       "<svg width=\"250pt\" height=\"116pt\"\r\n",
       " viewBox=\"0.00 0.00 249.79 116.00\" xmlns=\"http://www.w3.org/2000/svg\" xmlns:xlink=\"http://www.w3.org/1999/xlink\">\r\n",
       "<g id=\"graph0\" class=\"graph\" transform=\"scale(1 1) rotate(0) translate(4 112)\">\r\n",
       "<title>%3</title>\r\n",
       "<polygon fill=\"white\" stroke=\"none\" points=\"-4,4 -4,-112 245.79,-112 245.79,4 -4,4\"/>\r\n",
       "<!-- King Arthur -->\r\n",
       "<g id=\"node1\" class=\"node\"><title>King Arthur</title>\r\n",
       "<ellipse fill=\"none\" stroke=\"black\" cx=\"122.195\" cy=\"-90\" rx=\"53.8905\" ry=\"18\"/>\r\n",
       "<text text-anchor=\"middle\" x=\"122.195\" y=\"-86.3\" font-family=\"Times New Roman,serif\" font-size=\"14.00\">King Arthur</text>\r\n",
       "</g>\r\n",
       "<!-- Sir Bedevere -->\r\n",
       "<g id=\"node2\" class=\"node\"><title>Sir Bedevere</title>\r\n",
       "<ellipse fill=\"none\" stroke=\"black\" cx=\"57.1949\" cy=\"-18\" rx=\"57.3905\" ry=\"18\"/>\r\n",
       "<text text-anchor=\"middle\" x=\"57.1949\" y=\"-14.3\" font-family=\"Times New Roman,serif\" font-size=\"14.00\">Sir Bedevere</text>\r\n",
       "</g>\r\n",
       "<!-- King Arthur&#45;&gt;Sir Bedevere -->\r\n",
       "<g id=\"edge1\" class=\"edge\"><title>King Arthur&#45;&gt;Sir Bedevere</title>\r\n",
       "<path fill=\"none\" stroke=\"black\" d=\"M106.791,-72.411C98.6149,-63.6062 88.4212,-52.6282 79.4053,-42.9189\"/>\r\n",
       "<polygon fill=\"black\" stroke=\"black\" points=\"81.8578,-40.4163 72.4884,-35.4699 76.7282,-45.1795 81.8578,-40.4163\"/>\r\n",
       "</g>\r\n",
       "<!-- Sir Lancelot -->\r\n",
       "<g id=\"node3\" class=\"node\"><title>Sir Lancelot</title>\r\n",
       "<ellipse fill=\"none\" stroke=\"black\" cx=\"187.195\" cy=\"-18\" rx=\"54.6905\" ry=\"18\"/>\r\n",
       "<text text-anchor=\"middle\" x=\"187.195\" y=\"-14.3\" font-family=\"Times New Roman,serif\" font-size=\"14.00\">Sir Lancelot</text>\r\n",
       "</g>\r\n",
       "<!-- King Arthur&#45;&gt;Sir Lancelot -->\r\n",
       "<g id=\"edge2\" class=\"edge\"><title>King Arthur&#45;&gt;Sir Lancelot</title>\r\n",
       "<path fill=\"none\" stroke=\"black\" d=\"M137.599,-72.411C145.775,-63.6062 155.969,-52.6282 164.985,-42.9189\"/>\r\n",
       "<polygon fill=\"black\" stroke=\"black\" points=\"167.662,-45.1795 171.901,-35.4699 162.532,-40.4163 167.662,-45.1795\"/>\r\n",
       "</g>\r\n",
       "<!-- Sir Bedevere&#45;&gt;Sir Lancelot -->\r\n",
       "<g id=\"edge3\" class=\"edge\"><title>Sir Bedevere&#45;&gt;Sir Lancelot</title>\r\n",
       "<path fill=\"none\" stroke=\"black\" d=\"M114.578,-18C117.184,-18 119.79,-18 122.396,-18\"/>\r\n",
       "<polygon fill=\"black\" stroke=\"black\" points=\"122.448,-21.5001 132.448,-18 122.448,-14.5001 122.448,-21.5001\"/>\r\n",
       "</g>\r\n",
       "</g>\r\n",
       "</svg>\r\n"
      ],
      "text/plain": [
       "<graphviz.dot.Digraph at 0x2953ef7ce48>"
      ]
     },
     "execution_count": 41,
     "metadata": {},
     "output_type": "execute_result"
    }
   ],
   "source": [
    "rt = Digraph()\n",
    "rt.body.append('\\t\"King Arthur\" -> {\\n\\t\\t\"Sir Bedevere\", \"Sir Lancelot\"\\n\\t}')\n",
    "rt.edge('Sir Bedevere', 'Sir Lancelot', constraint='false')\n",
    "rt"
   ]
  },
  {
   "cell_type": "markdown",
   "metadata": {},
   "source": [
    "### 使用dot文件和源码\n",
    "\n",
    "我们可以直接使用`Source`类来直接实例化一个Source对象, 传入的参数就是dot源码, 然后可以调用render方法渲染成图片:"
   ]
  },
  {
   "cell_type": "code",
   "execution_count": 43,
   "metadata": {},
   "outputs": [
    {
     "data": {
      "text/plain": [
       "'<graphviz.files.Source object at 0x000002953EFFE908>'"
      ]
     },
     "execution_count": 43,
     "metadata": {},
     "output_type": "execute_result"
    }
   ],
   "source": [
    "from graphviz import Source\n",
    "src = Source('digraph \"the holy hand grenade\" { rankdir=LR; 1 -> 2 -> 3 -> lob }')\n",
    "str(src)"
   ]
  },
  {
   "cell_type": "markdown",
   "metadata": {},
   "source": [
    "我们还可以直接使用`from_file`方法来从一个dot文件实例化:"
   ]
  },
  {
   "cell_type": "code",
   "execution_count": 46,
   "metadata": {},
   "outputs": [
    {
     "name": "stderr",
     "output_type": "stream",
     "text": [
      "\r\n",
      "(dot.exe:14100): Pango-WARNING **: couldn't load font \"Heiti Not-Rotated 14\", falling back to \"Sans Not-Rotated 14\", expect ugly output.\r\n"
     ]
    },
    {
     "data": {
      "image/svg+xml": [
       "<?xml version=\"1.0\" encoding=\"UTF-8\" standalone=\"no\"?>\r\n",
       "<!DOCTYPE svg PUBLIC \"-//W3C//DTD SVG 1.1//EN\"\r\n",
       " \"http://www.w3.org/Graphics/SVG/1.1/DTD/svg11.dtd\">\r\n",
       "<!-- Generated by graphviz version 2.38.0 (20140413.2041)\r\n",
       " -->\r\n",
       "<!-- Title: %3 Pages: 1 -->\r\n",
       "<svg width=\"92pt\" height=\"188pt\"\r\n",
       " viewBox=\"0.00 0.00 92.19 188.00\" xmlns=\"http://www.w3.org/2000/svg\" xmlns:xlink=\"http://www.w3.org/1999/xlink\">\r\n",
       "<g id=\"graph0\" class=\"graph\" transform=\"scale(1 1) rotate(0) translate(4 184)\">\r\n",
       "<title>%3</title>\r\n",
       "<polygon fill=\"white\" stroke=\"none\" points=\"-4,4 -4,-184 88.1949,-184 88.1949,4 -4,4\"/>\r\n",
       "<!-- A -->\r\n",
       "<g id=\"node1\" class=\"node\"><title>A</title>\r\n",
       "<ellipse fill=\"none\" stroke=\"black\" cx=\"54.2976\" cy=\"-162\" rx=\"29.795\" ry=\"18\"/>\r\n",
       "<text text-anchor=\"middle\" x=\"54.2976\" y=\"-158.3\" font-family=\"Heiti\" font-size=\"14.00\">作者</text>\r\n",
       "</g>\r\n",
       "<!-- B -->\r\n",
       "<g id=\"node2\" class=\"node\"><title>B</title>\r\n",
       "<ellipse fill=\"none\" stroke=\"black\" cx=\"27.2976\" cy=\"-90\" rx=\"27.0966\" ry=\"18\"/>\r\n",
       "<text text-anchor=\"middle\" x=\"27.2976\" y=\"-86.3\" font-family=\"Times New Roman,serif\" font-size=\"14.00\">医生</text>\r\n",
       "</g>\r\n",
       "<!-- A&#45;&gt;B -->\r\n",
       "<g id=\"edge1\" class=\"edge\"><title>A&#45;&gt;B</title>\r\n",
       "<path fill=\"none\" stroke=\"black\" d=\"M47.899,-144.411C44.784,-136.335 40.9639,-126.431 37.463,-117.355\"/>\r\n",
       "<polygon fill=\"black\" stroke=\"black\" points=\"40.7021,-116.027 33.8378,-107.956 34.1711,-118.546 40.7021,-116.027\"/>\r\n",
       "</g>\r\n",
       "<!-- C -->\r\n",
       "<g id=\"node3\" class=\"node\"><title>C</title>\r\n",
       "<ellipse fill=\"none\" stroke=\"black\" cx=\"54.2976\" cy=\"-18\" rx=\"27.0966\" ry=\"18\"/>\r\n",
       "<text text-anchor=\"middle\" x=\"54.2976\" y=\"-14.3\" font-family=\"Times New Roman,serif\" font-size=\"14.00\">律师</text>\r\n",
       "</g>\r\n",
       "<!-- A&#45;&gt;C -->\r\n",
       "<g id=\"edge2\" class=\"edge\"><title>A&#45;&gt;C</title>\r\n",
       "<path fill=\"none\" stroke=\"black\" d=\"M57.9514,-143.908C59.9734,-133.569 62.2784,-120.09 63.2976,-108 64.6416,-92.0566 64.6416,-87.9434 63.2976,-72 62.5809,-63.4991 61.2287,-54.3119 59.786,-46.0122\"/>\r\n",
       "<polygon fill=\"black\" stroke=\"black\" points=\"63.2117,-45.2892 57.9514,-36.0925 56.3285,-46.5623 63.2117,-45.2892\"/>\r\n",
       "</g>\r\n",
       "<!-- B&#45;&gt;C -->\r\n",
       "<g id=\"edge3\" class=\"edge\"><title>B&#45;&gt;C</title>\r\n",
       "<path fill=\"none\" stroke=\"black\" d=\"M33.6962,-72.411C36.8112,-64.3352 40.6313,-54.4312 44.1322,-45.3547\"/>\r\n",
       "<polygon fill=\"black\" stroke=\"black\" points=\"47.424,-46.5458 47.7573,-35.9562 40.893,-44.0267 47.424,-46.5458\"/>\r\n",
       "</g>\r\n",
       "</g>\r\n",
       "</svg>\r\n"
      ],
      "text/plain": [
       "<graphviz.files.Source at 0x2953ec11748>"
      ]
     },
     "execution_count": 46,
     "metadata": {},
     "output_type": "execute_result"
    }
   ],
   "source": [
    "src = Source.from_file('output-graph-font.gv')\n",
    "src"
   ]
  },
  {
   "cell_type": "markdown",
   "metadata": {},
   "source": [
    "### 使用临时文件浏览图\n",
    "\n",
    "很多时候我们要多次浏览绘制的图, 但是又不想保存这个文件, 那么我们可以使用临时文件保存生成的结果:"
   ]
  },
  {
   "cell_type": "code",
   "execution_count": 47,
   "metadata": {},
   "outputs": [
    {
     "data": {
      "text/plain": [
       "'C:\\\\Users\\\\syd\\\\AppData\\\\Local\\\\Temp\\\\tmp48i7e5z2.gv.pdf'"
      ]
     },
     "execution_count": 47,
     "metadata": {},
     "output_type": "execute_result"
    }
   ],
   "source": [
    "import tempfile\n",
    "\n",
    "g = Graph()\n",
    "g.node('spam')\n",
    "\n",
    "g.view(tempfile.mktemp('.gv'))  "
   ]
  }
 ],
 "metadata": {
  "kernelspec": {
   "display_name": "Python 3",
   "language": "python",
   "name": "python3"
  },
  "language_info": {
   "codemirror_mode": {
    "name": "ipython",
    "version": 3
   },
   "file_extension": ".py",
   "mimetype": "text/x-python",
   "name": "python",
   "nbconvert_exporter": "python",
   "pygments_lexer": "ipython3",
   "version": "3.6.4"
  }
 },
 "nbformat": 4,
 "nbformat_minor": 2
}
