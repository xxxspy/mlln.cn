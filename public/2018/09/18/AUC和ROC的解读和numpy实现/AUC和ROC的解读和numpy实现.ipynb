{
 "cells": [
  {
   "cell_type": "markdown",
   "metadata": {},
   "source": [
    "---\n",
    "title: AUC和ROC的解读和numpy实现\n",
    "date: 2018-09-18 18:17:55\n",
    "tags: [numpy]\n",
    "toc: true\n",
    "xiongzhang: true\n",
    "xiongzhang_images: [main.jpg]\n",
    "\n",
    "---\n",
    "<span></span>\n",
    "<!-- more -->"
   ]
  },
  {
   "cell_type": "markdown",
   "metadata": {},
   "source": [
    "### 实际例子\n",
    "\n",
    "我们从例子开始往往能够更容易理解问题:\n",
    "\n",
    "下面的表格是一个经过分类器分类的样本数据, Class这一列表示真实的分类, Score这一列表示分类器预测样本为p的概率, 下面我们用ROC和AUC来评估这个分类器, 主要是为了演示一下AUC和ROC是如何得到的。\n",
    "\n",
    "<img src=\"imgs/samples.png\">\n",
    "\n",
    "我们的程序主要依赖是:\n",
    "\n",
    "- python3.6\n",
    "- numpy1.9\n",
    "\n",
    "我们把这个样本数据保存到一个数组中:"
   ]
  },
  {
   "cell_type": "code",
   "execution_count": 124,
   "metadata": {},
   "outputs": [],
   "source": [
    "import numpy as np\n",
    "\n",
    "data = np.array([\n",
    "    [1, .9],\n",
    "    [1, .8],\n",
    "    [0, .7],\n",
    "    [1, .6],\n",
    "    [1, .55],\n",
    "    [1, .54],\n",
    "    [0, .53],\n",
    "    [0, .52],\n",
    "    [1, .51],\n",
    "    [0, .505],\n",
    "    [1, .4],\n",
    "    [0, .39],\n",
    "    [1, .38],\n",
    "    [0, .37],\n",
    "    [0, .36],\n",
    "    [0, .35],\n",
    "    [1, .34],\n",
    "    [0, .33],\n",
    "    [1, .30],\n",
    "    [0, .1]\n",
    "])\n",
    "\n",
    "data = np.r_[data, data, data, data]\n",
    "data = np.r_[data, data, data, data]\n",
    "data = np.r_[data, data, data, data]"
   ]
  },
  {
   "cell_type": "markdown",
   "metadata": {},
   "source": []
  },
  {
   "cell_type": "markdown",
   "metadata": {},
   "source": [
    "### 基础知识\n",
    "\n",
    "<img src=\"imgs/confusion-matrix.png\"/>\n",
    "\n"
   ]
  },
  {
   "cell_type": "markdown",
   "metadata": {},
   "source": [
    "大家应该都见过上面的混淆矩阵, 假设这是一个二分类任务, 样本分为正负两种(True Class), 当然我们的分类器也是把样本分为这两种(Hypothesized class), 因为分类器不可能百分百准确, 所以可以得到四个指标: \n",
    "\n",
    "- True Positive: 实际分类是Positive, 预测结果也是Positive\n",
    "- False Positive: 实际分类是Negtive, 预测结果是Positive\n",
    "- False Negtive: 实际分类是Positive, 预测结果是Negtive\n",
    "- True Negtive: 实际分类是Negtive, 预测结果是Negtive\n",
    "\n",
    "> (True和False表示预测结果是否正确, Positive和Negetive表示样本预测的分类)\n",
    "\n",
    "下面用函数`metrics`来计算所有的四个指标, 参数是分类阈值`y`"
   ]
  },
  {
   "cell_type": "code",
   "execution_count": 12,
   "metadata": {},
   "outputs": [],
   "source": [
    "def metrics(data, y):\n",
    "    # 预测结果\n",
    "    predicts = data[:, 1] >= y\n",
    "    # true pos\n",
    "    tp = sum(data[predicts, 0])\n",
    "    # false pos\n",
    "    fp = data[predicts, 0].shape[0] - tp\n",
    "    # false neg\n",
    "    fn = sum(data[~predicts, 0])\n",
    "    # true neg\n",
    "    tn = data[~predicts, 0].shape[0] - fn\n",
    "    return {\n",
    "        'tp':tp,\n",
    "        'fp':fp,\n",
    "        'tn':tn,\n",
    "        'fn':fn\n",
    "    }"
   ]
  },
  {
   "cell_type": "code",
   "execution_count": 13,
   "metadata": {},
   "outputs": [
    {
     "data": {
      "text/plain": [
       "{'tp': 6.0, 'fp': 4.0, 'tn': 6.0, 'fn': 4.0}"
      ]
     },
     "execution_count": 13,
     "metadata": {},
     "output_type": "execute_result"
    }
   ],
   "source": [
    "metrics(data, .5)"
   ]
  },
  {
   "cell_type": "markdown",
   "metadata": {},
   "source": [
    "### 理论知识\n",
    "\n",
    "ROC(Receiver Operating Characteristic)和AUC是比较常用的两种分类器的性能评价指标。他们和我们常用的Precision/recall/f-score之间是有区别的, 因为ROC往往用一条曲线来表示, 它评价的是分类器的不同阈值的性能, 综合所有的阈值变化范围就能看出这个分类器的性能。而AUC(曲线下的面积)是对ROC的一个总结性指标, 下面还是举例子说明比较清楚:\n",
    "\n",
    "<img src=\"imgs/roc.png\" />"
   ]
  },
  {
   "cell_type": "markdown",
   "metadata": {},
   "source": [
    "上图是三个分类器的三条ROC曲线, 横坐标表示预测为positive但是实际是negtive的样本数除以总的negtive样本数, 纵坐标表示预测为positive实际为positive的样本中除以总的positive样本数。用代码清楚的表示为函数`xy`:"
   ]
  },
  {
   "cell_type": "code",
   "execution_count": 14,
   "metadata": {},
   "outputs": [],
   "source": [
    "def xy(params):\n",
    "    fpr = params['fp'] / (params['fp']+params['tn'])\n",
    "    tpr = params['tp'] / (params['tp']+params['fn'])\n",
    "    return {\n",
    "        'fpr':fpr,\n",
    "        'tpr':tpr\n",
    "    }"
   ]
  },
  {
   "cell_type": "markdown",
   "metadata": {},
   "source": [
    "看了上面的代码, 你应该可以看出来, fpr越小表示分类器在negtive样本数的表现越好, 而tpr越大表示分类器在positive样本上的表现越好, 所以我们选择分类器的时候就要选择较大的tpr和较小的fpr, 但是这是一个权衡问题, 因为tpr越大相应的fpr就会越大, 体现在ROC曲线上就是上图那样的曲线, 如果分类器按照样本的概率随机分类, 那么会得到虚线所示的对角线。"
   ]
  },
  {
   "cell_type": "markdown",
   "metadata": {},
   "source": [
    "### 绘制ROC曲线\n",
    "\n",
    "有了上的函数, 我们可以通过变化阈值y来产生不同的fpr和tpr, 然后将所有的指标绘制到图上, 就能得到ROC曲线, 下面是具体的代码:"
   ]
  },
  {
   "cell_type": "code",
   "execution_count": 177,
   "metadata": {},
   "outputs": [],
   "source": [
    "import matplotlib.pyplot as plt\n",
    "%matplotlib inline\n",
    "def draw(data, label):\n",
    "    N = 120\n",
    "    XY = np.zeros((N, 2))\n",
    "    for i in range(N):\n",
    "        y = i / 10\n",
    "        params = xy(metrics(data, y))\n",
    "        XY[i, 0] = params['fpr']\n",
    "        XY[i, 1] = params['tpr']\n",
    "\n",
    "    plt.plot(XY[:, 0], XY[:, 1], label=label)\n",
    "    \n",
    "\n",
    "# data2"
   ]
  },
  {
   "cell_type": "markdown",
   "metadata": {},
   "source": [
    "绘制曲线, 下面我们绘制三种曲线:\n",
    "\n",
    "- 按照样本的预测概率绘制\n",
    "- 将所有概率预测为随机数\n",
    "- 将所有概率预测为0.5"
   ]
  },
  {
   "cell_type": "code",
   "execution_count": 179,
   "metadata": {},
   "outputs": [
    {
     "data": {
      "text/plain": [
       "<matplotlib.legend.Legend at 0x1c2a4a8e780>"
      ]
     },
     "execution_count": 179,
     "metadata": {},
     "output_type": "execute_result"
    },
    {
     "data": {
      "image/png": "[encoded data removed]",
      "text/plain": [
       "<Figure size 432x288 with 1 Axes>"
      ]
     },
     "metadata": {},
     "output_type": "display_data"
    }
   ],
   "source": [
    "# 按照预测结果绘制\n",
    "draw(data, label='sample')\n",
    "\n",
    "# 将预测概率设置成随机数\n",
    "data2 = np.c_[data[:, 0], np.random.random(data.shape[0])]\n",
    "# 绘制随机结果\n",
    "draw(data2, label='random')\n",
    "\n",
    "# 所有概率都预测成0.5\n",
    "data3 = np.c_[data[:, 0], np.array([0.5]*data.shape[0])]\n",
    "draw(data3, label='0.5 fixed')\n",
    "\n",
    "\n",
    "plt.legend()"
   ]
  },
  {
   "cell_type": "markdown",
   "metadata": {},
   "source": [
    "从图中我们可以看到, 随机数概率基本上就是写对角线, 而固定0.5的概率之所以看起来是对角线, 因为XY值只有两种(0,0)和(1,1)。"
   ]
  },
  {
   "cell_type": "markdown",
   "metadata": {},
   "source": [
    "### 计算AUC值\n",
    "\n",
    "有了这个曲线以后, 我么要计算曲线下的面积就是AUC的值, 使用循环的方式, 把曲线下的面积分割为多个梯形, 然后累加每个梯形的面积即可:"
   ]
  },
  {
   "cell_type": "code",
   "execution_count": 199,
   "metadata": {},
   "outputs": [
    {
     "name": "stdout",
     "output_type": "stream",
     "text": [
      "0.9 1.0\n",
      "0.4 0.7\n",
      "0.1 0.3\n",
      "0.0 0.2\n"
     ]
    },
    {
     "data": {
      "text/plain": [
       "0.6799999999999999"
      ]
     },
     "execution_count": 199,
     "metadata": {},
     "output_type": "execute_result"
    }
   ],
   "source": [
    "\n",
    "def auc(data):\n",
    "    N = 120\n",
    "    XY = np.zeros((N, 2))\n",
    "    for i in range(N):\n",
    "        y = i / 10\n",
    "        params = xy(metrics(data, y))\n",
    "        XY[i, 0] = params['fpr']\n",
    "        XY[i, 1] = params['tpr']\n",
    "    pre_x = None\n",
    "    pre_y = None\n",
    "    area = 0\n",
    "    for i in range(N):\n",
    "        x = XY[i, 0]\n",
    "        y = XY[i, 1]\n",
    "        if pre_x != x and pre_x is not None:\n",
    "            area += (y + pre_y)/2 * (pre_x-x)\n",
    "        pre_x = x\n",
    "        pre_y = y\n",
    "    return area\n",
    "\n",
    "auc(data)"
   ]
  }
 ],
 "metadata": {
  "kernelspec": {
   "display_name": "Python 3",
   "language": "python",
   "name": "python3"
  },
  "language_info": {
   "codemirror_mode": {
    "name": "ipython",
    "version": 3
   },
   "file_extension": ".py",
   "mimetype": "text/x-python",
   "name": "python",
   "nbconvert_exporter": "python",
   "pygments_lexer": "ipython3",
   "version": "3.6.4"
  }
 },
 "nbformat": 4,
 "nbformat_minor": 2
}
