{
 "cells": [
  {
   "cell_type": "markdown",
   "metadata": {},
   "source": [
    "---\n",
    "title: 文本向量系列-如何基于词频矩阵和TF-IDF权重构建词向量\n",
    "date: 2018-08-18 18:17:55\n",
    "tags: [python, 文本挖掘]\n",
    "toc: true\n",
    "xiongzhang: true\n",
    "xiongzhang_images: [main.jpg]\n",
    "\n",
    "---\n",
    "<span></span>\n",
    "<!-- more -->\n"
   ]
  },
  {
   "cell_type": "markdown",
   "metadata": {},
   "source": [
    "### 系列文章\n",
    "\n",
    "这个是系列博客, 所有文章链接都列在这里, 并持续更新中。\n",
    "\n",
    "<ul>\n",
    "<li><a href=\"http://mlln.cn/2018/08/17/文本向量化理论和实践教程/\" >文本向量化理论和实践教程</a></li>\n",
    "<li><a href=\"http://mlln.cn/2018/08/17/文本向量系列-如何基于拼音构建字向量/\" >文本向量系列-如何基于拼音构建字向量</a></li>\n",
    "<li><a href=\"http://mlln.cn/2018/08/18/文本向量系列-如何基于笔画+拼音构建字向量/\" >文本向量系列-如何基于笔画+拼音构建字向量/</a></li>\n",
    "<li><a href=\"http://mlln.cn/2018/08/18/文本向量系列-如何基于词频矩阵和TF-IDF权重构建词向量/\" >文本向量系列-如何基于词频矩阵和TF-IDF权重构建词向量/</a></li>\n",
    "</ul>"
   ]
  },
  {
   "cell_type": "markdown",
   "metadata": {},
   "source": [
    "### 篇章/词频矩阵\n",
    "\n",
    "基于矩阵的分布表示通常又称为语义分布模型ＰＵ，该方法的主要思想是构建一个共现矩阵，矩阵的每行对应一个单词，每列表示一种上下文(通常是一篇文章)，而每个元素的值为对应单词与上下文在语料库中的共现次数。因此，每个单词可由矩阵中对应的行向量表示，而任意两个单词的相似性可直接由它们向量的相似性衡量。\n",
    "\n",
    "下面就是一个共现矩阵, 每一行就是一个词向量:\n",
    "\n",
    "<a href=\"http://mlln.cn\">\n",
    "<table>\n",
    "    <tr><td></td><td>文档1</td><td>文档2</td><td>文档3</td><td>...</td></tr>\n",
    "    <tr><td>词1</td><td>1</td><td>0</td><td>3</td><td>...</td></tr>\n",
    "    <tr><td>词2</td><td></td><td>1</td><td>0</td><td>...</td></tr>\n",
    "    <tr><td>词3</td><td>1</td><td>0</td><td>0</td><td>...</td></tr>\n",
    "    <tr><td>.</td><td>13</td><td>4</td><td>3</td><td>...</td></tr>\n",
    "</table>\n",
    "</a>\n",
    "\n",
    "### TF-IDF权重\n",
    "\n",
    "TF-IDF基于上面提到的共现矩阵。从实际操作角度来说, [TF-IDF](http://mlln.cn)只是对共现矩阵进行了加权。\n",
    "\n",
    "传统经典模型TF-IDF以及一些基于它改进的方法:主要思想是通过提取文本中词语的权重来标识句子, 使文本构成向量表达。权重主要由两部分组成, 即该词语在文本中的频率 (term frequency, TF) 与反文档频率 (inverse document frequency, IDF) 。它衡量了一个词的常见程度，TF-IDF的假设是：如果某个词或短语在一篇文章中出现的频率高，并且在其他文章中很少出，那么它很可能就反映了这篇文章的特性，因此要提高它的权值。然而这种方法太过于依赖词语的共现, 加上本身短文本消息就由很少的字组成, 往往实际应用中得不到很好的效果。因为两个文本消息可能没有共同的词语但也可以语义相关, 相反如果两个文本消息有一些共同的词语也不一定语义相关。如”富士苹果很好吃, 赶紧买”, “苹果六代真好用, 赶紧买”和”乔布斯逝世了”。"
   ]
  },
  {
   "cell_type": "markdown",
   "metadata": {},
   "source": [
    "### 语料库\n",
    "\n",
    "因为中文语料库往往需要涉及[分词](http://mlln.cn), 之后分词后才能对词进行向量化, 但是目前分词还不是我们教程的内容, 所以为了降低学习难度, 我们使用英文作为这次教程的语料库, 这个语料库比较小, 只有几个文档, 我们直接写在代码里了:"
   ]
  },
  {
   "cell_type": "code",
   "execution_count": 1,
   "metadata": {},
   "outputs": [],
   "source": [
    "documents = [\"Human machine interface for lab abc computer applications\",\n",
    "             \"A survey of user opinion of computer system response time\",\n",
    "             \"The EPS user interface management system\",\n",
    "             \"System and human system engineering testing of EPS\",\n",
    "             \"Relation of user perceived response time to error measurement\",\n",
    "             \"The generation of random binary unordered trees\",\n",
    "             \"The intersection graph of paths in trees\",\n",
    "             \"Graph minors IV Widths of trees and well quasi ordering\",\n",
    "             \"Graph minors A survey\"]"
   ]
  },
  {
   "cell_type": "markdown",
   "metadata": {},
   "source": [
    "### 计算词典和词频数矩阵\n",
    "\n",
    "词典就是词到词id的映射, 这样我们可以用id(一个整数)表示一个词了。词频矩阵参考上面的表格。"
   ]
  },
  {
   "cell_type": "code",
   "execution_count": 7,
   "metadata": {},
   "outputs": [],
   "source": [
    "from collections import Counter\n",
    "from itertools import chain\n",
    "import numpy as np\n",
    "\n",
    "def word_matrix(documents):\n",
    "    '''计算词频矩阵'''\n",
    "    # 所有字母转换位小写\n",
    "    docs = [d.lower() for d in documents]\n",
    "    # 分词\n",
    "    docs = [d.split() for d in docs]\n",
    "    # 获取所有词\n",
    "    words = list(set(chain(*docs)))\n",
    "    # 词到ID的映射, 使得每个词有一个ID\n",
    "    dictionary = dict(zip(words, range(len(words))))\n",
    "    # 创建一个空的矩阵, 行数等于词数, 列数等于文档数\n",
    "    matrix = np.zeros((len(words), len(docs)))\n",
    "    # 逐个文档统计词频\n",
    "    for col, d in enumerate(docs):\n",
    "        # 统计词频\n",
    "        count = Counter(d)\n",
    "        for word in count:\n",
    "            # 用word的id表示word在矩阵中的行数\n",
    "            id = dictionary[word]\n",
    "            # 把词频赋值给矩阵\n",
    "            matrix[id, col] = count[word]\n",
    "    return matrix, dictionary\n",
    "\n",
    "matrix, dictionary = word_matrix(documents)\n"
   ]
  },
  {
   "cell_type": "code",
   "execution_count": 39,
   "metadata": {},
   "outputs": [
    {
     "name": "stdout",
     "output_type": "stream",
     "text": [
      "[[0. 0. 0. 0. 0. 1. 0. 0. 0.]\n",
      " [0. 0. 0. 1. 0. 0. 0. 0. 0.]\n",
      " [0. 1. 0. 0. 0. 0. 0. 0. 0.]\n",
      " [0. 0. 0. 0. 0. 0. 0. 1. 1.]\n",
      " [0. 0. 1. 1. 0. 0. 0. 0. 0.]\n",
      " [1. 0. 0. 0. 0. 0. 0. 0. 0.]\n",
      " [0. 0. 0. 0. 0. 0. 0. 1. 0.]\n",
      " [0. 0. 1. 0. 0. 0. 0. 0. 0.]\n",
      " [1. 0. 0. 0. 0. 0. 0. 0. 0.]\n",
      " [0. 1. 1. 2. 0. 0. 0. 0. 0.]]\n"
     ]
    },
    {
     "data": {
      "text/plain": [
       "{'unordered': 0,\n",
       " 'engineering': 1,\n",
       " 'opinion': 2,\n",
       " 'minors': 3,\n",
       " 'eps': 4,\n",
       " 'abc': 5,\n",
       " 'iv': 6,\n",
       " 'management': 7,\n",
       " 'machine': 8,\n",
       " 'system': 9,\n",
       " 'random': 10,\n",
       " 'ordering': 11,\n",
       " 'well': 12,\n",
       " 'the': 13,\n",
       " 'relation': 14,\n",
       " 'a': 15,\n",
       " 'perceived': 16,\n",
       " 'and': 17,\n",
       " 'of': 18,\n",
       " 'graph': 19,\n",
       " 'widths': 20,\n",
       " 'computer': 21,\n",
       " 'quasi': 22,\n",
       " 'user': 23,\n",
       " 'lab': 24,\n",
       " 'for': 25,\n",
       " 'trees': 26,\n",
       " 'to': 27,\n",
       " 'binary': 28,\n",
       " 'time': 29,\n",
       " 'testing': 30,\n",
       " 'in': 31,\n",
       " 'survey': 32,\n",
       " 'error': 33,\n",
       " 'human': 34,\n",
       " 'intersection': 35,\n",
       " 'paths': 36,\n",
       " 'interface': 37,\n",
       " 'applications': 38,\n",
       " 'measurement': 39,\n",
       " 'generation': 40,\n",
       " 'response': 41}"
      ]
     },
     "execution_count": 39,
     "metadata": {},
     "output_type": "execute_result"
    }
   ],
   "source": [
    "print(matrix[:10,:10])\n",
    "dictionary"
   ]
  },
  {
   "cell_type": "code",
   "execution_count": 9,
   "metadata": {},
   "outputs": [
    {
     "name": "stdout",
     "output_type": "stream",
     "text": [
      "{'unordered': 0, 'engineering': 1, 'opinion': 2, 'minors': 3, 'eps': 4, 'abc': 5, 'iv': 6, 'management': 7, 'machine': 8, 'system': 9, 'random': 10, 'ordering': 11, 'well': 12, 'the': 13, 'relation': 14, 'a': 15, 'perceived': 16, 'and': 17, 'of': 18, 'graph': 19, 'widths': 20, 'computer': 21, 'quasi': 22, 'user': 23, 'lab': 24, 'for': 25, 'trees': 26, 'to': 27, 'binary': 28, 'time': 29, 'testing': 30, 'in': 31, 'survey': 32, 'error': 33, 'human': 34, 'intersection': 35, 'paths': 36, 'interface': 37, 'applications': 38, 'measurement': 39, 'generation': 40, 'response': 41}\n"
     ]
    }
   ],
   "source": [
    "print(dictionary)"
   ]
  },
  {
   "cell_type": "markdown",
   "metadata": {},
   "source": [
    "### TF-IDF权重计算\n",
    "\n",
    "#### 计算TF\n",
    "\n",
    "词在每个文档中的频数已经由上面的步骤计算得到, 下面我们要计算TF(词频率term frequency), 它其实就是每个词的频数除以文档的总词数:\n",
    "\n",
    "<a href=\"http://mlln.cn\"><img src=\"tf.svg\" /></a>"
   ]
  },
  {
   "cell_type": "code",
   "execution_count": 12,
   "metadata": {},
   "outputs": [
    {
     "name": "stdout",
     "output_type": "stream",
     "text": [
      "[ 8. 10.  6.  8.  9.  7.  7. 10.  4.]\n"
     ]
    },
    {
     "data": {
      "text/plain": [
       "array([[0.        , 0.        , 0.        , 0.        , 0.        ],\n",
       "       [0.        , 0.        , 0.        , 0.125     , 0.        ],\n",
       "       [0.        , 0.1       , 0.        , 0.        , 0.        ],\n",
       "       [0.        , 0.        , 0.        , 0.        , 0.        ],\n",
       "       [0.        , 0.        , 0.16666667, 0.125     , 0.        ]])"
      ]
     },
     "execution_count": 12,
     "metadata": {},
     "output_type": "execute_result"
    }
   ],
   "source": [
    "def tf(matrix):\n",
    "    # 计算每个文档的总次数\n",
    "    sm = np.sum(matrix, axis=0)\n",
    "    print(sm)\n",
    "    # 每个词的词频除以每个文档的词频\n",
    "    return matrix / sm\n",
    "\n",
    "tf(matrix)[:5, :5]"
   ]
  },
  {
   "cell_type": "markdown",
   "metadata": {},
   "source": [
    "#### 计算IDF\n",
    "\n",
    "逆向文件频率（inverse document frequency，IDF）是一个词语普遍重要性的度量, 某一特定词语的idf，可以由总文件数目除以包含该词语之文件的数目，再将得到的商取以10为底的对数得到：\n",
    "<a href=\"http://mlln.cn\"><img src=\"idf.svg\" /></a>"
   ]
  },
  {
   "cell_type": "markdown",
   "metadata": {},
   "source": [
    "其中:\n",
    "\n",
    "|D|: 语料库中的文档总数\n",
    "分子: 包含词ti的文档数\n",
    "\n",
    "下面我们用代码来计算idf:"
   ]
  },
  {
   "cell_type": "code",
   "execution_count": 17,
   "metadata": {},
   "outputs": [
    {
     "name": "stdout",
     "output_type": "stream",
     "text": [
      "[1 1 1 2 2 1 1 1 1 3 1 1 1 3 1 2 1 2 6 3 1 2 1 3 1 1 3 1 1 2 1 1 2 1 2 1 1\n",
      " 2 1 1 1 2]\n"
     ]
    },
    {
     "data": {
      "text/plain": [
       "array([9. , 9. , 9. , 4.5, 4.5, 9. , 9. , 9. , 9. , 3. , 9. , 9. , 9. ,\n",
       "       3. , 9. , 4.5, 9. , 4.5, 1.5, 3. , 9. , 4.5, 9. , 3. , 9. , 9. ,\n",
       "       3. , 9. , 9. , 4.5, 9. , 9. , 4.5, 9. , 4.5, 9. , 9. , 4.5, 9. ,\n",
       "       9. , 9. , 4.5])"
      ]
     },
     "execution_count": 17,
     "metadata": {},
     "output_type": "execute_result"
    }
   ],
   "source": [
    "def idf(matrix):\n",
    "    '''计算IDF'''\n",
    "    # 文档总数\n",
    "    D = matrix.shape[1]\n",
    "    # 包含每个词的文档数\n",
    "    j = np.sum(matrix>0, axis=1)\n",
    "    print(j)\n",
    "    return D / j\n",
    "\n",
    "idf(matrix)"
   ]
  },
  {
   "cell_type": "markdown",
   "metadata": {},
   "source": [
    "#### 计算tf-idf\n",
    "\n",
    "这个就很简单了:\n",
    "\n",
    "<a href=\"http://mlln.cn\"><img src=\"tf-idf.svg\" /></a>"
   ]
  },
  {
   "cell_type": "markdown",
   "metadata": {},
   "source": [
    "下面是用代码实现的tf-idf函数:"
   ]
  },
  {
   "cell_type": "code",
   "execution_count": 21,
   "metadata": {},
   "outputs": [
    {
     "name": "stdout",
     "output_type": "stream",
     "text": [
      "[ 8. 10.  6.  8.  9.  7.  7. 10.  4.]\n",
      "[1 1 1 2 2 1 1 1 1 3 1 1 1 3 1 2 1 2 6 3 1 2 1 3 1 1 3 1 1 2 1 1 2 1 2 1 1\n",
      " 2 1 1 1 2]\n"
     ]
    },
    {
     "data": {
      "text/plain": [
       "array([[0.    , 0.    , 0.    , 0.    , 0.    ],\n",
       "       [0.    , 0.    , 0.    , 1.125 , 0.    ],\n",
       "       [0.    , 0.9   , 0.    , 0.    , 0.    ],\n",
       "       [0.    , 0.    , 0.    , 0.    , 0.    ],\n",
       "       [0.    , 0.    , 0.75  , 0.5625, 0.    ]])"
      ]
     },
     "execution_count": 21,
     "metadata": {},
     "output_type": "execute_result"
    }
   ],
   "source": [
    "def tf_idf(matrx):\n",
    "    return tf(matrix) * idf(matrix).reshape(matrix.shape[0], 1)\n",
    "\n",
    "weights = tf_idf(matrix)\n",
    "weights[:5, :5]"
   ]
  },
  {
   "cell_type": "markdown",
   "metadata": {},
   "source": [
    "### 词向量\n",
    "\n",
    "我们得到了weights矩阵, 它的每一行就是一个词的词向量, 每一列就是一个文档的向量, 如果要计算词的相似性可以计算行向量的余弦值, 如果要计算文档的相似性, 我们可以计算列向量的余弦值。\n",
    "\n",
    "下面分别计算词和文档的相关矩阵:"
   ]
  },
  {
   "cell_type": "markdown",
   "metadata": {},
   "source": [
    "#### 词相关矩阵\n",
    "\n",
    "由于语料库太小了, 只有十几篇文档, 导致很多词的词向量都是相同的, 所以计算得到的词之间的相关很可能出现一些强相关, 但并不意味着他们由语义相关。但是在语料库比较大的时候, 很难出现两个词的词向量相同, 哪怕两个词是同义词也不太可能。\n",
    "\n",
    "但是, 就今天的例子而言, 结果不是很好。大部分cosine值都是1附近, 说明词之间的相关几乎是0。这种方法的效果较差, 很难揭示语义相似性。"
   ]
  },
  {
   "cell_type": "code",
   "execution_count": 33,
   "metadata": {},
   "outputs": [
    {
     "data": {
      "image/png": "[encoded data removed]",
      "text/plain": [
       "<Figure size 288x288 with 1 Axes>"
      ]
     },
     "metadata": {},
     "output_type": "display_data"
    }
   ],
   "source": [
    "%matplotlib inline\n",
    "import matplotlib.pyplot as plt\n",
    "from scipy.spatial.distance import cosine\n",
    "\n",
    "\n",
    "def word_relations(weights, ):\n",
    "    relations = np.zeros((len(weights), len(weights)))\n",
    "    for i in range(len(weights)):\n",
    "        vec1 = weights[i]\n",
    "        for j in range(i, len(weights)):\n",
    "            vec2 = weights[j]\n",
    "            relations[i, j] = cosine(vec1, vec2)\n",
    "    reverse = dict(zip(dictionary.values(), dictionary.keys()))\n",
    "    plt.matshow(relations)\n",
    "    \n",
    "word_relations(weights)\n",
    "    "
   ]
  },
  {
   "cell_type": "markdown",
   "metadata": {},
   "source": [
    "#### 文档相关矩阵\n",
    "\n",
    "我们得到词向量的同时也得到了文档向量, 我们可以计算文档之间的相关性几乎是没有的, 这不符合我们的直观感受。"
   ]
  },
  {
   "cell_type": "code",
   "execution_count": 37,
   "metadata": {},
   "outputs": [
    {
     "name": "stdout",
     "output_type": "stream",
     "text": [
      "[[0.         0.93513419 0.92300095 0.94191977 1.         1.\n",
      "  1.         1.         1.        ]\n",
      " [0.         0.         0.89788806 0.90372145 0.82532862 0.98323348\n",
      "  0.98114633 0.98558537 0.66476436]\n",
      " [0.         0.         0.         0.80571111 0.96544268 0.96019457\n",
      "  0.95523946 1.         1.        ]\n",
      " [0.         0.         0.         0.         0.99348337 0.99249371\n",
      "  0.9915593  0.93546641 1.        ]\n",
      " [0.         0.         0.         0.         0.         0.99432578\n",
      "  0.99361943 0.99512172 1.        ]\n",
      " [0.         0.         0.         0.         0.         0.\n",
      "  0.93385392 0.97190435 1.        ]\n",
      " [0.         0.         0.         0.         0.         0.\n",
      "  0.         0.94313243 0.93468898]\n",
      " [0.         0.         0.         0.         0.         0.\n",
      "  0.         0.         0.83771539]\n",
      " [0.         0.         0.         0.         0.         0.\n",
      "  0.         0.         0.        ]]\n"
     ]
    },
    {
     "data": {
      "image/png": "[encoded data removed]",
      "text/plain": [
       "<Figure size 288x288 with 1 Axes>"
      ]
     },
     "metadata": {},
     "output_type": "display_data"
    }
   ],
   "source": [
    "def doc_relations(weights):\n",
    "    n = weights.shape[1]\n",
    "    relations = np.zeros((n, n))\n",
    "    for i in range(n):\n",
    "        vec1 = weights[:, i]\n",
    "        for j in range(i, n):\n",
    "            vec2 = weights[:, j]\n",
    "            relations[i, j] = cosine(vec1, vec2)\n",
    "    reverse = dict(zip(dictionary.values(), dictionary.keys()))\n",
    "    plt.matshow(relations)\n",
    "    print(relations)\n",
    "    \n",
    "doc_relations(weights)"
   ]
  }
 ],
 "metadata": {
  "kernelspec": {
   "display_name": "Python 3",
   "language": "python",
   "name": "python3"
  },
  "language_info": {
   "codemirror_mode": {
    "name": "ipython",
    "version": 3
   },
   "file_extension": ".py",
   "mimetype": "text/x-python",
   "name": "python",
   "nbconvert_exporter": "python",
   "pygments_lexer": "ipython3",
   "version": "3.6.4"
  }
 },
 "nbformat": 4,
 "nbformat_minor": 2
}
