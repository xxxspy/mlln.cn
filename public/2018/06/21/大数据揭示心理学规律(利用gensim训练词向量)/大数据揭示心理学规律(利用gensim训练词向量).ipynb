{
 "cells": [
  {
   "cell_type": "markdown",
   "metadata": {},
   "source": [
    "---\n",
    "title: 大数据揭示心理学规律(利用gensim训练词向量)\n",
    "date: 2018-06-2 22:17:55\n",
    "tags: [python, 心理学, gensim, pyltp, 词向量]\n",
    "toc: true\n",
    "xiongzhang: true\n",
    "xiongzhang_images: [images/word2vec-perfect.png]\n",
    "\n",
    "---\n",
    "<span></span>\n",
    "<!-- more -->"
   ]
  },
  {
   "cell_type": "markdown",
   "metadata": {},
   "source": [
    "<img src=\"images/word2vec-perfect.png\" class=\"img-thumbnail\"/>\n",
    "\n",
    "### 简介\n",
    "\n",
    "本文通过训练词向量的方式试图解释一些心理学现象. 在实验之前, 我并没有太多的想法和对结果的预期, 只是抱着试试看的态度来的. 不过最终看效果, 还是蛮有意思的. 对代码不感兴趣的人可以直接跳过代码部分, 直接看[结果展示](#结果展示)部分. \n",
    "\n",
    "### 技术路线\n",
    "\n",
    "本次实验是前两次实验的继承, 前两篇分别是[<中文语料库的构建>](http://mlln.cn/2018/05/30/%E4%B8%AD%E6%96%87%E8%AF%AD%E6%96%99%E5%BA%93%E6%9E%84%E5%BB%BA%E8%BF%87%E7%A8%8B%E8%AF%A6%E7%BB%86%E6%95%99%E7%A8%8B/)和<爬去知网期刊论文信息和摘要信息>. 具体过程如下:\n",
    "\n",
    "- 这次实验的语料来自知网论文的摘要, 爬取了大概有7000篇论文摘要(搜索关键词有完美主义, 幸福, 自卑等, 还有一些无关词语). \n",
    "- 然后构建了一个中文语料库. \n",
    "- 使用pyltp进行了分句和分词\n",
    "- 使用gensim进行词向量的训练"
   ]
  },
  {
   "cell_type": "markdown",
   "metadata": {},
   "source": [
    "### 代码部分"
   ]
  },
  {
   "cell_type": "markdown",
   "metadata": {},
   "source": [
    "#### 这是构建语料库的类"
   ]
  },
  {
   "cell_type": "code",
   "execution_count": 29,
   "metadata": {},
   "outputs": [],
   "source": [
    "# author: mlln.cn\n",
    "# email: xxxspy@126.com\n",
    "# qq: 675495787\n",
    "from gensim.corpora.textcorpus import TextDirectoryCorpus\n",
    "import jieba\n",
    "from pyltp import Segmentor\n",
    "from pyltp import SentenceSplitter\n",
    "from gensim.corpora.dictionary import Dictionary\n",
    "class MyTextDirCorpus(TextDirectoryCorpus):\n",
    "    \n",
    "    def __init__(self, input, **kwargs):\n",
    "\n",
    "        kwargs['tokenizer'] = self.tokenizer\n",
    "        super().__init__(input, **kwargs)\n",
    "    \n",
    "    def tokenizer(self, text):\n",
    "        if not hasattr(self, '_segmentor'):\n",
    "            model_path = r'D:\\mysites\\text-characters\\tcharacters\\ltp\\ltp_data\\cws.model'\n",
    "            segmentor = Segmentor()  # 初始化实例\n",
    "            segmentor.load(model_path)\n",
    "            self._segmentor = segmentor\n",
    "        segmentor = self._segmentor\n",
    "        sents = SentenceSplitter.split(text)\n",
    "        words = [list(segmentor.segment(s)) for s in sents]\n",
    "        return words\n",
    "    \n",
    "    def __del__(self):\n",
    "        '''释放资源'''\n",
    "        if hasattr(self, '_segmentor'):\n",
    "            self._segmentor.release()\n",
    "        try:\n",
    "            super().__del__()\n",
    "        except AttributeError:\n",
    "            pass\n",
    "    \n",
    "    # 为了强制使用'utf8'编码, 我们复写了这个方法\n",
    "    def getstream(self):\n",
    "        \"\"\"Yield documents from the underlying plain text collection (of one or more files).\n",
    "        Each item yielded from this method will be considered a document by subsequent\n",
    "        preprocessing methods.\n",
    "        If `lines_are_documents` was set to True, items will be lines from files. Otherwise\n",
    "        there will be one item per file, containing the entire contents of the file.\n",
    "        \"\"\"\n",
    "        num_texts = 0\n",
    "        for path in self.iter_filepaths():\n",
    "            with open(path, 'rt', encoding='utf8') as f:\n",
    "                if self.lines_are_documents:\n",
    "                    for line in f:\n",
    "                        yield line.strip()\n",
    "                        num_texts += 1\n",
    "                else:\n",
    "                    content = f.read().strip()\n",
    "                    yield content\n",
    "                    num_texts += 1\n",
    "\n",
    "        self.length = num_texts\n",
    "        \n",
    "    def get_texts_from_tokens(self):\n",
    "        for fpath in self.iter_filepaths():\n",
    "            fpath = Path(fpath)\n",
    "            token_path = fpath.parent / (fpath.name + '.cached_tokens')\n",
    "            yield pickle.loads(token_path.read_bytes())\n",
    "            \n",
    "    def save_tokens(self):\n",
    "        '''保存tokens到硬盘, 只需要运行一次'''\n",
    "        for fpath in self.iter_filepaths():\n",
    "            fpath = Path(fpath)\n",
    "            token_path = fpath.parent / (fpath.name + '.cached_tokens')\n",
    "            txt = fpath.read_text(encoding='utf8').strip()\n",
    "            tokens = self.tokenizer(txt)\n",
    "            token_path.write_bytes(pickle.dumps(list(tokens)))\n",
    "    \n",
    "    def save_dictionary(self, dpath):\n",
    "        '''把字典保存到硬盘'''\n",
    "        self.dictionary.save_as_text(fname=dpath)\n",
    "        \n",
    "    def sentence_iter(self):\n",
    "        texts = self.get_texts_from_tokens()\n",
    "        for text in texts:\n",
    "            for sent in text:\n",
    "                yield sent"
   ]
  },
  {
   "cell_type": "markdown",
   "metadata": {},
   "source": [
    "#### 实例化一个语料库"
   ]
  },
  {
   "cell_type": "code",
   "execution_count": 31,
   "metadata": {},
   "outputs": [
    {
     "data": {
      "text/plain": [
       "47345"
      ]
     },
     "execution_count": 31,
     "metadata": {},
     "output_type": "execute_result"
    }
   ],
   "source": [
    "dpath = r'D:\\mysites\\cnki-search\\OUTPUTS'\n",
    "dic_path = 'dictionary.dict'\n",
    "dic = Dictionary.load_from_text(dic_path)\n",
    "corpus = MyTextDirCorpus(dpath, \n",
    "                min_depth=1, \n",
    "                dictionary=dic,\n",
    "                 pattern='.*\\.abstract$',  \n",
    "                 lines_are_documents=False, \n",
    "                 token_filters=[])\n",
    "len(dic)"
   ]
  },
  {
   "cell_type": "markdown",
   "metadata": {},
   "source": [
    "#### 保存分词结果"
   ]
  },
  {
   "cell_type": "code",
   "execution_count": 28,
   "metadata": {},
   "outputs": [],
   "source": [
    "# 保存tokens\n",
    "from pathlib import Path\n",
    "import pickle\n",
    "corpus.save_tokens()"
   ]
  },
  {
   "cell_type": "markdown",
   "metadata": {},
   "source": [
    "#### 训练词向量"
   ]
  },
  {
   "cell_type": "code",
   "execution_count": 35,
   "metadata": {
    "scrolled": false
   },
   "outputs": [
    {
     "data": {
      "text/plain": [
       "(2390588, 3090228)"
      ]
     },
     "execution_count": 35,
     "metadata": {},
     "output_type": "execute_result"
    }
   ],
   "source": [
    "from gensim.models.word2vec import Word2Vec   \n",
    "\n",
    "\n",
    "model= Word2Vec()  \n",
    "model.build_vocab(corpus.sentence_iter())  \n",
    "model.train(corpus.sentence_iter(), total_examples=model.corpus_count, epochs=model.epochs)  \n"
   ]
  },
  {
   "cell_type": "markdown",
   "metadata": {},
   "source": [
    "#### 保存词向量模型"
   ]
  },
  {
   "cell_type": "code",
   "execution_count": 50,
   "metadata": {},
   "outputs": [],
   "source": [
    "model_path = r\"D:\\mysites\\cnki-search\\OUTPUTS\\vector.model\"\n",
    "model.save(model_path)"
   ]
  },
  {
   "cell_type": "markdown",
   "metadata": {},
   "source": [
    "### 结果展示\n",
    "\n",
    "#### 用100维向量表示一个词"
   ]
  },
  {
   "cell_type": "code",
   "execution_count": 37,
   "metadata": {},
   "outputs": [
    {
     "name": "stderr",
     "output_type": "stream",
     "text": [
      "d:\\mysites\\deeplearning.ai-master\\.env\\lib\\site-packages\\ipykernel_launcher.py:1: DeprecationWarning: Call to deprecated `__getitem__` (Method will be removed in 4.0.0, use self.wv.__getitem__() instead).\n",
      "  \"\"\"Entry point for launching an IPython kernel.\n"
     ]
    },
    {
     "data": {
      "text/plain": [
       "array([ 0.20481601,  0.5714214 , -1.3871742 ,  0.06323086, -0.9507892 ,\n",
       "        0.74798256, -0.7659924 ,  1.5762316 , -0.48113433, -0.47097418,\n",
       "       -0.26745576,  0.27904513, -0.3113326 , -0.14472784, -0.5994872 ,\n",
       "       -0.04263587, -1.0676603 , -0.3256847 ,  0.15162984, -0.04746385,\n",
       "       -0.67858386,  0.06392714, -0.65016   , -0.21514435, -0.7567799 ,\n",
       "        0.2408507 , -0.8350066 , -0.44951594,  0.17692119, -0.32248417,\n",
       "       -0.5894241 , -0.39148644, -0.2975546 ,  0.16461797, -0.30091375,\n",
       "       -0.43784717,  0.31717032,  0.4437195 , -0.9399812 , -0.22935824,\n",
       "        0.17857902,  0.95873344,  0.5222857 ,  0.36783326, -0.00854115,\n",
       "       -1.5987526 ,  0.00588302,  0.13465759,  0.7462688 ,  0.54626375,\n",
       "       -0.36806348,  0.92049253, -0.05161149, -0.77675563,  0.36425716,\n",
       "       -0.5438    , -0.32902893,  0.02579404,  0.52441996, -0.31838223,\n",
       "       -0.02959022, -0.9052237 , -0.24905084, -0.4933001 , -0.05206076,\n",
       "       -0.30906802,  0.5123301 , -0.7087073 ,  0.08212207, -0.80762994,\n",
       "        0.08510961,  0.2877228 , -1.2759535 ,  1.4057134 ,  0.56749785,\n",
       "       -1.0927128 ,  0.30251205, -0.513295  ,  0.18849482, -1.0221461 ,\n",
       "       -0.07769577,  1.0415772 , -0.60217077, -0.25533095,  0.55302244,\n",
       "        0.6333061 ,  0.41302222,  0.46321914, -1.2012811 , -0.1631474 ,\n",
       "        0.5391119 , -0.08092288, -0.26842424,  0.14027756,  0.88385963,\n",
       "        0.05708294, -0.629938  , -1.2831743 , -0.16318122, -0.51519424],\n",
       "      dtype=float32)"
      ]
     },
     "execution_count": 37,
     "metadata": {},
     "output_type": "execute_result"
    }
   ],
   "source": [
    "model['基于']"
   ]
  },
  {
   "cell_type": "markdown",
   "metadata": {},
   "source": [
    "#### 找到最相近的n个词"
   ]
  },
  {
   "cell_type": "code",
   "execution_count": 48,
   "metadata": {
    "scrolled": true
   },
   "outputs": [
    {
     "name": "stderr",
     "output_type": "stream",
     "text": [
      "d:\\mysites\\deeplearning.ai-master\\.env\\lib\\site-packages\\ipykernel_launcher.py:1: DeprecationWarning: Call to deprecated `most_similar` (Method will be removed in 4.0.0, use self.wv.most_similar() instead).\n",
      "  \"\"\"Entry point for launching an IPython kernel.\n"
     ]
    },
    {
     "data": {
      "text/plain": [
       "[('他', 0.8343698382377625),\n",
       " ('善', 0.8118964433670044),\n",
       " ('你', 0.7913036942481995),\n",
       " ('大人', 0.7887542247772217),\n",
       " ('作家', 0.7695958018302917),\n",
       " ('五四', 0.7694318294525146),\n",
       " ('童年', 0.76503586769104),\n",
       " ('她', 0.7642527222633362),\n",
       " ('说', 0.7629194259643555),\n",
       " ('至善', 0.7568099498748779)]"
      ]
     },
     "execution_count": 48,
     "metadata": {},
     "output_type": "execute_result"
    }
   ],
   "source": [
    "model.most_similar(['我'])"
   ]
  },
  {
   "cell_type": "markdown",
   "metadata": {},
   "source": [
    "#### 概念间的计算\n",
    "\n",
    "找到没有自尊的完美主义者:"
   ]
  },
  {
   "cell_type": "code",
   "execution_count": 85,
   "metadata": {},
   "outputs": [
    {
     "name": "stderr",
     "output_type": "stream",
     "text": [
      "d:\\mysites\\deeplearning.ai-master\\.env\\lib\\site-packages\\ipykernel_launcher.py:1: DeprecationWarning: Call to deprecated `__getitem__` (Method will be removed in 4.0.0, use self.wv.__getitem__() instead).\n",
      "  \"\"\"Entry point for launching an IPython kernel.\n",
      "d:\\mysites\\deeplearning.ai-master\\.env\\lib\\site-packages\\ipykernel_launcher.py:2: DeprecationWarning: Call to deprecated `most_similar` (Method will be removed in 4.0.0, use self.wv.most_similar() instead).\n",
      "  \n"
     ]
    },
    {
     "data": {
      "text/plain": [
       "[('完美主义', 0.7952172756195068),\n",
       " ('meta', 0.4440059959888458),\n",
       " ('定式', 0.4229651689529419),\n",
       " ('幸福观', 0.42237338423728943),\n",
       " ('感性认识', 0.4190525710582733),\n",
       " ('人格', 0.3875422179698944),\n",
       " ('犯罪', 0.36745792627334595),\n",
       " ('自我', 0.3505035638809204),\n",
       " ('拖延', 0.3485129177570343),\n",
       " ('历时性', 0.345354288816452)]"
      ]
     },
     "execution_count": 85,
     "metadata": {},
     "output_type": "execute_result"
    }
   ],
   "source": [
    "v =  model['完美主义'] - model['自尊']\n",
    "model.most_similar(positive=[v], topn=10)"
   ]
  },
  {
   "cell_type": "markdown",
   "metadata": {},
   "source": [
    "#### 寻找概念间的关系"
   ]
  },
  {
   "cell_type": "code",
   "execution_count": 100,
   "metadata": {},
   "outputs": [
    {
     "name": "stderr",
     "output_type": "stream",
     "text": [
      "d:\\mysites\\deeplearning.ai-master\\.env\\lib\\site-packages\\ipykernel_launcher.py:2: DeprecationWarning: Call to deprecated `most_similar` (Method will be removed in 4.0.0, use self.wv.most_similar() instead).\n",
      "  \n"
     ]
    },
    {
     "data": {
      "text/plain": [
       "[('自尊', 0.8451846837997437),\n",
       " ('倾向', 0.8100054860115051),\n",
       " ('反刍', 0.7790679931640625),\n",
       " ('特质', 0.7788870334625244),\n",
       " ('自悯', 0.7783106565475464),\n",
       " ('情绪', 0.7755159139633179),\n",
       " ('自卑感', 0.7730893492698669),\n",
       " ('态度', 0.7722681760787964),\n",
       " ('自杀', 0.7719931602478027),\n",
       " ('拖延', 0.7688606381416321),\n",
       " ('适应性', 0.761386513710022),\n",
       " ('抑郁', 0.7555066347122192),\n",
       " ('人格', 0.7441696524620056),\n",
       " ('学业', 0.7429016828536987),\n",
       " ('强迫', 0.7383431792259216),\n",
       " ('风格', 0.734379768371582),\n",
       " ('信念', 0.732912540435791),\n",
       " ('完美主义者', 0.731903612613678),\n",
       " ('外表', 0.720329225063324),\n",
       " ('显', 0.7195327281951904)]"
      ]
     },
     "execution_count": 100,
     "metadata": {},
     "output_type": "execute_result"
    }
   ],
   "source": [
    "\n",
    "model.most_similar(positive=['完美主义',  '消极'], negative=[], topn=20)"
   ]
  },
  {
   "cell_type": "code",
   "execution_count": 103,
   "metadata": {},
   "outputs": [
    {
     "name": "stderr",
     "output_type": "stream",
     "text": [
      "d:\\mysites\\deeplearning.ai-master\\.env\\lib\\site-packages\\ipykernel_launcher.py:1: DeprecationWarning: Call to deprecated `most_similar` (Method will be removed in 4.0.0, use self.wv.most_similar() instead).\n",
      "  \"\"\"Entry point for launching an IPython kernel.\n"
     ]
    },
    {
     "data": {
      "text/plain": [
       "[('幸福感', 0.6743337512016296),\n",
       " ('幸福观', 0.6489542722702026),\n",
       " ('自卑感', 0.6120619177818298),\n",
       " ('自我', 0.607430100440979),\n",
       " ('婚恋观', 0.5844637155532837),\n",
       " ('自我批评', 0.5719105005264282),\n",
       " ('自然界', 0.5718179941177368),\n",
       " ('幸福度', 0.5650844573974609),\n",
       " ('阶级性', 0.5615861415863037),\n",
       " ('自尊', 0.5536830425262451),\n",
       " ('追求', 0.5530370473861694),\n",
       " ('个人', 0.5523806214332581),\n",
       " ('整饰', 0.547888457775116),\n",
       " ('人格', 0.5456241369247437),\n",
       " ('畅爽', 0.5450509190559387),\n",
       " ('信仰', 0.5448511838912964),\n",
       " ('世界观', 0.5446830987930298),\n",
       " ('人生观', 0.542322039604187),\n",
       " ('金钱观', 0.5381442308425903),\n",
       " ('优越感', 0.5363531112670898)]"
      ]
     },
     "execution_count": 103,
     "metadata": {},
     "output_type": "execute_result"
    }
   ],
   "source": [
    "model.most_similar(positive=['完美主义', '幸福'], negative=[], topn=20)"
   ]
  },
  {
   "cell_type": "code",
   "execution_count": 104,
   "metadata": {},
   "outputs": [
    {
     "name": "stderr",
     "output_type": "stream",
     "text": [
      "d:\\mysites\\deeplearning.ai-master\\.env\\lib\\site-packages\\ipykernel_launcher.py:1: DeprecationWarning: Call to deprecated `most_similar` (Method will be removed in 4.0.0, use self.wv.most_similar() instead).\n",
      "  \"\"\"Entry point for launching an IPython kernel.\n"
     ]
    },
    {
     "data": {
      "text/plain": [
       "[('感性认识', 0.5076549053192139),\n",
       " ('自信感', 0.4832497835159302),\n",
       " ('定式', 0.43401259183883667),\n",
       " ('拖延三者', 0.4103550910949707),\n",
       " ('差异.', 0.4100268483161926),\n",
       " ('回归法', 0.4001217484474182),\n",
       " ('变量', 0.38459616899490356),\n",
       " ('6-12', 0.36245742440223694),\n",
       " ('拖延', 0.34290611743927),\n",
       " ('meta', 0.33427050709724426),\n",
       " ('流利', 0.3265514373779297),\n",
       " ('产后', 0.32360613346099854),\n",
       " ('结果', 0.30865421891212463),\n",
       " ('预调查', 0.30783766508102417),\n",
       " ('政界', 0.30159276723861694),\n",
       " ('488', 0.2899872660636902),\n",
       " ('指导语', 0.28705894947052),\n",
       " ('318', 0.28507083654403687),\n",
       " ('1986', 0.2814595699310303),\n",
       " ('因子', 0.280342698097229)]"
      ]
     },
     "execution_count": 104,
     "metadata": {},
     "output_type": "execute_result"
    }
   ],
   "source": [
    "model.most_similar(positive=['完美主义'], negative=['卓越'], topn=20)"
   ]
  },
  {
   "cell_type": "code",
   "execution_count": 105,
   "metadata": {},
   "outputs": [
    {
     "name": "stderr",
     "output_type": "stream",
     "text": [
      "d:\\mysites\\deeplearning.ai-master\\.env\\lib\\site-packages\\ipykernel_launcher.py:1: DeprecationWarning: Call to deprecated `most_similar` (Method will be removed in 4.0.0, use self.wv.most_similar() instead).\n",
      "  \"\"\"Entry point for launching an IPython kernel.\n"
     ]
    },
    {
     "data": {
      "text/plain": [
       "[('成就', 0.7487295269966125),\n",
       " ('自我', 0.7096918225288391),\n",
       " ('乐观', 0.7087293863296509),\n",
       " ('自尊', 0.6956290006637573),\n",
       " ('积极', 0.6946340799331665),\n",
       " ('依赖', 0.6929352283477783),\n",
       " ('归因', 0.6833783388137817),\n",
       " ('倾向', 0.6816843748092651),\n",
       " ('保存', 0.6750534772872925),\n",
       " ('自信', 0.6739674806594849),\n",
       " ('创造力', 0.6691659688949585),\n",
       " ('倦怠', 0.6682588458061218),\n",
       " ('生涯', 0.663487434387207),\n",
       " ('兴趣', 0.6600993871688843),\n",
       " ('创造性', 0.6511282324790955),\n",
       " ('效能', 0.6472607851028442),\n",
       " ('成功感', 0.6456454992294312),\n",
       " ('能力', 0.6446733474731445),\n",
       " ('定向', 0.6438237428665161),\n",
       " ('反刍', 0.6435714364051819)]"
      ]
     },
     "execution_count": 105,
     "metadata": {},
     "output_type": "execute_result"
    }
   ],
   "source": [
    "model.most_similar(positive=['完美主义', '成功'], negative=[], topn=20)"
   ]
  },
  {
   "cell_type": "code",
   "execution_count": 106,
   "metadata": {},
   "outputs": [
    {
     "name": "stderr",
     "output_type": "stream",
     "text": [
      "d:\\mysites\\deeplearning.ai-master\\.env\\lib\\site-packages\\ipykernel_launcher.py:1: DeprecationWarning: Call to deprecated `most_similar` (Method will be removed in 4.0.0, use self.wv.most_similar() instead).\n",
      "  \"\"\"Entry point for launching an IPython kernel.\n"
     ]
    },
    {
     "data": {
      "text/plain": [
       "[('自尊', 0.8850756287574768),\n",
       " ('倾向', 0.8513725996017456),\n",
       " ('自悯', 0.8307703733444214),\n",
       " ('成就', 0.8234578371047974),\n",
       " ('消极', 0.8121293783187866),\n",
       " ('学业', 0.8060901165008545),\n",
       " ('抑郁', 0.8046209812164307),\n",
       " ('回避', 0.804327130317688),\n",
       " ('归因', 0.8038434982299805),\n",
       " ('强迫', 0.8031525611877441),\n",
       " ('信念', 0.7968993186950684),\n",
       " ('拖延', 0.7954033017158508),\n",
       " ('情绪', 0.7894195318222046),\n",
       " ('知觉', 0.7877265810966492),\n",
       " ('风格', 0.7872787714004517),\n",
       " ('适应性', 0.785957932472229),\n",
       " ('神经质', 0.7785789370536804),\n",
       " ('反刍', 0.7781296372413635),\n",
       " ('苦恼', 0.7760308384895325),\n",
       " ('自卑感', 0.7698969841003418)]"
      ]
     },
     "execution_count": 106,
     "metadata": {},
     "output_type": "execute_result"
    }
   ],
   "source": [
    "model.most_similar(positive=['完美主义', '失败'], negative=[], topn=20)"
   ]
  },
  {
   "cell_type": "markdown",
   "metadata": {},
   "source": [
    "### 视频演示\n",
    "\n",
    "<iframe width=\"560\" height=\"315\" src=\"https://www.youtube.com/embed/xJ-N8PrhaJY\" frameborder=\"0\" allow=\"autoplay; encrypted-media\" allowfullscreen></iframe>"
   ]
  }
 ],
 "metadata": {
  "kernelspec": {
   "display_name": "Python 3",
   "language": "python",
   "name": "python3"
  },
  "language_info": {
   "codemirror_mode": {
    "name": "ipython",
    "version": 3
   },
   "file_extension": ".py",
   "mimetype": "text/x-python",
   "name": "python",
   "nbconvert_exporter": "python",
   "pygments_lexer": "ipython3",
   "version": "3.6.4"
  }
 },
 "nbformat": 4,
 "nbformat_minor": 2
}
