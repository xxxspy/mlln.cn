{
 "cells": [
  {
   "cell_type": "markdown",
   "metadata": {},
   "source": [
    "----\n",
    "title: SOM(Self Organizing Feature Maps)案例教程-用tensorflow实现\n",
    "date: 2018-06-15 8:17:55\n",
    "tags: [tensorflow教程, python, som]\n",
    "toc: true\n",
    "mathjax: true\n",
    "\n",
    "------\n",
    "\n",
    "<span></span>\n",
    "<!-- more -->"
   ]
  },
  {
   "cell_type": "markdown",
   "metadata": {},
   "source": [
    "### 简介\n",
    "\n",
    "Kohonen自组织特征映射或SOMs，是由芬兰科学院教授Teuvo Kohonen发明的，他们提供了一种在低维空间（通常是一维或二维）表示多维数据的方法。这个降低矢量维度的过程本质上是一种称为矢量量化的数据压缩技术。此外，Kohonen技术创建了一个网络，以这种方式存储信息，以保持训练集内的任何拓扑关系。\n",
    "\n",
    "SOM一个常见示例是将颜色从其三维空间（红色，绿色和蓝色）映射到两个维度。图1显示了一个SOM训练的例子，用于识别右侧显示的八种不同颜色。颜色作为向量呈现给网络 - 每个颜色分量都有一个维度 - 网络已经学会在二维空间中表示它们。注意，除了将颜色聚类到不同的区域之外，通常还会发现类似属性的区域彼此相邻。 \n",
    "\n",
    "<div align=\"center\">\n",
    "    <img src=\"images/som-1.png\" />\n",
    "图1 经过训练的SOM\n",
    "</div>\n",
    "\n",
    "### 网络结构\n",
    "\n",
    "SOM(Self Organizing Feature Maps)的网络结构非常简单, 很适合作为一个入门案例. 如图2所示, 本教程讨论的是一个二维SOM. 这个网络可以被当作一个两层网络: 输入层和输出层. 输入层只有一个节点, 我们用X表示输入, 输出层是一个7x7的矩阵或者说表格. 因为我们要对颜色进行分类, 所以我们设输入向量x是一个三维向量, 如[0 0 1], 代表一种颜色. 输出层的每个神经元有一个权重向量W, 我们这个网络中就有49个权重向量, 而且向量的维数与输入向量相等, 也是3, 这样这些权重向量也可以被当作一种颜色的数值表示, 所以可以被可视化成图1的样子.\n",
    "\n",
    "<div align=\"center\">\n",
    "<img src=\"images/som-2.png\" />\n",
    "图2 SOM神经网络架构\n",
    "</div>\n",
    "\n",
    "### 学习过程\n",
    "\n",
    "SOM是无监督学习, 不需要成对的数据. SOM的学习过程可以总结成一句话, 就是调整输出层权重W以便于让相邻的节点具有相似的权重. 具体来说分为一下的步骤:\n",
    "\n",
    "- 1. 每个节点的权重都被随机初始化。\n",
    "\n",
    "- 2. 从训练数据集中随机选择向量x并将其输入到网格。\n",
    "\n",
    "- 3. 检查每个输出层节点以计算哪一个的权重最像输入向量。获胜节点通常被称为最佳匹配单元（BMU）或激活单元。\n",
    "\n",
    "- 4. 现在计算BMU邻域节点, 以BMU为圆心, 处于半径R内的节点都被称为邻域。R是一个开始较大的值，通常设置为输出层的“半径”，但会随着训练逐步减小。在该半径内发现的任何节点都被视为在BMU的邻域内。\n",
    "\n",
    "- 5. 调整每个邻域节点（步骤4中找到的节点）权重以使它们更像输入向量。节点越靠近BMU，其权重调整的就越大。\n",
    "\n",
    "- 6. N次迭代重复步骤2。\n",
    "\n",
    "### 代码实现\n",
    "\n",
    "下面我们用tensorflow逐步实现这些过程.\n",
    "\n",
    "#### 初始化权重"
   ]
  },
  {
   "cell_type": "code",
   "execution_count": null,
   "metadata": {},
   "outputs": [],
   "source": [
    "import tensorflow as tf\n",
    "import numpy as np\n",
    "sess = tf.InteractiveSession()\n"
   ]
  },
  {
   "cell_type": "code",
   "execution_count": null,
   "metadata": {},
   "outputs": [],
   "source": [
    "def _locations(shape):\n",
    "    for r in range(shape[0]):\n",
    "        for c in range(shape[1]):\n",
    "            yield [r*1.0, c*1.0]\n",
    "\n",
    "def init(shape = (13,13), dim=3, num_iters=200, learning_rate=0.5):\n",
    "    '''shape: 输出层节点数\n",
    "    dim: 权重向量的维数\n",
    "    '''\n",
    "    weights = tf.Variable(tf.random_normal([shape[0]*shape[1], dim],mean=0.5, stddev=0.1, dtype=\"float64\"), name=\"weights\", dtype=tf.float64)\n",
    "    x = tf.placeholder(\"float64\", [1,dim], name='X')\n",
    "    locations = np.array(list(_locations(shape)))\n",
    "    locations = tf.constant(locations)\n",
    "    num_iters = tf.constant([num_iters], dtype=tf.float64)\n",
    "    learning_rate = tf.constant([learning_rate], dtype=tf.float64)\n",
    "    radius = tf.constant([shape[0]/2], dtype=tf.float64)\n",
    "    return {\n",
    "        'weights':weights,\n",
    "        'x':x,\n",
    "        'locations':locations,\n",
    "        'learning_rate':learning_rate,\n",
    "        'num_iters':num_iters,\n",
    "        'radius': radius\n",
    "    }\n",
    "    "
   ]
  },
  {
   "cell_type": "code",
   "execution_count": null,
   "metadata": {
    "scrolled": true
   },
   "outputs": [],
   "source": [
    "vs = init()\n",
    "w, x = vs['weights'], vs['x']\n",
    "sess.run(tf.global_variables_initializer())\n",
    "# sess.run(w)\n",
    "print(w.eval()[:5])\n",
    "print(vs['locations'].eval())"
   ]
  },
  {
   "cell_type": "markdown",
   "metadata": {},
   "source": [
    "### 寻找最佳匹配单元BMU\n",
    "\n",
    "用欧几里得距离来衡量两个向量之间的相似性. 公式是:\n",
    "\n",
    "<img src=\"images/som-dist.png\" />\n"
   ]
  },
  {
   "cell_type": "code",
   "execution_count": null,
   "metadata": {},
   "outputs": [],
   "source": [
    "def calculate_bmu(weights, x):\n",
    "    '''找到最佳匹配单元'''\n",
    "    sub = tf.subtract(weights, x)\n",
    "    sq = tf.square(sub)\n",
    "    rs = tf.reduce_sum(sq, -1)\n",
    "    index = tf.argmin(rs, axis=0)\n",
    "    return index\n"
   ]
  },
  {
   "cell_type": "markdown",
   "metadata": {},
   "source": [
    "通过下面代码大概测试一下程序是否能跑通"
   ]
  },
  {
   "cell_type": "code",
   "execution_count": null,
   "metadata": {
    "scrolled": false
   },
   "outputs": [],
   "source": [
    "vs = init()\n",
    "w, x = vs['weights'], vs['x']\n",
    "index = calculate_bmu(w, x)\n",
    "sess.run(tf.global_variables_initializer())\n",
    "x0 = np.zeros([1,3], dtype=np.float64)\n",
    "print(x0)\n",
    "# sess.run(index, feed_dict={x: x0})\n",
    "i= index.eval(feed_dict={x: x0})\n",
    "W = w.eval()\n",
    "print(i)\n",
    "print(W[i])\n",
    "print(W[:5])"
   ]
  },
  {
   "cell_type": "markdown",
   "metadata": {},
   "source": [
    "### 计算邻域节点\n",
    "\n",
    "首先我们要确定邻域的半径, 然后才能找到半径以内的节点.\n",
    "\n",
    "计算邻域半径的公式是:\n",
    "\n",
    "<img src=\"images/som-radius.png\" />\n",
    "\n",
    "其中, t表示时间步骤, 可以把它当作训练的迭代次数, $\\sigma$ 表示半径, $\\sigma_0$表示输出层矩阵的宽度, $\\lambda$表示最大迭代次数.  这个函数反映了, 随着训练的迭代增多, 半径会逐渐缩小.\n",
    "\n",
    "得到半径后, 我们可以计算邻域内的点了:\n",
    "\n",
    "\n",
    "<img src=\"images/som-neighbor.png\" />"
   ]
  },
  {
   "cell_type": "code",
   "execution_count": null,
   "metadata": {},
   "outputs": [],
   "source": [
    "def calculate_radius_lrate(iter_step, num_iters, radius0, learning_rate0):\n",
    "    '''计算半径和学习率\n",
    "    iter_step: 迭代次数\n",
    "        num_iters: 总迭代次数\n",
    "        segma: 初始的'''\n",
    "    div = tf.negative(tf.divide(iter_step, num_iters))\n",
    "    radius =  tf.multiply(radius0, tf.exp(div))\n",
    "    learning_rate = tf.multiply(learning_rate0, tf.exp(div))\n",
    "    return radius, learning_rate\n",
    "\n",
    "def neighbors(radius, bmu_index, locations):\n",
    "    '''radius: 半径\n",
    "    bmu_index: 激活神经元的索引\n",
    "    locdations: 表示神经元在输出层的位置的向量\n",
    "    return: 表示邻域的蒙版向量'''\n",
    "    slice_input = tf.pad(tf.reshape(bmu_index, [1]),\n",
    "                                 np.array([[0, 1]]))\n",
    "#     print('slice:', slice_input.eval())\n",
    "    slice_input = tf.cast(slice_input, tf.int64)\n",
    "    bmu = tf.slice(locations, slice_input, [1, 2])\n",
    "#     print('bmu:', bmu.eval())\n",
    "\n",
    "    sub = tf.subtract(locations, bmu)\n",
    "    # 向量距离的平方和\n",
    "    dist_square = tf.reduce_sum(tf.pow(sub, 2),1)\n",
    "    # 用一个蒙板表示被选邻域内的节点\n",
    "    mask = tf.pow(radius, 2) >= dist_square\n",
    "    return {\n",
    "        'mask':mask,\n",
    "        'dist_square':dist_square\n",
    "    }"
   ]
  },
  {
   "cell_type": "markdown",
   "metadata": {},
   "source": [
    "简单测试上面的函数, 确保能正常运行:"
   ]
  },
  {
   "cell_type": "code",
   "execution_count": null,
   "metadata": {},
   "outputs": [],
   "source": [
    "vs = init()\n",
    "iter_step = tf.constant([100], dtype=tf.float64)\n",
    "radius, learning_rate = calculate_radius_lrate(iter_step, vs['num_iters'], vs['radius'], vs['learning_rate'])\n",
    "# sess.run(tf.global_variables_initializer())\n",
    "# sess.run([radius, learning_rate])\n",
    "print(radius.eval())\n",
    "print(learning_rate.eval())"
   ]
  },
  {
   "cell_type": "code",
   "execution_count": null,
   "metadata": {
    "scrolled": false
   },
   "outputs": [],
   "source": [
    "bmu_index = tf.constant([85], dtype=tf.float64)\n",
    "mask = neighbors(radius, bmu_index, vs['locations'])['mask']\n",
    "l = int(int(mask.shape[0])**0.5)\n",
    "rmask = tf.reshape(mask, (l, l))\n",
    "# sess.run(rmask)\n",
    "# print(vs['locations'].eval())\n",
    "# print(mask.eval())\n",
    "print('从下面的矩阵种可以大概看出激活的神经元(True)')\n",
    "print(rmask.eval())"
   ]
  },
  {
   "cell_type": "markdown",
   "metadata": {},
   "source": [
    "### 更新权重\n",
    "\n",
    "我们先来看一下, 权重的更新公式:\n",
    "\n",
    "$$\n",
    "W(t+1) = W(t) + Θ(t)L(t)(X(t) - W(t))\n",
    "$$\n",
    "\n",
    "公式中符号的意义:\n",
    "\n",
    "- $X(t)$t时刻的输入\n",
    "- $W(t)$t时刻的权重\n",
    "- $W(t+1)$t+1时刻的权重\n",
    "- $L(t)$t时刻的学习率, 所有邻域内的神经元具有相同的$L(t)$\n",
    "- $Θ(t)$t时刻某个神经元距离bmu的距离的函数, 是学习率的权重, 它使得距离bmu近的神经元更新的权重更大, 受输入的影响更多\n",
    "\n",
    "计算$L(t)$的公式如下:\n",
    "\n",
    "$$\n",
    "L(t) = L_0 \\exp(- {t \\over \\lambda}) ; t = 1, 2, 3 ...\n",
    "$$\n",
    "\n",
    "其中: \n",
    "\n",
    "- t代表时间步, 也叫当前迭代次数\n",
    "- $\\lambda$代表总迭代次数\n",
    "- $L_0$代表初始的学习率, 通常是输出层矩阵的长度或宽度\n",
    "\n",
    "\n",
    "计算$Θ(t)$的公式如下:\n",
    "\n",
    "$$\n",
    "\\Theta(t) = \\exp ( -{dist^2 \\over {2\\sigma^2(t)}} )\n",
    "$$\n",
    "\n",
    "符号的意义如下:\n",
    "\n",
    "- $\\sigma$ 表示t时刻的邻域半径\n",
    "- $dist$ 表示神经元到bmu的距离\n",
    "\n",
    "#### 先来计算$\\Theta(t)$"
   ]
  },
  {
   "cell_type": "code",
   "execution_count": null,
   "metadata": {},
   "outputs": [],
   "source": [
    "def theta(radius, dist_square):\n",
    "    '''\n",
    "    radius: 半径\n",
    "    dist_square: 神经元到BMU的欧几里得距离的平方\n",
    "    '''\n",
    "    c = tf.constant(2, dtype=tf.float64)\n",
    "    div = tf.divide(dist_square, tf.multiply(c, tf.pow(radius, 2)))\n",
    "    minus = tf.constant(-1, dtype=tf.float64)\n",
    "    return tf.exp(tf.multiply(minus, div))"
   ]
  },
  {
   "cell_type": "markdown",
   "metadata": {},
   "source": [
    "#### 计算$L(t)$\n",
    "\n",
    "$L(t)$的计算图在函数`calculate_radius_lrate`中已经给出."
   ]
  },
  {
   "cell_type": "markdown",
   "metadata": {},
   "source": [
    "#### 更新权重"
   ]
  },
  {
   "cell_type": "code",
   "execution_count": null,
   "metadata": {},
   "outputs": [],
   "source": [
    "def update_weights(weights, mask, xt, lr, theta):\n",
    "    '''\n",
    "    weights: 所有神经元的权重矩阵\n",
    "    mask: 邻域神经元的蒙版\n",
    "    xt: 输入\n",
    "    lr: 学习率\n",
    "    theta: 学习率的权重\n",
    "    '''\n",
    "    theta = tf.expand_dims(theta, 1)\n",
    "    cha = tf.subtract(xt, weights)\n",
    "    cha = tf.multiply(cha, lr)\n",
    "    cha = tf.multiply(cha, theta)\n",
    "    # 把非邻域内的神经元的更新值设置成0 , 这样这些权重就不会更新\n",
    "    mask = tf.cast(mask, tf.float64)\n",
    "    mask = tf.expand_dims(mask, 1)\n",
    "    cha = tf.multiply(cha, mask)\n",
    "    return tf.add(weights, cha)"
   ]
  },
  {
   "cell_type": "markdown",
   "metadata": {},
   "source": [
    "#### 测试以上函数"
   ]
  },
  {
   "cell_type": "code",
   "execution_count": null,
   "metadata": {},
   "outputs": [],
   "source": [
    "radius, learning_rate = calculate_radius_lrate(iter_step, vs['num_iters'], vs['radius'], vs['learning_rate'])\n",
    "bmu_index = tf.constant([35], dtype=tf.float64)\n",
    "nbs = neighbors(radius, bmu_index, vs['locations'])\n",
    "theta_ = theta(radius, nbs['dist_square'])\n",
    "# sess.run(theta_)\n",
    "print(theta_.eval())"
   ]
  },
  {
   "cell_type": "code",
   "execution_count": null,
   "metadata": {
    "scrolled": false
   },
   "outputs": [],
   "source": [
    "x = vs['x']\n",
    "uw = update_weights(vs['weights'], nbs['mask'], x, learning_rate, theta_)\n",
    "# sess.run(uw, feed_dict={x:x0})\n",
    "sess.run(tf.global_variables_initializer())\n",
    "print(vs['weights'].eval()[:5])\n",
    "print(uw.eval(feed_dict={x:x0})[:5])\n"
   ]
  },
  {
   "cell_type": "markdown",
   "metadata": {},
   "source": [
    "### 训练\n",
    "\n",
    "现在即将要大功告成, 我们需要整合上面所有的函数, 然后进行训练.\n",
    "\n",
    "#### 训练数据\n",
    "\n",
    "训练数据就是15种颜色. 将这些数据迭代1000次."
   ]
  },
  {
   "cell_type": "code",
   "execution_count": null,
   "metadata": {},
   "outputs": [],
   "source": [
    "colors = np.array(\n",
    "     [[0., 0., 0.],\n",
    "      [0., 0., 1.],\n",
    "      [0., 0., 0.5],\n",
    "      [0.125, 0.529, 1.0],\n",
    "      [0.33, 0.4, 0.67],\n",
    "      [0.6, 0.5, 1.0],\n",
    "      [0., 1., 0.],\n",
    "      [1., 0., 0.],\n",
    "      [0., 1., 1.],\n",
    "      [1., 0., 1.],\n",
    "      [1., 1., 0.],\n",
    "      [1., 1., 1.],\n",
    "      [.33, .33, .33],\n",
    "      [.5, .5, .5],\n",
    "      [.66, .66, .66]])\n",
    "color_names = ['black', 'blue', 'darkblue', 'skyblue',\n",
    "     'greyblue', 'lilac', 'green', 'red',\n",
    "     'cyan', 'violet', 'yellow', 'white',\n",
    "     'darkgrey', 'mediumgrey', 'lightgrey']"
   ]
  },
  {
   "cell_type": "markdown",
   "metadata": {},
   "source": [
    "#### 输出层可视化函数\n",
    "\n",
    "这个函数用于监控在训练过程种输出层权重的变化."
   ]
  },
  {
   "cell_type": "code",
   "execution_count": null,
   "metadata": {},
   "outputs": [],
   "source": [
    "from matplotlib import pyplot as plt\n",
    "from IPython import display\n",
    "def show_image(data, iter_step, radius, lrate):\n",
    "    l = int(data.shape[0]**0.5)\n",
    "    data = data.reshape([l, l,3])\n",
    "    display.clear_output(wait=True)\n",
    "    plt.clf()\n",
    "    _ = plt.imshow(data, aspect=\"auto\")\n",
    "    plt.figtext(0.5, 0.8, f'radius: {radius}', fontsize=15)\n",
    "    plt.figtext(0.5, 0.7, f'lrate: {lrate}', fontsize=15)\n",
    "    plt.figtext(0.5, 0.6, f'iter_step: {iter_step}', fontsize=15)\n",
    "    display.display(plt.gcf())\n"
   ]
  },
  {
   "cell_type": "markdown",
   "metadata": {},
   "source": [
    "#### 训练函数"
   ]
  },
  {
   "cell_type": "code",
   "execution_count": null,
   "metadata": {},
   "outputs": [],
   "source": [
    "\n",
    "def train(colors, num_iters, shape=(13,13),  dim=3, learning_rate=0.5, print_step=40):\n",
    "    '''训练函数\n",
    "    colors: 颜色向量\n",
    "    num_iters: 总训练次数\n",
    "    shape: 输出层shape\n",
    "    dim: 输出层向量维度\n",
    "    learning_rate: 初始学习率'''\n",
    "    params = init(shape = shape, dim=dim, num_iters=num_iters, learning_rate=learning_rate)\n",
    "    bmu = calculate_bmu(params['weights'], params['x'])\n",
    "    iter_step = tf.placeholder(tf.float64, [1], name=\"iter-step\")\n",
    "    radius, lrate = calculate_radius_lrate(iter_step, params['num_iters'], params['radius'], params['learning_rate'])\n",
    "    nbs = neighbors(radius, bmu, params['locations'])\n",
    "    theta_ = theta(radius, nbs['dist_square'])\n",
    "    new_weights = update_weights(params['weights'], nbs['mask'], params['x'], lrate, theta_)\n",
    "    train_op = tf.assign(params['weights'], new_weights)\n",
    "    # 初始化所有变量\n",
    "    sess.run(tf.global_variables_initializer())\n",
    "    for i in range(num_iters):\n",
    "        \n",
    "            \n",
    "        if i == (num_iters-1):\n",
    "            positions = []\n",
    "        for j in range(colors.shape[0]):\n",
    "            x = colors[j].reshape([1,3])\n",
    "            x.astype('float64')\n",
    "            radius_, lrate_,bmu_, new_weights_, _ = sess.run([ radius, lrate,bmu,new_weights,train_op], feed_dict={\n",
    "                params['x']:x,\n",
    "                iter_step:[i+1]\n",
    "            })\n",
    "            if i == (num_iters-1):\n",
    "                positions.append(bmu_)\n",
    "                \n",
    "        if i % print_step == 0 :\n",
    "            show_image(new_weights_, i, radius_, lrate_)\n",
    "    print('Train Finished')\n",
    "    return {\n",
    "        'weights':  new_weights_,\n",
    "        'positions':positions\n",
    "    }\n",
    "    "
   ]
  },
  {
   "cell_type": "code",
   "execution_count": 82,
   "metadata": {
    "scrolled": true
   },
   "outputs": [
    {
     "data": {
      "image/png": "[encoded data removed]",
      "text/plain": [
       "<Figure size 432x288 with 1 Axes>"
      ]
     },
     "metadata": {},
     "output_type": "display_data"
    },
    {
     "name": "stdout",
     "output_type": "stream",
     "text": [
      "Train Finished\n"
     ]
    },
    {
     "data": {
      "image/png": "[encoded data removed]",
      "text/plain": [
       "<Figure size 432x288 with 1 Axes>"
      ]
     },
     "metadata": {},
     "output_type": "display_data"
    }
   ],
   "source": [
    "%matplotlib inline\n",
    "from matplotlib import pyplot as plt\n",
    "data = train(colors, 200, print_step=1, shape=(150,150))"
   ]
  }
 ],
 "metadata": {
  "kernelspec": {
   "display_name": "Python 3",
   "language": "python",
   "name": "python3"
  },
  "language_info": {
   "codemirror_mode": {
    "name": "ipython",
    "version": 3
   },
   "file_extension": ".py",
   "mimetype": "text/x-python",
   "name": "python",
   "nbconvert_exporter": "python",
   "pygments_lexer": "ipython3",
   "version": "3.6.4"
  }
 },
 "nbformat": 4,
 "nbformat_minor": 2
}
