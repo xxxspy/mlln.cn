{
 "cells": [
  {
   "cell_type": "markdown",
   "metadata": {},
   "source": [
    "---\n",
    "title: p5.js教程05-图片处理\n",
    "date: 2018-06-06 20:17:55\n",
    "tags: [p5.js]\n",
    "toc: true\n",
    "xiongzhang: true\n",
    "\n",
    "\n",
    "---\n",
    "<span></span>\n",
    "<!-- more -->\n",
    "\n",
    "> 声明: 本文由[DataScience](http://mlln.cn)发表,未经允许不得转载。 转载请注明[本文链接](http://mlln.cn)mlln.cn, 并在文后留言`转载`.\n",
    "\n",
    "本文代码运行环境:\n",
    "\n",
    "- windows10\n",
    "- jupyter notebook\n",
    "- p5.js 0.6.1"
   ]
  },
  {
   "cell_type": "markdown",
   "metadata": {},
   "source": [
    "### 概述\n",
    "\n",
    "为了制作更漂亮的p5程序, 我们通常需要加载外部图片, 然后绘制到画布上。这篇文章主要介绍p5js处理图片的一些技术。为了完成这篇文章, 我先下载了一个图片(example-img.png), 下面的代码里会经常用到。\n",
    "\n",
    "<img src=\"p5js-html/example-img.png\" width=\"200px\" />\n",
    "\n",
    "\n",
    "(下面我们注册p5魔法, 以便于在jupyter notebook中使用p5.js, 如果你不用notebook, 请忽略这部分python代码)"
   ]
  },
  {
   "cell_type": "code",
   "execution_count": 26,
   "metadata": {},
   "outputs": [],
   "source": [
    "from IPython.core.magic import register_cell_magic\n",
    "from IPython.display import IFrame\n",
    "\n",
    "TEMPLATE = \"\"\"\n",
    "<html>\n",
    "<head>\n",
    "<meta charset=\"utf-8\" />\n",
    "<script src=\"https://cdnjs.cloudflare.com/ajax/libs/p5.js/0.6.1/p5.min.js\"></script>\n",
    "<script src=\"https://cdnjs.cloudflare.com/ajax/libs/p5.js/0.6.1/addons/p5.dom.min.js\"></script>\n",
    "<script src=\"https://cdnjs.cloudflare.com/ajax/libs/p5.js/0.6.1/addons/p5.sound.min.js\"></script>\n",
    "<title>Notebook中显示P5.js页面</title>\n",
    "</head>\n",
    "<body>\n",
    "<a href=\"http://mlln.cn\"  target=\"_blank\"><h5>p5.js效果展示: %(name)s</h5></a>\n",
    "<script>\n",
    "%(script)s\n",
    "</script>\n",
    "</body>\n",
    "</html>\n",
    "\"\"\"\n",
    "\n",
    "\n",
    "@register_cell_magic\n",
    "def p5(line, cell):\n",
    "    file_id, kws = line.split(' ')[0], line.split(' ')[1:]\n",
    "    kwargs = {}\n",
    "    for kw in kws:\n",
    "        k, v = kw.split('=')\n",
    "        kwargs[k] = v\n",
    "    filename = f\"p5js-html/p5-05-{file_id}.html\"\n",
    "    with open(filename, \"w\", encoding='utf8') as fp:\n",
    "        fp.write(TEMPLATE % {\"script\": cell, \"name\": filename})\n",
    "    if 'height' not in kwargs:\n",
    "        kwargs['height'] = '200px'\n",
    "    return IFrame(filename, width=\"100%\", **kwargs)\n",
    "\n",
    "del p5"
   ]
  },
  {
   "cell_type": "markdown",
   "metadata": {},
   "source": [
    "为了能在notebook中使用p5加载图片, 我们需要在启动notebook的时候, 设置密码为空, 否则在加载图片(loadImage)的时候, 会返回一个登陆页。\n",
    "\n",
    "```python\n",
    "jupyter notebook --ip='*' --NotebookApp.token='' --NotebookApp.password=''\n",
    "```\n",
    "\n",
    "另外你需要设置允许跨域访问资源(在notebook的配置文件中设置):\n",
    "\n",
    "```python\n",
    "c.NotebookApp.tornado_settings = {\n",
    "    'headers': {\n",
    "        'Content-Security-Policy': \"frame-ancestors 'self' http://localhost:8888 \",\n",
    "        'Access-Control-Allow-Origin': '*',\n",
    "    }\n",
    "}\n",
    "```\n"
   ]
  },
  {
   "cell_type": "markdown",
   "metadata": {},
   "source": [
    "### 加载图片\n",
    "\n",
    "我们通常在`preload`方法中加载耗时资源, 这样可以在程序运行时, 保证所需资源已经加载完毕。"
   ]
  },
  {
   "cell_type": "code",
   "execution_count": 23,
   "metadata": {},
   "outputs": [
    {
     "data": {
      "text/html": [
       "\n",
       "        <iframe\n",
       "            width=\"100%\"\n",
       "            height=\"380px\"\n",
       "            src=\"p5js-html/p5-05-load-image.html\"\n",
       "            frameborder=\"0\"\n",
       "            allowfullscreen\n",
       "        ></iframe>\n",
       "        "
      ],
      "text/plain": [
       "<IPython.lib.display.IFrame at 0x2b0ea219b70>"
      ]
     },
     "execution_count": 23,
     "metadata": {},
     "output_type": "execute_result"
    }
   ],
   "source": [
    "%%p5 load-image height=380px\n",
    "\n",
    "let img;\n",
    "function preload() {  \n",
    "    img = loadImage(\"example-img.png\");\n",
    "    \n",
    "}\n",
    "function setup() {  \n",
    "    createCanvas(480, 300); \n",
    "    background(200)\n",
    "}\n",
    "function draw(){\n",
    "     image(img, 0, 0); \n",
    "}"
   ]
  },
  {
   "cell_type": "markdown",
   "metadata": {},
   "source": [
    "我们可以传入位置参数来控制图片的位置, 同样的方法, 图片的尺寸也是可以控制的。"
   ]
  },
  {
   "cell_type": "code",
   "execution_count": 24,
   "metadata": {},
   "outputs": [
    {
     "data": {
      "text/html": [
       "\n",
       "        <iframe\n",
       "            width=\"100%\"\n",
       "            height=\"380px\"\n",
       "            src=\"p5js-html/p5-05-load-image-position-size.html\"\n",
       "            frameborder=\"0\"\n",
       "            allowfullscreen\n",
       "        ></iframe>\n",
       "        "
      ],
      "text/plain": [
       "<IPython.lib.display.IFrame at 0x2b0ea219eb8>"
      ]
     },
     "execution_count": 24,
     "metadata": {},
     "output_type": "execute_result"
    }
   ],
   "source": [
    "%%p5 load-image-position-size height=380px\n",
    "\n",
    "let img;\n",
    "function preload() {  \n",
    "    img = loadImage(\"example-img.png\");\n",
    "}\n",
    "function setup() {  \n",
    "    createCanvas(580, 300); \n",
    "    background(200)\n",
    "}\n",
    "function draw(){\n",
    "     image(img, mouseX, mouseY, 50, 50); \n",
    "}"
   ]
  },
  {
   "cell_type": "markdown",
   "metadata": {},
   "source": [
    "如果你不想在preload中加载图片, 你可以使用异步的方式在`setup`函数中加载。"
   ]
  },
  {
   "cell_type": "code",
   "execution_count": 25,
   "metadata": {},
   "outputs": [
    {
     "data": {
      "text/html": [
       "\n",
       "        <iframe\n",
       "            width=\"100%\"\n",
       "            height=\"140px\"\n",
       "            src=\"p5js-html/p5-05-load-image-setup.html\"\n",
       "            frameborder=\"0\"\n",
       "            allowfullscreen\n",
       "        ></iframe>\n",
       "        "
      ],
      "text/plain": [
       "<IPython.lib.display.IFrame at 0x2b0ea219f60>"
      ]
     },
     "execution_count": 25,
     "metadata": {},
     "output_type": "execute_result"
    }
   ],
   "source": [
    "%%p5 load-image-setup height=140px\n",
    "\n",
    "\n",
    "function setup() {  \n",
    "    createCanvas(200, 100); \n",
    "    background(200)\n",
    "    loadImage(\"example-img.png\", function(img){\n",
    "        image(img, 10, 20, 50, 50); \n",
    "    })\n",
    "}\n"
   ]
  }
 ],
 "metadata": {
  "kernelspec": {
   "display_name": "Python 3",
   "language": "python",
   "name": "python3"
  },
  "language_info": {
   "codemirror_mode": {
    "name": "ipython",
    "version": 3
   },
   "file_extension": ".py",
   "mimetype": "text/x-python",
   "name": "python",
   "nbconvert_exporter": "python",
   "pygments_lexer": "ipython3",
   "version": "3.6.4"
  }
 },
 "nbformat": 4,
 "nbformat_minor": 2
}
