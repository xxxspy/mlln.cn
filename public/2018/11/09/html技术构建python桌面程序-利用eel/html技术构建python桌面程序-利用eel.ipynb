{
 "cells": [
  {
   "cell_type": "markdown",
   "metadata": {},
   "source": [
    "---\n",
    "title: html技术构建python桌面程序-利用eel\n",
    "date: 2018-11-09 18:17:55\n",
    "tags: [python, gui]\n",
    "toc: true\n",
    "\n",
    "---\n",
    "<span></span>\n",
    "<!-- more -->\n"
   ]
  },
  {
   "cell_type": "markdown",
   "metadata": {},
   "source": [
    "### Eel简介\n",
    "\n",
    "Eel是一个轻量的python桌面GUI开发第三方库, 它使用HTML/JS作为界面开发语言, 但是能够访问所有的python功能, 类似于electron, 但是比它轻量。\n",
    "\n",
    "Eel实际上是启动了一个本地的web服务器, 它允许你将python的函数暴露给javascript, 所以网页端也能调用python函数。\n",
    "\n",
    "有很多类似于electron的python实现, 比如cefpython, 但是Eel是轻量级的, 它只是启动了一个chrome app, 所以需要你提前安装好chrome浏览器才可以, 而electron和cefpython都是封装了网页渲染引擎的。"
   ]
  },
  {
   "cell_type": "markdown",
   "metadata": {},
   "source": [
    "### 安装很简单:\n",
    "\n",
    "使用pip就行:"
   ]
  },
  {
   "cell_type": "code",
   "execution_count": 1,
   "metadata": {
    "scrolled": false
   },
   "outputs": [
    {
     "name": "stdout",
     "output_type": "stream",
     "text": [
      "Looking in indexes: https://mirrors.ustc.edu.cn/pypi/web/simple\n",
      "Collecting eel\n",
      "  Downloading https://mirrors.ustc.edu.cn/pypi/web/packages/68/32/4349918ac947d6b3042525df852f529f7ea92a053e1a1ec5dcd55aefbaf8/Eel-0.9.10.tar.gz\n",
      "Collecting bottle (from eel)\n",
      "  Downloading https://mirrors.ustc.edu.cn/pypi/web/packages/bd/99/04dc59ced52a8261ee0f965a8968717a255ea84a36013e527944dbf3468c/bottle-0.12.13.tar.gz (70kB)\n",
      "Collecting bottle-websocket (from eel)\n",
      "  Downloading https://mirrors.ustc.edu.cn/pypi/web/packages/17/8e/a22666b4bb0a6e31de579504077df2b1c2f1438136777c728e6cfabef295/bottle-websocket-0.2.9.tar.gz\n",
      "Requirement already satisfied: future in d:\\mysites\\deeplearning.ai-master\\.env\\lib\\site-packages (from eel) (0.16.0)\n",
      "Collecting whichcraft (from eel)\n",
      "  Downloading https://mirrors.ustc.edu.cn/pypi/web/packages/ab/c6/eb4d1dfbb68168bb01c4394420e5e71d5851e64b910838aa0f14ebd5c7a0/whichcraft-0.5.2-py2.py3-none-any.whl\n",
      "Collecting gevent-websocket (from bottle-websocket->eel)\n",
      "  Downloading https://mirrors.ustc.edu.cn/pypi/web/packages/7b/84/2dc373eb6493e00c884cc11e6c059ec97abae2678d42f06bf780570b0193/gevent_websocket-0.10.1-py3-none-any.whl\n",
      "Collecting gevent (from gevent-websocket->bottle-websocket->eel)\n",
      "  Downloading https://mirrors.ustc.edu.cn/pypi/web/packages/96/07/7175f1c519c92ea58d15c36f52421ba5456bf46a28b1c2080dfdd72a93e2/gevent-1.3.7-cp36-cp36m-win_amd64.whl (2.1MB)\n",
      "Requirement already satisfied: cffi>=1.11.5; sys_platform == \"win32\" and platform_python_implementation == \"CPython\" in d:\\mysites\\deeplearning.ai-master\\.env\\lib\\site-packages (from gevent->gevent-websocket->bottle-websocket->eel) (1.11.5)\n",
      "Collecting greenlet>=0.4.14; platform_python_implementation == \"CPython\" (from gevent->gevent-websocket->bottle-websocket->eel)\n",
      "  Downloading https://mirrors.ustc.edu.cn/pypi/web/packages/a9/a3/2a7a15c2dc23f764eaed46d41e081659aadf45570b4170156dde1c76d4f7/greenlet-0.4.15-cp36-cp36m-win_amd64.whl\n",
      "Requirement already satisfied: pycparser in d:\\mysites\\deeplearning.ai-master\\.env\\lib\\site-packages (from cffi>=1.11.5; sys_platform == \"win32\" and platform_python_implementation == \"CPython\"->gevent->gevent-websocket->bottle-websocket->eel) (2.19)\n",
      "Building wheels for collected packages: eel, bottle, bottle-websocket\n",
      "  Running setup.py bdist_wheel for eel: started\n",
      "  Running setup.py bdist_wheel for eel: finished with status 'done'\n",
      "  Stored in directory: C:\\Users\\syd\\AppData\\Local\\pip\\Cache\\wheels\\c6\\f2\\40\\c6694f11d9a710776eef88ccf71ee0a31a98f153980ac796cf\n",
      "  Running setup.py bdist_wheel for bottle: started\n",
      "  Running setup.py bdist_wheel for bottle: finished with status 'done'\n",
      "  Stored in directory: C:\\Users\\syd\\AppData\\Local\\pip\\Cache\\wheels\\83\\83\\b1\\ca2cc2879a08fbc994b9e77788620b4ec0321be4a3c4ef4585\n",
      "  Running setup.py bdist_wheel for bottle-websocket: started\n",
      "  Running setup.py bdist_wheel for bottle-websocket: finished with status 'done'\n",
      "  Stored in directory: C:\\Users\\syd\\AppData\\Local\\pip\\Cache\\wheels\\48\\36\\51\\3be1cc3daf74671c54fef48d24c88943cb6b24894a4334fc2c\n",
      "Successfully built eel bottle bottle-websocket\n",
      "Installing collected packages: bottle, greenlet, gevent, gevent-websocket, bottle-websocket, whichcraft, eel\n",
      "Successfully installed bottle-0.12.13 bottle-websocket-0.2.9 eel-0.9.10 gevent-1.3.7 gevent-websocket-0.10.1 greenlet-0.4.15 whichcraft-0.5.2\n"
     ]
    },
    {
     "name": "stderr",
     "output_type": "stream",
     "text": [
      "You are using pip version 18.0, however version 18.1 is available.\n",
      "You should consider upgrading via the 'python -m pip install --upgrade pip' command.\n"
     ]
    }
   ],
   "source": [
    "pip install eel"
   ]
  },
  {
   "cell_type": "markdown",
   "metadata": {},
   "source": [
    "### 用法\n",
    "\n",
    "#### 目录结构\n",
    "\n",
    "Ele工程需要将前端页面和js代码都放在一个特定的文件夹, 其他python模块可以放到任意可以使用的地方。类似这样的目录结构:\n",
    "\n",
    "```\n",
    "my_python_script.py     <-- Python scripts\n",
    "other_python_module.py\n",
    "static_web_folder/      <-- Web folder\n",
    "  main_page.html\n",
    "  css/\n",
    "    style.css\n",
    "  img/\n",
    "    logo.png\n",
    "```"
   ]
  },
  {
   "cell_type": "markdown",
   "metadata": {},
   "source": [
    "#### HelloWrold\n",
    "\n",
    "你需要写一个简单的`main.html`页面, 然后放到存放网页的文件夹`web`, 这个文件夹内的文件都被前端访访问。然后写一个简单的`app.py`文件, 代码如下:\n",
    "\n",
    "```\n",
    "import eel\n",
    "eel.init('web')\n",
    "eel.start('main.html')\n",
    "```\n",
    "\n",
    "最后只要在命令行运行:`python app.py`即可看到你的页面。"
   ]
  },
  {
   "cell_type": "markdown",
   "metadata": {},
   "source": [
    "#### 可选参数\n",
    "\n",
    "在调用`eel.start`的时候, 可以传入一些参数, 比如设置窗口尺寸的size参数:`eel.start('main.html', size=(50, 50))`, 还可以使用options参数, 主要可以设置mode/port和启动chrome的时候一些命令行参数, 这些命令行参数可以从这里查看 :\n",
    "\n",
    "```\n",
    "web_app_options = {\n",
    "\t'mode': \"chrome-app\", #or \"chrome\"\n",
    "\t'port': 8080,\n",
    "\t'chromeFlags': [\"--start-fullscreen\", \"--browser-startup-dialog\"]\n",
    "}\n",
    "\n",
    "eel.start('main.html', options=web_app_options)\n",
    "```"
   ]
  },
  {
   "cell_type": "markdown",
   "metadata": {},
   "source": [
    "#### 暴露函数\n",
    "\n",
    "为了实现高级的功能, 你必须要在前端页面中引入下面的js模块:\n",
    "\n",
    "```html\n",
    "<script type=\"text/javascript\" src=\"/eel.js\"></script>\n",
    "```\n",
    "\n",
    "然后你可以在写python模块的时候, 使用装饰器`eel.expose`来暴露你的python函数给JavaScript:\n",
    "\n",
    "```python\n",
    "@eel.expose\n",
    "def my_python_function(a, b):\n",
    "    print(a, b, a + b)\n",
    "```\n",
    "\n",
    "然后你在前端, 可以使用下面的js代码来调用你的python函数:\n",
    "\n",
    "```js\n",
    "console.log('Calling Python...');\n",
    "eel.my_python_function(1, 2);   // This calls the Python function that was decorated\n",
    "```\n",
    "\n",
    "\n",
    "当然你也可可以将JavaScript代码暴露给python用:\n",
    "\n",
    "```js\n",
    "eel.expose(my_javascript_function);\n",
    "function my_javascript_function(a, b, c, d) {\n",
    "  if(a < b){\n",
    "    console.log(c * d);\n",
    "  }\n",
    "}\n",
    "```\n",
    "\n",
    "然后你就可以在python中掉用JavaScript:\n",
    "\n",
    "```python\n",
    "print('Calling Javascript...')\n",
    "eel.my_javascript_function(1, 2, 3, 4)  # This calls the Javascript function\n",
    "```"
   ]
  },
  {
   "cell_type": "markdown",
   "metadata": {},
   "source": [
    "### 完整案例\n",
    "\n",
    "下面是我们的'main.html'文件的主要内容:\n",
    "\n",
    "```html\n",
    "<!DOCTYPE html>\n",
    "<html>\n",
    "    <head>\n",
    "        <title>Hello, World!</title>\n",
    "        \n",
    "        <!-- Include eel.js - note this file doesn't exist in the 'web' directory -->\n",
    "        <script type=\"text/javascript\" src=\"/eel.js\"></script>\n",
    "        <script type=\"text/javascript\">\n",
    "        \n",
    "        eel.expose(say_hello_js);               // Expose this function to Python\n",
    "        function say_hello_js(x) {\n",
    "            console.log(\"Hello from \" + x);\n",
    "        }\n",
    "        \n",
    "        say_hello_js(\"Javascript World!\");\n",
    "        eel.say_hello_py(\"Javascript World!\");  // Call a Python function\n",
    "        \n",
    "        </script>\n",
    "    </head>\n",
    "    \n",
    "    <body>\n",
    "        Hello, World!\n",
    "    </body>\n",
    "</html>\n",
    "```\n",
    "\n",
    "然后python模块是:\n",
    "\n",
    "```python\n",
    "import eel\n",
    "\n",
    "eel.init('web')                     # Give folder containing web files\n",
    "\n",
    "@eel.expose                         # Expose this function to Javascript\n",
    "def say_hello_py(x):\n",
    "    print('Hello from %s' % x)\n",
    "\n",
    "say_hello_py('Python World!')\n",
    "eel.say_hello_js('Python World!')   # Call a Javascript function\n",
    "\n",
    "eel.start('hello.html')             # Start (this blocks and enters loop)\n",
    "```"
   ]
  },
  {
   "cell_type": "markdown",
   "metadata": {},
   "source": [
    "#### 回调函数\n",
    "\n",
    "当你调用一个被暴露的函数的时候, 我们可以传入一个函数, 这样就能在函数执行完毕之后立即调用这个函数。例如:\n",
    "\n",
    "在js里定义一个函数:\n",
    "\n",
    "```js\n",
    "eel.expose(js_random);\n",
    "function js_random() {\n",
    "  return Math.random();\n",
    "}\n",
    "```\n",
    "\n",
    "然后, 在python里调用的时候:\n",
    "\n",
    "```py\n",
    "# 这是一个回调函数\n",
    "def print_num(n):\n",
    "    print('Got this from Javascript:', n)\n",
    "\n",
    "# 在python里调用js的函数, 然后, 再传入一个回调函数  \n",
    "# 回调函数将会在js函数执行完毕之后再执行\n",
    "eel.js_random()(print_num)\n",
    "\n",
    "```"
   ]
  },
  {
   "cell_type": "markdown",
   "metadata": {},
   "source": [
    "#### 同步返回\n",
    "\n",
    "在python端, 我们只要不使用回调函数就能同步返回:\n",
    "\n",
    "```py\n",
    "n = eel.js_random()()  # 这里有两个括号\n",
    "print('Got this from Javascript:', n)\n",
    "```\n",
    "\n",
    "假如python里已经暴露了一个函数`py_random`, 在JavaScript端, 程序不允许阻塞, 所以只能使用await来避免使用回调函数:\n",
    "\n",
    "```js\n",
    "async function run() {\n",
    "  // 只要函数前面带有async, 才能在函数内部使用await\n",
    "  \n",
    "  let n = await eel.py_random()();    // Must prefix call with 'await', otherwise it's the same syntax\n",
    "  console.log('Got this from Python: ' + n);\n",
    "}\n",
    "\n",
    "run();\n",
    "```"
   ]
  },
  {
   "cell_type": "markdown",
   "metadata": {},
   "source": [
    "### 打包二进制文件\n",
    "\n",
    "如果你想让用户下载你的软件使用, 而用户没有安装python, 你最好将你的程序打包成二进制可执行文件, 那么最好使用pyinstaller。\n",
    "\n",
    "在你的app根目录下执行下面的命令:\n",
    "\n",
    "```\n",
    "python -m eel [your_main_script] [your_web_folder]\n",
    "```\n",
    "\n",
    "这将创建一文件夹`dist`, 如果你想要创建单文件程序, 你需要使用`--onefile`参数, 如果不想程序运行的时候有一个黑色命令窗口, 你可以使用`--noconsole`参数。"
   ]
  }
 ],
 "metadata": {
  "kernelspec": {
   "display_name": "Python 3",
   "language": "python",
   "name": "python3"
  },
  "language_info": {
   "codemirror_mode": {
    "name": "ipython",
    "version": 3
   },
   "file_extension": ".py",
   "mimetype": "text/x-python",
   "name": "python",
   "nbconvert_exporter": "python",
   "pygments_lexer": "ipython3",
   "version": "3.6.4"
  }
 },
 "nbformat": 4,
 "nbformat_minor": 2
}
