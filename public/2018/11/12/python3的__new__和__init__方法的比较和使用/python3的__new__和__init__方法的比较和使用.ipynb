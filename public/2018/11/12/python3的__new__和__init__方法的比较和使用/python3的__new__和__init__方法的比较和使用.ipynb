{
 "cells": [
  {
   "cell_type": "markdown",
   "metadata": {},
   "source": [
    "---\n",
    "title: python3的__new__和__init__方法的比较和使用\n",
    "date: 2018-11-12 18:17:55\n",
    "tags: [python]\n",
    "toc: true\n",
    "\n",
    "---\n",
    "\n",
    "这篇文章的目的是在python3环境下, 讨论`__new__`和`__init__`方法的用法。\n",
    "<span></span>\n",
    "<!-- more -->"
   ]
  },
  {
   "cell_type": "markdown",
   "metadata": {},
   "source": []
  },
  {
   "cell_type": "markdown",
   "metadata": {},
   "source": [
    "### new和init的差异\n",
    "\n",
    "`__new__`和`__init__`方法都是类的内置方法, 他们的主要区别是: `__new__`用于对象的创建, 而`__init__`用于对象的实例化, 所以你可以猜到, `__new__`在`__init__`之前被调用。 所以我们如果想要改变类的创建过程, 可以自定义`__new__`方法, 比如动态创建对象(对象的类型是可变的)。\n",
    "\n"
   ]
  },
  {
   "cell_type": "code",
   "execution_count": 33,
   "metadata": {
    "scrolled": true
   },
   "outputs": [
    {
     "data": {
      "text/plain": [
       "<__main__.A at 0x22fb59938d0>"
      ]
     },
     "execution_count": 33,
     "metadata": {},
     "output_type": "execute_result"
    }
   ],
   "source": [
    "class A:\n",
    "    def __init__(self, name):\n",
    "        self.name = name\n",
    "\n",
    "class B:\n",
    "    def __init__(self, name):\n",
    "        self.name = name\n",
    "\n",
    "class C:\n",
    "    def __init__(self, name):\n",
    "        self.name = name\n",
    "\n",
    "class ABC:\n",
    "    def __new__(klass, *args, **kwargs):\n",
    "        if args[0] == 'A':\n",
    "            return A.__new__(A, *args, **kwargs)\n",
    "        elif args[0] == 'B':\n",
    "            return B.__new__(B, *args, **kwargs)\n",
    "        elif args[0] == 'C':\n",
    "            return C.__new__(C, *args, **kwargs)\n",
    "        else:\n",
    "            print('Befor new')\n",
    "            ins =  super(ABC, klass).__new__(klass, **kwargs)\n",
    "            print('After new')\n",
    "            return ins\n",
    "        \n",
    "    def __init__(self, name):\n",
    "        print('Hi', name)\n",
    "        self.name = name\n",
    "        \n",
    "\n",
    "ABC('A')"
   ]
  },
  {
   "cell_type": "code",
   "execution_count": 30,
   "metadata": {
    "scrolled": true
   },
   "outputs": [
    {
     "data": {
      "text/plain": [
       "<__main__.B at 0x22fb59671d0>"
      ]
     },
     "execution_count": 30,
     "metadata": {},
     "output_type": "execute_result"
    }
   ],
   "source": [
    "ABC('B')"
   ]
  },
  {
   "cell_type": "code",
   "execution_count": 31,
   "metadata": {},
   "outputs": [
    {
     "data": {
      "text/plain": [
       "<__main__.C at 0x22fb5bfcbe0>"
      ]
     },
     "execution_count": 31,
     "metadata": {},
     "output_type": "execute_result"
    }
   ],
   "source": [
    "ABC('C')"
   ]
  },
  {
   "cell_type": "markdown",
   "metadata": {},
   "source": [
    "通过上面的例子, 你可能已经发现,  `__new__`的第一个参数是类本身, 而`__init__`是实例本身。 你需要注意的是, `__new__`返回的实例不是自己的实例时, `__init__`方法不会被调用, 而如果返回的是自己的实例时, 就可以被隐性调用:"
   ]
  },
  {
   "cell_type": "code",
   "execution_count": 34,
   "metadata": {},
   "outputs": [
    {
     "name": "stdout",
     "output_type": "stream",
     "text": [
      "Befor new\n",
      "After new\n",
      "Hi ABC\n"
     ]
    },
    {
     "data": {
      "text/plain": [
       "<__main__.ABC at 0x22fb5bfd780>"
      ]
     },
     "execution_count": 34,
     "metadata": {},
     "output_type": "execute_result"
    }
   ],
   "source": [
    "ABC('ABC')"
   ]
  },
  {
   "cell_type": "markdown",
   "metadata": {},
   "source": [
    "所以, 当返回其他类的实例时, 你需要自己调用`__init__`方法:"
   ]
  },
  {
   "cell_type": "code",
   "execution_count": 36,
   "metadata": {},
   "outputs": [
    {
     "name": "stdout",
     "output_type": "stream",
     "text": [
      "I am in A\n"
     ]
    },
    {
     "data": {
      "text/plain": [
       "<__main__.A at 0x22fb59677b8>"
      ]
     },
     "execution_count": 36,
     "metadata": {},
     "output_type": "execute_result"
    }
   ],
   "source": [
    "class A:\n",
    "    def __init__(self, name):\n",
    "        print('I am in A')\n",
    "\n",
    "class ABC:\n",
    "    def __new__(klass, *args, **kwargs):\n",
    "        if args[0] == 'A':\n",
    "            ins =  A.__new__(A, *args, **kwargs)\n",
    "            ins.__init__(*args, **kwargs)\n",
    "            return ins\n",
    "        elif args[0] == 'B':\n",
    "            return B.__new__(B, *args, **kwargs)\n",
    "        else:\n",
    "            return C.__new__(C, *args, **kwargs)\n",
    "        \n",
    "    def __init__(self, *args, **kwargs):\n",
    "        print('I am in ABC')\n",
    "        \n",
    "\n",
    "        \n",
    "ABC('A')"
   ]
  },
  {
   "cell_type": "markdown",
   "metadata": {},
   "source": [
    "### 应用\n",
    "\n",
    "我常常在使用单例模式的时候自定义`__new__`方法, 单例模式的意思就是类只能实例化得到一个实例, 多次实例化返回的还是同一个实例:"
   ]
  },
  {
   "cell_type": "code",
   "execution_count": 37,
   "metadata": {},
   "outputs": [],
   "source": [
    "class Singleton(object):\n",
    "    _instance = None  # Keep instance reference \n",
    "    \n",
    "    def __new__(cls, *args, **kwargs):\n",
    "        if not cls._instance:\n",
    "            cls._instance = object.__new__(cls, *args, **kwargs)\n",
    "        return cls._instance"
   ]
  },
  {
   "cell_type": "code",
   "execution_count": 44,
   "metadata": {},
   "outputs": [
    {
     "name": "stdout",
     "output_type": "stream",
     "text": [
      "I am in A\n",
      "I am in A\n",
      "a1 == a2: False\n",
      "s1 == s2: True\n"
     ]
    }
   ],
   "source": [
    "s1 = Singleton()\n",
    "s2 = Singleton()\n",
    "a1 = ABC('A')\n",
    "a2 = ABC('A')\n",
    "print('a1 == a2:', a1 == a2)\n",
    "print('s1 == s2:', s1 == s2)"
   ]
  },
  {
   "cell_type": "markdown",
   "metadata": {},
   "source": [
    "### 参考文献\n",
    "\n",
    "- https://howto.lintel.in/python-__new__-magic-method-explained/\n",
    "- https://spyhce.com/blog/understanding-new-and-init"
   ]
  }
 ],
 "metadata": {
  "kernelspec": {
   "display_name": "Python 3",
   "language": "python",
   "name": "python3"
  },
  "language_info": {
   "codemirror_mode": {
    "name": "ipython",
    "version": 3
   },
   "file_extension": ".py",
   "mimetype": "text/x-python",
   "name": "python",
   "nbconvert_exporter": "python",
   "pygments_lexer": "ipython3",
   "version": "3.6.4"
  }
 },
 "nbformat": 4,
 "nbformat_minor": 2
}
