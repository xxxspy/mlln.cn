{
 "cells": [
  {
   "cell_type": "markdown",
   "metadata": {},
   "source": [
    "---\n",
    "title: python使用pywinauto实现lisrel自动化\n",
    "date: 2018-11-07 20:17:55\n",
    "tags: [pywinauto, lisrel]\n",
    "toc: true\n",
    "xiongzhang: true\n",
    "\n",
    "---\n",
    "<span></span>\n",
    "<!-- more -->\n",
    "\n",
    "\n",
    "本文代码运行环境:\n",
    "\n",
    "- windows10\n",
    "- python3.6\n",
    "- jupyter notebook"
   ]
  },
  {
   "cell_type": "markdown",
   "metadata": {},
   "source": [
    "### 简介\n",
    "\n",
    "这篇教程旨在分享一种桌面软件自动化的方法, 使用的工具就是python第三方库pywinauto。我们今天主要就是使用这个工具, 然后理解这个工具的工作流, 最后实现一个小应用:自动化spss数据转lisrel数据。\n",
    "\n",
    "我做这篇教程的初衷是我本身经常替人做数据分析, 比如SPSS/AMOS/LISREL/MPLUS/EViews/Stata都是我的常用工具, 而Lisrel是我用过的最难用的工具, 如果不是必要, 我一定不会选择Lisrel做结构方程的! 但是, 实际又有很多现实要求, 所以我下决心做一个Lisrel自动化工具, 使用python封装Lisrel的所有功能。不过本教程不是实现所有的功能, 而仅仅是一个将spss数据转换为lisrel数据的功能。\n",
    "\n",
    "但是, Lisrel并没有提供自动化的接口, 它只是提供了一个运行syntax的命令, 其他工作仍然无法实现。我最后决定使用pywinauto, 它是一个跨平台的自动化测试工具, 可以根据窗口和控件的名称来选择窗口和控件, 使用起来简单, 而学习成本不高。\n",
    "\n",
    "#### 教程依赖\n",
    "\n",
    "你需要自己独立安装好pywinauto和lisrel软件。"
   ]
  },
  {
   "cell_type": "markdown",
   "metadata": {},
   "source": [
    "### 代码讲解"
   ]
  },
  {
   "cell_type": "markdown",
   "metadata": {},
   "source": [
    "#### 启动Lisrel\n",
    "\n",
    "你需要使用下面的代码来启动一个lisrel软件:"
   ]
  },
  {
   "cell_type": "code",
   "execution_count": 127,
   "metadata": {},
   "outputs": [],
   "source": [
    "from pywinauto.application import Application\n",
    "# lisrel安装路径\n",
    "app_exe = r'C:\\Program Files\\LISREL880_Trial15\\LisWin32.exe'\n",
    "# 启动lisrel\n",
    "app = Application(backend=\"uia\").start(app_exe)"
   ]
  },
  {
   "cell_type": "markdown",
   "metadata": {},
   "source": [
    "如果你的lisrel已经启动,  你可以使用已经打开的应用, 只需要创建一个连接:"
   ]
  },
  {
   "cell_type": "code",
   "execution_count": 128,
   "metadata": {},
   "outputs": [],
   "source": [
    "app = Application(backend=\"uia\").connect(title='LISREL for Windows')"
   ]
  },
  {
   "cell_type": "markdown",
   "metadata": {},
   "source": [
    "如果你需要关闭这个应用, 可以使用`kill`方法:"
   ]
  },
  {
   "cell_type": "code",
   "execution_count": 7,
   "metadata": {},
   "outputs": [
    {
     "data": {
      "text/plain": [
       "True"
      ]
     },
     "execution_count": 7,
     "metadata": {},
     "output_type": "execute_result"
    }
   ],
   "source": [
    "app.kill()"
   ]
  },
  {
   "cell_type": "markdown",
   "metadata": {},
   "source": [
    "#### 获取主窗口并点击菜单\n",
    "\n",
    "`LISREL for Windows`是窗口的名称。下面的代码运行以后, 你就可以看到打开了一个对话框, 这个对话框就是用于将外部数据引入到lisrel的。"
   ]
  },
  {
   "cell_type": "code",
   "execution_count": 124,
   "metadata": {},
   "outputs": [],
   "source": [
    "win = app['LISREL for Windows']"
   ]
  },
  {
   "cell_type": "code",
   "execution_count": 14,
   "metadata": {},
   "outputs": [],
   "source": [
    "win.menu_select('File->Import Data')"
   ]
  },
  {
   "cell_type": "markdown",
   "metadata": {},
   "source": [
    "#### 设置输入的spss数据\n",
    "\n",
    "我们需要在当前的对话框中设置输入文件的类型为`SPSS Data File(*.sav)`, 输入文件的路径是`D:\\jobs\\data-analysis\\记忆经验问卷修订\\记忆经验MEQ_212_212.sav`。"
   ]
  },
  {
   "cell_type": "code",
   "execution_count": 126,
   "metadata": {
    "scrolled": false
   },
   "outputs": [
    {
     "data": {
      "text/plain": [
       "True"
      ]
     },
     "execution_count": 126,
     "metadata": {},
     "output_type": "execute_result"
    }
   ],
   "source": [
    "from pywinauto.controls.win32_controls import ComboBoxWrapper, ButtonWrapper\n",
    "#  点击菜单\n",
    "win.menu_select('File->Import Data')\n",
    "# 设置文件类型\n",
    "ComboBoxWrapper(win.Dialog.ComboBox2).select('SPSS Data File(*.sav)')\n",
    "# 设置spss文件路径\n",
    "app.Dialog['文件名(N):Edit'].set_text(r'D:\\jobs\\data-analysis\\记忆经验问卷修订\\记忆经验MEQ_212_212.sav')\n",
    "\n",
    "# 点击[打开]按钮\n",
    "app.Dialog['打开(O)Button'].click()\n"
   ]
  },
  {
   "cell_type": "markdown",
   "metadata": {},
   "source": [
    "#### 设置lisrel数据保存位置"
   ]
  },
  {
   "cell_type": "code",
   "execution_count": null,
   "metadata": {},
   "outputs": [],
   "source": [
    "# 等待`保存为`对话框出现\n",
    "app['保存为Dialog'].wait('visible')\n",
    "# 设置文件保存的路径\n",
    "app['保存为Dialog']['文件名(N):Edit'].set_text(r'd:\\jobs\\data-analysis\\data.psf')\n",
    "# 点击`保存`按钮\n",
    "app['保存为Dialog']['保存(S)Button'].click()\n"
   ]
  },
  {
   "cell_type": "markdown",
   "metadata": {},
   "source": [
    "#### 退出lisrel\n",
    "\n"
   ]
  },
  {
   "cell_type": "code",
   "execution_count": null,
   "metadata": {},
   "outputs": [],
   "source": [
    "app.kill()"
   ]
  }
 ],
 "metadata": {
  "kernelspec": {
   "display_name": "Python 3",
   "language": "python",
   "name": "python3"
  },
  "language_info": {
   "codemirror_mode": {
    "name": "ipython",
    "version": 3
   },
   "file_extension": ".py",
   "mimetype": "text/x-python",
   "name": "python",
   "nbconvert_exporter": "python",
   "pygments_lexer": "ipython3",
   "version": "3.6.4"
  }
 },
 "nbformat": 4,
 "nbformat_minor": 2
}
