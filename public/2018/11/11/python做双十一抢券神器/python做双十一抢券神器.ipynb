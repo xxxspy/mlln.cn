{
 "cells": [
  {
   "cell_type": "markdown",
   "metadata": {},
   "source": [
    "---\n",
    "title: python做双十一抢券神器\n",
    "date: 2018-11-11 20:17:55\n",
    "tags: [pywinauto, python, 游戏]\n",
    "toc: true\n",
    "xiongzhang: true\n",
    "xiongzhang_images: [images/huodong.png ]\n",
    "\n",
    "---\n",
    "<span></span>\n",
    "<!-- more -->\n",
    "\n",
    "\n",
    "本文代码运行环境:\n",
    "\n",
    "- windows10\n",
    "- python3.6\n",
    "- jupyter notebook"
   ]
  },
  {
   "cell_type": "markdown",
   "metadata": {},
   "source": [
    "### 背景介绍\n",
    "\n",
    "<img src=\"images/huodong.png\" />\n",
    "\n",
    "小米的双十一活动是这样的, 在小米商城微信小程序上有一个小游戏, 点击按钮开始计时, 然后点击停止, 如果中间时间刚好是11.11秒, 那么恭喜你就会得到一个优惠券。\n",
    "\n",
    "作为一个做机器学习的小程序员, 我有几种方案: \n",
    "\n",
    "- 尝试找到活动的web页面, 用网页技术查看后台代码, 通过检测html代码来决定何时点击\n",
    "- 使用机器学习刻识别时间数字, 等到合适的时候点击页面\n",
    "\n",
    "\n",
    "不过这两种思路都失败了, 一是我没有找到web页面, 二是没有数据供我训练模型。\n",
    "\n",
    "但是最后我还是做出来了, 具体步骤是这样的:"
   ]
  },
  {
   "cell_type": "markdown",
   "metadata": {},
   "source": [
    "### 步骤一: 手机模拟器\n",
    "\n",
    "使用手机模拟器可以在电脑上实现所有的手机功能, 我一开始尝试了几种手机模拟器, 失败了很多次, 主要问题就是打开微信的时候或者打开小程序的时候模拟器就会崩溃, 可见这些模拟器真的是很low, 不过最后找到了网易出品的MuMu模拟器, 凑合能用。\n",
    "\n",
    "安装模拟器很简单, 安装微信也很简单。\n",
    "\n",
    "### 步骤二: 开发点击按钮的程序\n",
    "\n",
    "使用`pywinauto`模块, 可以很容易的实现鼠标点击的功能,但是我们需要知道点击屏幕的什么位置, 所以, 我先通过以下的代码追踪鼠标坐标, 然后查看鼠标放到按钮上的时候的坐标(我是在jupyter notebook中开发的程序):"
   ]
  },
  {
   "cell_type": "code",
   "execution_count": null,
   "metadata": {},
   "outputs": [],
   "source": [
    "from IPython.display import display, clear_output\n",
    "import win32api\n",
    "\n",
    "\n",
    "def mouse_pos():\n",
    "    # 无限循环程序\n",
    "    while True:\n",
    "        # 获取坐标\n",
    "        x,y = win32api.GetCursorPos()\n",
    "        # 清理输出区域的内容\n",
    "        clear_output(wait=True)\n",
    "        # 输出坐标\n",
    "        display('x={},y={}'.format(x, y))\n",
    "        # 休息0.5秒, 主要是为了降低程序执行的频率\n",
    "        time.sleep(.5)\n",
    "        \n",
    "mouse_pos()"
   ]
  },
  {
   "cell_type": "markdown",
   "metadata": {},
   "source": [
    "然后, 点击鼠标我们使用下面的代码:"
   ]
  },
  {
   "cell_type": "code",
   "execution_count": null,
   "metadata": {},
   "outputs": [],
   "source": [
    "def click_button(btn_pos):\n",
    "    s = time.time()\n",
    "    x1, y1, x2, y2 = btn_pos\n",
    "    x = int((x1 + x2)/2)\n",
    "    y = int((y1+y2)/2)\n",
    "    # sourcepos = win32api.GetCursorPos()\n",
    "    win32api.SetCursorPos((x, y))\n",
    "    # print('befor click:', time.time() - s)\n",
    "    win32api.mouse_event(win32con.MOUSEEVENTF_LEFTDOWN, x, y)\n",
    "    # 程序暂停0.1秒\n",
    "    # time.sleep(.01)\n",
    "    # print('mid click:', time.time() - s)\n",
    "    # 鼠标左键释放\n",
    "    win32api.mouse_event(win32con.MOUSEEVENTF_LEFTUP, x, y)"
   ]
  },
  {
   "cell_type": "markdown",
   "metadata": {},
   "source": [
    "### 步骤三: 计时\n",
    "\n",
    "这个游戏很简单, 只需要点击两次鼠标, 并且确保点击鼠标之间的时间间隔是11.11秒, 所以我的思路就是下面这样:"
   ]
  },
  {
   "cell_type": "code",
   "execution_count": null,
   "metadata": {},
   "outputs": [],
   "source": [
    "def go():\n",
    "    # 第一次点击, 开始计时\n",
    "    click_button(btn_box)\n",
    "    start = time.time()\n",
    "    pred = 0\n",
    "    \n",
    "    while True:\n",
    "        d = time.time() - start\n",
    "        # 时间快到11.11秒时, 我们触发点击动作\n",
    "        if d >= 11.105:\n",
    "            click_button(btn_box)\n",
    "            break\n",
    "        # elif d-pred >= 1:\n",
    "        #     print(d)\n",
    "        #     pred = d\n",
    "        else:\n",
    "            pass"
   ]
  },
  {
   "cell_type": "markdown",
   "metadata": {},
   "source": [
    "### 结果\n",
    "\n",
    "一开始的结果让我很失望, 因为实际上小米应该是做了一些随机动作的, 比如可以让开始时间在一定范围内随机, 那么我虽然确保两次点击的时间间隔是11.11秒, 但是因为你点击后, 它是随机开始计时的, 并且计算机程序也有时间误差, 所以我的程序总是失败, 一般误差在0.1秒以内, 没办法, 我尝试了很多次最终也只是运气好才成功的, 命中率不到1/20, 当然这个成绩比人强很多了, 所以我建议, 以后类似的活动, 小米官方应该考虑增加随机性, 不然以后所有节日都是程序员节了。\n"
   ]
  },
  {
   "cell_type": "markdown",
   "metadata": {},
   "source": [
    "### Bonus Time\n",
    "\n",
    "<embed src='//player.youku.com/player.php/sid/XMzkxNDMwMTcxMg==/v.swf' allowFullScreen='true' quality='high' width='480' height='400' align='middle' allowScriptAccess='always' type='application/x-shockwave-flash'></embed>\n"
   ]
  }
 ],
 "metadata": {
  "kernelspec": {
   "display_name": "Python 3",
   "language": "python",
   "name": "python3"
  },
  "language_info": {
   "codemirror_mode": {
    "name": "ipython",
    "version": 3
   },
   "file_extension": ".py",
   "mimetype": "text/x-python",
   "name": "python",
   "nbconvert_exporter": "python",
   "pygments_lexer": "ipython3",
   "version": "3.6.4"
  }
 },
 "nbformat": 4,
 "nbformat_minor": 2
}
