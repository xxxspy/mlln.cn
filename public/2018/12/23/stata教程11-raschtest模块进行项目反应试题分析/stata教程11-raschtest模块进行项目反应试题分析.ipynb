{
 "cells": [
  {
   "cell_type": "markdown",
   "metadata": {},
   "source": [
    "---\n",
    "title: stata教程11-raschtest模块进行项目反应试题分析\n",
    "date: 2018-12-23 17:17:55\n",
    "tags: [stata]\n",
    "toc: true\n",
    "\n",
    "---\n",
    "\n",
    "\n",
    "<span></span>\n",
    "<!-- more -->"
   ]
  },
  {
   "cell_type": "markdown",
   "metadata": {},
   "source": [
    "本篇文章中用到的很多代码来自这里: https://www.stata-journal.com/sjpdf.html?articlenum=st0119  , 英文好的朋友可以直接看这个文章就行。\n",
    "\n",
    "另外, 这篇教程只是展示一下stata在IRT分析时能做什么, 并没有对IRT的相关知识进行介绍。 另外我们也没有对raschtest命令如何使用进行详细的结果, 所以这篇文章只需要花费10秒浏览一下即可。"
   ]
  },
  {
   "cell_type": "markdown",
   "metadata": {},
   "source": [
    "### 安装"
   ]
  },
  {
   "cell_type": "code",
   "execution_count": 1,
   "metadata": {},
   "outputs": [
    {
     "name": "stdout",
     "output_type": "stream",
     "text": [
      "checking raschtest consistency and verifying not already installed...\n",
      "installing into c:\\ado\\plus\\...\n",
      "installation complete.\n"
     ]
    }
   ],
   "source": [
    "ssc install raschtest"
   ]
  },
  {
   "cell_type": "markdown",
   "metadata": {},
   "source": [
    "### 数据加载\n",
    "\n",
    "前几篇文章都是用的这个数据, 不做介绍, 直接上命令:"
   ]
  },
  {
   "cell_type": "code",
   "execution_count": 2,
   "metadata": {},
   "outputs": [],
   "source": [
    "use http://www.stata.com/support/faqs/dta/raschfaq, clear"
   ]
  },
  {
   "cell_type": "code",
   "execution_count": 7,
   "metadata": {},
   "outputs": [
    {
     "name": "stdout",
     "output_type": "stream",
     "text": [
      "\n",
      "     +-----------------------------------------------------------------------------------------------------------------------------+\n",
      "     |   math1     math2       math3       math4       math5       math6       math7       math8       math9      math10   subj_id |\n",
      "     |-----------------------------------------------------------------------------------------------------------------------------|\n",
      "  1. | correct   correct     correct   incorrect   incorrect   incorrect   incorrect   incorrect   incorrect   incorrect         1 |\n",
      "  2. | correct   correct   incorrect   incorrect     correct     correct     correct   incorrect   incorrect   incorrect         2 |\n",
      "  3. | correct   correct   incorrect   incorrect     correct   incorrect   incorrect   incorrect   incorrect   incorrect         3 |\n",
      "  4. | correct   correct     correct   incorrect     correct   incorrect     correct   incorrect   incorrect   incorrect         4 |\n",
      "  5. | correct   correct     correct   incorrect   incorrect     correct     correct     correct   incorrect   incorrect         5 |\n",
      "     |-----------------------------------------------------------------------------------------------------------------------------|\n",
      "  6. | correct   correct     correct   incorrect     correct   incorrect   incorrect     correct     correct   incorrect         6 |\n",
      "  7. | correct   correct     correct   incorrect   incorrect     correct   incorrect   incorrect   incorrect   incorrect         7 |\n",
      "  8. | correct   correct     correct   incorrect     correct     correct   incorrect     correct     correct     correct         8 |\n",
      "  9. | correct   correct     correct   incorrect     correct     correct     correct   incorrect     correct   incorrect         9 |\n",
      " 10. | correct   correct     correct     correct     correct   incorrect   incorrect     correct     correct   incorrect        10 |\n",
      "     +-----------------------------------------------------------------------------------------------------------------------------+\n"
     ]
    }
   ],
   "source": [
    "list in 1/10"
   ]
  },
  {
   "cell_type": "markdown",
   "metadata": {},
   "source": [
    "### 模型拟合\n",
    "\n",
    "从输出结果中我们可以看到, 我们常用的拟合指标都已经列出, 包括infit/outfit, R1c 和 Andersen LR test等。\n"
   ]
  },
  {
   "cell_type": "code",
   "execution_count": 13,
   "metadata": {},
   "outputs": [
    {
     "name": "stdout",
     "output_type": "stream",
     "text": [
      "\n",
      "Estimation method: Conditional maximum likelihood (CML)\n",
      "Number of items: 10\n",
      "Number of groups: 4 (2 of them are used to compute the statistics of test)\n",
      "Number of individuals: 120\n",
      "Number of individuals with missing values: 0 (removed)\n",
      "Number of individuals with nul or perfect score: 5\n",
      "Conditional log-likelihood: -435.3507    \n",
      "Log-likelihood: -576.6596    \n",
      "               Difficulty                                Standardized\n",
      "        Items  parameters  std Err.     R1c   df p-value Outfit  Infit      U\n",
      "-----------------------------------------------------------------------------\n",
      "         math1   -1.70772   0.24144   0.308    1  0.5790  0.016  0.970  0.209\n",
      "         math2   -1.46646   0.22711   0.016    1  0.8988  0.031 -0.220  0.366\n",
      "         math3   -0.91556   0.20332   0.262    1  0.6085 -1.065 -0.687 -0.969\n",
      "         math4   -0.25695   0.19002   0.071    1  0.7893  0.258  0.755  0.939\n",
      "         math5   -0.17952   0.18948   0.340    1  0.5597 -0.717 -0.249 -0.180\n",
      "         math6    0.20572   0.18994   1.650    1  0.1989 -0.284  0.517  0.497\n",
      "         math7    0.32291   0.19111   0.821    1  0.3648 -0.832 -0.390 -0.553\n",
      "         math8    0.95453   0.20591   3.251    1  0.0714 -2.023 -2.449 -2.496\n",
      "         math9    1.19694   0.21547   0.439    1  0.5077 -0.641 -0.574 -0.773\n",
      "        math10    1.84612   0.25220   1.696    1  0.1929  0.902  1.675  1.232\n",
      "-----------------------------------------------------------------------------\n",
      "     R1c test                  R1c=   8.621    9  0.4730\n",
      "     Andersen LR test            Z=   9.178    9  0.4210\n",
      "-----------------------------------------------------------------------------\n",
      "The mean of the difficulty parameters is fixed to 0\n",
      "\n",
      "\n",
      "\n",
      "                                Ability                    Expected\n",
      "                Group Score  parameters  std Err.    Freq.    Score       ll\n",
      "                --------------------------------------------------------------\n",
      "                    0     0      -3.625     1.608        3     0.42\n",
      "                --------------------------------------------------------------\n",
      "                    1     1      -2.314     0.999        5     1.29  -160.6491\n",
      "                          2      -1.574     0.833        4     2.20\n",
      "                          3      -0.993     0.759       16     3.12\n",
      "                          4      -0.480     0.724       21     4.06\n",
      "                --------------------------------------------------------------\n",
      "                    2     5       0.002     0.713       24     5.00  -270.1128\n",
      "                          6       0.484     0.723       22     5.94\n",
      "                          7       0.992     0.757       13     6.87\n",
      "                          8       1.570     0.832        4     7.80\n",
      "                          9       2.310     0.999        6     8.71\n",
      "                --------------------------------------------------------------\n",
      "                    3    10       3.628     1.612        2     9.58\n",
      "                --------------------------------------------------------------\n"
     ]
    }
   ],
   "source": [
    "raschtest math*, method(cml) mean id(subj_id) autogroup"
   ]
  },
  {
   "cell_type": "markdown",
   "metadata": {},
   "source": [
    "### 绘图\n",
    "\n",
    "如果你想要同时生成各种图, 你可以这么写:"
   ]
  },
  {
   "cell_type": "code",
   "execution_count": 15,
   "metadata": {},
   "outputs": [
    {
     "name": "stdout",
     "output_type": "stream",
     "text": [
      "\n",
      "Estimation method: Conditional maximum likelihood (CML)\n",
      "Number of items: 10\n",
      "Number of groups: 4 (2 of them are used to compute the statistics of test)\n",
      "Number of individuals: 120\n",
      "Number of individuals with missing values: 0 (removed)\n",
      "Number of individuals with nul or perfect score: 5\n",
      "Conditional log-likelihood: -435.3507    \n",
      "Log-likelihood: -576.6596    \n",
      "               Difficulty                                Standardized\n",
      "        Items  parameters  std Err.     R1c   df p-value Outfit  Infit      U\n",
      "-----------------------------------------------------------------------------\n",
      "         math1   -1.70772   0.24144   0.308    1  0.5790  0.016  0.970  0.209\n",
      "         math2   -1.46646   0.22711   0.016    1  0.8988  0.031 -0.220  0.366\n",
      "         math3   -0.91556   0.20332   0.262    1  0.6085 -1.065 -0.687 -0.969\n",
      "         math4   -0.25695   0.19002   0.071    1  0.7893  0.258  0.755  0.939\n",
      "         math5   -0.17952   0.18948   0.340    1  0.5597 -0.717 -0.249 -0.180\n",
      "         math6    0.20572   0.18994   1.650    1  0.1989 -0.284  0.517  0.497\n",
      "         math7    0.32291   0.19111   0.821    1  0.3648 -0.832 -0.390 -0.553\n",
      "         math8    0.95453   0.20591   3.251    1  0.0714 -2.023 -2.449 -2.496\n",
      "         math9    1.19694   0.21547   0.439    1  0.5077 -0.641 -0.574 -0.773\n",
      "        math10    1.84612   0.25220   1.696    1  0.1929  0.902  1.675  1.232\n",
      "-----------------------------------------------------------------------------\n",
      "     R1c test                  R1c=   8.621    9  0.4730\n",
      "     Andersen LR test            Z=   9.178    9  0.4210\n",
      "-----------------------------------------------------------------------------\n",
      "The mean of the difficulty parameters is fixed to 0\n",
      "\n",
      "\n",
      "\n",
      "                                Ability                    Expected\n",
      "                Group Score  parameters  std Err.    Freq.    Score       ll\n",
      "                --------------------------------------------------------------\n",
      "                    0     0      -3.625     1.608        3     0.42\n",
      "                --------------------------------------------------------------\n",
      "                    1     1      -2.314     0.999        5     1.29  -160.6491\n",
      "                          2      -1.574     0.833        4     2.20\n",
      "                          3      -0.993     0.759       16     3.12\n",
      "                          4      -0.480     0.724       21     4.06\n",
      "                --------------------------------------------------------------\n",
      "                    2     5       0.002     0.713       24     5.00  -270.1128\n",
      "                          6       0.484     0.723       22     5.94\n",
      "                          7       0.992     0.757       13     6.87\n",
      "                          8       1.570     0.832        4     7.80\n",
      "                          9       2.310     0.999        6     8.71\n",
      "                --------------------------------------------------------------\n",
      "                    3    10       3.628     1.612        2     9.58\n",
      "                --------------------------------------------------------------\n",
      "<img src=\"/data/_icc_math1.png\"\n",
      " class=\"resgraph\" alt=\"icc graph\" title= \"ICC graph for math1 - click to enlarge\" >\n",
      "<img src=\"/data/_icc_math2.png\"\n",
      " class=\"resgraph\" alt=\"icc graph\" title= \"ICC graph for math2 - click to enlarge\" >\n",
      "<img src=\"/data/_icc_math3.png\"\n",
      " class=\"resgraph\" alt=\"icc graph\" title= \"ICC graph for math3 - click to enlarge\" >\n",
      "<img src=\"/data/_icc_math4.png\"\n",
      " class=\"resgraph\" alt=\"icc graph\" title= \"ICC graph for math4 - click to enlarge\" >\n",
      "<img src=\"/data/_icc_math5.png\"\n",
      " class=\"resgraph\" alt=\"icc graph\" title= \"ICC graph for math5 - click to enlarge\" >\n",
      "<img src=\"/data/_icc_math6.png\"\n",
      " class=\"resgraph\" alt=\"icc graph\" title= \"ICC graph for math6 - click to enlarge\" >\n",
      "<img src=\"/data/_icc_math7.png\"\n",
      " class=\"resgraph\" alt=\"icc graph\" title= \"ICC graph for math7 - click to enlarge\" >\n",
      "<img src=\"/data/_icc_math8.png\"\n",
      " class=\"resgraph\" alt=\"icc graph\" title= \"ICC graph for math8 - click to enlarge\" >\n",
      "<img src=\"/data/_icc_math9.png\"\n",
      " class=\"resgraph\" alt=\"icc graph\" title= \"ICC graph for math9 - click to enlarge\" >\n",
      "<img src=\"/data/_icc_math10.png\"\n",
      " class=\"resgraph\" alt=\"icc graph\" title= \"ICC graph for math10 - click to enlarge\" >\n"
     ]
    }
   ],
   "source": [
    "raschtest math*, method(cml) mean autogroup icc information graph fitgraph id(subj_id)"
   ]
  },
  {
   "cell_type": "markdown",
   "metadata": {},
   "source": [
    "- 首先是10个题目的拟合的和实际的iCC曲线\n",
    "\n",
    "<img src=\"images/iccmath1.png\"\n",
    " class=\"resgraph\" alt=\"icc graph\" title= \"ICC graph for math1 - click to enlarge\" >\n",
    " \n",
    "<img src=\"images/iccmath2.png\"\n",
    " class=\"resgraph\" alt=\"icc graph\" title= \"ICC graph for math1 - click to enlarge\" >\n",
    " <img src=\"images/iccmath3.png\"\n",
    " class=\"resgraph\" alt=\"icc graph\" title= \"ICC graph for math1 - click to enlarge\" >\n",
    " <img src=\"images/iccmath4.png\"\n",
    " class=\"resgraph\" alt=\"icc graph\" title= \"ICC graph for math1 - click to enlarge\" >\n",
    " <img src=\"images/iccmath5.png\"\n",
    " class=\"resgraph\" alt=\"icc graph\" title= \"ICC graph for math1 - click to enlarge\" >\n",
    " <img src=\"images/iccmath6.png\"\n",
    " class=\"resgraph\" alt=\"icc graph\" title= \"ICC graph for math1 - click to enlarge\" >\n",
    " \n",
    " 省略其他ICC...."
   ]
  },
  {
   "cell_type": "markdown",
   "metadata": {},
   "source": [
    "- infit outfit分布散点图\n",
    "\n",
    "<img src=\"images/infit.png\" />\n",
    "\n",
    "\n",
    "<img src=\"images/outfit.png\" />\n"
   ]
  },
  {
   "cell_type": "markdown",
   "metadata": {},
   "source": [
    "- 题目的infit和outfititem分布:\n",
    "\n",
    "<img src=\"images/infititem.png\" />\n",
    "<img src=\"images/outfititem.png\" />"
   ]
  },
  {
   "cell_type": "markdown",
   "metadata": {},
   "source": [
    "### 总结\n",
    "\n",
    "这篇教程只是展示一下stata在IRT分析时能做什么, 并没有对IRT的相关知识进行介绍。目前来看, raschtest命令的功能还比较有限, 如果想要用到stata还需要自己对IRT理论模型有更深的理解才行, 相对于conquest/winsteps等软件, raschtest还不太适合小白用户的使用。"
   ]
  }
 ],
 "metadata": {
  "kernelspec": {
   "display_name": "Stata",
   "language": "stata",
   "name": "stata"
  },
  "language_info": {
   "file_extension": ".do",
   "mimetype": "text/x-stata",
   "name": "stata"
  }
 },
 "nbformat": 4,
 "nbformat_minor": 2
}
