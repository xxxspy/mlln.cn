{
 "cells": [
  {
   "cell_type": "markdown",
   "metadata": {},
   "source": [
    "---\n",
    "title: stata教程09-项目反应理论IRT的Rash模型\n",
    "date: 2018-12-22 17:17:55\n",
    "tags: [stata]\n",
    "toc: true\n",
    "mathjax: true\n",
    "\n",
    "---\n",
    "\n",
    "本篇文章主要演示了一下如何使用固定效应的条件逻辑回归模型来估计题目难度。\n",
    "\n",
    "<span></span>\n",
    "<!-- more -->"
   ]
  },
  {
   "cell_type": "markdown",
   "metadata": {},
   "source": [
    "> 本篇文章部分来自于stata的官方文档, 英文好的建议读原文: https://www.stata.com/support/faqs/statistics/rasch-model/"
   ]
  },
  {
   "cell_type": "markdown",
   "metadata": {},
   "source": [
    "### 背景知识\n",
    "\n",
    "Rasch模型是心理测量学中二分类题目（例如，选择题只有正确和错误之分）的主要模型之一。设$y_{ij}$取值只有(0或者1)，其中$i=1,...,n$，n是被试人数，$j = 1，...，m$，m是题目的数量。 Rasch模型可以写为logit-linear模型：\n",
    "\n",
    "$$\n",
    "logit P(y_{ij}=1 | \\eta_i) = \\eta_i − \\theta_j\n",
    "$$\n",
    "\n",
    "上面式子中$\\eta_i$指的是被试i的能力值, $\\theta_j$指的是题目的难度值。\n",
    "\n",
    "\n",
    "此外，假设以$\\eta_i$为条件，$y_i$相对于$i$是独立的（“局部独立性”）。实际上，丹麦统计学家Rash在20世纪60年代给出了该模型的公理推导，其中，除了“局部独立性”之外，主要特征是{y（+ j），y（i +）}形成了足够的统计量为{eta，theta}。"
   ]
  },
  {
   "cell_type": "markdown",
   "metadata": {},
   "source": [
    "当将$\\eta$和$\\theta$作为参数（固定效应）处理时，人们早就知道最大似然估计在标准的逼近过程中是不一致的（n→无穷大，m是固定的）。我们每多测试一个被试，我们就会多了m个观测数据, 就会有一个额外的$\\eta$参数需要估计。因此，直观地说，随着n的增加, 每个参数的观测数据以及信息量是保持不变的。"
   ]
  },
  {
   "cell_type": "markdown",
   "metadata": {},
   "source": [
    "在20世纪80年代，Andersen展示了$\\theta_j$的条件极大似然（CML）估计(条件就是每个被试在所有题目上的得分$y_{i+}$)是有效的并且实际上是渐近正态分布的，在正常情况下具有ml估计的所有良好属性。例如，条件似然比检验具有类似于标准似然比检验的性质。虽然已经研究了其他估计量，但CML估计量是最广泛用于固定效应情况的估算器 （Fischer和Molenaar 1995）。可以使用clogit命令拟合此模型。"
   ]
  },
  {
   "cell_type": "markdown",
   "metadata": {},
   "source": [
    "心理测量学家也研究了高斯随机效应估计器，这可能只是一个小小的惊喜。从Stata 14开始，使用irt 1pl可以拟合数学上等效的模型。从Stata 13开始，Rasch模型可以使用gsem;见[SEM]例子28g。在Stata 13之前，Rasch模型可以通过随机效果面板估算器拟合，由xtlogit，re命令计算。"
   ]
  },
  {
   "cell_type": "markdown",
   "metadata": {},
   "source": [
    "### 使用$\\eta$作为固定效应拟合Rasch模型"
   ]
  },
  {
   "cell_type": "markdown",
   "metadata": {},
   "source": [
    "考虑最可能的情况;有一个数据集，每一行代表一个被试在所有题上的得分, 每一列代表同一个题目下所有被试的得分。你可以使用clogit中的条件logit固定效应估计器获得Rasch模型的θ参数的CLM估计值（xtlogit，fe相当于键入clogit）。该命令要求所有得分保存为一个变量，而“组”变量用于识别属于同一被试的分数。这可以使用reshape命令完成。最后，可以将Rasch模型描述为具有m个协变量$x_{ijk}$，$k = 1，...，m$的“clogit模型”，因此对于所有i，如果j = k，则$x_{ijk}= -1$(这是因为$\\theta$的系数为负数), 否则为0。$x_{ijk}$的回归系数为$\\theta_k$。"
   ]
  },
  {
   "cell_type": "markdown",
   "metadata": {},
   "source": [
    "### 案例"
   ]
  },
  {
   "cell_type": "markdown",
   "metadata": {},
   "source": [
    "想象一下有10题目, 120个学生作答，编码为1（正确）和0（不正确）。我们想知道10个数学问题是否涉及一维尺度，以便无论受试者的能力如何，都可以根据难度对项目进行排序。\n",
    "\n",
    "加载数据:"
   ]
  },
  {
   "cell_type": "code",
   "execution_count": 1,
   "metadata": {},
   "outputs": [],
   "source": [
    "use http://www.stata.com/support/faqs/dta/raschfaq, clear"
   ]
  },
  {
   "cell_type": "code",
   "execution_count": 2,
   "metadata": {},
   "outputs": [
    {
     "name": "stdout",
     "output_type": "stream",
     "text": [
      "\n",
      "Contains data from http://www.stata.com/support/faqs/dta/raschfaq.dta\n",
      "  obs:           120                          \n",
      " vars:            11                          19 May 2005 07:47\n",
      " size:         1,440                          \n",
      "---------------------------------------------------------------------------------------------------------------------------------------------------------------------------------------------------------------------------------------------------------------\n",
      "              storage   display    value\n",
      "variable name   type    format     label      variable label\n",
      "---------------------------------------------------------------------------------------------------------------------------------------------------------------------------------------------------------------------------------------------------------------\n",
      "math1           byte    %9.0g      Correct    math item 1\n",
      "math2           byte    %9.0g      Correct    math item 2\n",
      "math3           byte    %9.0g      Correct    math item 3\n",
      "math4           byte    %9.0g      Correct    math item 4\n",
      "math5           byte    %9.0g      Correct    math item 5\n",
      "math6           byte    %9.0g      Correct    math item 6\n",
      "math7           byte    %9.0g      Correct    math item 7\n",
      "math8           byte    %9.0g      Correct    math item 8\n",
      "math9           byte    %9.0g      Correct    math item 9\n",
      "math10          byte    %9.0g      Correct    math item 10\n",
      "subj_id         int     %9.0g                 \n",
      "---------------------------------------------------------------------------------------------------------------------------------------------------------------------------------------------------------------------------------------------------------------\n",
      "Sorted by: \n"
     ]
    }
   ],
   "source": [
    "describe"
   ]
  },
  {
   "cell_type": "markdown",
   "metadata": {},
   "source": [
    "为了对数据有一个大概的了解, 我们描述一下数据:"
   ]
  },
  {
   "cell_type": "code",
   "execution_count": 3,
   "metadata": {},
   "outputs": [
    {
     "name": "stdout",
     "output_type": "stream",
     "text": [
      "\n",
      "    Variable |        Obs        Mean    Std. Dev.       Min        Max\n",
      "-------------+---------------------------------------------------------\n",
      "       math1 |        120    .8083333    .3952626          0          1\n",
      "       math2 |        120        .775    .4193332          0          1\n",
      "       math3 |        120    .6833333    .4671266          0          1\n",
      "       math4 |        120         .55    .4995797          0          1\n",
      "       math5 |        120    .5333333    .5009794          0          1\n",
      "-------------+---------------------------------------------------------\n",
      "       math6 |        120         .45    .4995797          0          1\n",
      "       math7 |        120        .425    .4964157          0          1\n",
      "       math8 |        120          .3     .460179          0          1\n",
      "       math9 |        120    .2583333    .4395535          0          1\n",
      "      math10 |        120    .1666667    .3742406          0          1\n"
     ]
    }
   ],
   "source": [
    "summarize math*"
   ]
  },
  {
   "cell_type": "markdown",
   "metadata": {},
   "source": [
    "为了能够拟合我们的模型, 首先需要reshape我们的数据, 将宽数据转换为长数据, 我们先看下现在的格式(宽格式):"
   ]
  },
  {
   "cell_type": "code",
   "execution_count": 4,
   "metadata": {},
   "outputs": [
    {
     "name": "stdout",
     "output_type": "stream",
     "text": [
      "\n",
      "     +-----------------------------------------------------------------------------------------------------------------------------+\n",
      "     |   math1     math2       math3       math4       math5       math6       math7       math8       math9      math10   subj_id |\n",
      "     |-----------------------------------------------------------------------------------------------------------------------------|\n",
      "  1. | correct   correct     correct   incorrect   incorrect   incorrect   incorrect   incorrect   incorrect   incorrect         1 |\n",
      "  2. | correct   correct   incorrect   incorrect     correct     correct     correct   incorrect   incorrect   incorrect         2 |\n",
      "  3. | correct   correct   incorrect   incorrect     correct   incorrect   incorrect   incorrect   incorrect   incorrect         3 |\n",
      "  4. | correct   correct     correct   incorrect     correct   incorrect     correct   incorrect   incorrect   incorrect         4 |\n",
      "  5. | correct   correct     correct   incorrect   incorrect     correct     correct     correct   incorrect   incorrect         5 |\n",
      "     |-----------------------------------------------------------------------------------------------------------------------------|\n",
      "  6. | correct   correct     correct   incorrect     correct   incorrect   incorrect     correct     correct   incorrect         6 |\n",
      "     +-----------------------------------------------------------------------------------------------------------------------------+\n"
     ]
    }
   ],
   "source": [
    "list in 1/6"
   ]
  },
  {
   "cell_type": "markdown",
   "metadata": {},
   "source": [
    "转换成长格式:"
   ]
  },
  {
   "cell_type": "code",
   "execution_count": 5,
   "metadata": {},
   "outputs": [
    {
     "name": "stdout",
     "output_type": "stream",
     "text": [
      "(note: j = 1 2 3 4 5 6 7 8 9 10)\n",
      "\n",
      "Data                               wide   ->   long\n",
      "-----------------------------------------------------------------------------\n",
      "Number of obs.                      120   ->    1200\n",
      "Number of variables                  11   ->       3\n",
      "j variable (10 values)                    ->   item\n",
      "xij variables:\n",
      "                 math1 math2 ... math10   ->   math\n",
      "-----------------------------------------------------------------------------\n"
     ]
    }
   ],
   "source": [
    "reshape long math, i(subj_id) j(item)"
   ]
  },
  {
   "cell_type": "code",
   "execution_count": 7,
   "metadata": {},
   "outputs": [
    {
     "name": "stdout",
     "output_type": "stream",
     "text": [
      "\n",
      "     +----------------------------+\n",
      "     | subj_id   item        math |\n",
      "     |----------------------------|\n",
      "  1. |       1      1     correct |\n",
      "  2. |       1      2     correct |\n",
      "  3. |       1      3     correct |\n",
      "  4. |       1      4   incorrect |\n",
      "  5. |       1      5   incorrect |\n",
      "     |----------------------------|\n",
      "  6. |       1      6   incorrect |\n",
      "  7. |       1      7   incorrect |\n",
      "  8. |       1      8   incorrect |\n",
      "  9. |       1      9   incorrect |\n",
      " 10. |       1     10   incorrect |\n",
      "     |----------------------------|\n",
      " 11. |       2      1     correct |\n",
      " 12. |       2      2     correct |\n",
      " 13. |       2      3   incorrect |\n",
      " 14. |       2      4   incorrect |\n",
      " 15. |       2      5     correct |\n",
      "     |----------------------------|\n",
      " 16. |       2      6     correct |\n",
      " 17. |       2      7     correct |\n",
      " 18. |       2      8   incorrect |\n",
      " 19. |       2      9   incorrect |\n",
      " 20. |       2     10   incorrect |\n",
      "     |----------------------------|\n",
      " 21. |       3      1     correct |\n",
      " 22. |       3      2     correct |\n",
      " 23. |       3      3   incorrect |\n",
      " 24. |       3      4   incorrect |\n",
      " 25. |       3      5     correct |\n",
      "     |----------------------------|\n",
      " 26. |       3      6   incorrect |\n",
      " 27. |       3      7   incorrect |\n",
      " 28. |       3      8   incorrect |\n",
      " 29. |       3      9   incorrect |\n",
      " 30. |       3     10   incorrect |\n",
      "     +----------------------------+\n"
     ]
    }
   ],
   "source": [
    "list in 1/30"
   ]
  },
  {
   "cell_type": "markdown",
   "metadata": {},
   "source": [
    "按照上面的假设, 我们生成自变量$x_{ijk}$, 这k个变量的系数就是($\\theta_j$), 因为有10个题目, 所以应该有10个自变量:"
   ]
  },
  {
   "cell_type": "code",
   "execution_count": 8,
   "metadata": {},
   "outputs": [],
   "source": [
    "forvalues num =1/10{\n",
    "      gen Th`num' = -(item==`num')\n",
    "   }"
   ]
  },
  {
   "cell_type": "markdown",
   "metadata": {},
   "source": [
    "看一下现在的数据, 我们得到了Th1-Th10这10个变量, 他们都是自变量, 用于预测math得分。"
   ]
  },
  {
   "cell_type": "code",
   "execution_count": 9,
   "metadata": {},
   "outputs": [
    {
     "name": "stdout",
     "output_type": "stream",
     "text": [
      "\n",
      "     +-----------------------------------------------------------------------------------------+\n",
      "     | subj_id   item        math   Th1   Th2   Th3   Th4   Th5   Th6   Th7   Th8   Th9   Th10 |\n",
      "     |-----------------------------------------------------------------------------------------|\n",
      "  1. |       1      1     correct    -1     0     0     0     0     0     0     0     0      0 |\n",
      "  2. |       1      2     correct     0    -1     0     0     0     0     0     0     0      0 |\n",
      "  3. |       1      3     correct     0     0    -1     0     0     0     0     0     0      0 |\n",
      "  4. |       1      4   incorrect     0     0     0    -1     0     0     0     0     0      0 |\n",
      "  5. |       1      5   incorrect     0     0     0     0    -1     0     0     0     0      0 |\n",
      "     |-----------------------------------------------------------------------------------------|\n",
      "  6. |       1      6   incorrect     0     0     0     0     0    -1     0     0     0      0 |\n",
      "  7. |       1      7   incorrect     0     0     0     0     0     0    -1     0     0      0 |\n",
      "  8. |       1      8   incorrect     0     0     0     0     0     0     0    -1     0      0 |\n",
      "  9. |       1      9   incorrect     0     0     0     0     0     0     0     0    -1      0 |\n",
      " 10. |       1     10   incorrect     0     0     0     0     0     0     0     0     0     -1 |\n",
      "     |-----------------------------------------------------------------------------------------|\n",
      " 11. |       2      1     correct    -1     0     0     0     0     0     0     0     0      0 |\n",
      " 12. |       2      2     correct     0    -1     0     0     0     0     0     0     0      0 |\n",
      " 13. |       2      3   incorrect     0     0    -1     0     0     0     0     0     0      0 |\n",
      " 14. |       2      4   incorrect     0     0     0    -1     0     0     0     0     0      0 |\n",
      " 15. |       2      5     correct     0     0     0     0    -1     0     0     0     0      0 |\n",
      "     |-----------------------------------------------------------------------------------------|\n",
      " 16. |       2      6     correct     0     0     0     0     0    -1     0     0     0      0 |\n",
      " 17. |       2      7     correct     0     0     0     0     0     0    -1     0     0      0 |\n",
      " 18. |       2      8   incorrect     0     0     0     0     0     0     0    -1     0      0 |\n",
      " 19. |       2      9   incorrect     0     0     0     0     0     0     0     0    -1      0 |\n",
      " 20. |       2     10   incorrect     0     0     0     0     0     0     0     0     0     -1 |\n",
      "     |-----------------------------------------------------------------------------------------|\n",
      " 21. |       3      1     correct    -1     0     0     0     0     0     0     0     0      0 |\n",
      " 22. |       3      2     correct     0    -1     0     0     0     0     0     0     0      0 |\n",
      " 23. |       3      3   incorrect     0     0    -1     0     0     0     0     0     0      0 |\n",
      " 24. |       3      4   incorrect     0     0     0    -1     0     0     0     0     0      0 |\n",
      " 25. |       3      5     correct     0     0     0     0    -1     0     0     0     0      0 |\n",
      "     |-----------------------------------------------------------------------------------------|\n",
      " 26. |       3      6   incorrect     0     0     0     0     0    -1     0     0     0      0 |\n",
      " 27. |       3      7   incorrect     0     0     0     0     0     0    -1     0     0      0 |\n",
      " 28. |       3      8   incorrect     0     0     0     0     0     0     0    -1     0      0 |\n",
      " 29. |       3      9   incorrect     0     0     0     0     0     0     0     0    -1      0 |\n",
      " 30. |       3     10   incorrect     0     0     0     0     0     0     0     0     0     -1 |\n",
      "     +-----------------------------------------------------------------------------------------+\n"
     ]
    }
   ],
   "source": [
    "list in 1/30"
   ]
  },
  {
   "cell_type": "code",
   "execution_count": 10,
   "metadata": {},
   "outputs": [
    {
     "name": "stdout",
     "output_type": "stream",
     "text": [
      "\n",
      "    Variable |        Obs        Mean    Std. Dev.       Min        Max\n",
      "-------------+---------------------------------------------------------\n",
      "        math |      1,200        .495    .5001835          0          1\n"
     ]
    }
   ],
   "source": [
    "summarize math"
   ]
  },
  {
   "cell_type": "markdown",
   "metadata": {},
   "source": [
    "下面就可以进行固定效应条件逻辑回归, `group(subj_id)`用于表示相同的subj_id的数据来自于同一个个体。"
   ]
  },
  {
   "cell_type": "code",
   "execution_count": 14,
   "metadata": {},
   "outputs": [
    {
     "name": "stdout",
     "output_type": "stream",
     "text": [
      "note: multiple positive outcomes within groups encountered.\n",
      "note: 5 groups (50 obs) dropped because of all positive or\n",
      "      all negative outcomes.\n",
      "\n",
      "Iteration 0:   log likelihood = -436.11778  \n",
      "Iteration 1:   log likelihood =   -435.352  \n",
      "Iteration 2:   log likelihood = -435.35069  \n",
      "Iteration 3:   log likelihood = -435.35069  \n",
      "\n",
      "Conditional (fixed-effects) logistic regression\n",
      "\n",
      "                                                Number of obs     =      1,150\n",
      "                                                LR chi2(9)        =     243.80\n",
      "                                                Prob > chi2       =     0.0000\n",
      "Log likelihood = -435.35069                     Pseudo R2         =     0.2188\n",
      "\n",
      "------------------------------------------------------------------------------\n",
      "        math |      Coef.   Std. Err.      z    P>|z|     [95% Conf. Interval]\n",
      "-------------+----------------------------------------------------------------\n",
      "         Th2 |    .241266   .3481052     0.69   0.488    -.4410077    .9235397\n",
      "         Th3 |   .7921615   .3318989     2.39   0.017     .1416515    1.442672\n",
      "         Th4 |   1.450772   .3241392     4.48   0.000     .8154703    2.086073\n",
      "         Th5 |   1.528206   .3239802     4.72   0.000     .8932166    2.163195\n",
      "         Th6 |   1.913438   .3253857     5.88   0.000     1.275694    2.551183\n",
      "         Th7 |   2.030632   .3265377     6.22   0.000     1.390629    2.670634\n",
      "         Th8 |   2.662249   .3389274     7.85   0.000     1.997964    3.326535\n",
      "         Th9 |   2.904665   .3467128     8.38   0.000     2.225121     3.58421\n",
      "        Th10 |    3.55384   .3771324     9.42   0.000     2.814674    4.293006\n",
      "------------------------------------------------------------------------------\n"
     ]
    }
   ],
   "source": [
    "clogit math Th2-Th10, group(subj_id)"
   ]
  },
  {
   "cell_type": "markdown",
   "metadata": {},
   "source": [
    "上面的结果中, 估计得到的系数就是我们需要的$\\theta_j$, 也就是题目的难度系数，那么为什么没有Th1呢? 大家思考一下为啥没有Th1。"
   ]
  }
 ],
 "metadata": {
  "kernelspec": {
   "display_name": "Stata",
   "language": "stata",
   "name": "stata"
  },
  "language_info": {
   "file_extension": ".do",
   "mimetype": "text/x-stata",
   "name": "stata"
  }
 },
 "nbformat": 4,
 "nbformat_minor": 2
}
