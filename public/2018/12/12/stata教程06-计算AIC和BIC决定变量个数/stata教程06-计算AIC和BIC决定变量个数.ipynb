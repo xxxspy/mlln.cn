{
 "cells": [
  {
   "cell_type": "markdown",
   "metadata": {},
   "source": [
    "---\n",
    "title: stata教程06-计算AIC和BIC决定变量个数\n",
    "date: 2018-12-12 19:17:55\n",
    "tags: [stata]\n",
    "toc: true\n",
    "mathjax: true\n",
    "\n",
    "---\n",
    "\n",
    "在回归分析中, 解释变量的个数应当是越少越好, 因为模型越简洁应用范围越广, 也越容易被理解。但是, 为了模型拟合好, 我们又期望模型越复杂越好, 解释变量越多, 模型的拟合优度$R^2$越大。那么如何平衡这个矛盾的问题呢? 我们可以计算AIC和BIC:\n",
    "<span></span>\n",
    "<!-- more -->"
   ]
  },
  {
   "cell_type": "markdown",
   "metadata": {},
   "source": [
    "### 数据介绍\n",
    "\n",
    "使用上一篇教程用过的数据: icecream.dta, 具体内容可以参看上篇文章: [stata教程05-自相关的检验和处理/](/2018/12/12/stata教程05-自相关的检验和处理/index.html)"
   ]
  },
  {
   "cell_type": "code",
   "execution_count": 1,
   "metadata": {},
   "outputs": [],
   "source": [
    "use data/icecream.dta, clear"
   ]
  },
  {
   "cell_type": "markdown",
   "metadata": {},
   "source": [
    "### 进行回归分析"
   ]
  },
  {
   "cell_type": "code",
   "execution_count": 2,
   "metadata": {},
   "outputs": [
    {
     "name": "stdout",
     "output_type": "stream",
     "text": [
      "\n",
      "      Source |       SS           df       MS      Number of obs   =        30\n",
      "-------------+----------------------------------   F(3, 26)        =     22.17\n",
      "       Model |  .090250523         3  .030083508   Prob > F        =    0.0000\n",
      "    Residual |  .035272835        26  .001356647   R-squared       =    0.7190\n",
      "-------------+----------------------------------   Adj R-squared   =    0.6866\n",
      "       Total |  .125523358        29  .004328392   Root MSE        =    .03683\n",
      "\n",
      "------------------------------------------------------------------------------\n",
      " consumption |      Coef.   Std. Err.      t    P>|t|     [95% Conf. Interval]\n",
      "-------------+----------------------------------------------------------------\n",
      "        temp |   .0034584   .0004455     7.76   0.000     .0025426    .0043743\n",
      "       price |  -1.044413    .834357    -1.25   0.222    -2.759458    .6706322\n",
      "      income |   .0033078   .0011714     2.82   0.009     .0008999    .0057156\n",
      "       _cons |   .1973149   .2702161     0.73   0.472    -.3581223     .752752\n",
      "------------------------------------------------------------------------------\n"
     ]
    }
   ],
   "source": [
    "reg consumption temp price income"
   ]
  },
  {
   "cell_type": "markdown",
   "metadata": {},
   "source": [
    "### 计算AIC&BIC"
   ]
  },
  {
   "cell_type": "code",
   "execution_count": 3,
   "metadata": {},
   "outputs": [
    {
     "name": "stdout",
     "output_type": "stream",
     "text": [
      "\n",
      "Akaike's information criterion and Bayesian information criterion\n",
      "\n",
      "-----------------------------------------------------------------------------\n",
      "       Model |        Obs  ll(null)  ll(model)      df         AIC        BIC\n",
      "-------------+---------------------------------------------------------------\n",
      "           . |         30  39.57876   58.61944       4   -109.2389  -103.6341\n",
      "-----------------------------------------------------------------------------\n",
      "               Note: N=Obs used in calculating BIC; see [R] BIC note.\n"
     ]
    }
   ],
   "source": [
    "estat ic"
   ]
  },
  {
   "cell_type": "markdown",
   "metadata": {},
   "source": [
    "### 加入temp的1阶滞后项"
   ]
  },
  {
   "cell_type": "code",
   "execution_count": 5,
   "metadata": {},
   "outputs": [
    {
     "name": "stdout",
     "output_type": "stream",
     "text": [
      "\n",
      "      Source |       SS           df       MS      Number of obs   =        29\n",
      "-------------+----------------------------------   F(4, 24)        =     28.98\n",
      "       Model |  .103387183         4  .025846796   Prob > F        =    0.0000\n",
      "    Residual |  .021406049        24  .000891919   R-squared       =    0.8285\n",
      "-------------+----------------------------------   Adj R-squared   =    0.7999\n",
      "       Total |  .124793232        28  .004456901   Root MSE        =    .02987\n",
      "\n",
      "------------------------------------------------------------------------------\n",
      " consumption |      Coef.   Std. Err.      t    P>|t|     [95% Conf. Interval]\n",
      "-------------+----------------------------------------------------------------\n",
      "        temp |\n",
      "         --. |   .0053321   .0006704     7.95   0.000     .0039484    .0067158\n",
      "         L1. |  -.0022039   .0007307    -3.02   0.006    -.0037119   -.0006959\n",
      "             |\n",
      "       price |  -.8383021   .6880205    -1.22   0.235    -2.258307    .5817025\n",
      "      income |   .0028673   .0010533     2.72   0.012     .0006934    .0050413\n",
      "       _cons |   .1894822   .2323169     0.82   0.423    -.2899963    .6689607\n",
      "------------------------------------------------------------------------------\n"
     ]
    }
   ],
   "source": [
    "reg consumption temp L.temp price income"
   ]
  },
  {
   "cell_type": "markdown",
   "metadata": {},
   "source": [
    "### 再计算AIC&BIC"
   ]
  },
  {
   "cell_type": "code",
   "execution_count": 6,
   "metadata": {},
   "outputs": [
    {
     "name": "stdout",
     "output_type": "stream",
     "text": [
      "\n",
      "Akaike's information criterion and Bayesian information criterion\n",
      "\n",
      "-----------------------------------------------------------------------------\n",
      "       Model |        Obs  ll(null)  ll(model)      df         AIC        BIC\n",
      "-------------+---------------------------------------------------------------\n",
      "           . |         29  37.85248   63.41576       5   -116.8315   -109.995\n",
      "-----------------------------------------------------------------------------\n",
      "               Note: N=Obs used in calculating BIC; see [R] BIC note.\n"
     ]
    }
   ],
   "source": [
    "estat ic"
   ]
  },
  {
   "cell_type": "markdown",
   "metadata": {},
   "source": [
    "我们可以看到AIC和BIC都下降了。"
   ]
  },
  {
   "cell_type": "markdown",
   "metadata": {},
   "source": [
    "### 再加入temp的2阶滞后项"
   ]
  },
  {
   "cell_type": "code",
   "execution_count": 7,
   "metadata": {},
   "outputs": [
    {
     "name": "stdout",
     "output_type": "stream",
     "text": [
      "\n",
      "      Source |       SS           df       MS      Number of obs   =        28\n",
      "-------------+----------------------------------   F(5, 22)        =     21.92\n",
      "       Model |  .103722201         5   .02074444   Prob > F        =    0.0000\n",
      "    Residual |  .020822754        22  .000946489   R-squared       =    0.8328\n",
      "-------------+----------------------------------   Adj R-squared   =    0.7948\n",
      "       Total |  .124544954        27  .004612776   Root MSE        =    .03077\n",
      "\n",
      "------------------------------------------------------------------------------\n",
      " consumption |      Coef.   Std. Err.      t    P>|t|     [95% Conf. Interval]\n",
      "-------------+----------------------------------------------------------------\n",
      "        temp |\n",
      "         --. |   .0047858   .0013502     3.54   0.002     .0019856     .007586\n",
      "         L1. |  -.0010836   .0022905    -0.47   0.641    -.0058338    .0036666\n",
      "         L2. |  -.0008022   .0013414    -0.60   0.556    -.0035841    .0019797\n",
      "             |\n",
      "       price |  -.7326035   .7214324    -1.02   0.321    -2.228763    .7635558\n",
      "      income |   .0026704   .0011308     2.36   0.027     .0003252    .0050156\n",
      "       _cons |   .1883478     .23949     0.79   0.440    -.3083241    .6850196\n",
      "------------------------------------------------------------------------------\n"
     ]
    }
   ],
   "source": [
    "reg consumption temp L.temp L2.temp price income"
   ]
  },
  {
   "cell_type": "markdown",
   "metadata": {},
   "source": [
    "### 再计算AIC&BIC\n"
   ]
  },
  {
   "cell_type": "code",
   "execution_count": 8,
   "metadata": {},
   "outputs": [
    {
     "name": "stdout",
     "output_type": "stream",
     "text": [
      "\n",
      "Akaike's information criterion and Bayesian information criterion\n",
      "\n",
      "-----------------------------------------------------------------------------\n",
      "       Model |        Obs  ll(null)  ll(model)      df         AIC        BIC\n",
      "-------------+---------------------------------------------------------------\n",
      "           . |         28  36.08382   61.12451       6    -110.249  -102.2558\n",
      "-----------------------------------------------------------------------------\n",
      "               Note: N=Obs used in calculating BIC; see [R] BIC note.\n"
     ]
    }
   ],
   "source": [
    "estat ic"
   ]
  },
  {
   "cell_type": "markdown",
   "metadata": {},
   "source": [
    "我们可以看到, 在增加了L2项滞后, 我们的AIC和BIC反而上升, 说明增加二阶滞后项导致模型复杂度上升, 但并没有带来模型的拟合优度较大的上升, 也就是得不偿失。"
   ]
  },
  {
   "cell_type": "markdown",
   "metadata": {},
   "source": [
    "### 总结\n",
    "\n",
    "AIC和BIC是两个常用的用户评估模型复杂性的指标, 但是他们略有不同, BIC是一致估计, 而AIC不是, 但现实样本不可能无限大, 而BIC可能导致模型过小, 所以我们通常是综合考虑两个指标。"
   ]
  }
 ],
 "metadata": {
  "kernelspec": {
   "display_name": "Stata",
   "language": "stata",
   "name": "stata"
  },
  "language_info": {
   "file_extension": ".do",
   "mimetype": "text/x-stata",
   "name": "stata"
  }
 },
 "nbformat": 4,
 "nbformat_minor": 2
}
