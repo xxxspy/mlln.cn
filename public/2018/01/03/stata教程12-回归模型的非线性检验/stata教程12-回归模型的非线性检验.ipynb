{
 "cells": [
  {
   "cell_type": "markdown",
   "metadata": {},
   "source": [
    "---\n",
    "title: stata教程12-回归模型的非线性检验\n",
    "date: 2018-1-3 17:17:55\n",
    "tags: [stata]\n",
    "toc: true\n",
    "mathjax: true\n",
    "\n",
    "---\n",
    "\n",
    "\n",
    "<span></span>\n",
    "<!-- more -->"
   ]
  },
  {
   "cell_type": "markdown",
   "metadata": {},
   "source": [
    "### 理论知识"
   ]
  },
  {
   "cell_type": "markdown",
   "metadata": {},
   "source": [
    "很多变量之间的关系是非线性的, 因此多元线性回归只能被看作非线性经济关系的一种一介近似。但是二阶甚至更高阶的函数关系也很重要, 那么当昨晚多元线性回归后, 我们可以检验是否存在多阶的函数关系, 具体来说就是我们可以做Ramsey's RESET检验和连接检验。"
   ]
  },
  {
   "cell_type": "markdown",
   "metadata": {},
   "source": [
    "考虑以下回归方程:\n",
    "\n",
    "$$\n",
    "y = x'\\beta + \\xi\n",
    "$$\n",
    "\n",
    "回归后的拟合值:\n",
    "\n",
    "$$\n",
    "\\hat y  = x'b\n",
    "$$"
   ]
  },
  {
   "cell_type": "markdown",
   "metadata": {},
   "source": [
    "RESET检验就是构建以下回归方程, 并对原假设($H0: \\delta_2=\\delta_3=\\delta_4=0$)进行检验。\n",
    "\n",
    "$$\n",
    "y = x'\\beta + \\delta_2 \\hat y^2+ \\delta_3 \\hat y^3+ \\delta_4 \\hat y^4 +\\mu\n",
    "$$"
   ]
  },
  {
   "cell_type": "markdown",
   "metadata": {},
   "source": [
    "RESET检验的另一种形式是使用解释变量的幂作为非线性项。"
   ]
  },
  {
   "cell_type": "markdown",
   "metadata": {},
   "source": [
    "另一种模型设定检验方法是连接检验(link test), 它的回归方程是:\n",
    "\n",
    "$$\n",
    "y = \\delta_0 + \\delta_1 \\hat y + \\delta_2 \\hat y^2 + e\n",
    "$$\n",
    "\n",
    "然后对原假设($H0: \\delta_2=0$)进行检验。"
   ]
  },
  {
   "cell_type": "markdown",
   "metadata": {},
   "source": [
    "### stata实践"
   ]
  },
  {
   "cell_type": "markdown",
   "metadata": {},
   "source": [
    "以`data/nerlove.dta`数据为例, 下面先加载数据:"
   ]
  },
  {
   "cell_type": "code",
   "execution_count": 1,
   "metadata": {},
   "outputs": [
    {
     "name": "stdout",
     "output_type": "stream",
     "text": [
      "(Nerlove 1963 paper)\n"
     ]
    }
   ],
   "source": [
    "use data/nerlove.dta, clear"
   ]
  },
  {
   "cell_type": "markdown",
   "metadata": {},
   "source": [
    "看一下数据的基本情况:"
   ]
  },
  {
   "cell_type": "code",
   "execution_count": 2,
   "metadata": {
    "scrolled": false
   },
   "outputs": [
    {
     "name": "stdout",
     "output_type": "stream",
     "text": [
      "\n",
      "Contains data from data/nerlove.dta\n",
      "  obs:           145                          Nerlove 1963 paper\n",
      " vars:            10                          13 Aug 2012 10:00\n",
      " size:         5,220                          \n",
      "---------------------------------------------------------------------------------------------------------------------------------------------------------------------------------------------------------------------------------------------------------------\n",
      "              storage   display    value\n",
      "variable name   type    format     label      variable label\n",
      "---------------------------------------------------------------------------------------------------------------------------------------------------------------------------------------------------------------------------------------------------------------\n",
      "tc              float   %9.0g                 total cost\n",
      "q               int     %8.0g                 total output\n",
      "pl              float   %9.0g                 price of labor\n",
      "pf              float   %9.0g                 price of fuel\n",
      "pk              int     %8.0g                 user cost of capital\n",
      "lntc            float   %9.0g                 \n",
      "lnq             float   %9.0g                 \n",
      "lnpf            float   %9.0g                 \n",
      "lnpk            float   %9.0g                 \n",
      "lnpl            float   %9.0g                 \n",
      "---------------------------------------------------------------------------------------------------------------------------------------------------------------------------------------------------------------------------------------------------------------\n",
      "Sorted by: \n"
     ]
    }
   ],
   "source": [
    "des"
   ]
  },
  {
   "cell_type": "markdown",
   "metadata": {},
   "source": [
    "首先进行多元线性回归:"
   ]
  },
  {
   "cell_type": "code",
   "execution_count": 3,
   "metadata": {},
   "outputs": [
    {
     "name": "stdout",
     "output_type": "stream",
     "text": [
      "\n",
      "      Source |       SS           df       MS      Number of obs   =       145\n",
      "-------------+----------------------------------   F(4, 140)       =    437.90\n",
      "       Model |  269.524728         4  67.3811819   Prob > F        =    0.0000\n",
      "    Residual |  21.5420958       140  .153872113   R-squared       =    0.9260\n",
      "-------------+----------------------------------   Adj R-squared   =    0.9239\n",
      "       Total |  291.066823       144  2.02129738   Root MSE        =    .39227\n",
      "\n",
      "------------------------------------------------------------------------------\n",
      "        lntc |      Coef.   Std. Err.      t    P>|t|     [95% Conf. Interval]\n",
      "-------------+----------------------------------------------------------------\n",
      "         lnq |   .7209135   .0174337    41.35   0.000     .6864462    .7553808\n",
      "        lnpl |   .4559645    .299802     1.52   0.131    -.1367602    1.048689\n",
      "        lnpk |  -.2151476   .3398295    -0.63   0.528    -.8870089    .4567136\n",
      "        lnpf |   .4258137   .1003218     4.24   0.000     .2274721    .6241554\n",
      "       _cons |  -3.566513   1.779383    -2.00   0.047    -7.084448   -.0485779\n",
      "------------------------------------------------------------------------------\n"
     ]
    }
   ],
   "source": [
    "reg lntc lnq lnpl lnpk lnpf"
   ]
  },
  {
   "cell_type": "markdown",
   "metadata": {},
   "source": [
    "进行连接检验:"
   ]
  },
  {
   "cell_type": "code",
   "execution_count": 4,
   "metadata": {},
   "outputs": [
    {
     "name": "stdout",
     "output_type": "stream",
     "text": [
      "\n",
      "      Source |       SS           df       MS      Number of obs   =       145\n",
      "-------------+----------------------------------   F(2, 142)       =   1460.70\n",
      "       Model |  277.574775         2  138.787388   Prob > F        =    0.0000\n",
      "    Residual |  13.4920481       142  .095014423   R-squared       =    0.9536\n",
      "-------------+----------------------------------   Adj R-squared   =    0.9530\n",
      "       Total |  291.066823       144  2.02129738   Root MSE        =    .30824\n",
      "\n",
      "------------------------------------------------------------------------------\n",
      "        lntc |      Coef.   Std. Err.      t    P>|t|     [95% Conf. Interval]\n",
      "-------------+----------------------------------------------------------------\n",
      "        _hat |    .791953   .0293837    26.95   0.000      .733867    .8500389\n",
      "      _hatsq |   .0941454   .0102281     9.20   0.000     .0739264    .1143643\n",
      "       _cons |  -.0962174   .0425807    -2.26   0.025    -.1803914   -.0120434\n",
      "------------------------------------------------------------------------------\n"
     ]
    }
   ],
   "source": [
    "linktest"
   ]
  },
  {
   "cell_type": "markdown",
   "metadata": {},
   "source": [
    "我们可以看到, 二次项的系数显著, 可以拒绝原假设, 说明模型存在着设定误差, 因此需要考虑假如多次项, 下面进行RESET检验:"
   ]
  },
  {
   "cell_type": "code",
   "execution_count": 5,
   "metadata": {},
   "outputs": [
    {
     "name": "stdout",
     "output_type": "stream",
     "text": [
      "\n",
      "Ramsey RESET test using powers of the fitted values of lntc\n",
      "       Ho:  model has no omitted variables\n",
      "                 F(3, 137) =     32.72\n",
      "                  Prob > F =      0.0000\n"
     ]
    }
   ],
   "source": [
    "estat ovtest"
   ]
  },
  {
   "cell_type": "markdown",
   "metadata": {},
   "source": [
    "F检验的p值显著, 说明存在设定误差, 下面使用解释变量的幂次项:"
   ]
  },
  {
   "cell_type": "code",
   "execution_count": 6,
   "metadata": {},
   "outputs": [
    {
     "name": "stdout",
     "output_type": "stream",
     "text": [
      "\n",
      "Ramsey RESET test using powers of the independent variables\n",
      "       Ho:  model has no omitted variables\n",
      "                F(12, 128) =      8.96\n",
      "                  Prob > F =      0.0000\n"
     ]
    }
   ],
   "source": [
    "estat ovtest, rhs"
   ]
  },
  {
   "cell_type": "markdown",
   "metadata": {},
   "source": [
    "结果同样显著。"
   ]
  },
  {
   "cell_type": "markdown",
   "metadata": {},
   "source": [
    "因此我们考虑纳入解释变量lnq的二次项:"
   ]
  },
  {
   "cell_type": "code",
   "execution_count": 7,
   "metadata": {},
   "outputs": [],
   "source": [
    "gen lnq2 = lnq^2"
   ]
  },
  {
   "cell_type": "code",
   "execution_count": 8,
   "metadata": {},
   "outputs": [
    {
     "name": "stdout",
     "output_type": "stream",
     "text": [
      "\n",
      "      Source |       SS           df       MS      Number of obs   =       145\n",
      "-------------+----------------------------------   F(5, 139)       =    622.86\n",
      "       Model |  278.630831         5  55.7261661   Prob > F        =    0.0000\n",
      "    Residual |  12.4359927       139  .089467573   R-squared       =    0.9573\n",
      "-------------+----------------------------------   Adj R-squared   =    0.9557\n",
      "       Total |  291.066823       144  2.02129738   Root MSE        =    .29911\n",
      "\n",
      "------------------------------------------------------------------------------\n",
      "        lntc |      Coef.   Std. Err.      t    P>|t|     [95% Conf. Interval]\n",
      "-------------+----------------------------------------------------------------\n",
      "         lnq |   .1166562   .0613522     1.90   0.059     -.004648    .2379605\n",
      "        lnpl |   .0206146   .2326431     0.09   0.930    -.4393621    .4805913\n",
      "        lnpk |   -.568725   .2614871    -2.17   0.031    -1.085732   -.0517185\n",
      "        lnpf |   .4804816   .0766894     6.27   0.000     .3288531    .6321101\n",
      "        lnq2 |   .0536124   .0053141    10.09   0.000     .0431055    .0641194\n",
      "       _cons |  -.1627064   1.398139    -0.12   0.908    -2.927075    2.601662\n",
      "------------------------------------------------------------------------------\n"
     ]
    }
   ],
   "source": [
    "reg lntc lnq lnpl lnpk lnpf lnq2"
   ]
  },
  {
   "cell_type": "markdown",
   "metadata": {},
   "source": [
    "从上面的结果中可以看出, lnq2的系数是显著的, 说明这个变量的确影响了被解释变量。\n",
    "\n",
    "下面再次进行连接检验:"
   ]
  },
  {
   "cell_type": "code",
   "execution_count": 9,
   "metadata": {},
   "outputs": [
    {
     "name": "stdout",
     "output_type": "stream",
     "text": [
      "\n",
      "      Source |       SS           df       MS      Number of obs   =       145\n",
      "-------------+----------------------------------   F(2, 142)       =   1591.85\n",
      "       Model |  278.638903         2  139.319451   Prob > F        =    0.0000\n",
      "    Residual |  12.4279206       142  .087520568   R-squared       =    0.9573\n",
      "-------------+----------------------------------   Adj R-squared   =    0.9567\n",
      "       Total |  291.066823       144  2.02129738   Root MSE        =    .29584\n",
      "\n",
      "------------------------------------------------------------------------------\n",
      "        lntc |      Coef.   Std. Err.      t    P>|t|     [95% Conf. Interval]\n",
      "-------------+----------------------------------------------------------------\n",
      "        _hat |   1.009721   .0365875    27.60   0.000     .9373943    1.082047\n",
      "      _hatsq |  -.0031437   .0103516    -0.30   0.762    -.0236068    .0173193\n",
      "       _cons |  -.0013733   .0394759    -0.03   0.972    -.0794096    .0766631\n",
      "------------------------------------------------------------------------------\n"
     ]
    }
   ],
   "source": [
    "linktest"
   ]
  },
  {
   "cell_type": "markdown",
   "metadata": {},
   "source": [
    "二次项的系数已经不显著了, 再次进行RESET检验:"
   ]
  },
  {
   "cell_type": "code",
   "execution_count": 10,
   "metadata": {},
   "outputs": [
    {
     "name": "stdout",
     "output_type": "stream",
     "text": [
      "\n",
      "Ramsey RESET test using powers of the fitted values of lntc\n",
      "       Ho:  model has no omitted variables\n",
      "                 F(3, 136) =      1.19\n",
      "                  Prob > F =      0.3165\n"
     ]
    }
   ],
   "source": [
    "estat ovtest"
   ]
  },
  {
   "cell_type": "markdown",
   "metadata": {},
   "source": [
    "RESET检验在此说明, 函数设定误差基本被消除。"
   ]
  }
 ],
 "metadata": {
  "kernelspec": {
   "display_name": "Stata",
   "language": "stata",
   "name": "stata"
  },
  "language_info": {
   "file_extension": ".do",
   "mimetype": "text/x-stata",
   "name": "stata"
  }
 },
 "nbformat": 4,
 "nbformat_minor": 2
}
