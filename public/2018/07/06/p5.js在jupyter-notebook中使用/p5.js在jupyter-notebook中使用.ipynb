{
 "cells": [
  {
   "cell_type": "markdown",
   "metadata": {},
   "source": [
    "---\n",
    "title: p5.js在jupyter-notebook中使用\n",
    "date: 2018-07-06 20:17:55\n",
    "tags: [p5.js]\n",
    "toc: true\n",
    "xiongzhang: true\n",
    "\n",
    "\n",
    "---\n",
    "<span></span>\n",
    "<!-- more -->\n",
    "\n",
    "> 声明: 本文由[DataScience](http://mlln.cn)发表,未经允许不得转载。 转载请注明[本文链接](http://mlln.cn)mlln.cn, 并在文后留言`转载`.\n",
    "\n",
    "本文代码运行环境:\n",
    "\n",
    "- windows10\n",
    "- jupyter notebook\n",
    "- p5.js 0.6.1"
   ]
  },
  {
   "cell_type": "markdown",
   "metadata": {},
   "source": [
    "### 什么是p5.js\n",
    "\n",
    "p5.js是一个JavaScript库，创建之初的目的是模仿Processing软件，为艺术家，设计师，教育工作者和初学者提供便捷的编程工具，并重新定义当今的互联网。p5.js的名称使用了软件速写本的隐喻，p5.js具有一整套绘图功能。但是，它不仅限于在canvas上绘图，你可以将整个浏览器页面视为画板！为此，p5.js有很多插件实现了对including text, input, video, webcam, and sound等html5元素的控制。\n",
    "\n",
    "p5.js是一种新的解释器，它正在积极开发中。官方编辑器即将推出，还有更多功能！"
   ]
  },
  {
   "cell_type": "markdown",
   "metadata": {},
   "source": [
    "### 怎样在notebook中使用p5.js\n",
    "\n",
    "我们可以使用notebook提供的cell magic来生成p5.js的页面, 然后用一个Iframe嵌入这个页面。如果你不知道什么是cell magic以及如何二次开发jupyter-notebook, 你可以访问这篇文章[notebook扩展开发之前端插件开发](/2018/03/31/jupyter%20notebook扩展开发之前端插件开发/)。当然, 我们可以不关心这些技术细节, 只要执行下面的代码, 你就注册了一个`p5`魔法。"
   ]
  },
  {
   "cell_type": "code",
   "execution_count": 19,
   "metadata": {},
   "outputs": [],
   "source": [
    "from IPython.core.magic import register_cell_magic\n",
    "from IPython.display import IFrame\n",
    "\n",
    "TEMPLATE = \"\"\"\n",
    "<html>\n",
    "<head>\n",
    "<meta charset=\"utf-8\" />\n",
    "<script src=\"https://cdnjs.cloudflare.com/ajax/libs/p5.js/0.6.1/p5.min.js\"></script>\n",
    "<script src=\"https://cdnjs.cloudflare.com/ajax/libs/p5.js/0.6.1/addons/p5.dom.min.js\"></script>\n",
    "<script src=\"https://cdnjs.cloudflare.com/ajax/libs/p5.js/0.6.1/addons/p5.sound.min.js\"></script>\n",
    "<title>Notebook中显示P5.js页面</title>\n",
    "</head>\n",
    "<body>\n",
    "<a href=\"http://mlln.cn\"  target=\"_blank\"><h3>文件: %(name)s</h3></a>\n",
    "<script>\n",
    "%(script)s\n",
    "</script>\n",
    "</body>\n",
    "</html>\n",
    "\"\"\"\n",
    "\n",
    "\n",
    "@register_cell_magic\n",
    "def p5(line, cell):\n",
    "    file_id = int(line)\n",
    "    filename = f\"p5js-html/p5-pre-{file_id}.html\"\n",
    "    with open(filename, \"w\", encoding='utf8') as fp:\n",
    "        fp.write(TEMPLATE % {\"script\": cell, \"name\": filename})\n",
    "    return IFrame(filename, width=\"100%\", height=\"500\")\n",
    "\n",
    "del p5"
   ]
  },
  {
   "cell_type": "markdown",
   "metadata": {},
   "source": [
    "### 使用\n",
    "\n",
    "注册好了p5魔法, 我们可以在cell的第一行写下`%%p5 1`即可在这个cell中撰写p5的代码了。其中数字`1`表示页面ID。如果你仔细阅读了上面的代码, 你会发现, 我们需要在本notebook目录下创建一个文件夹`p5js-html`用于存放生成的p5页面。下面是一个例子:"
   ]
  },
  {
   "cell_type": "code",
   "execution_count": 20,
   "metadata": {
    "scrolled": false
   },
   "outputs": [
    {
     "data": {
      "text/html": [
       "\n",
       "        <iframe\n",
       "            width=\"100%\"\n",
       "            height=\"500\"\n",
       "            src=\"p5js-html/p5-pre-1.html\"\n",
       "            frameborder=\"0\"\n",
       "            allowfullscreen\n",
       "        ></iframe>\n",
       "        "
      ],
      "text/plain": [
       "<IPython.lib.display.IFrame at 0x1e5df5af390>"
      ]
     },
     "execution_count": 20,
     "metadata": {},
     "output_type": "execute_result"
    }
   ],
   "source": [
    "%%p5 1\n",
    "\n",
    "  var x = 100; \n",
    "  var y = 100;\n",
    "\n",
    "  function setup () {\n",
    "    createCanvas(700, 410);\n",
    "  };\n",
    "\n",
    "  function draw () {\n",
    "    background(100);\n",
    "    fill(255);\n",
    "    rect(x,y,50,50);\n",
    "  };"
   ]
  },
  {
   "cell_type": "markdown",
   "metadata": {},
   "source": [
    "**需要注意的是, 如果你想再生成一个p5页面, 你需要使用不同的结果ID, 否则, 新生成的页面会覆盖原先的页面。**"
   ]
  }
 ],
 "metadata": {
  "kernelspec": {
   "display_name": "Python 3",
   "language": "python",
   "name": "python3"
  },
  "language_info": {
   "codemirror_mode": {
    "name": "ipython",
    "version": 3
   },
   "file_extension": ".py",
   "mimetype": "text/x-python",
   "name": "python",
   "nbconvert_exporter": "python",
   "pygments_lexer": "ipython3",
   "version": "3.6.4"
  }
 },
 "nbformat": 4,
 "nbformat_minor": 2
}
