{
 "cells": [
  {
   "cell_type": "markdown",
   "metadata": {},
   "source": [
    "---\n",
    "title: p5.js教程01-一文入门p5.js\n",
    "date: 2018-07-06 21:17:55\n",
    "tags: [p5.js]\n",
    "toc: true\n",
    "xiongzhang: true\n",
    "\n",
    "\n",
    "---\n",
    "<span></span>\n",
    "<!-- more -->\n",
    "\n",
    "> 声明: 本文由[DataScience](http://mlln.cn)发表, 禁止转载。\n",
    "经允许后转载请注明[本文链接](http://mlln.cn)mlln.cn, 并在文后留言`转载`.\n",
    "\n",
    "本文代码运行环境:\n",
    "\n",
    "- windows10\n",
    "- jupyter notebook\n",
    "- p5.js 0.6.1"
   ]
  },
  {
   "cell_type": "markdown",
   "metadata": {},
   "source": [
    "### 概述\n",
    "\n",
    "\n",
    "p5.js是一个JavaScript库，以[Processing](http://processing.org)为蓝本进行开发 - 可供艺术家，设计师，教育工作者和初学者使用。p5.js的名称使用了软件速写本的隐喻，p5.js具有一整套绘图功能。但是，它不仅限于在canvas上绘图，你可以将整个浏览器页面视为画板！为此，p5.js有很多插件实现了对including text, input, video, webcam, and sound等html5元素的控制。\n",
    "\n",
    "p5.js是一种新的解释器，它正在积极开发中。官方编辑器即将推出，还有更多功能！\n",
    "\n",
    "\n",
    "\n",
    "\n",
    "本系列教程的代码都是在[jupyter notebook](http://jupyter.cn)中运行的, 有关如何在jupyter notebook中运行p5.js的说明，请参阅[p5.js在jupyter-notebook中使用](#)。如果你不想使用这个运行环境, 你完全可以把我的代码复制到一个`sketch.js`文件中, 然后创建一个`index.html`文件来引用p5.js的库和`sketch.js`脚本。然后你就会看到和我的教程里一样的效果了。具体如何做, 你需要参考这篇文章:https://p5js.org/get-started/ , 但是需要强调的是, 本教程的代码可以在两种情况下通用, 不需要改任何代码。\n",
    "\n",
    "### 注册所需魔法"
   ]
  },
  {
   "cell_type": "code",
   "execution_count": 29,
   "metadata": {},
   "outputs": [],
   "source": [
    "from IPython.core.magic import register_cell_magic\n",
    "from IPython.display import IFrame\n",
    "\n",
    "TEMPLATE = \"\"\"\n",
    "<html>\n",
    "<head>\n",
    "<meta charset=\"utf-8\" />\n",
    "<script src=\"https://cdnjs.cloudflare.com/ajax/libs/p5.js/0.6.1/p5.min.js\"></script>\n",
    "<script src=\"https://cdnjs.cloudflare.com/ajax/libs/p5.js/0.6.1/addons/p5.dom.min.js\"></script>\n",
    "<script src=\"https://cdnjs.cloudflare.com/ajax/libs/p5.js/0.6.1/addons/p5.sound.min.js\"></script>\n",
    "<title>Notebook中显示P5.js页面</title>\n",
    "</head>\n",
    "<body>\n",
    "<a href=\"http://mlln.cn\"  target=\"_blank\"><h5>p5.js效果展示: %(name)s</h5></a>\n",
    "<script>\n",
    "%(script)s\n",
    "</script>\n",
    "</body>\n",
    "</html>\n",
    "\"\"\"\n",
    "@register_cell_magic\n",
    "def p5(line, cell):\n",
    "    file_id, kws = line.split(' ')[0], line.split(' ')[1:]\n",
    "    kwargs = {}\n",
    "    for kw in kws:\n",
    "        k, v = kw.split('=')\n",
    "        kwargs[k] = v\n",
    "    filename = f\"p5js-html/p5-01-{file_id}.html\"\n",
    "    with open(filename, \"w\", encoding='utf8') as fp:\n",
    "        fp.write(TEMPLATE % {\"script\": cell, \"name\": filename})\n",
    "    if 'height' not in kwargs:\n",
    "        kwargs['height'] = '200px'\n",
    "    return IFrame(filename, width=\"100%\", **kwargs)\n",
    "\n",
    "del p5"
   ]
  },
  {
   "cell_type": "markdown",
   "metadata": {},
   "source": [
    "## Hello world\n",
    "\n",
    "想要绘制图像, 你需要只是定义两个主要的函数。 `setup（）`函数运行一次，通常用于初始化，或者用于创建不需要重复循环运行代码的程序。 `draw（）`函数重复运行，用于动画绘制。\n",
    "\n",
    "对于你的第一个“Hello World”程序，创建一个`setup（）`函数并添加一行：\n"
   ]
  },
  {
   "cell_type": "code",
   "execution_count": 30,
   "metadata": {},
   "outputs": [
    {
     "data": {
      "text/html": [
       "\n",
       "        <iframe\n",
       "            width=\"100%\"\n",
       "            height=\"200px\"\n",
       "            src=\"p5js-html/p5-01-1.html\"\n",
       "            frameborder=\"0\"\n",
       "            allowfullscreen\n",
       "        ></iframe>\n",
       "        "
      ],
      "text/plain": [
       "<IPython.lib.display.IFrame at 0x13cc78c8f98>"
      ]
     },
     "execution_count": 30,
     "metadata": {},
     "output_type": "execute_result"
    }
   ],
   "source": [
    "%%p5 1\n",
    "function setup() {\n",
    "    background(100)\n",
    "    line(15, 25, 70, 90);\n",
    "}"
   ]
  },
  {
   "cell_type": "markdown",
   "metadata": {},
   "source": [
    "如果您在浏览器中查看此内容，则应该看到一条线。\n",
    "\n",
    "添加`draw()`函数使您可以生成动画。p5js会每隔一定时间自动调用你写的`draw`函数, 在下面的示例中，每次`draw()`运行时，都会更新变量`x`，而这个变量决定了圆的水平位置, 所以动画效果就是在屏幕上移动一个圆圈。一个动画就是这么简单。\n"
   ]
  },
  {
   "cell_type": "code",
   "execution_count": 31,
   "metadata": {},
   "outputs": [
    {
     "data": {
      "text/html": [
       "\n",
       "        <iframe\n",
       "            width=\"100%\"\n",
       "            height=\"200px\"\n",
       "            src=\"p5js-html/p5-01-2.html\"\n",
       "            frameborder=\"0\"\n",
       "            allowfullscreen\n",
       "        ></iframe>\n",
       "        "
      ],
      "text/plain": [
       "<IPython.lib.display.IFrame at 0x13cc78fc160>"
      ]
     },
     "execution_count": 31,
     "metadata": {},
     "output_type": "execute_result"
    }
   ],
   "source": [
    "%%p5 2\n",
    "var x = 0;\n",
    "\n",
    "function setup() {\n",
    "  background(100);  \n",
    "}\n",
    "\n",
    "function draw() {\n",
    "    ellipse(x, height/2, 20, 20);\n",
    "    x = x + 1;\n",
    "    if(x>100){\n",
    "        x=0\n",
    "    }\n",
    "}"
   ]
  },
  {
   "cell_type": "markdown",
   "metadata": {},
   "source": [
    "### 创建画板\n",
    "\n",
    "默认情况下，绘图画布的大小为100x100。如果要设置自定义大小，请使用`createCanvas（）`函数。总是把它作为`setup（）`的第一行是个好主意。下面的代码将画布设置为600x400：\n",
    "\n",
    "(你可能看不全这个图, 需要下拉滚动条, 这是因为在notebook中输出区域的高度小于iframe页面的高度)\n"
   ]
  },
  {
   "cell_type": "code",
   "execution_count": 32,
   "metadata": {
    "scrolled": false
   },
   "outputs": [
    {
     "data": {
      "text/html": [
       "\n",
       "        <iframe\n",
       "            width=\"100%\"\n",
       "            height=\"450\"\n",
       "            src=\"p5js-html/p5-01-3.html\"\n",
       "            frameborder=\"0\"\n",
       "            allowfullscreen\n",
       "        ></iframe>\n",
       "        "
      ],
      "text/plain": [
       "<IPython.lib.display.IFrame at 0x13cc78fc438>"
      ]
     },
     "execution_count": 32,
     "metadata": {},
     "output_type": "execute_result"
    }
   ],
   "source": [
    "%%p5 3 height=450\n",
    "\n",
    "function setup() {\n",
    "  createCanvas(600, 400);\n",
    "  line(15, 25, 650, 200);\n",
    "}"
   ]
  },
  {
   "cell_type": "markdown",
   "metadata": {},
   "source": [
    "`createCanvas（）`将创建一个指定大小的绘图画布，并将其附加到你正在使用的html页面。如果您的html页面正文中有其他内容，那么它将在此之后添加到页面，因此你可能无法在窗口顶部看到它。\n",
    "\n",
    "画布也会受到页面上任何现有css（样式）的影响，包括浏览器设置的默认值。例如，许多浏览器在页面末尾都有一个默认填充。如果您注意到窗口左上角的画布并非一直存在，这可能就是原因。要解决这个问题，你可以在你的html文件的`<head>`中添加一行来覆盖默认的填充，如下所示：\n",
    "\n",
    "\n",
    "```html\n",
    "<style> body{padding:0; margin:0;} </style>\n",
    "```\n",
    "\n",
    "如果要为画布指定位置，而不是直接附加到末尾，则可以使用`parent`方法。在你的html文件的`<body>`中，创建一个你想要插入画布的容器，其中包含你选择的ID：\n",
    "\n",
    "```html\n",
    "<div id='myContainer'></div>\n",
    "```\n",
    "然后在`setup()`函数中调用`parent`方法:\n",
    "\n",
    "```javascript\n",
    "function setup() {\n",
    "  var myCanvas = createCanvas(600, 400);\n",
    "  myCanvas.parent('myContainer');\n",
    "}\n",
    "```\n",
    "\n",
    "p5.js API提供了许多用于创建图形的功能，但是有一些HTML5 Canvas功能未被p5封装。你仍然可以使用变量`drawingContext`直接调用它，如下例所示。有关本机canvas API的信息，请参阅[reference]（https://developer.mozilla.org/en-US/docs/Web/API/CanvasRenderingContext2D）。\n",
    "\n",
    "```javascript\n",
    "function setup() {\n",
    "  drawingContext.shadowOffsetX = 5;\n",
    "  drawingContext.shadowOffsetY = -5;\n",
    "  drawingContext.shadowBlur = 10;\n",
    "  drawingContext.shadowColor = \"black\";\n",
    "  background(200);\n",
    "  ellipse(width/2, height/2, 50, 50);\n",
    "}\n",
    "```"
   ]
  },
  {
   "cell_type": "markdown",
   "metadata": {},
   "source": [
    "### 鼠标动作和触摸交互\n",
    "\n",
    "p5.js有一套处理鼠标和触摸交互的方法。下面的列表显示了它们在概念上的关系。\n",
    "\n",
    "鼠标 | 触摸\n",
    "------------- | -------------\n",
    "[mouseX](http://p5js.org/reference/#p5/mouseX)| [touchX](http://p5js.org/reference/#p5/touchX)\n",
    "[mouseY](http://p5js.org/reference/#p5/mouseY)| [touchY](http://p5js.org/reference/#p5/touchY)\n",
    "| [touches[]](http://p5js.org/reference/#p5/touches[])\n",
    "[mouseIsPressed](http://p5js.org/reference/#p5/mouseIsPressed)| \n",
    "[mousePressed()](http://p5js.org/reference/#p5/mousePressed)| [touchStarted()](http://p5js.org/reference/#p5/touchStarted)\n",
    "[mouseMoved()](http://p5js.org/reference/#p5/mouseMoved)| \n",
    "[mouseDragged()](http://p5js.org/reference/#p5/mouseDragged)| [touchMoved()](http://p5js.org/reference/#p5/touchMoved)\n",
    "[mouseReleased()](http://p5js.org/reference/#p5/mouseReleased)| [touchEnded()](http://p5js.org/reference/#p5/touchEnded)\n",
    "[mouseClicked()](http://p5js.org/reference/#p5/mouseClicked)| \n",
    "[mouseScrolled()](http://p5js.org/reference/#p5/mouseScrolled) |\n",
    "\n",
    "\n",
    "你可能会注意到触摸，除非你定义了`touchStarted`方法，否则屏幕可能会对你的移动设备的默认触摸行为做出反应（即，当拖动手指时，整个屏幕视图可能会移动）。如果你添加一个空的`touchStarted`方法，就不会有这个问题。\n",
    "\n",
    "许多浏览器都有各种交互的默认行为。例如，移动设备上的touchMoved可能会导致拖动整个窗口。要防止这些行为，请在定义的函数末尾添加`return false`行。\n",
    "\n",
    "\n",
    "```javascript\n",
    "function touchMoved() {\n",
    "  // do some stuff\n",
    "  return false;\n",
    "}\n",
    "```"
   ]
  },
  {
   "cell_type": "markdown",
   "metadata": {},
   "source": [
    "### 异步和文件加载\n",
    "\n",
    "JS是单线程和顺序执行的，但是，使用了异步函数可以使程序更快地执行。加载图像和外部文件通常由异步函数处理。 \n",
    "\n",
    "#### 回调函数\n",
    "\n",
    "All of the load functions will accept a callback function as an optional last argument. In the following example, an image is drawn once it is loaded.\n",
    "\n",
    "所有加载函数都将接受回调函数作为可选的最后一个参数。在以下示例中，图像在加载后执行`drawCat`函数。\n",
    "\n",
    "```javascript\n",
    "function setup() {\n",
    "  createCanvas(400, 240);\n",
    "  loadImage('cat.jpg', drawCat);\n",
    "}\n",
    "\n",
    "function drawCat(img) {\n",
    "  image(img, 0, 0);\n",
    "}\n",
    "```\n",
    "\n",
    "如果`loadImage`之后直接调用`image`，结果你看不到这个图片, 因为`loadImage`是异步执行, `image(img, 0, 0);`执行的时候, `img`图片还没有下载完成：\n",
    "\n",
    "```javascript\n",
    "function setup() {\n",
    "  createCanvas(400, 240);\n",
    "  var img = loadImage('cat.jpg');\n",
    "  image(img, 0, 0);\n",
    "}\n",
    "```\n",
    "\n",
    "#### 预加载\n",
    "\n",
    "或者，你可以使用`preload`函数。如果存在`preload`函数，它首先会运行，然后`setup`将等待`preload`执行完毕，这样你就可以在setup和draw中使用preload中加载的东西。请注意，除了加载函数之外，其他任何内容都不应该在`preload`中，所有其他初始化应该在setup中进行。另外, 预加载中的加载函数不需要回调。\n",
    "\n",
    "```javascript\n",
    "var img;\n",
    "function preload() {\n",
    "  img = loadImage('cat.jpg');\n",
    "}\n",
    "\n",
    "function setup() {\n",
    "  createCanvas(400, 240);\n",
    "  image(img, 0, 0);\n",
    "}\n",
    "```\n",
    "\n",
    "#### Loading Screen\n",
    "\n",
    "如上所述，如果你的程序依赖大的媒体文件，如图像，音频或视频，则应使用`preload`函数将这些依赖项加载到草图中。由于加载大文件可能需要一些时间，因此你可能希望向用户显示加载过程。这将表明你的程序没有死 - 它正在加载很多很酷的东西。要在p5.js程序中添加加载动画，你需要做的就是在页面上包含一个ID为“p5_loading”的HTML元素。它看起来像下面这样：\n",
    "\n",
    "`<div id=\"p5_loading\" class=\"loadingclass\">this could be some sweet graphics loading lots of bits.</div>`\n",
    "\n",
    "P5.js查看你的HTML，看看你是否包含了一个id为“p5_loading”的元素。 P5.js将使用此元素及其内容作为草图的加载提示。由于加载元素包含在HTML中，因此你可以添加任何其他类和/或设置。\n",
    "\n",
    "有关使用加载屏幕的草图示例，请参阅p5.js源中的`examples / loadingscreen / index.html`。\n"
   ]
  },
  {
   "cell_type": "markdown",
   "metadata": {},
   "source": [
    "### 默认函数\n",
    "\n",
    "有一些变量和功能使浏览器交互更容易，将来还会有更多！\n",
    "\n",
    "+ [windowWidth](http://p5js.org/reference/#p5/windowWidth) / [windowHeight](http://p5js.org/reference/#p5/windowHeight)\n",
    "+ [displayWidth](http://p5js.org/reference/#p5/displayWidth) / [displayHeight](http://p5js.org/reference/#p5/displayHeight)\n",
    "+ [winMouseX](http://p5js.org/reference/#p5/winMouseX) / [winMouseY](http://p5js.org/reference/#p5/winMouseY)\n",
    "+ [fullscreen()](http://p5js.org/reference/#p5/fullscreen)\n",
    "\n",
    "你还应该能够在p5.js程序中使用任何本地JS函数而不会出现问题，[MDN JavaScript参考](https://developer.mozilla.org/en-US/docs/Web/JavaScript)是一个了解更多信息的好地方。阅读下一节，了解如何让p5在项目的其余部分发挥出色。\n",
    "\n",
    "\n",
    "### 实例化/命名空间\n",
    "\n",
    "默认情况下，所有p5.js函数都在全局命名空间中（即绑定到window对象），这意味着你可以直接调用函数`ellipse（）`，`fill（）`等。但是，如果你这可能不方便正在与其他JS库混用（同步或异步）或编写自己的长程序。 p5.js目前支持两种解决此问题的方法：“实例模式”和“按需全局模式”。在实例模式中，所有p5函数都绑定在单个变量中，而不是污染全局命名空间。\n",
    "\n",
    "考虑这样的程序：\n",
    "\n",
    "```javascript\n",
    "var x = 100;\n",
    "var y = 100;\n",
    "\n",
    "function setup() {\n",
    "  createCanvas(200,200);\n",
    "}\n",
    "\n",
    "function draw() {\n",
    "  background(0);\n",
    "  fill(255);\n",
    "  ellipse(x,y,50,50);\n",
    "}\n",
    "```\n",
    "\n",
    "转换为“实例模式”如下所示：\n",
    "\n",
    "```javascript\n",
    "var s = function( p ) {\n",
    "\n",
    "  var x = 100; \n",
    "  var y = 100;\n",
    "\n",
    "  p.setup = function() {\n",
    "    p.createCanvas(700, 410);\n",
    "  };\n",
    "\n",
    "  p.draw = function() {\n",
    "    p.background(0);\n",
    "    p.fill(255);\n",
    "    p.rect(x,y,50,50);\n",
    "  };\n",
    "};\n",
    "\n",
    "var myp5 = new p5(s);\n",
    "```\n",
    "\n",
    "你可以为画布指定默认容器，并使用第二个参数指定要追加的任何其他元素。你可以在html或html节点中提供元素的ID：\n",
    "\n",
    "```var myp5 = new p5(s, 'myContainer');```\n",
    "\n",
    "请注意，创建这样的实例还允许您在单个网页上拥有多个p5程序，因为它们将使用自己的变量进行包装。当然，你可以使用iframe在全局模式下拥有多个p5程序。\n",
    "\n",
    "\n",
    "按照这些方式，按需全局模式还允许在页面加载之前实例化p5，可以编写以下类型的程序：\n",
    "\n",
    "```javascript\n",
    "new p5();\n",
    "\n",
    "var boop = random(100);\n",
    "\n",
    "function setup() {\n",
    "    createCanvas(100, 100);\n",
    "}\n",
    "\n",
    "function draw() {\n",
    "    background(255, 0, boop);\n",
    "}\n",
    "```"
   ]
  },
  {
   "cell_type": "markdown",
   "metadata": {},
   "source": [
    "### 库\n",
    "\n",
    "p5.js背后的核心思想之一是，你的草图不仅仅是图形画布，而是浏览器中的整个网页。出于这个原因，有[p5.dom库](http://p5js.org/reference/#/libraries/p5.dom)可以轻松地与其他HTML5对象进行交互，包括文本，超链接，图像，输入，视频，音频和网络摄像头。还有一个[p5.sound库](http://p5js.org/reference/#/libraries/p5.sound)，它为HTML5 web音频API提供了一个友好的接口，用于加载，播放和合成声音。\n",
    "\n",
    "学习如何使用这些库或自己开发看[这里](http://p5js.org/libraries/)。"
   ]
  },
  {
   "cell_type": "markdown",
   "metadata": {},
   "source": [
    "### 编辑器\n",
    "\n",
    "你可以使用任何您喜欢的编辑环境，此外，[p5.js编辑器](http://p5js.org/download/#editor)正在开发中，你现在可以试用alpha版本。 p5.js编辑器处理设置项目并为你运行本地服务器。你通常可以在没有服务器的情况下运行p5.js程序，但如果你正在执行某些操作（例如加载外部文件），则需要它。以下是[设置本地服务器](https://github.com/processing/p5.js/wiki/Local-server)的说明。"
   ]
  }
 ],
 "metadata": {
  "kernelspec": {
   "display_name": "Python 3",
   "language": "python",
   "name": "python3"
  },
  "language_info": {
   "codemirror_mode": {
    "name": "ipython",
    "version": 3
   },
   "file_extension": ".py",
   "mimetype": "text/x-python",
   "name": "python",
   "nbconvert_exporter": "python",
   "pygments_lexer": "ipython3",
   "version": "3.6.4"
  }
 },
 "nbformat": 4,
 "nbformat_minor": 2
}
