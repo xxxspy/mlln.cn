{
 "cells": [
  {
   "cell_type": "markdown",
   "metadata": {},
   "source": [
    "---\n",
    "title: pyscript用python写JavaScript\n",
    "date: 2018-07-13 20:17:55\n",
    "tags: [javascript, python]\n",
    "toc: true\n",
    "xiongzhang: true\n",
    "\n",
    "\n",
    "---\n",
    "<span></span>\n",
    "<!-- more -->\n",
    "\n",
    "> 声明: 本文由[DataScience](http://mlln.cn)发表,未经允许不得转载。 转载请注明[本文链接](http://mlln.cn)mlln.cn, 并在文后留言`转载`.\n",
    "\n",
    "本文代码运行环境:\n",
    "\n",
    "- windows10\n",
    "- jupyter notebook\n",
    "- python3.6"
   ]
  },
  {
   "cell_type": "markdown",
   "metadata": {},
   "source": [
    "### pyscript简介\n",
    "\n",
    "pyscript模块提供了将Python代码转换为JavaScript的功能。这是使用PyScript的简要介绍。有关详细信息，请参阅以下部分。\n",
    "\n",
    "PyScript是一种使用Python语言编写JavaScript的工具。支持所有相关的内置功能，以及list，dict和str的方法。不支持set，带step参数的切片操作，yield和import。除此之外，大多数Python代码应该按预期工作...根据经验，代码在正确时应该按预期运行，但错误报告可能不是非常Pythonic。\n",
    "\n",
    "您需要了解的最重要的函数是`py2js`和`evalpy`。原则上，您不需要JavaScript的知识来编写PyScript代码，尽管它在极端情况下确实有帮助。"
   ]
  },
  {
   "cell_type": "markdown",
   "metadata": {},
   "source": [
    "### 目标\n",
    "\n",
    "使用web技术实现可视化和用户交互的Python项目有所增加。 PyScript允许用户在Python中编写JavaScript回调，实现交互的灵活/快速。\n",
    "\n",
    "这导致了以下两个主要目标：\n",
    "\n",
    "通过让人们使用Python语法和内置函数来编写javascript，并修复一些JavaScripts怪癖，使编写JavaScript变得更容易，更不令人沮丧。允许在Python程序中定义JavaScript代码段。PyScript生成的代码可以独立工作。任何（PyScript兼容的）Python片段都可以转换为JS;你不需要另一个JS库来运行它。\n",
    "\n",
    "PyScript还可用于开发独立的JavaScript（AMD）模块。"
   ]
  },
  {
   "cell_type": "markdown",
   "metadata": {},
   "source": [
    "### 注意\n",
    "\n",
    "PyScript修复了JS的一些怪癖，但它仍然只是JavaScript。这是一个值得关注的事项列表。此列表可能不完整。如果您打算大量使用PyScript，我们建议您熟悉JavaScript。\n",
    "\n",
    "- JavasScript有一个null（即None）的概念，以及undefined。有时您可能想要使用`if x is None or x is undefined`\n",
    "- 访问不存在的属性不会引发AttributeError但会产生undefined, 这是JavaScript的特性\n",
    "- 类上的魔术函数（例如，用于运算符重载）不起作用。\n",
    "- 调用以大写字母开头的对象被假定为类实例化（使用new）：PyScript类必须以大写字母开头，而任何其他callables都不能。\n",
    "- 如果函数具有** kwargs参数或* args之后的命名参数，则函数可以接受它。将关键字传递给不处理关键字参数的函数可能会导致混淆错误。"
   ]
  },
  {
   "cell_type": "markdown",
   "metadata": {},
   "source": [
    "### 案例"
   ]
  },
  {
   "cell_type": "markdown",
   "metadata": {},
   "source": [
    "为了在notebook中实时显示python转JavaScript的过程, 我们注册一个魔法函数, 功能很简单, 就是把python代码转成JavaScript, 并显示在输出区域。"
   ]
  },
  {
   "cell_type": "code",
   "execution_count": 13,
   "metadata": {},
   "outputs": [],
   "source": [
    "from IPython.core.magic import register_cell_magic\n",
    "from IPython.display import Markdown\n",
    "\n",
    "\n",
    "@register_cell_magic\n",
    "def py2js(line, cell):\n",
    "    from pscript import py2js\n",
    "    js= py2js(cell)\n",
    "    return Markdown(f'```javascript\\n{js}\\n```')"
   ]
  },
  {
   "cell_type": "code",
   "execution_count": 14,
   "metadata": {},
   "outputs": [
    {
     "data": {
      "text/markdown": [
       "```javascript\n",
       "var a;\n",
       "a = 1;\n",
       "```"
      ],
      "text/plain": [
       "<IPython.core.display.Markdown object>"
      ]
     },
     "execution_count": 14,
     "metadata": {},
     "output_type": "execute_result"
    }
   ],
   "source": [
    "%%py2js\n",
    "\n",
    "a = 1"
   ]
  },
  {
   "cell_type": "markdown",
   "metadata": {},
   "source": [
    "#### 基本操作"
   ]
  },
  {
   "cell_type": "code",
   "execution_count": 15,
   "metadata": {},
   "outputs": [
    {
     "data": {
      "text/markdown": [
       "```javascript\n",
       "var _pyfunc_pow = Math.pow;\n",
       "(3 + 4) - 1;\n",
       "(3 * 7) / 9;\n",
       "Math.pow(5, 2);\n",
       "_pyfunc_pow(5, 2);\n",
       "Math.floor(7/2);\n",
       "```"
      ],
      "text/plain": [
       "<IPython.core.display.Markdown object>"
      ]
     },
     "execution_count": 15,
     "metadata": {},
     "output_type": "execute_result"
    }
   ],
   "source": [
    "%%py2js\n",
    "\n",
    "# Simple operations\n",
    "3 + 4 -1\n",
    "3 * 7 / 9\n",
    "5**2\n",
    "pow(5, 2)\n",
    "7 // 2"
   ]
  },
  {
   "cell_type": "markdown",
   "metadata": {},
   "source": [
    "#### 数据类型\n"
   ]
  },
  {
   "cell_type": "code",
   "execution_count": 18,
   "metadata": {},
   "outputs": [
    {
     "data": {
      "text/markdown": [
       "```javascript\n",
       "var bar, foo;\n",
       "[true, false, null];\n",
       "foo = [1, 2, 3];\n",
       "bar = ({a: 1, b: 2});\n",
       "```"
      ],
      "text/plain": [
       "<IPython.core.display.Markdown object>"
      ]
     },
     "execution_count": 18,
     "metadata": {},
     "output_type": "execute_result"
    }
   ],
   "source": [
    "%%py2js\n",
    "\n",
    "[True, False, None]\n",
    "\n",
    "foo = [1, 2, 3]\n",
    "bar = {'a': 1, 'b': 2}"
   ]
  },
  {
   "cell_type": "code",
   "execution_count": 45,
   "metadata": {},
   "outputs": [
    {
     "data": {
      "text/markdown": [
       "```javascript\n",
       "var _pymeth_sort = function (key, reverse) { // nargs: 0 1 2\n",
       "    if (!Array.isArray(this)) return this.sort.apply(this, arguments);\n",
       "    var comp = function (a, b) {a = key(a); b = key(b);\n",
       "        if (a<b) {return -1;} if (a>b) {return 1;} return 0;};\n",
       "    comp = Boolean(key) ? comp : undefined; \n",
       "    this.sort(comp);\n",
       "    if (reverse) this.reverse();\n",
       "};\n",
       "var a;\n",
       "a = [2, 3, 4];\n",
       "_pymeth_sort.call(a, undefined, false);\n",
       "```"
      ],
      "text/plain": [
       "<IPython.core.display.Markdown object>"
      ]
     },
     "execution_count": 45,
     "metadata": {},
     "output_type": "execute_result"
    }
   ],
   "source": [
    "%%py2js\n",
    "\n",
    "a = [2,3,4]\n",
    "a.sort()"
   ]
  },
  {
   "cell_type": "markdown",
   "metadata": {},
   "source": [
    "#### 切片操作和取值"
   ]
  },
  {
   "cell_type": "code",
   "execution_count": 19,
   "metadata": {},
   "outputs": [
    {
     "data": {
      "text/markdown": [
       "```javascript\n",
       "var foo;\n",
       "foo = [1, 2, 3, 4, 5];\n",
       "foo.slice(2);\n",
       "foo.slice(2,-2);\n",
       "```"
      ],
      "text/plain": [
       "<IPython.core.display.Markdown object>"
      ]
     },
     "execution_count": 19,
     "metadata": {},
     "output_type": "execute_result"
    }
   ],
   "source": [
    "%%py2js\n",
    "\n",
    "foo = [1, 2, 3, 4, 5]\n",
    "foo[2:]\n",
    "foo[2:-2]"
   ]
  },
  {
   "cell_type": "code",
   "execution_count": 21,
   "metadata": {},
   "outputs": [
    {
     "data": {
      "text/markdown": [
       "```javascript\n",
       "var bar;\n",
       "bar = \"abcdefghij\";\n",
       "bar.slice(2);\n",
       "bar.slice(2,-2);\n",
       "```"
      ],
      "text/plain": [
       "<IPython.core.display.Markdown object>"
      ]
     },
     "execution_count": 21,
     "metadata": {},
     "output_type": "execute_result"
    }
   ],
   "source": [
    "%%py2js\n",
    "bar = 'abcdefghij'\n",
    "bar[2:]\n",
    "bar[2:-2]"
   ]
  },
  {
   "cell_type": "code",
   "execution_count": 23,
   "metadata": {},
   "outputs": [
    {
     "data": {
      "text/markdown": [
       "```javascript\n",
       "var foo;\n",
       "foo = ({bar: 3});\n",
       "foo[\"bar\"];\n",
       "foo.bar;\n",
       "```"
      ],
      "text/plain": [
       "<IPython.core.display.Markdown object>"
      ]
     },
     "execution_count": 23,
     "metadata": {},
     "output_type": "execute_result"
    }
   ],
   "source": [
    "%%py2js\n",
    "# Subscripting\n",
    "foo = {'bar': 3}\n",
    "foo['bar']\n",
    "foo.bar  # Works in JS, but not in Python"
   ]
  },
  {
   "cell_type": "markdown",
   "metadata": {},
   "source": [
    "#### 格式化字符串"
   ]
  },
  {
   "cell_type": "code",
   "execution_count": 26,
   "metadata": {},
   "outputs": [
    {
     "data": {
      "text/markdown": [
       "```javascript\n",
       "var _pyfunc_format = function (v, fmt) {  // nargs: 2\n",
       "    fmt = fmt.toLowerCase();\n",
       "    var s = String(v);\n",
       "    if (fmt.indexOf('!r') >= 0) {\n",
       "        try { s = JSON.stringify(v); } catch (e) { s = undefined; }\n",
       "        if (typeof s === 'undefined') { s = v._IS_COMPONENT ? v.id : String(v); }\n",
       "    }\n",
       "    var i0 = fmt.indexOf(':');\n",
       "    if (i0 < 0) {\n",
       "    } else if (fmt.indexOf('i', i0) > i0) { // integer formatting\n",
       "        s = Number.parseInt(v).toFixed(0);\n",
       "    } else if (fmt.indexOf('f', i0) > i0) {  // float formatting\n",
       "        v = Number.parseFloat(v);\n",
       "        var spec = fmt.slice(i0+1, fmt.indexOf('f', i0));\n",
       "        var decimals = 6;\n",
       "        if (spec.indexOf('.') >= 0) {\n",
       "            var decimals = Number(spec.slice(spec.indexOf('.')+1));\n",
       "        }\n",
       "        s = v.toFixed(decimals);\n",
       "    } else if (fmt.indexOf('e', i0) > i0) {  // exp formatting\n",
       "        v = Number.parseFloat(v);\n",
       "        var precision = 6;\n",
       "        var spec = fmt.slice(i0+1, fmt.indexOf('e', i0));\n",
       "        if (spec.indexOf('.') >= 0) {\n",
       "            precision = Number(spec.slice(spec.indexOf('.')+1)) || 1;\n",
       "        }\n",
       "        s = v.toExponential(precision);\n",
       "    } else if (fmt.indexOf('g', i0) > i0) {  // \"general\" formatting\n",
       "        v = Number.parseFloat(v);\n",
       "        var precision = 6;\n",
       "        var spec = fmt.slice(i0+1, fmt.indexOf('g', i0));\n",
       "        if (spec.indexOf('.') >= 0) {\n",
       "            precision = Number(spec.slice(spec.indexOf('.')+1)) || 1;\n",
       "        }\n",
       "        // Exp or decimal?\n",
       "        s = v.toExponential(precision-1);\n",
       "        var s1 = s.slice(0, s.indexOf('e')), s2 = s.slice(s.indexOf('e'));\n",
       "        if (s2.length == 3) { s2 = 'e' + s2[1] + '0' + s2[2]; }\n",
       "        var exp = Number(s2.slice(1));\n",
       "        if (exp >= -4 && exp < precision) { s1=v.toPrecision(precision); s2=''; }\n",
       "        // Skip trailing zeros and dot\n",
       "        var j = s1.length-1;\n",
       "        while (j>0 && s1[j] == '0') { j-=1; }\n",
       "        s1 = s1.slice(0, j+1);\n",
       "        if (s1.endsWith('.')) { s1 = s1.slice(0, s1.length-1); }\n",
       "        s = s1 + s2;\n",
       "    }\n",
       "    if (i0 >= 0 && v > 0) {\n",
       "        if (fmt[i0+1] == '+') { s = '+' + s; }\n",
       "        if (fmt[i0+1] == ' ') { s = ' ' + s; }\n",
       "    }\n",
       "    return s;\n",
       "};\n",
       "var _pymeth_format = function () {\n",
       "    if (this.constructor !== String) return this.format.apply(this, arguments);\n",
       "    var parts = [], i = 0, i1, i2;\n",
       "    var itemnr = -1;\n",
       "    while (i < this.length) {\n",
       "        // find opening\n",
       "        i1 = this.indexOf('{', i);\n",
       "        if (i1 < 0 || i1 == this.length-1) { break; }\n",
       "        if (this[i1+1] == '{') {parts.push(this.slice(i, i1+1)); i = i1 + 2; continue;}\n",
       "        // find closing\n",
       "        i2 = this.indexOf('}', i1);\n",
       "        if (i2 < 0) { break; }\n",
       "        // parse\n",
       "        itemnr += 1;\n",
       "        var fmt = this.slice(i1+1, i2);\n",
       "        var index = fmt.split(':')[0].split('!')[0];\n",
       "        index = index? Number(index) : itemnr\n",
       "        var s = _pyfunc_format(arguments[index], fmt);\n",
       "        parts.push(this.slice(i, i1), s);\n",
       "        i = i2 + 1;\n",
       "    }\n",
       "    parts.push(this.slice(i));\n",
       "    return parts.join('');\n",
       "};\n",
       "_pymeth_format.call(\"value: {:f}\", val);\n",
       "```"
      ],
      "text/plain": [
       "<IPython.core.display.Markdown object>"
      ]
     },
     "execution_count": 26,
     "metadata": {},
     "output_type": "execute_result"
    }
   ],
   "source": [
    "%%py2js\n",
    "\"value: %f\" % val\n",
    "\n",
    "# 卧槽, 生成的代码太长了"
   ]
  },
  {
   "cell_type": "code",
   "execution_count": 28,
   "metadata": {
    "scrolled": false
   },
   "outputs": [
    {
     "data": {
      "text/markdown": [
       "```javascript\n",
       "var _pyfunc_format = function (v, fmt) {  // nargs: 2\n",
       "    fmt = fmt.toLowerCase();\n",
       "    var s = String(v);\n",
       "    if (fmt.indexOf('!r') >= 0) {\n",
       "        try { s = JSON.stringify(v); } catch (e) { s = undefined; }\n",
       "        if (typeof s === 'undefined') { s = v._IS_COMPONENT ? v.id : String(v); }\n",
       "    }\n",
       "    var i0 = fmt.indexOf(':');\n",
       "    if (i0 < 0) {\n",
       "    } else if (fmt.indexOf('i', i0) > i0) { // integer formatting\n",
       "        s = Number.parseInt(v).toFixed(0);\n",
       "    } else if (fmt.indexOf('f', i0) > i0) {  // float formatting\n",
       "        v = Number.parseFloat(v);\n",
       "        var spec = fmt.slice(i0+1, fmt.indexOf('f', i0));\n",
       "        var decimals = 6;\n",
       "        if (spec.indexOf('.') >= 0) {\n",
       "            var decimals = Number(spec.slice(spec.indexOf('.')+1));\n",
       "        }\n",
       "        s = v.toFixed(decimals);\n",
       "    } else if (fmt.indexOf('e', i0) > i0) {  // exp formatting\n",
       "        v = Number.parseFloat(v);\n",
       "        var precision = 6;\n",
       "        var spec = fmt.slice(i0+1, fmt.indexOf('e', i0));\n",
       "        if (spec.indexOf('.') >= 0) {\n",
       "            precision = Number(spec.slice(spec.indexOf('.')+1)) || 1;\n",
       "        }\n",
       "        s = v.toExponential(precision);\n",
       "    } else if (fmt.indexOf('g', i0) > i0) {  // \"general\" formatting\n",
       "        v = Number.parseFloat(v);\n",
       "        var precision = 6;\n",
       "        var spec = fmt.slice(i0+1, fmt.indexOf('g', i0));\n",
       "        if (spec.indexOf('.') >= 0) {\n",
       "            precision = Number(spec.slice(spec.indexOf('.')+1)) || 1;\n",
       "        }\n",
       "        // Exp or decimal?\n",
       "        s = v.toExponential(precision-1);\n",
       "        var s1 = s.slice(0, s.indexOf('e')), s2 = s.slice(s.indexOf('e'));\n",
       "        if (s2.length == 3) { s2 = 'e' + s2[1] + '0' + s2[2]; }\n",
       "        var exp = Number(s2.slice(1));\n",
       "        if (exp >= -4 && exp < precision) { s1=v.toPrecision(precision); s2=''; }\n",
       "        // Skip trailing zeros and dot\n",
       "        var j = s1.length-1;\n",
       "        while (j>0 && s1[j] == '0') { j-=1; }\n",
       "        s1 = s1.slice(0, j+1);\n",
       "        if (s1.endsWith('.')) { s1 = s1.slice(0, s1.length-1); }\n",
       "        s = s1 + s2;\n",
       "    }\n",
       "    if (i0 >= 0 && v > 0) {\n",
       "        if (fmt[i0+1] == '+') { s = '+' + s; }\n",
       "        if (fmt[i0+1] == ' ') { s = ' ' + s; }\n",
       "    }\n",
       "    return s;\n",
       "};\n",
       "var _pymeth_format = function () {\n",
       "    if (this.constructor !== String) return this.format.apply(this, arguments);\n",
       "    var parts = [], i = 0, i1, i2;\n",
       "    var itemnr = -1;\n",
       "    while (i < this.length) {\n",
       "        // find opening\n",
       "        i1 = this.indexOf('{', i);\n",
       "        if (i1 < 0 || i1 == this.length-1) { break; }\n",
       "        if (this[i1+1] == '{') {parts.push(this.slice(i, i1+1)); i = i1 + 2; continue;}\n",
       "        // find closing\n",
       "        i2 = this.indexOf('}', i1);\n",
       "        if (i2 < 0) { break; }\n",
       "        // parse\n",
       "        itemnr += 1;\n",
       "        var fmt = this.slice(i1+1, i2);\n",
       "        var index = fmt.split(':')[0].split('!')[0];\n",
       "        index = index? Number(index) : itemnr\n",
       "        var s = _pyfunc_format(arguments[index], fmt);\n",
       "        parts.push(this.slice(i, i1), s);\n",
       "        i = i2 + 1;\n",
       "    }\n",
       "    parts.push(this.slice(i));\n",
       "    return parts.join('');\n",
       "};\n",
       "_pymeth_format.call(\"{a}\", a);\n",
       "```"
      ],
      "text/plain": [
       "<IPython.core.display.Markdown object>"
      ]
     },
     "execution_count": 28,
     "metadata": {},
     "output_type": "execute_result"
    }
   ],
   "source": [
    "%%py2js\n",
    "\n",
    "'{a}'.format(a)"
   ]
  },
  {
   "cell_type": "markdown",
   "metadata": {},
   "source": [
    "#### 赋值操作"
   ]
  },
  {
   "cell_type": "code",
   "execution_count": 29,
   "metadata": {},
   "outputs": [
    {
     "data": {
      "text/markdown": [
       "```javascript\n",
       "bar.foo = 3;\n",
       "```"
      ],
      "text/plain": [
       "<IPython.core.display.Markdown object>"
      ]
     },
     "execution_count": 29,
     "metadata": {},
     "output_type": "execute_result"
    }
   ],
   "source": [
    "%%py2js\n",
    "\n",
    "bar.foo = 3"
   ]
  },
  {
   "cell_type": "code",
   "execution_count": 30,
   "metadata": {},
   "outputs": [
    {
     "data": {
      "text/markdown": [
       "```javascript\n",
       "var a;\n",
       "a = [1, 2, 3];\n",
       "```"
      ],
      "text/plain": [
       "<IPython.core.display.Markdown object>"
      ]
     },
     "execution_count": 30,
     "metadata": {},
     "output_type": "execute_result"
    }
   ],
   "source": [
    "%%py2js\n",
    "a = 1, 2, 3"
   ]
  },
  {
   "cell_type": "code",
   "execution_count": 31,
   "metadata": {},
   "outputs": [
    {
     "data": {
      "text/markdown": [
       "```javascript\n",
       "var a1, a2, a3, stub1_;\n",
       "stub1_ = a;\n",
       "a1 = stub1_[0];a2 = stub1_[1];a3 = stub1_[2];\n",
       "```"
      ],
      "text/plain": [
       "<IPython.core.display.Markdown object>"
      ]
     },
     "execution_count": 31,
     "metadata": {},
     "output_type": "execute_result"
    }
   ],
   "source": [
    "%%py2js\n",
    "a1, a2, a3 = a"
   ]
  },
  {
   "cell_type": "code",
   "execution_count": 32,
   "metadata": {},
   "outputs": [
    {
     "data": {
      "text/markdown": [
       "```javascript\n",
       "delete bar.foo;\n",
       "```"
      ],
      "text/plain": [
       "<IPython.core.display.Markdown object>"
      ]
     },
     "execution_count": 32,
     "metadata": {},
     "output_type": "execute_result"
    }
   ],
   "source": [
    "%%py2js\n",
    "\n",
    "del bar.foo"
   ]
  },
  {
   "cell_type": "code",
   "execution_count": 33,
   "metadata": {},
   "outputs": [
    {
     "data": {
      "text/markdown": [
       "```javascript\n",
       "var foo;\n",
       "foo = new Foo();\n",
       "```"
      ],
      "text/plain": [
       "<IPython.core.display.Markdown object>"
      ]
     },
     "execution_count": 33,
     "metadata": {},
     "output_type": "execute_result"
    }
   ],
   "source": [
    "%%py2js\n",
    "# 大写字母开头, 实例化这个类\n",
    "foo = Foo()"
   ]
  },
  {
   "cell_type": "markdown",
   "metadata": {},
   "source": [
    "#### 比较"
   ]
  },
  {
   "cell_type": "code",
   "execution_count": 34,
   "metadata": {},
   "outputs": [
    {
     "data": {
      "text/markdown": [
       "```javascript\n",
       "foo === bar;\n",
       "```"
      ],
      "text/plain": [
       "<IPython.core.display.Markdown object>"
      ]
     },
     "execution_count": 34,
     "metadata": {},
     "output_type": "execute_result"
    }
   ],
   "source": [
    "%%py2js\n",
    "\n",
    "foo is bar"
   ]
  },
  {
   "cell_type": "code",
   "execution_count": 35,
   "metadata": {},
   "outputs": [
    {
     "data": {
      "text/markdown": [
       "```javascript\n",
       "var _pyfunc_op_equals = function op_equals (a, b) { // nargs: 2\n",
       "    if (a == null || b == null) {\n",
       "    } else if (Array.isArray(a) && Array.isArray(b)) {\n",
       "        var i = 0, iseq = a.length == b.length;\n",
       "        while (iseq && i < a.length) {iseq = op_equals(a[i], b[i]); i+=1;}\n",
       "        return iseq;\n",
       "    } else if (a.constructor === Object && b.constructor === Object) {\n",
       "        var akeys = Object.keys(a), bkeys = Object.keys(b);\n",
       "        akeys.sort(); bkeys.sort();\n",
       "        var i=0, k, iseq = op_equals(akeys, bkeys);\n",
       "        while (iseq && i < akeys.length)\n",
       "            {k=akeys[i]; iseq = op_equals(a[k], b[k]); i+=1;}\n",
       "        return iseq;\n",
       "    } return a == b;\n",
       "};\n",
       "_pyfunc_op_equals(foo, bar);\n",
       "```"
      ],
      "text/plain": [
       "<IPython.core.display.Markdown object>"
      ]
     },
     "execution_count": 35,
     "metadata": {},
     "output_type": "execute_result"
    }
   ],
   "source": [
    "%%py2js\n",
    "\n",
    "foo == bar"
   ]
  },
  {
   "cell_type": "code",
   "execution_count": 36,
   "metadata": {},
   "outputs": [
    {
     "data": {
      "text/markdown": [
       "```javascript\n",
       "var _pyfunc_op_contains = function op_contains (a, b) { // nargs: 2\n",
       "    if (b == null) {\n",
       "    } else if (Array.isArray(b)) {\n",
       "        for (var i=0; i<b.length; i++) {if (_pyfunc_op_equals(a, b[i]))\n",
       "                                           return true;}\n",
       "        return false;\n",
       "    } else if (b.constructor === Object) {\n",
       "        for (var k in b) {if (a == k) return true;}\n",
       "        return false;\n",
       "    } else if (b.constructor == String) {\n",
       "        return b.indexOf(a) >= 0;\n",
       "    } var e = Error('Not a container: ' + b); e.name='TypeError'; throw e;\n",
       "};\n",
       "var _pyfunc_op_equals = function op_equals (a, b) { // nargs: 2\n",
       "    if (a == null || b == null) {\n",
       "    } else if (Array.isArray(a) && Array.isArray(b)) {\n",
       "        var i = 0, iseq = a.length == b.length;\n",
       "        while (iseq && i < a.length) {iseq = op_equals(a[i], b[i]); i+=1;}\n",
       "        return iseq;\n",
       "    } else if (a.constructor === Object && b.constructor === Object) {\n",
       "        var akeys = Object.keys(a), bkeys = Object.keys(b);\n",
       "        akeys.sort(); bkeys.sort();\n",
       "        var i=0, k, iseq = op_equals(akeys, bkeys);\n",
       "        while (iseq && i < akeys.length)\n",
       "            {k=akeys[i]; iseq = op_equals(a[k], b[k]); i+=1;}\n",
       "        return iseq;\n",
       "    } return a == b;\n",
       "};\n",
       "_pyfunc_op_equals([2, 3, 4], [2, 3, 4]);\n",
       "_pyfunc_op_contains([2, 3], ([[1, 2], [2, 3], [3, 4]]));\n",
       "```"
      ],
      "text/plain": [
       "<IPython.core.display.Markdown object>"
      ]
     },
     "execution_count": 36,
     "metadata": {},
     "output_type": "execute_result"
    }
   ],
   "source": [
    "%%py2js\n",
    "# 深度比较, 和js不同\n",
    "(2, 3, 4) == (2, 3, 4)\n",
    "(2, 3) in [(1,2), (2,3), (3,4)]"
   ]
  },
  {
   "cell_type": "code",
   "execution_count": 37,
   "metadata": {},
   "outputs": [
    {
     "data": {
      "text/markdown": [
       "```javascript\n",
       "foo === undefined;\n",
       "```"
      ],
      "text/plain": [
       "<IPython.core.display.Markdown object>"
      ]
     },
     "execution_count": 37,
     "metadata": {},
     "output_type": "execute_result"
    }
   ],
   "source": [
    "%%py2js\n",
    "\n",
    "foo is undefined"
   ]
  },
  {
   "cell_type": "code",
   "execution_count": 39,
   "metadata": {},
   "outputs": [
    {
     "data": {
      "text/markdown": [
       "```javascript\n",
       "var _pyfunc_op_contains = function op_contains (a, b) { // nargs: 2\n",
       "    if (b == null) {\n",
       "    } else if (Array.isArray(b)) {\n",
       "        for (var i=0; i<b.length; i++) {if (_pyfunc_op_equals(a, b[i]))\n",
       "                                           return true;}\n",
       "        return false;\n",
       "    } else if (b.constructor === Object) {\n",
       "        for (var k in b) {if (a == k) return true;}\n",
       "        return false;\n",
       "    } else if (b.constructor == String) {\n",
       "        return b.indexOf(a) >= 0;\n",
       "    } var e = Error('Not a container: ' + b); e.name='TypeError'; throw e;\n",
       "};\n",
       "var _pyfunc_op_equals = function op_equals (a, b) { // nargs: 2\n",
       "    if (a == null || b == null) {\n",
       "    } else if (Array.isArray(a) && Array.isArray(b)) {\n",
       "        var i = 0, iseq = a.length == b.length;\n",
       "        while (iseq && i < a.length) {iseq = op_equals(a[i], b[i]); i+=1;}\n",
       "        return iseq;\n",
       "    } else if (a.constructor === Object && b.constructor === Object) {\n",
       "        var akeys = Object.keys(a), bkeys = Object.keys(b);\n",
       "        akeys.sort(); bkeys.sort();\n",
       "        var i=0, k, iseq = op_equals(akeys, bkeys);\n",
       "        while (iseq && i < akeys.length)\n",
       "            {k=akeys[i]; iseq = op_equals(a[k], b[k]); i+=1;}\n",
       "        return iseq;\n",
       "    } return a == b;\n",
       "};\n",
       "_pyfunc_op_contains(\"foo\", \"this has foo in it\");\n",
       "```"
      ],
      "text/plain": [
       "<IPython.core.display.Markdown object>"
      ]
     },
     "execution_count": 39,
     "metadata": {},
     "output_type": "execute_result"
    }
   ],
   "source": [
    "%%py2js\n",
    "\n",
    "\"foo\" in \"this has foo in it\""
   ]
  },
  {
   "cell_type": "code",
   "execution_count": 40,
   "metadata": {},
   "outputs": [
    {
     "data": {
      "text/markdown": [
       "```javascript\n",
       "var _pyfunc_op_contains = function op_contains (a, b) { // nargs: 2\n",
       "    if (b == null) {\n",
       "    } else if (Array.isArray(b)) {\n",
       "        for (var i=0; i<b.length; i++) {if (_pyfunc_op_equals(a, b[i]))\n",
       "                                           return true;}\n",
       "        return false;\n",
       "    } else if (b.constructor === Object) {\n",
       "        for (var k in b) {if (a == k) return true;}\n",
       "        return false;\n",
       "    } else if (b.constructor == String) {\n",
       "        return b.indexOf(a) >= 0;\n",
       "    } var e = Error('Not a container: ' + b); e.name='TypeError'; throw e;\n",
       "};\n",
       "var _pyfunc_op_equals = function op_equals (a, b) { // nargs: 2\n",
       "    if (a == null || b == null) {\n",
       "    } else if (Array.isArray(a) && Array.isArray(b)) {\n",
       "        var i = 0, iseq = a.length == b.length;\n",
       "        while (iseq && i < a.length) {iseq = op_equals(a[i], b[i]); i+=1;}\n",
       "        return iseq;\n",
       "    } else if (a.constructor === Object && b.constructor === Object) {\n",
       "        var akeys = Object.keys(a), bkeys = Object.keys(b);\n",
       "        akeys.sort(); bkeys.sort();\n",
       "        var i=0, k, iseq = op_equals(akeys, bkeys);\n",
       "        while (iseq && i < akeys.length)\n",
       "            {k=akeys[i]; iseq = op_equals(a[k], b[k]); i+=1;}\n",
       "        return iseq;\n",
       "    } return a == b;\n",
       "};\n",
       "_pyfunc_op_contains(3, [0, 1, 2, 3, 4]);\n",
       "```"
      ],
      "text/plain": [
       "<IPython.core.display.Markdown object>"
      ]
     },
     "execution_count": 40,
     "metadata": {},
     "output_type": "execute_result"
    }
   ],
   "source": [
    "%%py2js\n",
    "\n",
    "3 in [0, 1, 2, 3, 4]"
   ]
  },
  {
   "cell_type": "markdown",
   "metadata": {},
   "source": [
    "#### Truthy和Falsy"
   ]
  },
  {
   "cell_type": "code",
   "execution_count": 42,
   "metadata": {},
   "outputs": [
    {
     "data": {
      "text/markdown": [
       "```javascript\n",
       "0;\n",
       "NaN;\n",
       "\"\";\n",
       "null;\n",
       "undefined;\n",
       "[];\n",
       "({});\n",
       "```"
      ],
      "text/plain": [
       "<IPython.core.display.Markdown object>"
      ]
     },
     "execution_count": 42,
     "metadata": {},
     "output_type": "execute_result"
    }
   ],
   "source": [
    "%%py2js\n",
    "\n",
    "# 这些值都被判定为false\n",
    "\n",
    "# These evaluate to False:\n",
    "0\n",
    "NaN\n",
    "\"\"  # empty string\n",
    "None  # JS null\n",
    "undefined\n",
    "[]\n",
    "{}"
   ]
  },
  {
   "cell_type": "code",
   "execution_count": 43,
   "metadata": {},
   "outputs": [
    {
     "data": {
      "text/markdown": [
       "```javascript\n",
       "var _pyfunc_truthy = function (v) {\n",
       "    if (v === null || typeof v !== \"object\") {return v;}\n",
       "    else if (v.length !== undefined) {return v.length ? v : false;}\n",
       "    else if (v.byteLength !== undefined) {return v.byteLength ? v : false;}\n",
       "    else if (v.constructor !== Object) {return true;}\n",
       "    else {return Object.getOwnPropertyNames(v).length ? v : false;}\n",
       "};\n",
       "var a;\n",
       "a = [];\n",
       "a = _pyfunc_truthy(a) || [1];\n",
       "```"
      ],
      "text/plain": [
       "<IPython.core.display.Markdown object>"
      ]
     },
     "execution_count": 43,
     "metadata": {},
     "output_type": "execute_result"
    }
   ],
   "source": [
    "%%py2js\n",
    "\n",
    "# 支持这样的操作\n",
    "a = []\n",
    "a = a or [1]  # a is now [1]"
   ]
  },
  {
   "cell_type": "markdown",
   "metadata": {},
   "source": [
    "#### 函数操作"
   ]
  },
  {
   "cell_type": "code",
   "execution_count": 46,
   "metadata": {},
   "outputs": [
    {
     "data": {
      "text/markdown": [
       "```javascript\n",
       "foo(a, b);\n",
       "```"
      ],
      "text/plain": [
       "<IPython.core.display.Markdown object>"
      ]
     },
     "execution_count": 46,
     "metadata": {},
     "output_type": "execute_result"
    }
   ],
   "source": [
    "%%py2js\n",
    "\n",
    "# Business as usual\n",
    "foo(a, b)"
   ]
  },
  {
   "cell_type": "code",
   "execution_count": 47,
   "metadata": {},
   "outputs": [
    {
     "data": {
      "text/markdown": [
       "```javascript\n",
       "foo.apply(null, a);\n",
       "```"
      ],
      "text/plain": [
       "<IPython.core.display.Markdown object>"
      ]
     },
     "execution_count": 47,
     "metadata": {},
     "output_type": "execute_result"
    }
   ],
   "source": [
    "%%py2js\n",
    "\n",
    "# 支持 args (不支持 **kwargs)\n",
    "foo(*a)"
   ]
  },
  {
   "cell_type": "markdown",
   "metadata": {},
   "source": [
    "#### if语句"
   ]
  },
  {
   "cell_type": "code",
   "execution_count": 48,
   "metadata": {},
   "outputs": [
    {
     "data": {
      "text/markdown": [
       "```javascript\n",
       "var result;\n",
       "if ((val > 7)) {\n",
       "    result = 42;\n",
       "} else if ((val > 1)) {\n",
       "    result = 1;\n",
       "} else {\n",
       "    result = 0;\n",
       "}\n",
       "```"
      ],
      "text/plain": [
       "<IPython.core.display.Markdown object>"
      ]
     },
     "execution_count": 48,
     "metadata": {},
     "output_type": "execute_result"
    }
   ],
   "source": [
    "%%py2js\n",
    "\n",
    "\n",
    "if val > 7:\n",
    "    result = 42\n",
    "elif val > 1:\n",
    "    result = 1\n",
    "else:\n",
    "    result = 0"
   ]
  },
  {
   "cell_type": "markdown",
   "metadata": {},
   "source": [
    "#### 循环"
   ]
  },
  {
   "cell_type": "code",
   "execution_count": 49,
   "metadata": {},
   "outputs": [
    {
     "data": {
      "text/markdown": [
       "```javascript\n",
       "var _pyfunc_op_add = function (a, b) { // nargs: 2\n",
       "    if (Array.isArray(a) && Array.isArray(b)) {\n",
       "        return a.concat(b);\n",
       "    } return a + b;\n",
       "};\n",
       "var val;\n",
       "val = 0;\n",
       "while (val < 10) {\n",
       "    val = _pyfunc_op_add(val, 1);\n",
       "}\n",
       "```"
      ],
      "text/plain": [
       "<IPython.core.display.Markdown object>"
      ]
     },
     "execution_count": 49,
     "metadata": {},
     "output_type": "execute_result"
    }
   ],
   "source": [
    "%%py2js\n",
    "\n",
    "val = 0\n",
    "while val < 10:\n",
    "    val += 1"
   ]
  },
  {
   "cell_type": "code",
   "execution_count": 50,
   "metadata": {},
   "outputs": [
    {
     "data": {
      "text/markdown": [
       "```javascript\n",
       "var i;\n",
       "for (i = 0; i < 10; i += 1) {\n",
       "    console.log(i);\n",
       "}\n",
       "```"
      ],
      "text/plain": [
       "<IPython.core.display.Markdown object>"
      ]
     },
     "execution_count": 50,
     "metadata": {},
     "output_type": "execute_result"
    }
   ],
   "source": [
    "%%py2js\n",
    "\n",
    "# Using range() yields true for-loops\n",
    "for i in range(10):\n",
    "    print(i)"
   ]
  },
  {
   "cell_type": "code",
   "execution_count": 51,
   "metadata": {},
   "outputs": [
    {
     "data": {
      "text/markdown": [
       "```javascript\n",
       "var i;\n",
       "for (i = 100; i > 10; i += -2) {\n",
       "    console.log(i);\n",
       "}\n",
       "```"
      ],
      "text/plain": [
       "<IPython.core.display.Markdown object>"
      ]
     },
     "execution_count": 51,
     "metadata": {},
     "output_type": "execute_result"
    }
   ],
   "source": [
    "%%py2js\n",
    "\n",
    "for i in range(100, 10, -2):\n",
    "    print(i)"
   ]
  },
  {
   "cell_type": "code",
   "execution_count": 52,
   "metadata": {},
   "outputs": [
    {
     "data": {
      "text/markdown": [
       "```javascript\n",
       "var i;\n",
       "for (i = 0; i < arr.length; i += 1) {\n",
       "    console.log(arr[i]);\n",
       "}\n",
       "```"
      ],
      "text/plain": [
       "<IPython.core.display.Markdown object>"
      ]
     },
     "execution_count": 52,
     "metadata": {},
     "output_type": "execute_result"
    }
   ],
   "source": [
    "%%py2js\n",
    "\n",
    "# One way to iterate over an array\n",
    "for i in range(len(arr)):\n",
    "    print(arr[i])"
   ]
  },
  {
   "cell_type": "code",
   "execution_count": 53,
   "metadata": {},
   "outputs": [
    {
     "data": {
      "text/markdown": [
       "```javascript\n",
       "var element, stub1_seq, stub2_itr;\n",
       "stub1_seq = arr;\n",
       "if ((typeof stub1_seq === \"object\") && (!Array.isArray(stub1_seq))) { stub1_seq = Object.keys(stub1_seq);}\n",
       "for (stub2_itr = 0; stub2_itr < stub1_seq.length; stub2_itr += 1) {\n",
       "    element = stub1_seq[stub2_itr];\n",
       "    console.log(element);\n",
       "}\n",
       "```"
      ],
      "text/plain": [
       "<IPython.core.display.Markdown object>"
      ]
     },
     "execution_count": 53,
     "metadata": {},
     "output_type": "execute_result"
    }
   ],
   "source": [
    "%%py2js\n",
    "# But this is equally valid (and fast)\n",
    "for element in arr:\n",
    "    print(element)"
   ]
  },
  {
   "cell_type": "code",
   "execution_count": 54,
   "metadata": {},
   "outputs": [
    {
     "data": {
      "text/markdown": [
       "```javascript\n",
       "var char, stub1_seq, stub2_itr;\n",
       "stub1_seq = \"foo bar\";\n",
       "if ((typeof stub1_seq === \"object\") && (!Array.isArray(stub1_seq))) { stub1_seq = Object.keys(stub1_seq);}\n",
       "for (stub2_itr = 0; stub2_itr < stub1_seq.length; stub2_itr += 1) {\n",
       "    char = stub1_seq[stub2_itr];\n",
       "    console.log(c);\n",
       "}\n",
       "```"
      ],
      "text/plain": [
       "<IPython.core.display.Markdown object>"
      ]
     },
     "execution_count": 54,
     "metadata": {},
     "output_type": "execute_result"
    }
   ],
   "source": [
    "%%py2js\n",
    "\n",
    "# 遍历字符串\n",
    "for char in \"foo bar\":\n",
    "    print(c)"
   ]
  },
  {
   "cell_type": "code",
   "execution_count": 55,
   "metadata": {},
   "outputs": [
    {
     "data": {
      "text/markdown": [
       "```javascript\n",
       "var _pyfunc_op_add = function (a, b) { // nargs: 2\n",
       "    if (Array.isArray(a) && Array.isArray(b)) {\n",
       "        return a.concat(b);\n",
       "    } return a + b;\n",
       "};\n",
       "var i, j, stub1_seq, stub2_itr, stub3_tgt;\n",
       "stub1_seq = [[1, 2], [3, 4]];\n",
       "if ((typeof stub1_seq === \"object\") && (!Array.isArray(stub1_seq))) { stub1_seq = Object.keys(stub1_seq);}\n",
       "for (stub2_itr = 0; stub2_itr < stub1_seq.length; stub2_itr += 1) {\n",
       "    stub3_tgt = stub1_seq[stub2_itr];\n",
       "    i = stub3_tgt[0]; j = stub3_tgt[1];\n",
       "    console.log(_pyfunc_op_add(i, j));\n",
       "}\n",
       "```"
      ],
      "text/plain": [
       "<IPython.core.display.Markdown object>"
      ]
     },
     "execution_count": 55,
     "metadata": {},
     "output_type": "execute_result"
    }
   ],
   "source": [
    "%%py2js\n",
    "\n",
    "# 更复杂的遍历\n",
    "for i, j in [[1, 2], [3, 4]]:\n",
    "    print(i+j)"
   ]
  },
  {
   "cell_type": "markdown",
   "metadata": {},
   "source": [
    "支持用于迭代的Buildin函数：enumerate, zip, reversed, sorted, filter, map"
   ]
  },
  {
   "cell_type": "code",
   "execution_count": 57,
   "metadata": {},
   "outputs": [
    {
     "data": {
      "text/markdown": [
       "```javascript\n",
       "var _pyfunc_enumerate = function (iter) { // nargs: 1\n",
       "    var i, res=[];\n",
       "    if ((typeof iter===\"object\") && (!Array.isArray(iter))) {iter = Object.keys(iter);}\n",
       "    for (i=0; i<iter.length; i++) {res.push([i, iter[i]]);}\n",
       "    return res;\n",
       "};\n",
       "var i, stub1_seq, stub2_itr, stub3_tgt, x;\n",
       "stub1_seq = _pyfunc_enumerate(foo);\n",
       "if ((typeof stub1_seq === \"object\") && (!Array.isArray(stub1_seq))) { stub1_seq = Object.keys(stub1_seq);}\n",
       "for (stub2_itr = 0; stub2_itr < stub1_seq.length; stub2_itr += 1) {\n",
       "    stub3_tgt = stub1_seq[stub2_itr];\n",
       "    i = stub3_tgt[0]; x = stub3_tgt[1];\n",
       "    console.log(i + \" \" + x);\n",
       "}\n",
       "```"
      ],
      "text/plain": [
       "<IPython.core.display.Markdown object>"
      ]
     },
     "execution_count": 57,
     "metadata": {},
     "output_type": "execute_result"
    }
   ],
   "source": [
    "%%py2js\n",
    "\n",
    "for i, x in enumerate(foo):\n",
    "    print(i, x)"
   ]
  },
  {
   "cell_type": "code",
   "execution_count": 58,
   "metadata": {},
   "outputs": [
    {
     "data": {
      "text/markdown": [
       "```javascript\n",
       "var _pyfunc_zip = function () { // nargs: 2 3 4 5 6 7 8 9\n",
       "    var i, j, tup, arg, args = [], res = [], len = 1e20;\n",
       "    for (i=0; i<arguments.length; i++) {\n",
       "        arg = arguments[i];\n",
       "        if ((typeof arg===\"object\") && (!Array.isArray(arg))) {arg = Object.keys(arg);}\n",
       "        args.push(arg);\n",
       "        len = Math.min(len, arg.length);\n",
       "    }\n",
       "    for (j=0; j<len; j++) {\n",
       "        tup = []\n",
       "        for (i=0; i<args.length; i++) {tup.push(args[i][j]);}\n",
       "        res.push(tup);\n",
       "    }\n",
       "    return res;\n",
       "};\n",
       "var a, b, stub1_seq, stub2_itr, stub3_tgt;\n",
       "stub1_seq = _pyfunc_zip(foo, bar);\n",
       "if ((typeof stub1_seq === \"object\") && (!Array.isArray(stub1_seq))) { stub1_seq = Object.keys(stub1_seq);}\n",
       "for (stub2_itr = 0; stub2_itr < stub1_seq.length; stub2_itr += 1) {\n",
       "    stub3_tgt = stub1_seq[stub2_itr];\n",
       "    a = stub3_tgt[0]; b = stub3_tgt[1];\n",
       "}\n",
       "```"
      ],
      "text/plain": [
       "<IPython.core.display.Markdown object>"
      ]
     },
     "execution_count": 58,
     "metadata": {},
     "output_type": "execute_result"
    }
   ],
   "source": [
    "%%py2js\n",
    "\n",
    "for a, b in zip(foo, bar):\n",
    "    pass"
   ]
  },
  {
   "cell_type": "code",
   "execution_count": 59,
   "metadata": {},
   "outputs": [
    {
     "data": {
      "text/markdown": [
       "```javascript\n",
       "var _pyfunc_reversed = function (iter) { // nargs: 1\n",
       "    if ((typeof iter===\"object\") && (!Array.isArray(iter))) {iter = Object.keys(iter);}\n",
       "    return iter.slice().reverse();\n",
       "};\n",
       "var _pyfunc_sorted = function (iter, key, reverse) { // nargs: 1 2 3\n",
       "    if ((typeof iter===\"object\") && (!Array.isArray(iter))) {iter = Object.keys(iter);}\n",
       "    var comp = function (a, b) {a = key(a); b = key(b);\n",
       "        if (a<b) {return -1;} if (a>b) {return 1;} return 0;};\n",
       "    comp = Boolean(key) ? comp : undefined; \n",
       "    iter = iter.slice().sort(comp);\n",
       "    if (reverse) iter.reverse();\n",
       "    return iter;\n",
       "};\n",
       "var stub1_seq, stub2_itr, x;\n",
       "stub1_seq = _pyfunc_reversed(_pyfunc_sorted(foo, undefined, false));\n",
       "if ((typeof stub1_seq === \"object\") && (!Array.isArray(stub1_seq))) { stub1_seq = Object.keys(stub1_seq);}\n",
       "for (stub2_itr = 0; stub2_itr < stub1_seq.length; stub2_itr += 1) {\n",
       "    x = stub1_seq[stub2_itr];\n",
       "}\n",
       "```"
      ],
      "text/plain": [
       "<IPython.core.display.Markdown object>"
      ]
     },
     "execution_count": 59,
     "metadata": {},
     "output_type": "execute_result"
    }
   ],
   "source": [
    "%%py2js\n",
    "\n",
    "for x in reversed(sorted(foo)):\n",
    "    pass"
   ]
  },
  {
   "cell_type": "code",
   "execution_count": 60,
   "metadata": {},
   "outputs": [
    {
     "data": {
      "text/markdown": [
       "```javascript\n",
       "var _pyfunc_map = function (func, iter) { // nargs: 2\n",
       "    if (typeof func === \"undefined\" || func === null) {func = function(x) {return x;}}\n",
       "    if ((typeof iter===\"object\") && (!Array.isArray(iter))) {iter = Object.keys(iter);}\n",
       "    return iter.map(func);\n",
       "};\n",
       "var stub1_seq, stub2_itr, x;\n",
       "stub1_seq = _pyfunc_map((function (x) {return x + 1;}), foo);\n",
       "if ((typeof stub1_seq === \"object\") && (!Array.isArray(stub1_seq))) { stub1_seq = Object.keys(stub1_seq);}\n",
       "for (stub2_itr = 0; stub2_itr < stub1_seq.length; stub2_itr += 1) {\n",
       "    x = stub1_seq[stub2_itr];\n",
       "}\n",
       "```"
      ],
      "text/plain": [
       "<IPython.core.display.Markdown object>"
      ]
     },
     "execution_count": 60,
     "metadata": {},
     "output_type": "execute_result"
    }
   ],
   "source": [
    "%%py2js\n",
    "\n",
    "for x in map(lambda x: x+1, foo):\n",
    "    pass"
   ]
  },
  {
   "cell_type": "code",
   "execution_count": 61,
   "metadata": {},
   "outputs": [
    {
     "data": {
      "text/markdown": [
       "```javascript\n",
       "var _pyfunc_filter = function (func, iter) { // nargs: 2\n",
       "    if (typeof func === \"undefined\" || func === null) {func = function(x) {return x;}}\n",
       "    if ((typeof iter===\"object\") && (!Array.isArray(iter))) {iter = Object.keys(iter);}\n",
       "    return iter.filter(func);\n",
       "};\n",
       "var stub1_seq, stub2_itr, x;\n",
       "stub1_seq = _pyfunc_filter((function (x) {return x > 0;}), foo);\n",
       "if ((typeof stub1_seq === \"object\") && (!Array.isArray(stub1_seq))) { stub1_seq = Object.keys(stub1_seq);}\n",
       "for (stub2_itr = 0; stub2_itr < stub1_seq.length; stub2_itr += 1) {\n",
       "    x = stub1_seq[stub2_itr];\n",
       "}\n",
       "```"
      ],
      "text/plain": [
       "<IPython.core.display.Markdown object>"
      ]
     },
     "execution_count": 61,
     "metadata": {},
     "output_type": "execute_result"
    }
   ],
   "source": [
    "%%py2js\n",
    "\n",
    "for x in filter(lambda x: x>0, foo):\n",
    "    pass"
   ]
  },
  {
   "cell_type": "markdown",
   "metadata": {},
   "source": [
    "#### list 推导"
   ]
  },
  {
   "cell_type": "code",
   "execution_count": 62,
   "metadata": {},
   "outputs": [
    {
     "data": {
      "text/markdown": [
       "```javascript\n",
       "var _pyfunc_op_mult = function (a, b) { // nargs: 2\n",
       "    if ((typeof a === 'number') + (typeof b === 'number') === 1) {\n",
       "        if (a.constructor === String) return _pymeth_repeat.call(a, b);\n",
       "        if (b.constructor === String) return _pymeth_repeat.call(b, a);\n",
       "        if (Array.isArray(b)) {var t=a; a=b; b=t;}\n",
       "        if (Array.isArray(a)) {\n",
       "            var res = []; for (var i=0; i<b; i++) res = res.concat(a);\n",
       "            return res;\n",
       "        }\n",
       "    } return a * b;\n",
       "};\n",
       "var _pymeth_repeat = function(count) { // nargs: 0\n",
       "    if (this.repeat) return this.repeat(count);\n",
       "    if (count < 1) return '';\n",
       "    var result = '', pattern = this.valueOf();\n",
       "    while (count > 1) {\n",
       "        if (count & 1) result += pattern;\n",
       "        count >>= 1, pattern += pattern;\n",
       "    }\n",
       "    return result + pattern;\n",
       "};\n",
       "var stub1_, stub1_i, stub1_i0, stub1_iter0, stub2_, stub2_i, stub2_i0, stub2_i1, stub2_iter0, stub2_iter1, stub2_j, x, y;\n",
       "stub1_ = [];stub1_iter0 = some_array;if ((typeof stub1_iter0 === \"object\") && (!Array.isArray(stub1_iter0))) {stub1_iter0 = Object.keys(stub1_iter0);}for (stub1_i0=0; stub1_i0<stub1_iter0.length; stub1_i0++) {stub1_i = stub1_iter0[stub1_i0];if (!((stub1_i > 0))) {continue;}{stub1_.push(_pyfunc_op_mult(stub1_i, 2));}}\n",
       "x = stub1_;\n",
       "stub2_ = [];stub2_iter0 = a;if ((typeof stub2_iter0 === \"object\") && (!Array.isArray(stub2_iter0))) {stub2_iter0 = Object.keys(stub2_iter0);}for (stub2_i0=0; stub2_i0<stub2_iter0.length; stub2_i0++) {stub2_i = stub2_iter0[stub2_i0];stub2_iter1 = b;if ((typeof stub2_iter1 === \"object\") && (!Array.isArray(stub2_iter1))) {stub2_iter1 = Object.keys(stub2_iter1);}for (stub2_i1=0; stub2_i1<stub2_iter1.length; stub2_i1++) {stub2_j = stub2_iter1[stub2_i1];{stub2_.push(_pyfunc_op_mult(stub2_i, stub2_j));}}}\n",
       "y = stub2_;\n",
       "```"
      ],
      "text/plain": [
       "<IPython.core.display.Markdown object>"
      ]
     },
     "execution_count": 62,
     "metadata": {},
     "output_type": "execute_result"
    }
   ],
   "source": [
    "%%py2js\n",
    "\n",
    "# List comprehensions just work\n",
    "x = [i*2 for i in some_array if i>0]\n",
    "y = [i*j for i in a for j in b]"
   ]
  },
  {
   "cell_type": "markdown",
   "metadata": {},
   "source": [
    "#### 定义函数"
   ]
  },
  {
   "cell_type": "code",
   "execution_count": 64,
   "metadata": {},
   "outputs": [
    {
     "data": {
      "text/markdown": [
       "```javascript\n",
       "var display;\n",
       "display = function flx_display (val) {\n",
       "    console.log(val);\n",
       "    return null;\n",
       "};\n",
       "\n",
       "```"
      ],
      "text/plain": [
       "<IPython.core.display.Markdown object>"
      ]
     },
     "execution_count": 64,
     "metadata": {},
     "output_type": "execute_result"
    }
   ],
   "source": [
    "%%py2js\n",
    "\n",
    "def display(val):\n",
    "    print(val)"
   ]
  },
  {
   "cell_type": "code",
   "execution_count": 65,
   "metadata": {},
   "outputs": [
    {
     "data": {
      "text/markdown": [
       "```javascript\n",
       "var foo;\n",
       "foo = function flx_foo (x) {\n",
       "    var values;\n",
       "    values = Array.prototype.slice.call(arguments, 1);\n",
       "    bar.apply(null, [].concat([x + 1], values));\n",
       "    return null;\n",
       "};\n",
       "\n",
       "```"
      ],
      "text/plain": [
       "<IPython.core.display.Markdown object>"
      ]
     },
     "execution_count": 65,
     "metadata": {},
     "output_type": "execute_result"
    }
   ],
   "source": [
    "%%py2js\n",
    "\n",
    "# 支持 *args\n",
    "def foo(x, *values):\n",
    "    bar(x+1, *values)"
   ]
  },
  {
   "cell_type": "code",
   "execution_count": 66,
   "metadata": {},
   "outputs": [
    {
     "data": {
      "text/markdown": [
       "```javascript\n",
       "var bar;\n",
       "bar = function flx_bar (a, b) {\n",
       "    var c = 4;\n",
       "    return a + b + c;;\n",
       "    return null;\n",
       "};\n",
       "\n",
       "```"
      ],
      "text/plain": [
       "<IPython.core.display.Markdown object>"
      ]
     },
     "execution_count": 66,
     "metadata": {},
     "output_type": "execute_result"
    }
   ],
   "source": [
    "%%py2js\n",
    "\n",
    "# 想要混编JavaScript, 也可以使用RawJS\n",
    "def bar(a, b):\n",
    "    RawJS('''\n",
    "    var c = 4;\n",
    "    return a + b + c;\n",
    "    ''')"
   ]
  },
  {
   "cell_type": "code",
   "execution_count": 67,
   "metadata": {},
   "outputs": [
    {
     "data": {
      "text/markdown": [
       "```javascript\n",
       "var foo;\n",
       "foo = function (x) {return Math.pow(x, 2);};\n",
       "```"
      ],
      "text/plain": [
       "<IPython.core.display.Markdown object>"
      ]
     },
     "execution_count": 67,
     "metadata": {},
     "output_type": "execute_result"
    }
   ],
   "source": [
    "%%py2js\n",
    "\n",
    "# Lambda 表达式\n",
    "foo = lambda x: x**2"
   ]
  },
  {
   "cell_type": "markdown",
   "metadata": {},
   "source": [
    "#### 定义类\n",
    "\n",
    "类被转换为JavaScript原型类paragigm，这意味着它们应该可以很好地与其他JS库一起使用。支持继承，但不支持多重继承。此外，super（）的工作方式与Python 3相同。"
   ]
  },
  {
   "cell_type": "code",
   "execution_count": 68,
   "metadata": {},
   "outputs": [
    {
     "data": {
      "text/markdown": [
       "```javascript\n",
       "var _pyfunc_op_instantiate = function (ob, args) { // nargs: 2\n",
       "    if ((typeof ob === \"undefined\") ||\n",
       "            (typeof window !== \"undefined\" && window === ob) ||\n",
       "            (typeof global !== \"undefined\" && global === ob))\n",
       "            {throw \"Class constructor is called as a function.\";}\n",
       "    for (var name in ob) {\n",
       "        if (Object[name] === undefined &&\n",
       "            typeof ob[name] === 'function' && !ob[name].nobind) {\n",
       "            ob[name] = ob[name].bind(ob);\n",
       "            ob[name].__name__ = name;\n",
       "        }\n",
       "    }\n",
       "    if (ob.__init__) {\n",
       "        ob.__init__.apply(ob, args);\n",
       "    }\n",
       "};\n",
       "var Foo;\n",
       "Foo = function () {\n",
       "    _pyfunc_op_instantiate(this, arguments);\n",
       "}\n",
       "Foo.prototype._base_class = Object;\n",
       "Foo.prototype.__name__ = \"Foo\";\n",
       "\n",
       "Foo.prototype.a_class_attribute = 4;\n",
       "Foo.prototype.__init__ = function () {\n",
       "    this.x = 3;\n",
       "    return null;\n",
       "};\n",
       "\n",
       "\n",
       "```"
      ],
      "text/plain": [
       "<IPython.core.display.Markdown object>"
      ]
     },
     "execution_count": 68,
     "metadata": {},
     "output_type": "execute_result"
    }
   ],
   "source": [
    "%%py2js\n",
    "class Foo:\n",
    "    a_class_attribute = 4\n",
    "    def __init__(self):\n",
    "        self.x = 3"
   ]
  },
  {
   "cell_type": "code",
   "execution_count": 69,
   "metadata": {},
   "outputs": [
    {
     "data": {
      "text/markdown": [
       "```javascript\n",
       "var _pyfunc_op_add = function (a, b) { // nargs: 2\n",
       "    if (Array.isArray(a) && Array.isArray(b)) {\n",
       "        return a.concat(b);\n",
       "    } return a + b;\n",
       "};\n",
       "var _pyfunc_op_instantiate = function (ob, args) { // nargs: 2\n",
       "    if ((typeof ob === \"undefined\") ||\n",
       "            (typeof window !== \"undefined\" && window === ob) ||\n",
       "            (typeof global !== \"undefined\" && global === ob))\n",
       "            {throw \"Class constructor is called as a function.\";}\n",
       "    for (var name in ob) {\n",
       "        if (Object[name] === undefined &&\n",
       "            typeof ob[name] === 'function' && !ob[name].nobind) {\n",
       "            ob[name] = ob[name].bind(ob);\n",
       "            ob[name].__name__ = name;\n",
       "        }\n",
       "    }\n",
       "    if (ob.__init__) {\n",
       "        ob.__init__.apply(ob, args);\n",
       "    }\n",
       "};\n",
       "var Bar;\n",
       "Bar = function () {\n",
       "    _pyfunc_op_instantiate(this, arguments);\n",
       "}\n",
       "Bar.prototype = Object.create(Foo.prototype);\n",
       "Bar.prototype._base_class = Foo.prototype;\n",
       "Bar.prototype.__name__ = \"Bar\";\n",
       "\n",
       "Bar.prototype.__init__ = function () {\n",
       "    super.__init__();\n",
       "    this.x = _pyfunc_op_add(this.x, 1);\n",
       "    return null;\n",
       "};\n",
       "\n",
       "Bar.prototype.add1 = function () {\n",
       "    this.x = _pyfunc_op_add(this.x, 1);\n",
       "    return null;\n",
       "};\n",
       "\n",
       "\n",
       "```"
      ],
      "text/plain": [
       "<IPython.core.display.Markdown object>"
      ]
     },
     "execution_count": 69,
     "metadata": {},
     "output_type": "execute_result"
    }
   ],
   "source": [
    "%%py2js\n",
    "\n",
    "class Bar(Foo):\n",
    "    def __init__(self):\n",
    "        super.__init__()\n",
    "        self.x += 1\n",
    "    def add1(self):\n",
    "        self.x += 1"
   ]
  },
  {
   "cell_type": "code",
   "execution_count": 71,
   "metadata": {},
   "outputs": [
    {
     "data": {
      "text/markdown": [
       "```javascript\n",
       "var b;\n",
       "b = new Bar();\n",
       "setTimeout(b.add1, 1000);\n",
       "```"
      ],
      "text/plain": [
       "<IPython.core.display.Markdown object>"
      ]
     },
     "execution_count": 71,
     "metadata": {},
     "output_type": "execute_result"
    }
   ],
   "source": [
    "%%py2js\n",
    "\n",
    "# 实例化和调用方法\n",
    "b = Bar()\n",
    "setTimeout(b.add1, 1000)"
   ]
  },
  {
   "cell_type": "code",
   "execution_count": 72,
   "metadata": {},
   "outputs": [
    {
     "data": {
      "text/markdown": [
       "```javascript\n",
       "var _pyfunc_op_instantiate = function (ob, args) { // nargs: 2\n",
       "    if ((typeof ob === \"undefined\") ||\n",
       "            (typeof window !== \"undefined\" && window === ob) ||\n",
       "            (typeof global !== \"undefined\" && global === ob))\n",
       "            {throw \"Class constructor is called as a function.\";}\n",
       "    for (var name in ob) {\n",
       "        if (Object[name] === undefined &&\n",
       "            typeof ob[name] === 'function' && !ob[name].nobind) {\n",
       "            ob[name] = ob[name].bind(ob);\n",
       "            ob[name].__name__ = name;\n",
       "        }\n",
       "    }\n",
       "    if (ob.__init__) {\n",
       "        ob.__init__.apply(ob, args);\n",
       "    }\n",
       "};\n",
       "var Spam;\n",
       "Spam = function () {\n",
       "    _pyfunc_op_instantiate(this, arguments);\n",
       "}\n",
       "Spam.prototype = Object.create(Bar.prototype);\n",
       "Spam.prototype._base_class = Bar.prototype;\n",
       "Spam.prototype.__name__ = \"Spam\";\n",
       "\n",
       "Spam.prototype.add_later = function () {\n",
       "    setTimeout((function (ev) {return this.add1();}).bind(this), 1000);\n",
       "    return null;\n",
       "};\n",
       "\n",
       "\n",
       "```"
      ],
      "text/plain": [
       "<IPython.core.display.Markdown object>"
      ]
     },
     "execution_count": 72,
     "metadata": {},
     "output_type": "execute_result"
    }
   ],
   "source": [
    "%%py2js\n",
    "# Functions defined in methods (and that do not start with self or this)\n",
    "# have ``this`` bound the the same object.\n",
    "class Spam(Bar):\n",
    "    def add_later(self):\n",
    "        setTimeout(lambda ev: self.add1(), 1000)"
   ]
  },
  {
   "cell_type": "markdown",
   "metadata": {},
   "source": [
    "#### 异常\n",
    "\n",
    "引发的异常将转换为JavaScript Error对象，其name属性设置为引发的异常类型。捕获异常时，将检查name属性（如果它是一个Error对象)。您可以`raise`字符串或任何其他类型的对象，但您只能捕获Error对象。"
   ]
  },
  {
   "cell_type": "code",
   "execution_count": 75,
   "metadata": {},
   "outputs": [
    {
     "data": {
      "text/markdown": [
       "```javascript\n",
       "var _pyfunc_op_error = function (etype, msg) { // nargs: 2\n",
       "    var e = new Error(etype + ': ' + msg);\n",
       "    e.name = etype\n",
       "    return e;\n",
       "};\n",
       "var err_0;\n",
       "throw _pyfunc_op_error('SomeError', \"asd\");\n",
       "throw _pyfunc_op_error('AnotherError', \"\");\n",
       "throw \"In JS you can throw anything\";\n",
       "throw 4;\n",
       "```"
      ],
      "text/plain": [
       "<IPython.core.display.Markdown object>"
      ]
     },
     "execution_count": 75,
     "metadata": {},
     "output_type": "execute_result"
    }
   ],
   "source": [
    "%%py2js\n",
    "\n",
    "# 抛出异常\n",
    "raise SomeError('asd')\n",
    "raise AnotherError()\n",
    "raise \"In JS you can throw anything\"\n",
    "raise 4"
   ]
  },
  {
   "cell_type": "code",
   "execution_count": 74,
   "metadata": {},
   "outputs": [
    {
     "data": {
      "text/markdown": [
       "```javascript\n",
       "var _pyfunc_op_equals = function op_equals (a, b) { // nargs: 2\n",
       "    if (a == null || b == null) {\n",
       "    } else if (Array.isArray(a) && Array.isArray(b)) {\n",
       "        var i = 0, iseq = a.length == b.length;\n",
       "        while (iseq && i < a.length) {iseq = op_equals(a[i], b[i]); i+=1;}\n",
       "        return iseq;\n",
       "    } else if (a.constructor === Object && b.constructor === Object) {\n",
       "        var akeys = Object.keys(a), bkeys = Object.keys(b);\n",
       "        akeys.sort(); bkeys.sort();\n",
       "        var i=0, k, iseq = op_equals(akeys, bkeys);\n",
       "        while (iseq && i < akeys.length)\n",
       "            {k=akeys[i]; iseq = op_equals(a[k], b[k]); i+=1;}\n",
       "        return iseq;\n",
       "    } return a == b;\n",
       "};\n",
       "var _pyfunc_op_error = function (etype, msg) { // nargs: 2\n",
       "    var e = new Error(etype + ': ' + msg);\n",
       "    e.name = etype\n",
       "    return e;\n",
       "};\n",
       "if (!(_pyfunc_op_equals(foo, 3))) { throw _pyfunc_op_error('AssertionError', \"_pyfunc_op_equals(foo, 3)\");}\n",
       "if (!(_pyfunc_op_equals(bar, 4))) { throw _pyfunc_op_error('AssertionError', \"\\\"bar should be 4\\\"\");}\n",
       "```"
      ],
      "text/plain": [
       "<IPython.core.display.Markdown object>"
      ]
     },
     "execution_count": 74,
     "metadata": {},
     "output_type": "execute_result"
    }
   ],
   "source": [
    "%%py2js\n",
    "# Assertions 能正常工作\n",
    "assert foo == 3\n",
    "assert bar == 4, \"bar should be 4\""
   ]
  },
  {
   "cell_type": "code",
   "execution_count": 76,
   "metadata": {},
   "outputs": [
    {
     "data": {
      "text/markdown": [
       "```javascript\n",
       "var _pyfunc_op_error = function (etype, msg) { // nargs: 2\n",
       "    var e = new Error(etype + ': ' + msg);\n",
       "    e.name = etype\n",
       "    return e;\n",
       "};\n",
       "var err, err_1;\n",
       "try {\n",
       "    throw _pyfunc_op_error('IndexError', \"blabla\");\n",
       "} catch(err_1) {\n",
       "    if (err_1 instanceof Error && err_1.name === \"IndexError\") {\n",
       "        err = err_1;\n",
       "        console.log(err);\n",
       "    } else {\n",
       "        console.log(\"something went wrong\");\n",
       "    }\n",
       "}\n",
       "```"
      ],
      "text/plain": [
       "<IPython.core.display.Markdown object>"
      ]
     },
     "execution_count": 76,
     "metadata": {},
     "output_type": "execute_result"
    }
   ],
   "source": [
    "%%py2js\n",
    "\n",
    "# 捕捉异常\n",
    "try:\n",
    "    raise IndexError('blabla')\n",
    "except IndexError as err:\n",
    "    print(err)\n",
    "except Exception:\n",
    "   print('something went wrong')"
   ]
  },
  {
   "cell_type": "markdown",
   "metadata": {},
   "source": [
    "#### python内置函数\n",
    "\n",
    "大多数buildin函数（在JS中有意义的）会自动转换为JavaScript的内建函数：isinstance，issubclass，callable，hasattr，getattr，setattr，delattr，print，len，max，min，chr，ord，dict，list，tuple，range， pow，sum，round，int，float，str，bool，abs，divmod，all，any，enumerate，zip，reversed，sorted，filtered，map。\n",
    "\n",
    "此外，还实现了list，dict和str的所有方法（str方法除外：encode，decode，format，format_map，isdecimal，isdigit，isprintable，maketrans）。"
   ]
  },
  {
   "cell_type": "code",
   "execution_count": 77,
   "metadata": {},
   "outputs": [
    {
     "data": {
      "text/markdown": [
       "```javascript\n",
       "console.log(\"some test\");\n",
       "console.log(a + \"-\" + b + \"-\" + c);\n",
       "```"
      ],
      "text/plain": [
       "<IPython.core.display.Markdown object>"
      ]
     },
     "execution_count": 77,
     "metadata": {},
     "output_type": "execute_result"
    }
   ],
   "source": [
    "%%py2js\n",
    "# Printing 能正常工作\n",
    "print('some test')\n",
    "print(a, b, c, sep='-')"
   ]
  },
  {
   "cell_type": "code",
   "execution_count": 78,
   "metadata": {},
   "outputs": [
    {
     "data": {
      "text/markdown": [
       "```javascript\n",
       "foo.length;\n",
       "```"
      ],
      "text/plain": [
       "<IPython.core.display.Markdown object>"
      ]
     },
     "execution_count": 78,
     "metadata": {},
     "output_type": "execute_result"
    }
   ],
   "source": [
    "%%py2js\n",
    "# 获取字符串长度\n",
    "len(foo)"
   ]
  },
  {
   "cell_type": "code",
   "execution_count": 79,
   "metadata": {},
   "outputs": [
    {
     "data": {
      "text/markdown": [
       "```javascript\n",
       "var _pyfunc_abs = Math.abs;\n",
       "var _pyfunc_int = function (x) { // nargs: 1\n",
       "    return x<0 ? Math.ceil(x): Math.floor(x);\n",
       "};\n",
       "var _pyfunc_round = Math.round;\n",
       "_pyfunc_round(foo);\n",
       "_pyfunc_int(foo);\n",
       "_pyfunc_abs(foo);\n",
       "```"
      ],
      "text/plain": [
       "<IPython.core.display.Markdown object>"
      ]
     },
     "execution_count": 79,
     "metadata": {},
     "output_type": "execute_result"
    }
   ],
   "source": [
    "%%py2js\n",
    "# 保留小数和绝对值\n",
    "round(foo)  # round to nearest integer\n",
    "int(foo)  # round towards 0 as in Python\n",
    "abs(foo)"
   ]
  },
  {
   "cell_type": "code",
   "execution_count": 80,
   "metadata": {},
   "outputs": [
    {
     "data": {
      "text/markdown": [
       "```javascript\n",
       "Math.min.apply(null, foo);\n",
       "Math.min(a, b, c);\n",
       "Math.max.apply(null, foo);\n",
       "Math.max(a, b, c);\n",
       "```"
      ],
      "text/plain": [
       "<IPython.core.display.Markdown object>"
      ]
     },
     "execution_count": 80,
     "metadata": {},
     "output_type": "execute_result"
    }
   ],
   "source": [
    "%%py2js\n",
    "# 最大值和最小值\n",
    "min(foo)\n",
    "min(a, b, c)\n",
    "max(foo)\n",
    "max(a, b, c)"
   ]
  },
  {
   "cell_type": "code",
   "execution_count": 81,
   "metadata": {},
   "outputs": [
    {
     "data": {
      "text/markdown": [
       "```javascript\n",
       "var _pyfunc_divmod = function (x, y) { // nargs: 2\n",
       "    var m = x % y; return [(x-m)/y, m];\n",
       "};\n",
       "var a, b, stub1_;\n",
       "stub1_ = _pyfunc_divmod(100, 7);\n",
       "a = stub1_[0];b = stub1_[1];\n",
       "```"
      ],
      "text/plain": [
       "<IPython.core.display.Markdown object>"
      ]
     },
     "execution_count": 81,
     "metadata": {},
     "output_type": "execute_result"
    }
   ],
   "source": [
    "%%py2js\n",
    "# 求余数\n",
    "a, b = divmod(100, 7)  # -> 14, 2"
   ]
  },
  {
   "cell_type": "code",
   "execution_count": 82,
   "metadata": {},
   "outputs": [
    {
     "data": {
      "text/markdown": [
       "```javascript\n",
       "var _pyfunc_all = function (x) { // nargs: 1\n",
       "    for (var i=0; i<x.length; i++) {\n",
       "        if (!_pyfunc_truthy(x[i])){return false;}\n",
       "    } return true;\n",
       "};\n",
       "var _pyfunc_any = function (x) { // nargs: 1\n",
       "    for (var i=0; i<x.length; i++) {\n",
       "        if (_pyfunc_truthy(x[i])){return true;}\n",
       "    } return false;\n",
       "};\n",
       "var _pyfunc_sum = function (x) {  // nargs: 1\n",
       "    return x.reduce(function(a, b) {return a + b;});\n",
       "};\n",
       "var _pyfunc_truthy = function (v) {\n",
       "    if (v === null || typeof v !== \"object\") {return v;}\n",
       "    else if (v.length !== undefined) {return v.length ? v : false;}\n",
       "    else if (v.byteLength !== undefined) {return v.byteLength ? v : false;}\n",
       "    else if (v.constructor !== Object) {return true;}\n",
       "    else {return Object.getOwnPropertyNames(v).length ? v : false;}\n",
       "};\n",
       "_pyfunc_sum(foo);\n",
       "_pyfunc_all(foo);\n",
       "_pyfunc_any(foo);\n",
       "```"
      ],
      "text/plain": [
       "<IPython.core.display.Markdown object>"
      ]
     },
     "execution_count": 82,
     "metadata": {},
     "output_type": "execute_result"
    }
   ],
   "source": [
    "%%py2js\n",
    "# 聚合\n",
    "sum(foo)\n",
    "all(foo)\n",
    "any(foo)"
   ]
  },
  {
   "cell_type": "code",
   "execution_count": 83,
   "metadata": {},
   "outputs": [
    {
     "data": {
      "text/markdown": [
       "```javascript\n",
       "var _pyfunc_bool = function (x) { // nargs: 1\n",
       "    return Boolean(_pyfunc_truthy(x));\n",
       "};\n",
       "var _pyfunc_float = Number;\n",
       "var _pyfunc_int = function (x) { // nargs: 1\n",
       "    return x<0 ? Math.ceil(x): Math.floor(x);\n",
       "};\n",
       "var _pyfunc_str = String;\n",
       "var _pyfunc_truthy = function (v) {\n",
       "    if (v === null || typeof v !== \"object\") {return v;}\n",
       "    else if (v.length !== undefined) {return v.length ? v : false;}\n",
       "    else if (v.byteLength !== undefined) {return v.byteLength ? v : false;}\n",
       "    else if (v.constructor !== Object) {return true;}\n",
       "    else {return Object.getOwnPropertyNames(v).length ? v : false;}\n",
       "};\n",
       "_pyfunc_str(s);\n",
       "_pyfunc_float(x);\n",
       "_pyfunc_bool(y);\n",
       "_pyfunc_int(z);\n",
       "String.fromCharCode(65);\n",
       "\"A\".charCodeAt(0);\n",
       "```"
      ],
      "text/plain": [
       "<IPython.core.display.Markdown object>"
      ]
     },
     "execution_count": 83,
     "metadata": {},
     "output_type": "execute_result"
    }
   ],
   "source": [
    "%%py2js\n",
    "# 数据转换: numbers, bools and strings\n",
    "str(s)\n",
    "float(x)\n",
    "bool(y)\n",
    "int(z)  # this rounds towards zero like in Python\n",
    "chr(65)  # -> 'A'\n",
    "ord('A')  # -> 65"
   ]
  },
  {
   "cell_type": "code",
   "execution_count": 84,
   "metadata": {},
   "outputs": [
    {
     "data": {
      "text/markdown": [
       "```javascript\n",
       "var _pyfunc_dict = function (x) {\n",
       "    var t, i, keys, r={};\n",
       "    if (Array.isArray(x)) {\n",
       "        for (i=0; i<x.length; i++) {\n",
       "            t=x[i]; r[t[0]] = t[1];\n",
       "        }\n",
       "    } else {\n",
       "        keys = Object.keys(x);\n",
       "        for (i=0; i<keys.length; i++) {\n",
       "            t=keys[i]; r[t] = x[t];\n",
       "        }\n",
       "    }\n",
       "    return r;\n",
       "};\n",
       "var _pyfunc_list = function (x) {\n",
       "    var r=[];\n",
       "    if (typeof x===\"object\" && !Array.isArray(x)) {x = Object.keys(x)}\n",
       "    for (var i=0; i<x.length; i++) {\n",
       "        r.push(x[i]);\n",
       "    }\n",
       "    return r;\n",
       "};\n",
       "_pyfunc_dict(([[\"foo\", 1], [\"bar\", 2]]));\n",
       "_pyfunc_list(\"abc\");\n",
       "_pyfunc_dict(other_dict);\n",
       "_pyfunc_list(other_list);\n",
       "```"
      ],
      "text/plain": [
       "<IPython.core.display.Markdown object>"
      ]
     },
     "execution_count": 84,
     "metadata": {},
     "output_type": "execute_result"
    }
   ],
   "source": [
    "%%py2js\n",
    "# 数据转换成 lists and dicts\n",
    "dict([['foo', 1], ['bar', 2]])  # -> {'foo': 1, 'bar': 2}\n",
    "list('abc')  # -> ['a', 'b', 'c']\n",
    "dict(other_dict)  # make a copy\n",
    "list(other_list)  # make copy"
   ]
  },
  {
   "cell_type": "markdown",
   "metadata": {},
   "source": [
    "#### isinstance相关功能"
   ]
  },
  {
   "cell_type": "code",
   "execution_count": 85,
   "metadata": {},
   "outputs": [
    {
     "data": {
      "text/markdown": [
       "```javascript\n",
       "Object.prototype.toString.call(3).slice(8,-1).toLowerCase() === 'number';\n",
       "Object.prototype.toString.call(\"\").slice(8,-1).toLowerCase() === 'string';\n",
       "Array.isArray([]);\n",
       "Object.prototype.toString.call(({})).slice(8,-1).toLowerCase() === 'object';\n",
       "Object.prototype.toString.call(foo).slice(8,-1).toLowerCase() === 'function';\n",
       "```"
      ],
      "text/plain": [
       "<IPython.core.display.Markdown object>"
      ]
     },
     "execution_count": 85,
     "metadata": {},
     "output_type": "execute_result"
    }
   ],
   "source": [
    "%%py2js\n",
    "# 基本类型\n",
    "isinstance(3, float)  # in JS there are no ints\n",
    "isinstance('', str)\n",
    "isinstance([], list)\n",
    "isinstance({}, dict)\n",
    "isinstance(foo, types.FunctionType)"
   ]
  },
  {
   "cell_type": "code",
   "execution_count": 86,
   "metadata": {},
   "outputs": [
    {
     "data": {
      "text/markdown": [
       "```javascript\n",
       "Object.prototype.toString.call(3).slice(8,-1).toLowerCase() === 'number';\n",
       "Object.prototype.toString.call(\"\").slice(8,-1).toLowerCase() === 'string';\n",
       "Array.isArray([]);\n",
       "Object.prototype.toString.call(({})).slice(8,-1).toLowerCase() === 'object';\n",
       "Object.prototype.toString.call(foo).slice(8,-1).toLowerCase() === 'function';\n",
       "```"
      ],
      "text/plain": [
       "<IPython.core.display.Markdown object>"
      ]
     },
     "execution_count": 86,
     "metadata": {},
     "output_type": "execute_result"
    }
   ],
   "source": [
    "%%py2js\n",
    "# 也可以用JS的字符串\n",
    "isinstance(3, 'number')\n",
    "isinstance('', 'string')\n",
    "isinstance([], 'array')\n",
    "isinstance({}, 'object')\n",
    "isinstance(foo, 'function')"
   ]
  },
  {
   "cell_type": "code",
   "execution_count": 87,
   "metadata": {},
   "outputs": [
    {
     "data": {
      "text/markdown": [
       "```javascript\n",
       "x instanceof MyClass;\n",
       "x instanceof MyClass;\n",
       "Object.prototype.toString.call(x).slice(8,-1).toLowerCase() === 'object';\n",
       "```"
      ],
      "text/plain": [
       "<IPython.core.display.Markdown object>"
      ]
     },
     "execution_count": 87,
     "metadata": {},
     "output_type": "execute_result"
    }
   ],
   "source": [
    "%%py2js\n",
    "# 可以用于自定义类型.\n",
    "isinstance(x, MyClass)\n",
    "isinstance(x, 'MyClass')  # equivalent\n",
    "isinstance(x, 'Object')  # also yields true (subclass of Object)"
   ]
  },
  {
   "cell_type": "code",
   "execution_count": 88,
   "metadata": {},
   "outputs": [
    {
     "data": {
      "text/markdown": [
       "```javascript\n",
       "(Foo.prototype instanceof Bar);\n",
       "```"
      ],
      "text/plain": [
       "<IPython.core.display.Markdown object>"
      ]
     },
     "execution_count": 88,
     "metadata": {},
     "output_type": "execute_result"
    }
   ],
   "source": [
    "%%py2js\n",
    "# issubclass 也能正常工作\n",
    "issubclass(Foo, Bar)"
   ]
  },
  {
   "cell_type": "code",
   "execution_count": 89,
   "metadata": {},
   "outputs": [
    {
     "data": {
      "text/markdown": [
       "```javascript\n",
       "(typeof foo === \"function\");\n",
       "```"
      ],
      "text/plain": [
       "<IPython.core.display.Markdown object>"
      ]
     },
     "execution_count": 89,
     "metadata": {},
     "output_type": "execute_result"
    }
   ],
   "source": [
    "%%py2js\n",
    "# callable也能正常工作\n",
    "callable(foo)"
   ]
  },
  {
   "cell_type": "markdown",
   "metadata": {},
   "source": [
    "#### hasattr, getattr, setattr and delattr"
   ]
  },
  {
   "cell_type": "code",
   "execution_count": 90,
   "metadata": {},
   "outputs": [
    {
     "data": {
      "text/markdown": [
       "```javascript\n",
       "var _pyfunc_getattr = function (ob, name, deflt) { // nargs: 2 3\n",
       "    var has_attr = ob !== undefined && ob !== null && ob[name] !== undefined;\n",
       "    if (has_attr) {return ob[name];}\n",
       "    else if (arguments.length == 3) {return deflt;}\n",
       "    else {var e = Error(name); e.name='AttributeError'; throw e;}\n",
       "};\n",
       "var _pyfunc_hasattr = function (ob, name) { // nargs: 2\n",
       "    return (ob !== undefined) && (ob !== null) && (ob[name] !== undefined);\n",
       "};\n",
       "var a;\n",
       "a = ({foo: 1, bar: 2});\n",
       "_pyfunc_hasattr(a, \"foo\");\n",
       "_pyfunc_hasattr(a, \"fooo\");\n",
       "_pyfunc_hasattr(null, \"foo\");\n",
       "_pyfunc_getattr(a, \"foo\");\n",
       "_pyfunc_getattr(a, \"fooo\");\n",
       "_pyfunc_getattr(a, \"fooo\", 3);\n",
       "_pyfunc_getattr(null, \"foo\", 3);\n",
       "```"
      ],
      "text/plain": [
       "<IPython.core.display.Markdown object>"
      ]
     },
     "execution_count": 90,
     "metadata": {},
     "output_type": "execute_result"
    }
   ],
   "source": [
    "%%py2js\n",
    "\n",
    "a = {'foo': 1, 'bar': 2}\n",
    "hasattr(a, 'foo')  # -> True\n",
    "hasattr(a, 'fooo')  # -> False\n",
    "hasattr(null, 'foo')  # -> False\n",
    "getattr(a, 'foo')  # -> 1\n",
    "getattr(a, 'fooo')  # -> raise AttributeError\n",
    "getattr(a, 'fooo', 3)  # -> 3\n",
    "getattr(null, 'foo', 3)  # -> 3"
   ]
  },
  {
   "cell_type": "code",
   "execution_count": 91,
   "metadata": {},
   "outputs": [
    {
     "data": {
      "text/markdown": [
       "```javascript\n",
       "var _pyfunc_setattr = function (ob, name, value) {  // nargs: 3\n",
       "    ob[name] = value;\n",
       "};\n",
       "_pyfunc_setattr(a, \"foo\", 2);\n",
       "```"
      ],
      "text/plain": [
       "<IPython.core.display.Markdown object>"
      ]
     },
     "execution_count": 91,
     "metadata": {},
     "output_type": "execute_result"
    }
   ],
   "source": [
    "%%py2js\n",
    "\n",
    "setattr(a, 'foo', 2)"
   ]
  },
  {
   "cell_type": "code",
   "execution_count": 92,
   "metadata": {},
   "outputs": [
    {
     "data": {
      "text/markdown": [
       "```javascript\n",
       "var _pyfunc_delattr = function (ob, name) {  // nargs: 2\n",
       "    delete ob[name];\n",
       "};\n",
       "_pyfunc_delattr(a, \"foo\");\n",
       "```"
      ],
      "text/plain": [
       "<IPython.core.display.Markdown object>"
      ]
     },
     "execution_count": 92,
     "metadata": {},
     "output_type": "execute_result"
    }
   ],
   "source": [
    "%%py2js\n",
    "\n",
    "delattr(a, 'foo')"
   ]
  },
  {
   "cell_type": "markdown",
   "metadata": {},
   "source": [
    "#### 使用JS专属功能\n",
    "\n",
    "在Python模块中编写PyScript时，我们建议在使用特定JavaScript功能的地方，引用以window为前缀。其中window表示全局JS命名空间。所有全局JavaScript对象/函数和变量都自动成为window对象的成员。这有助于明确该功能是JS特有的，还有助于像flake8这样的静态代码分析工具。\n",
    "\n",
    "除了window, flexx.pyscript 也提供 undefined, Inifinity, 和 NaN."
   ]
  },
  {
   "cell_type": "code",
   "execution_count": 94,
   "metadata": {},
   "outputs": [
    {
     "data": {
      "text/markdown": [
       "```javascript\n",
       "var foo;\n",
       "foo = function flx_foo (a) {\n",
       "    return window.Math.cos(a);\n",
       "};\n",
       "\n",
       "```"
      ],
      "text/plain": [
       "<IPython.core.display.Markdown object>"
      ]
     },
     "execution_count": 94,
     "metadata": {},
     "output_type": "execute_result"
    }
   ],
   "source": [
    "%%py2js\n",
    "\n",
    "def foo(a):\n",
    "    return window.Math.cos(a)"
   ]
  }
 ],
 "metadata": {
  "kernelspec": {
   "display_name": "Python 3",
   "language": "python",
   "name": "python3"
  },
  "language_info": {
   "codemirror_mode": {
    "name": "ipython",
    "version": 3
   },
   "file_extension": ".py",
   "mimetype": "text/x-python",
   "name": "python",
   "nbconvert_exporter": "python",
   "pygments_lexer": "ipython3",
   "version": "3.6.4"
  }
 },
 "nbformat": 4,
 "nbformat_minor": 2
}
