{
 "cells": [
  {
   "cell_type": "markdown",
   "metadata": {},
   "source": [
    "---\n",
    "title: keras教程-n-CUDA无法找到cudnn的错误解决\n",
    "date: 2018-10-17 20:17:55\n",
    "tags: [keras教程]\n",
    "toc: true\n",
    "xiongzhang: false\n",
    "\n",
    "---\n",
    "<span></span>\n",
    "<!-- more -->\n",
    "\n",
    "\n",
    "本文适用于如下环境:\n",
    "\n",
    "- ubuntu16\n",
    "- python3.6\n",
    "- jupyter notebook\n",
    "- tensorflow 1.x\n",
    "- keras 2.x\n",
    "\n",
    "作者信息:\n",
    "\n",
    "- 邮箱: xxxspy[at]126.com\n",
    "- QQ: 675495787\n",
    "- 转载请注明来自 mlln.cn"
   ]
  },
  {
   "cell_type": "markdown",
   "metadata": {},
   "source": [
    "今天在使用keras的时候发现一个错误, 主要的错误是`Unknown: Fail to find the dnn implementation`, 具体看traceback如下:"
   ]
  },
  {
   "cell_type": "markdown",
   "metadata": {},
   "source": [
    "```cmd\n",
    " Unknown: Fail to find the dnn implementation.\n",
    "Traceback (most recent call last):\n",
    "  File \"train.py\", line 33, in <module>\n",
    "    num_epochs=20)\n",
    "  File \"/home/bnu/venvs/deeplearning3.6/lib/python3.6/site-packages/textgenrnn/textgenrnn.py\", line 320, in train_from_file\n",
    "    texts, context_labels=context_labels, **kwargs)\n",
    "  File \"/home/bnu/venvs/deeplearning3.6/lib/python3.6/site-packages/textgenrnn/textgenrnn.py\", line 291, in train_new_model\n",
    "    **kwargs)\n",
    "  File \"/home/bnu/venvs/deeplearning3.6/lib/python3.6/site-packages/textgenrnn/textgenrnn.py\", line 221, in train_on_texts\n",
    "    validation_steps=val_steps\n",
    "  File \"/home/bnu/venvs/deeplearning3.6/lib/python3.6/site-packages/keras/legacy/interfaces.py\", line 91, in wrapper\n",
    "    return func(*args, **kwargs)\n",
    "  File \"/home/bnu/venvs/deeplearning3.6/lib/python3.6/site-packages/keras/engine/training.py\", line 1415, in fit_generator\n",
    "    initial_epoch=initial_epoch)\n",
    "  File \"/home/bnu/venvs/deeplearning3.6/lib/python3.6/site-packages/keras/engine/training_generator.py\", line 213, in fit_generator\n",
    "    class_weight=class_weight)\n",
    "  File \"/home/bnu/venvs/deeplearning3.6/lib/python3.6/site-packages/keras/engine/training.py\", line 1215, in train_on_batch\n",
    "    outputs = self.train_function(ins)\n",
    "  File \"/home/bnu/venvs/deeplearning3.6/lib/python3.6/site-packages/keras/backend/tensorflow_backend.py\", line 2666, in __call__\n",
    "    return self._call(inputs)\n",
    "  File \"/home/bnu/venvs/deeplearning3.6/lib/python3.6/site-packages/keras/backend/tensorflow_backend.py\", line 2636, in _call\n",
    "    fetched = self._callable_fn(*array_vals)\n",
    "  File \"/home/bnu/venvs/deeplearning3.6/lib/python3.6/site-packages/tensorflow/python/client/session.py\", line 1454, in __call__\n",
    "    self._session._session, self._handle, args, status, None)\n",
    "  File \"/home/bnu/venvs/deeplearning3.6/lib/python3.6/site-packages/tensorflow/python/framework/errors_impl.py\", line 519, in __exit__\n",
    "    c_api.TF_GetCode(self.status.status))\n",
    "tensorflow.python.framework.errors_impl.UnknownError: Fail to find the dnn implementation.\n",
    "         [[Node: rnn_1_2/CudnnRNN = CudnnRNN[T=DT_FLOAT, _class=[\"loc:@training/RMSprop/gradients/rnn_1_2/CudnnRNN_grad/CudnnRNNBackprop\"], direction=\"unidirectional\", dropout=0, input_mode=\"linear_input\", is_training=true, rnn_mode=\"lstm\", seed=87654321, seed2=0, _device=\"/job:localhost/replica:0/task:0/device:GPU:0\"](rnn_1_2/transpose, rnn_1_2/ExpandDims_1, rnn_1_2/ExpandDims_1, rnn_1_2/concat)]]\n",
    "         [[Node: loss_2/mul/_241 = _Recv[client_terminated=false, recv_device=\"/job:localhost/replica:0/task:0/device:CPU:0\", send_device=\"/job:localhost/replica:0/task:0/device:GPU:0\", send_device_incarnation=1, tensor_name=\"edge_2251_loss_2/mul\", tensor_type=DT_FLOAT, _device=\"/job:localhost/replica:0/task:0/device:CPU:0\"]()]]\n",
    "```"
   ]
  },
  {
   "cell_type": "markdown",
   "metadata": {},
   "source": [
    "### 问题和解决方法\n",
    "\n",
    "经过各种搜索以后, 我知道这是因为cuDNN安装错误或者根本没有安装导致的, 所以我们就重新安装一遍cuDNN即可, 下面就是我的解决步骤:"
   ]
  },
  {
   "cell_type": "markdown",
   "metadata": {},
   "source": [
    "- 下载cudnn压缩包\n",
    "\n",
    "为了避免你从官网下载(速度慢/还需要注册/填写问卷) ,我把要下载的cudnn放在了百度网盘:\n",
    "\n",
    "下载链接：https://pan.baidu.com/s/1Wz9G9KtzmrBuXv0fLDo2GQ \n",
    "\n",
    "提取码：zvp4\n",
    "\n",
    "- 重命名文件\n",
    "\n",
    "主要是加上文件后缀`.tgz`, 那么现在这个文件为`cudnn-9.0-linux-x64-v7.3.1.20.solitairetheme8.tgz`\n",
    "\n",
    "- 文件放到某个文件夹\n",
    "\n",
    "后文用`cudnn_dir`来表示这个文件夹路径, cd到这个文件夹\n",
    "\n",
    "- 解压:\n",
    "\n",
    "`$tar -xzvf cudnn-9.0-linux-x64-v7.3.1.20.solitairetheme8.tgz`\n",
    "\n",
    "你会看到在当前文件夹下多了一个文件夹`cuda`\n",
    "\n",
    "- 复制文件到/usr/local/cuda中, 命令我都给你写好了:\n",
    "\n",
    "\n",
    "```\n",
    "$ sudo cp cuda/include/cudnn.h /usr/local/cuda/include\n",
    "$ sudo cp cuda/lib64/libcudnn* /usr/local/cuda/lib64\n",
    "$ sudo chmod a+r /usr/local/cuda/include/cudnn.h /usr/local/cuda/lib64/libcudnn*\n",
    "```\n",
    "\n",
    "ok, 现在问题已经解决了。"
   ]
  }
 ],
 "metadata": {
  "kernelspec": {
   "display_name": "Python 3",
   "language": "python",
   "name": "python3"
  },
  "language_info": {
   "codemirror_mode": {
    "name": "ipython",
    "version": 3
   },
   "file_extension": ".py",
   "mimetype": "text/x-python",
   "name": "python",
   "nbconvert_exporter": "python",
   "pygments_lexer": "ipython3",
   "version": "3.6.4"
  }
 },
 "nbformat": 4,
 "nbformat_minor": 2
}
