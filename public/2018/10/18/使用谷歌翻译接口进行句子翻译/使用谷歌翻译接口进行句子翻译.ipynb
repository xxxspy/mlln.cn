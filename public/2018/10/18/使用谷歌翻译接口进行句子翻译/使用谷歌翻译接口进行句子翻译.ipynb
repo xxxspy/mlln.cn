{
 "cells": [
  {
   "cell_type": "markdown",
   "metadata": {},
   "source": [
    "---\n",
    "title: 使用谷歌翻译接口进行句子翻译\n",
    "date: 2018-10-18 20:17:55\n",
    "tags: [keras教程]\n",
    "toc: true\n",
    "xiongzhang: false\n",
    "\n",
    "---\n",
    "<span></span>\n",
    "<!-- more -->\n",
    "\n",
    "\n",
    "本文代码运行环境:\n",
    "\n",
    "- windows10\n",
    "- python3.6\n",
    "- jupyter notebook\n",
    "\n",
    "\n",
    "- 作者mlln.cn, 转载请注明出处!"
   ]
  },
  {
   "cell_type": "markdown",
   "metadata": {},
   "source": [
    "### 简介\n",
    "\n",
    "Googletrans是一个免费且无限使用的python库，封装了谷歌翻译的网页版。不过它使用Google Translate Ajax API来调用detect和translate之类的方法。\n",
    "\n",
    "它有如下特征:\n",
    "\n",
    "- 快速可靠 - 它使用translate.google.com使用的相同服务器\n",
    "- 自动语言检测\n",
    "- 批量翻译\n",
    "- 可自定义的服务URL\n",
    "- 连接池（使用requests.Session的优点）\n",
    "- HTTP / 2支持"
   ]
  },
  {
   "cell_type": "markdown",
   "metadata": {},
   "source": [
    "### 安装\n",
    "\n",
    "安装方法很简单, 因为我在notebook中使用, 所以直接使用pip命令进行安装:"
   ]
  },
  {
   "cell_type": "code",
   "execution_count": 1,
   "metadata": {
    "scrolled": false
   },
   "outputs": [
    {
     "name": "stdout",
     "output_type": "stream",
     "text": [
      "Looking in indexes: https://mirrors.ustc.edu.cn/pypi/web/simple\n",
      "Collecting googletrans\n",
      "  Downloading https://mirrors.ustc.edu.cn/pypi/web/packages/49/0f/eac53560e99a6b1e3b3e18e8b98f0e0041bfc4f1ee1e1b74cdf5530786d0/googletrans-2.3.0.tar.gz\n",
      "Requirement already satisfied: requests in d:\\mysites\\deeplearning.ai-master\\.env\\lib\\site-packages (from googletrans) (2.18.4)\n",
      "Requirement already satisfied: chardet<3.1.0,>=3.0.2 in d:\\mysites\\deeplearning.ai-master\\.env\\lib\\site-packages (from requests->googletrans) (3.0.4)\n",
      "Requirement already satisfied: idna<2.7,>=2.5 in d:\\mysites\\deeplearning.ai-master\\.env\\lib\\site-packages (from requests->googletrans) (2.6)\n",
      "Requirement already satisfied: urllib3<1.23,>=1.21.1 in d:\\mysites\\deeplearning.ai-master\\.env\\lib\\site-packages (from requests->googletrans) (1.22)\n",
      "Requirement already satisfied: certifi>=2017.4.17 in d:\\mysites\\deeplearning.ai-master\\.env\\lib\\site-packages (from requests->googletrans) (2018.4.16)\n",
      "Building wheels for collected packages: googletrans\n",
      "  Running setup.py bdist_wheel for googletrans: started\n",
      "  Running setup.py bdist_wheel for googletrans: finished with status 'done'\n",
      "  Stored in directory: C:\\Users\\syd\\AppData\\Local\\pip\\Cache\\wheels\\ba\\f2\\11\\84e336d798cae9a9ebdaa1fdca57460cb0e5c258555963b61c\n",
      "Successfully built googletrans\n",
      "Installing collected packages: googletrans\n",
      "Successfully installed googletrans-2.3.0\n"
     ]
    },
    {
     "name": "stderr",
     "output_type": "stream",
     "text": [
      "You are using pip version 18.0, however version 18.1 is available.\n",
      "You should consider upgrading via the 'python -m pip install --upgrade pip' command.\n"
     ]
    }
   ],
   "source": [
    "!pip install googletrans -U"
   ]
  },
  {
   "cell_type": "markdown",
   "metadata": {},
   "source": [
    "### 代码测试"
   ]
  },
  {
   "cell_type": "markdown",
   "metadata": {},
   "source": [
    "\n",
    "\n"
   ]
  },
  {
   "cell_type": "code",
   "execution_count": 1,
   "metadata": {},
   "outputs": [],
   "source": [
    "#### 引入用到的模块\n",
    "from googletrans import Translator"
   ]
  },
  {
   "cell_type": "code",
   "execution_count": 11,
   "metadata": {},
   "outputs": [
    {
     "data": {
      "text/plain": [
       "<googletrans.models.Translated at 0x2b6c9b664a8>"
      ]
     },
     "execution_count": 11,
     "metadata": {},
     "output_type": "execute_result"
    }
   ],
   "source": [
    "# 实例化一个Translator\n",
    "translator = Translator()\n",
    "# 自动翻译\n",
    "translator.translate('你好, 世界!')\n",
    "# f返回一个Translated类"
   ]
  },
  {
   "cell_type": "markdown",
   "metadata": {},
   "source": [
    "- 指定翻译的目标语言"
   ]
  },
  {
   "cell_type": "code",
   "execution_count": 5,
   "metadata": {},
   "outputs": [
    {
     "data": {
      "text/plain": [
       "<googletrans.models.Translated at 0x2b6c9a2d550>"
      ]
     },
     "execution_count": 5,
     "metadata": {},
     "output_type": "execute_result"
    }
   ],
   "source": [
    "translator.translate('你好, 世界!', dest='en')"
   ]
  },
  {
   "cell_type": "markdown",
   "metadata": {},
   "source": [
    "- 指定来源语言"
   ]
  },
  {
   "cell_type": "code",
   "execution_count": 6,
   "metadata": {},
   "outputs": [
    {
     "data": {
      "text/plain": [
       "<googletrans.models.Translated at 0x2b6c9a573c8>"
      ]
     },
     "execution_count": 6,
     "metadata": {},
     "output_type": "execute_result"
    }
   ],
   "source": [
    "translator.translate('你好, 世界!', src='zh-cn')"
   ]
  },
  {
   "cell_type": "markdown",
   "metadata": {},
   "source": [
    "- 指定使用的api地址"
   ]
  },
  {
   "cell_type": "code",
   "execution_count": 9,
   "metadata": {},
   "outputs": [],
   "source": [
    "translator = Translator(service_urls=[\n",
    "      'translate.google.com.hk',\n",
    "      'translate.google.co.kr',\n",
    "    ])"
   ]
  },
  {
   "cell_type": "markdown",
   "metadata": {},
   "source": [
    "- 一次翻译多个语句"
   ]
  },
  {
   "cell_type": "code",
   "execution_count": 12,
   "metadata": {},
   "outputs": [
    {
     "name": "stdout",
     "output_type": "stream",
     "text": [
      "The quick brown fox  ->  快速的棕色狐狸\n",
      "jumps over  ->  跳过来\n",
      "the lazy dog  ->  懒狗\n"
     ]
    }
   ],
   "source": [
    "translations = translator.translate(['The quick brown fox', 'jumps over', 'the lazy dog'], dest='zh-cn')\n",
    "for translation in translations:\n",
    "    print(translation.origin, ' -> ', translation.text)\n"
   ]
  },
  {
   "cell_type": "markdown",
   "metadata": {},
   "source": [
    "- 推断语言"
   ]
  },
  {
   "cell_type": "code",
   "execution_count": 13,
   "metadata": {},
   "outputs": [
    {
     "name": "stdout",
     "output_type": "stream",
     "text": [
      "ko 1\n",
      "ja 0.96244651\n",
      "en 1\n",
      "fr 0.95032448\n"
     ]
    }
   ],
   "source": [
    "langs = translator.detect(['한국어', '日本語', 'English', 'le français'])\n",
    "for lang in langs:\n",
    "    print(lang.lang, lang.confidence)"
   ]
  },
  {
   "cell_type": "markdown",
   "metadata": {},
   "source": [
    "### 所有支持的语言预览\n",
    "\n",
    "```python\n",
    "LANGUAGES = {\n",
    "    'af': 'afrikaans',\n",
    "    'sq': 'albanian',\n",
    "    'am': 'amharic',\n",
    "    'ar': 'arabic',\n",
    "    'hy': 'armenian',\n",
    "    'az': 'azerbaijani',\n",
    "    'eu': 'basque',\n",
    "    'be': 'belarusian',\n",
    "    'bn': 'bengali',\n",
    "    'bs': 'bosnian',\n",
    "    'bg': 'bulgarian',\n",
    "    'ca': 'catalan',\n",
    "    'ceb': 'cebuano',\n",
    "    'ny': 'chichewa',\n",
    "    'zh-cn': 'chinese (simplified)',\n",
    "    'zh-tw': 'chinese (traditional)',\n",
    "    'co': 'corsican',\n",
    "    'hr': 'croatian',\n",
    "    'cs': 'czech',\n",
    "    'da': 'danish',\n",
    "    'nl': 'dutch',\n",
    "    'en': 'english',\n",
    "    'eo': 'esperanto',\n",
    "    'et': 'estonian',\n",
    "    'tl': 'filipino',\n",
    "    'fi': 'finnish',\n",
    "    'fr': 'french',\n",
    "    'fy': 'frisian',\n",
    "    'gl': 'galician',\n",
    "    'ka': 'georgian',\n",
    "    'de': 'german',\n",
    "    'el': 'greek',\n",
    "    'gu': 'gujarati',\n",
    "    'ht': 'haitian creole',\n",
    "    'ha': 'hausa',\n",
    "    'haw': 'hawaiian',\n",
    "    'iw': 'hebrew',\n",
    "    'hi': 'hindi',\n",
    "    'hmn': 'hmong',\n",
    "    'hu': 'hungarian',\n",
    "    'is': 'icelandic',\n",
    "    'ig': 'igbo',\n",
    "    'id': 'indonesian',\n",
    "    'ga': 'irish',\n",
    "    'it': 'italian',\n",
    "    'ja': 'japanese',\n",
    "    'jw': 'javanese',\n",
    "    'kn': 'kannada',\n",
    "    'kk': 'kazakh',\n",
    "    'km': 'khmer',\n",
    "    'ko': 'korean',\n",
    "    'ku': 'kurdish (kurmanji)',\n",
    "    'ky': 'kyrgyz',\n",
    "    'lo': 'lao',\n",
    "    'la': 'latin',\n",
    "    'lv': 'latvian',\n",
    "    'lt': 'lithuanian',\n",
    "    'lb': 'luxembourgish',\n",
    "    'mk': 'macedonian',\n",
    "    'mg': 'malagasy',\n",
    "    'ms': 'malay',\n",
    "    'ml': 'malayalam',\n",
    "    'mt': 'maltese',\n",
    "    'mi': 'maori',\n",
    "    'mr': 'marathi',\n",
    "    'mn': 'mongolian',\n",
    "    'my': 'myanmar (burmese)',\n",
    "    'ne': 'nepali',\n",
    "    'no': 'norwegian',\n",
    "    'ps': 'pashto',\n",
    "    'fa': 'persian',\n",
    "    'pl': 'polish',\n",
    "    'pt': 'portuguese',\n",
    "    'pa': 'punjabi',\n",
    "    'ro': 'romanian',\n",
    "    'ru': 'russian',\n",
    "    'sm': 'samoan',\n",
    "    'gd': 'scots gaelic',\n",
    "    'sr': 'serbian',\n",
    "    'st': 'sesotho',\n",
    "    'sn': 'shona',\n",
    "    'sd': 'sindhi',\n",
    "    'si': 'sinhala',\n",
    "    'sk': 'slovak',\n",
    "    'sl': 'slovenian',\n",
    "    'so': 'somali',\n",
    "    'es': 'spanish',\n",
    "    'su': 'sundanese',\n",
    "    'sw': 'swahili',\n",
    "    'sv': 'swedish',\n",
    "    'tg': 'tajik',\n",
    "    'ta': 'tamil',\n",
    "    'te': 'telugu',\n",
    "    'th': 'thai',\n",
    "    'tr': 'turkish',\n",
    "    'uk': 'ukrainian',\n",
    "    'ur': 'urdu',\n",
    "    'uz': 'uzbek',\n",
    "    'vi': 'vietnamese',\n",
    "    'cy': 'welsh',\n",
    "    'xh': 'xhosa',\n",
    "    'yi': 'yiddish',\n",
    "    'yo': 'yoruba',\n",
    "    'zu': 'zulu',\n",
    "    'fil': 'Filipino',\n",
    "    'he': 'Hebrew'\n",
    "}\n",
    "```"
   ]
  },
  {
   "cell_type": "markdown",
   "metadata": {},
   "source": [
    "### 注意事项\n",
    "\n",
    "- 单个文本的最大字符限制为15k。\n",
    "- 由于谷歌翻译的网页版本的限制，此API不保证库始终正常工作。 （如果您不关心稳定性，请使用此库。）\n",
    "- 如果您想使用稳定的API，我强烈建议您使用Google的官方翻译API。\n",
    "- 如果您收到HTTP 5xx错误或＃6错误，可能是因为Google已禁止您的客户端IP地址。"
   ]
  }
 ],
 "metadata": {
  "kernelspec": {
   "display_name": "Python 3",
   "language": "python",
   "name": "python3"
  },
  "language_info": {
   "codemirror_mode": {
    "name": "ipython",
    "version": 3
   },
   "file_extension": ".py",
   "mimetype": "text/x-python",
   "name": "python",
   "nbconvert_exporter": "python",
   "pygments_lexer": "ipython3",
   "version": "3.6.4"
  }
 },
 "nbformat": 4,
 "nbformat_minor": 2
}
