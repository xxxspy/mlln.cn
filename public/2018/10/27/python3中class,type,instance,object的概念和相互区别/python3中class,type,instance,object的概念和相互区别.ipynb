{
 "cells": [
  {
   "cell_type": "markdown",
   "metadata": {},
   "source": [
    "---\n",
    "title: python3中class,type,instance,object的概念和相互区别\n",
    "date: 2018-10-27 20:17:55\n",
    "tags: [python, 格式化字符串]\n",
    "toc: true\n",
    "xiongzhang: true\n",
    "\n",
    "\n",
    "---\n",
    "<span></span>\n",
    "<!-- more -->\n",
    "\n",
    "> 声明: 本文由[DataScience](http://mlln.cn)原创发表, 转载请注明[本文链接](http://mlln.cn)mlln.cn, 并在文后留言`转载`.\n",
    "\n",
    "本文代码运行环境:\n",
    "\n",
    "- windows10\n",
    "- python3.6\n",
    "- jupyter notebook"
   ]
  },
  {
   "cell_type": "markdown",
   "metadata": {},
   "source": [
    "python中这四个概念经常让新手产生疑惑:class/type/instance/object, 如果非要把他们翻译成中文就是: 类/类型/实例/对象。但是如果交流的时候使用中文, 很容易造成概念的混乱, 因为说起\"类\"和\"类型\"的区别, 通俗的理解真的觉得没区别。所以, 我们还是说 英文吧。我的观点主要从这篇英文文章( https://eli.thegreenplace.net/2012/03/30/python-objects-types-classes-and-instances-a-glossary )中提取的, 如果你英文好, 建议直接读英文文章, 忽略我这篇文章。\n",
    "\n",
    "### class和type\n",
    "\n",
    "这两个概念来自python2的早期版本, 内建的类通常叫做type, 而用户自定义的类, 通常叫做class(假设继承子object), 但是在python3中, 这种概念差别已经不存在, 所以在python3中type和class就是一种东西: "
   ]
  },
  {
   "cell_type": "code",
   "execution_count": 5,
   "metadata": {},
   "outputs": [],
   "source": [
    "# 创建一个变量\n",
    "astr = 'a string'"
   ]
  },
  {
   "cell_type": "markdown",
   "metadata": {},
   "source": [
    "在python2中, 命令`print(type(astr))`输出 `<type 'str'>`, 而在python3中, 命令`print(type(astr))`输出 `<class 'str'>`。\n",
    "\n",
    "在python2中, 只有用户自定义的类才会输出 `<class 'str'>`, 你自己可以试试。"
   ]
  },
  {
   "cell_type": "markdown",
   "metadata": {},
   "source": [
    "### instance和object\n",
    "\n",
    "类的实例就是对象, 不管在python2还是在python3中这句话都没有错, 所以实例其实就是对象的一个别称。\n",
    "\n",
    "\n",
    "### class和instance/object\n",
    "\n",
    "从类到对象的过程叫做实例化, 所以对象是实例化的产物, "
   ]
  }
 ],
 "metadata": {
  "kernelspec": {
   "display_name": "Python 3",
   "language": "python",
   "name": "python3"
  },
  "language_info": {
   "codemirror_mode": {
    "name": "ipython",
    "version": 3
   },
   "file_extension": ".py",
   "mimetype": "text/x-python",
   "name": "python",
   "nbconvert_exporter": "python",
   "pygments_lexer": "ipython3",
   "version": "3.6.4"
  }
 },
 "nbformat": 4,
 "nbformat_minor": 2
}
