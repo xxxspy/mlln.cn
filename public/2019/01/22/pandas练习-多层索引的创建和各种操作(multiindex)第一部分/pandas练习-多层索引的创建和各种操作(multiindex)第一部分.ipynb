{
 "cells": [
  {
   "cell_type": "markdown",
   "metadata": {},
   "source": [
    "---\n",
    "title: pandas练习-多层索引的创建和各种操作(multiindex)第一部分\n",
    "date: 2019-01-22 20:17:55\n",
    "tags: [pandas]\n",
    "toc: true\n",
    "xiongzhang: true\n",
    "xiongzhang_images: [main.jpg]\n",
    "\n",
    "---\n",
    "\n",
    "<span></span>\n",
    "<!-- more -->"
   ]
  },
  {
   "cell_type": "markdown",
   "metadata": {},
   "source": [
    "分层/多级索引非常令人兴奋，因为它为一些非常复杂的数据分析和操作提供了可能性，特别是对于处理更高维度的数据。从本质上讲，它使你能在较低维度的数据结构(如Series（1d）和DataFrame（2d）)中存储和操作具有任意数量维度的数据。"
   ]
  },
  {
   "cell_type": "markdown",
   "metadata": {},
   "source": [
    "在这篇文章中, 你将会学到什么是\"MultiIndex\", 以及如何创建和操作MultiIndex。"
   ]
  },
  {
   "cell_type": "markdown",
   "metadata": {},
   "source": [
    "\n",
    "### 创建MultiIndex"
   ]
  },
  {
   "cell_type": "markdown",
   "metadata": {},
   "source": [
    "MultiIndex对象是标准Index对象的扩展, 你可以将MultiIndex视为元组构成的列表，其中每个元组都是唯一的, 它与Index的区别是, Index可以视为数字或者字符串构成的列表。可以从数组列表（使用MultiIndex.from_arrays），元组列表（使用MultiIndex.from_tuples）或交叉迭代集（使用MultiIndex.from_product）创建MultiIndex。当构造函数传递元组列表时，它将尝试返回MultiIndex。以下示例演示了创建MultiIndexes的不同方法。"
   ]
  },
  {
   "cell_type": "markdown",
   "metadata": {},
   "source": [
    "#### from_tuples\n",
    "\n",
    "下面先创建一个元祖构成的列表:"
   ]
  },
  {
   "cell_type": "code",
   "execution_count": 3,
   "metadata": {},
   "outputs": [
    {
     "data": {
      "text/plain": [
       "[('bar', 'one'),\n",
       " ('bar', 'two'),\n",
       " ('baz', 'one'),\n",
       " ('baz', 'two'),\n",
       " ('foo', 'one'),\n",
       " ('foo', 'two'),\n",
       " ('qux', 'one'),\n",
       " ('qux', 'two')]"
      ]
     },
     "execution_count": 3,
     "metadata": {},
     "output_type": "execute_result"
    }
   ],
   "source": [
    "import pandas as pd\n",
    "\n",
    "arrays = [['bar', 'bar', 'baz', 'baz', 'foo', 'foo', 'qux', 'qux'],\n",
    "            ['one', 'two', 'one', 'two', 'one', 'two', 'one', 'two']]\n",
    "\n",
    "tuples = list(zip(*arrays))\n",
    "tuples"
   ]
  },
  {
   "cell_type": "markdown",
   "metadata": {},
   "source": [
    "使用from_tuples来创建MultiIndex:"
   ]
  },
  {
   "cell_type": "code",
   "execution_count": 4,
   "metadata": {},
   "outputs": [
    {
     "data": {
      "text/plain": [
       "MultiIndex(levels=[['bar', 'baz', 'foo', 'qux'], ['one', 'two']],\n",
       "           labels=[[0, 0, 1, 1, 2, 2, 3, 3], [0, 1, 0, 1, 0, 1, 0, 1]],\n",
       "           names=['first', 'second'])"
      ]
     },
     "execution_count": 4,
     "metadata": {},
     "output_type": "execute_result"
    }
   ],
   "source": [
    "index = pd.MultiIndex.from_tuples(tuples, names=['first', 'second'])\n",
    "index"
   ]
  },
  {
   "cell_type": "markdown",
   "metadata": {},
   "source": [
    "创建一个series, 并设置它的index:"
   ]
  },
  {
   "cell_type": "code",
   "execution_count": 6,
   "metadata": {},
   "outputs": [
    {
     "data": {
      "text/plain": [
       "first  second\n",
       "bar    one       1.457857\n",
       "       two       0.999506\n",
       "baz    one      -1.556818\n",
       "       two       1.716127\n",
       "foo    one      -1.562564\n",
       "       two       0.313624\n",
       "qux    one       0.537644\n",
       "       two       1.178401\n",
       "dtype: float64"
      ]
     },
     "execution_count": 6,
     "metadata": {},
     "output_type": "execute_result"
    }
   ],
   "source": [
    "import numpy as np\n",
    "s = pd.Series(np.random.randn(8), index=index)\n",
    "s"
   ]
  },
  {
   "cell_type": "markdown",
   "metadata": {},
   "source": [
    "#### from_arrays\n",
    "\n",
    "如果说from_tuples接受的参数是\"行\"的列表, 那么 from_arrays接受的参数是就是\"列\"的列表:"
   ]
  },
  {
   "cell_type": "code",
   "execution_count": 17,
   "metadata": {},
   "outputs": [
    {
     "data": {
      "text/plain": [
       "bar  one   -1.754944\n",
       "     two    1.111560\n",
       "baz  one   -1.291416\n",
       "     two    1.556595\n",
       "foo  one    0.147699\n",
       "     two    1.379124\n",
       "qux  one   -0.981192\n",
       "     two    0.292709\n",
       "dtype: float64"
      ]
     },
     "execution_count": 17,
     "metadata": {},
     "output_type": "execute_result"
    }
   ],
   "source": [
    "arrays = [['bar', 'bar', 'baz', 'baz', 'foo', 'foo', 'qux', 'qux'],\n",
    "            ['one', 'two', 'one', 'two', 'one', 'two', 'one', 'two']]\n",
    "\n",
    "index = pd.MultiIndex.from_arrays(arrays)\n",
    "s = pd.Series(np.random.randn(8), index=index)\n",
    "s"
   ]
  },
  {
   "cell_type": "markdown",
   "metadata": {},
   "source": [
    "不过为了简便, 我们通常可以直接在Series的构造函数中使用:"
   ]
  },
  {
   "cell_type": "code",
   "execution_count": 7,
   "metadata": {},
   "outputs": [
    {
     "data": {
      "text/plain": [
       "bar  one    0.507618\n",
       "     two   -2.190117\n",
       "baz  one   -0.138124\n",
       "     two   -2.175832\n",
       "foo  one   -0.570554\n",
       "     two   -0.851560\n",
       "qux  one   -0.784552\n",
       "     two    0.003748\n",
       "dtype: float64"
      ]
     },
     "execution_count": 7,
     "metadata": {},
     "output_type": "execute_result"
    }
   ],
   "source": [
    "arrays = [['bar', 'bar', 'baz', 'baz', 'foo', 'foo', 'qux', 'qux'],\n",
    "            ['one', 'two', 'one', 'two', 'one', 'two', 'one', 'two']]\n",
    "\n",
    "s = pd.Series(np.random.randn(8), index=arrays)\n",
    "s"
   ]
  },
  {
   "cell_type": "markdown",
   "metadata": {},
   "source": [
    "#### from_product\n",
    "\n",
    "假如我们有两个list, 这两个list内的元素相互交叉, 两两搭配, 这就是两个list的product:"
   ]
  },
  {
   "cell_type": "code",
   "execution_count": 11,
   "metadata": {},
   "outputs": [
    {
     "data": {
      "text/plain": [
       "first  second\n",
       "bar    one      -1.209379\n",
       "       two       0.497207\n",
       "baz    one       0.592290\n",
       "       two      -0.769594\n",
       "foo    one      -0.935071\n",
       "       two       0.201014\n",
       "qux    one      -0.176715\n",
       "       two      -0.183346\n",
       "dtype: float64"
      ]
     },
     "execution_count": 11,
     "metadata": {},
     "output_type": "execute_result"
    }
   ],
   "source": [
    "lists = [['bar', 'baz', 'foo', 'qux'], ['one', 'two']]\n",
    "\n",
    "index = pd.MultiIndex.from_product(lists, names=['first', 'second'])\n",
    "s = pd.Series(np.random.randn(len(index)), index=index)\n",
    "s"
   ]
  },
  {
   "cell_type": "markdown",
   "metadata": {},
   "source": [
    "### MultiIndex.names"
   ]
  },
  {
   "cell_type": "markdown",
   "metadata": {},
   "source": [
    "你可以为MultiIndex的各个层起名字, 这就是names属性:"
   ]
  },
  {
   "cell_type": "code",
   "execution_count": 19,
   "metadata": {},
   "outputs": [
    {
     "data": {
      "text/plain": [
       "FrozenList([None, None])"
      ]
     },
     "execution_count": 19,
     "metadata": {},
     "output_type": "execute_result"
    }
   ],
   "source": [
    "# 我们还没有设置名称\n",
    "s.index.names"
   ]
  },
  {
   "cell_type": "code",
   "execution_count": 20,
   "metadata": {},
   "outputs": [
    {
     "data": {
      "text/plain": [
       "MultiIndex(levels=[['bar', 'baz', 'foo', 'qux'], ['one', 'two']],\n",
       "           labels=[[0, 0, 1, 1, 2, 2, 3, 3], [0, 1, 0, 1, 0, 1, 0, 1]],\n",
       "           names=['FirstLevel', 'SecondLevel'])"
      ]
     },
     "execution_count": 20,
     "metadata": {},
     "output_type": "execute_result"
    }
   ],
   "source": [
    "s.index.names = ['FirstLevel', 'SecondLevel']\n",
    "\n",
    "s.index"
   ]
  },
  {
   "cell_type": "markdown",
   "metadata": {},
   "source": [
    "### MultiIndex可以作为列名称"
   ]
  },
  {
   "cell_type": "markdown",
   "metadata": {},
   "source": [
    "Series和DataFrame的列名称属性就是columns, 他也可以是一个MultiIndex对象:"
   ]
  },
  {
   "cell_type": "code",
   "execution_count": 21,
   "metadata": {},
   "outputs": [
    {
     "data": {
      "text/html": [
       "<div>\n",
       "<style scoped>\n",
       "    .dataframe tbody tr th:only-of-type {\n",
       "        vertical-align: middle;\n",
       "    }\n",
       "\n",
       "    .dataframe tbody tr th {\n",
       "        vertical-align: top;\n",
       "    }\n",
       "\n",
       "    .dataframe thead tr th {\n",
       "        text-align: left;\n",
       "    }\n",
       "</style>\n",
       "<table border=\"1\" class=\"dataframe\">\n",
       "  <thead>\n",
       "    <tr>\n",
       "      <th>FirstLevel</th>\n",
       "      <th colspan=\"2\" halign=\"left\">bar</th>\n",
       "      <th colspan=\"2\" halign=\"left\">baz</th>\n",
       "      <th colspan=\"2\" halign=\"left\">foo</th>\n",
       "      <th colspan=\"2\" halign=\"left\">qux</th>\n",
       "    </tr>\n",
       "    <tr>\n",
       "      <th>SecondLevel</th>\n",
       "      <th>one</th>\n",
       "      <th>two</th>\n",
       "      <th>one</th>\n",
       "      <th>two</th>\n",
       "      <th>one</th>\n",
       "      <th>two</th>\n",
       "      <th>one</th>\n",
       "      <th>two</th>\n",
       "    </tr>\n",
       "  </thead>\n",
       "  <tbody>\n",
       "    <tr>\n",
       "      <th>A</th>\n",
       "      <td>1.014034</td>\n",
       "      <td>1.464162</td>\n",
       "      <td>-0.753476</td>\n",
       "      <td>-0.163394</td>\n",
       "      <td>-0.198990</td>\n",
       "      <td>0.116046</td>\n",
       "      <td>-0.555008</td>\n",
       "      <td>-0.965797</td>\n",
       "    </tr>\n",
       "    <tr>\n",
       "      <th>B</th>\n",
       "      <td>-1.314244</td>\n",
       "      <td>-1.263142</td>\n",
       "      <td>1.523974</td>\n",
       "      <td>0.541391</td>\n",
       "      <td>-0.217874</td>\n",
       "      <td>0.019695</td>\n",
       "      <td>1.188791</td>\n",
       "      <td>-1.003912</td>\n",
       "    </tr>\n",
       "    <tr>\n",
       "      <th>C</th>\n",
       "      <td>-1.175155</td>\n",
       "      <td>-0.587370</td>\n",
       "      <td>0.352587</td>\n",
       "      <td>-0.047469</td>\n",
       "      <td>-0.896502</td>\n",
       "      <td>0.280792</td>\n",
       "      <td>0.806554</td>\n",
       "      <td>0.132662</td>\n",
       "    </tr>\n",
       "  </tbody>\n",
       "</table>\n",
       "</div>"
      ],
      "text/plain": [
       "FirstLevel        bar                 baz                 foo            \\\n",
       "SecondLevel       one       two       one       two       one       two   \n",
       "A            1.014034  1.464162 -0.753476 -0.163394 -0.198990  0.116046   \n",
       "B           -1.314244 -1.263142  1.523974  0.541391 -0.217874  0.019695   \n",
       "C           -1.175155 -0.587370  0.352587 -0.047469 -0.896502  0.280792   \n",
       "\n",
       "FirstLevel        qux            \n",
       "SecondLevel       one       two  \n",
       "A           -0.555008 -0.965797  \n",
       "B            1.188791 -1.003912  \n",
       "C            0.806554  0.132662  "
      ]
     },
     "execution_count": 21,
     "metadata": {},
     "output_type": "execute_result"
    }
   ],
   "source": [
    "df = pd.DataFrame(np.random.randn(3, 8), index=['A', 'B', 'C'], columns=index)\n",
    "df"
   ]
  },
  {
   "cell_type": "markdown",
   "metadata": {},
   "source": [
    "### 获取各水平的值"
   ]
  },
  {
   "cell_type": "markdown",
   "metadata": {},
   "source": [
    "方法get_level_values将返回特定级别的每个位置的标签向量："
   ]
  },
  {
   "cell_type": "code",
   "execution_count": 22,
   "metadata": {},
   "outputs": [
    {
     "data": {
      "text/plain": [
       "Index(['bar', 'bar', 'baz', 'baz', 'foo', 'foo', 'qux', 'qux'], dtype='object', name='FirstLevel')"
      ]
     },
     "execution_count": 22,
     "metadata": {},
     "output_type": "execute_result"
    }
   ],
   "source": [
    "index.get_level_values(0)"
   ]
  },
  {
   "cell_type": "markdown",
   "metadata": {},
   "source": [
    "如果你给index设置了名称, 那么你可以直接使用名称来获取水平值:"
   ]
  },
  {
   "cell_type": "code",
   "execution_count": 23,
   "metadata": {},
   "outputs": [
    {
     "data": {
      "text/plain": [
       "Index(['bar', 'bar', 'baz', 'baz', 'foo', 'foo', 'qux', 'qux'], dtype='object', name='FirstLevel')"
      ]
     },
     "execution_count": 23,
     "metadata": {},
     "output_type": "execute_result"
    }
   ],
   "source": [
    "index.get_level_values('FirstLevel')"
   ]
  },
  {
   "cell_type": "markdown",
   "metadata": {},
   "source": [
    "### 选择数据\n",
    "\n",
    "这可能是MultiIndex最重要的功能之一。"
   ]
  },
  {
   "cell_type": "markdown",
   "metadata": {},
   "source": [
    "先看下我们的df的结构:"
   ]
  },
  {
   "cell_type": "code",
   "execution_count": 24,
   "metadata": {},
   "outputs": [
    {
     "data": {
      "text/html": [
       "<div>\n",
       "<style scoped>\n",
       "    .dataframe tbody tr th:only-of-type {\n",
       "        vertical-align: middle;\n",
       "    }\n",
       "\n",
       "    .dataframe tbody tr th {\n",
       "        vertical-align: top;\n",
       "    }\n",
       "\n",
       "    .dataframe thead tr th {\n",
       "        text-align: left;\n",
       "    }\n",
       "</style>\n",
       "<table border=\"1\" class=\"dataframe\">\n",
       "  <thead>\n",
       "    <tr>\n",
       "      <th>FirstLevel</th>\n",
       "      <th colspan=\"2\" halign=\"left\">bar</th>\n",
       "      <th colspan=\"2\" halign=\"left\">baz</th>\n",
       "      <th colspan=\"2\" halign=\"left\">foo</th>\n",
       "      <th colspan=\"2\" halign=\"left\">qux</th>\n",
       "    </tr>\n",
       "    <tr>\n",
       "      <th>SecondLevel</th>\n",
       "      <th>one</th>\n",
       "      <th>two</th>\n",
       "      <th>one</th>\n",
       "      <th>two</th>\n",
       "      <th>one</th>\n",
       "      <th>two</th>\n",
       "      <th>one</th>\n",
       "      <th>two</th>\n",
       "    </tr>\n",
       "  </thead>\n",
       "  <tbody>\n",
       "    <tr>\n",
       "      <th>A</th>\n",
       "      <td>1.014034</td>\n",
       "      <td>1.464162</td>\n",
       "      <td>-0.753476</td>\n",
       "      <td>-0.163394</td>\n",
       "      <td>-0.198990</td>\n",
       "      <td>0.116046</td>\n",
       "      <td>-0.555008</td>\n",
       "      <td>-0.965797</td>\n",
       "    </tr>\n",
       "    <tr>\n",
       "      <th>B</th>\n",
       "      <td>-1.314244</td>\n",
       "      <td>-1.263142</td>\n",
       "      <td>1.523974</td>\n",
       "      <td>0.541391</td>\n",
       "      <td>-0.217874</td>\n",
       "      <td>0.019695</td>\n",
       "      <td>1.188791</td>\n",
       "      <td>-1.003912</td>\n",
       "    </tr>\n",
       "    <tr>\n",
       "      <th>C</th>\n",
       "      <td>-1.175155</td>\n",
       "      <td>-0.587370</td>\n",
       "      <td>0.352587</td>\n",
       "      <td>-0.047469</td>\n",
       "      <td>-0.896502</td>\n",
       "      <td>0.280792</td>\n",
       "      <td>0.806554</td>\n",
       "      <td>0.132662</td>\n",
       "    </tr>\n",
       "  </tbody>\n",
       "</table>\n",
       "</div>"
      ],
      "text/plain": [
       "FirstLevel        bar                 baz                 foo            \\\n",
       "SecondLevel       one       two       one       two       one       two   \n",
       "A            1.014034  1.464162 -0.753476 -0.163394 -0.198990  0.116046   \n",
       "B           -1.314244 -1.263142  1.523974  0.541391 -0.217874  0.019695   \n",
       "C           -1.175155 -0.587370  0.352587 -0.047469 -0.896502  0.280792   \n",
       "\n",
       "FirstLevel        qux            \n",
       "SecondLevel       one       two  \n",
       "A           -0.555008 -0.965797  \n",
       "B            1.188791 -1.003912  \n",
       "C            0.806554  0.132662  "
      ]
     },
     "execution_count": 24,
     "metadata": {},
     "output_type": "execute_result"
    }
   ],
   "source": [
    "df"
   ]
  },
  {
   "cell_type": "markdown",
   "metadata": {},
   "source": [
    "获取FirstLevel是bar的所有数据:"
   ]
  },
  {
   "cell_type": "code",
   "execution_count": 25,
   "metadata": {},
   "outputs": [
    {
     "data": {
      "text/html": [
       "<div>\n",
       "<style scoped>\n",
       "    .dataframe tbody tr th:only-of-type {\n",
       "        vertical-align: middle;\n",
       "    }\n",
       "\n",
       "    .dataframe tbody tr th {\n",
       "        vertical-align: top;\n",
       "    }\n",
       "\n",
       "    .dataframe thead th {\n",
       "        text-align: right;\n",
       "    }\n",
       "</style>\n",
       "<table border=\"1\" class=\"dataframe\">\n",
       "  <thead>\n",
       "    <tr style=\"text-align: right;\">\n",
       "      <th>SecondLevel</th>\n",
       "      <th>one</th>\n",
       "      <th>two</th>\n",
       "    </tr>\n",
       "  </thead>\n",
       "  <tbody>\n",
       "    <tr>\n",
       "      <th>A</th>\n",
       "      <td>1.014034</td>\n",
       "      <td>1.464162</td>\n",
       "    </tr>\n",
       "    <tr>\n",
       "      <th>B</th>\n",
       "      <td>-1.314244</td>\n",
       "      <td>-1.263142</td>\n",
       "    </tr>\n",
       "    <tr>\n",
       "      <th>C</th>\n",
       "      <td>-1.175155</td>\n",
       "      <td>-0.587370</td>\n",
       "    </tr>\n",
       "  </tbody>\n",
       "</table>\n",
       "</div>"
      ],
      "text/plain": [
       "SecondLevel       one       two\n",
       "A            1.014034  1.464162\n",
       "B           -1.314244 -1.263142\n",
       "C           -1.175155 -0.587370"
      ]
     },
     "execution_count": 25,
     "metadata": {},
     "output_type": "execute_result"
    }
   ],
   "source": [
    "df['bar']"
   ]
  },
  {
   "cell_type": "markdown",
   "metadata": {},
   "source": [
    "获取FirstLevel是bar, SecondLevel是one的所有数据:"
   ]
  },
  {
   "cell_type": "code",
   "execution_count": 26,
   "metadata": {},
   "outputs": [
    {
     "data": {
      "text/plain": [
       "A    1.014034\n",
       "B   -1.314244\n",
       "C   -1.175155\n",
       "Name: (bar, one), dtype: float64"
      ]
     },
     "execution_count": 26,
     "metadata": {},
     "output_type": "execute_result"
    }
   ],
   "source": [
    "df['bar', 'one']"
   ]
  },
  {
   "cell_type": "markdown",
   "metadata": {},
   "source": [
    "我更喜欢这样来用, 意义更明确:"
   ]
  },
  {
   "cell_type": "code",
   "execution_count": 27,
   "metadata": {},
   "outputs": [
    {
     "data": {
      "text/plain": [
       "A    1.014034\n",
       "B   -1.314244\n",
       "C   -1.175155\n",
       "Name: one, dtype: float64"
      ]
     },
     "execution_count": 27,
     "metadata": {},
     "output_type": "execute_result"
    }
   ],
   "source": [
    "df['bar']['one']"
   ]
  },
  {
   "cell_type": "markdown",
   "metadata": {},
   "source": [
    "需要注意的是, 结果选择输出的结果的columns已经改变:"
   ]
  },
  {
   "cell_type": "code",
   "execution_count": 29,
   "metadata": {
    "scrolled": true
   },
   "outputs": [
    {
     "data": {
      "text/plain": [
       "Index(['one', 'two'], dtype='object', name='SecondLevel')"
      ]
     },
     "execution_count": 29,
     "metadata": {},
     "output_type": "execute_result"
    }
   ],
   "source": [
    "df['bar'].columns"
   ]
  },
  {
   "cell_type": "markdown",
   "metadata": {},
   "source": [
    "如果你要选择第二层的列名为one的所有数据, 你需要借助xs方法:"
   ]
  },
  {
   "cell_type": "code",
   "execution_count": 34,
   "metadata": {},
   "outputs": [
    {
     "data": {
      "text/html": [
       "<div>\n",
       "<style scoped>\n",
       "    .dataframe tbody tr th:only-of-type {\n",
       "        vertical-align: middle;\n",
       "    }\n",
       "\n",
       "    .dataframe tbody tr th {\n",
       "        vertical-align: top;\n",
       "    }\n",
       "\n",
       "    .dataframe thead th {\n",
       "        text-align: right;\n",
       "    }\n",
       "</style>\n",
       "<table border=\"1\" class=\"dataframe\">\n",
       "  <thead>\n",
       "    <tr style=\"text-align: right;\">\n",
       "      <th>FirstLevel</th>\n",
       "      <th>bar</th>\n",
       "      <th>baz</th>\n",
       "      <th>foo</th>\n",
       "      <th>qux</th>\n",
       "    </tr>\n",
       "  </thead>\n",
       "  <tbody>\n",
       "    <tr>\n",
       "      <th>A</th>\n",
       "      <td>1.014034</td>\n",
       "      <td>-0.753476</td>\n",
       "      <td>-0.198990</td>\n",
       "      <td>-0.555008</td>\n",
       "    </tr>\n",
       "    <tr>\n",
       "      <th>B</th>\n",
       "      <td>-1.314244</td>\n",
       "      <td>1.523974</td>\n",
       "      <td>-0.217874</td>\n",
       "      <td>1.188791</td>\n",
       "    </tr>\n",
       "    <tr>\n",
       "      <th>C</th>\n",
       "      <td>-1.175155</td>\n",
       "      <td>0.352587</td>\n",
       "      <td>-0.896502</td>\n",
       "      <td>0.806554</td>\n",
       "    </tr>\n",
       "  </tbody>\n",
       "</table>\n",
       "</div>"
      ],
      "text/plain": [
       "FirstLevel       bar       baz       foo       qux\n",
       "A           1.014034 -0.753476 -0.198990 -0.555008\n",
       "B          -1.314244  1.523974 -0.217874  1.188791\n",
       "C          -1.175155  0.352587 -0.896502  0.806554"
      ]
     },
     "execution_count": 34,
     "metadata": {},
     "output_type": "execute_result"
    }
   ],
   "source": [
    "df.xs('one', level=1, axis=1)"
   ]
  },
  {
   "cell_type": "markdown",
   "metadata": {},
   "source": [
    "或者使用名称代替数字:"
   ]
  },
  {
   "cell_type": "code",
   "execution_count": 36,
   "metadata": {},
   "outputs": [
    {
     "data": {
      "text/html": [
       "<div>\n",
       "<style scoped>\n",
       "    .dataframe tbody tr th:only-of-type {\n",
       "        vertical-align: middle;\n",
       "    }\n",
       "\n",
       "    .dataframe tbody tr th {\n",
       "        vertical-align: top;\n",
       "    }\n",
       "\n",
       "    .dataframe thead th {\n",
       "        text-align: right;\n",
       "    }\n",
       "</style>\n",
       "<table border=\"1\" class=\"dataframe\">\n",
       "  <thead>\n",
       "    <tr style=\"text-align: right;\">\n",
       "      <th>FirstLevel</th>\n",
       "      <th>bar</th>\n",
       "      <th>baz</th>\n",
       "      <th>foo</th>\n",
       "      <th>qux</th>\n",
       "    </tr>\n",
       "  </thead>\n",
       "  <tbody>\n",
       "    <tr>\n",
       "      <th>A</th>\n",
       "      <td>1.014034</td>\n",
       "      <td>-0.753476</td>\n",
       "      <td>-0.198990</td>\n",
       "      <td>-0.555008</td>\n",
       "    </tr>\n",
       "    <tr>\n",
       "      <th>B</th>\n",
       "      <td>-1.314244</td>\n",
       "      <td>1.523974</td>\n",
       "      <td>-0.217874</td>\n",
       "      <td>1.188791</td>\n",
       "    </tr>\n",
       "    <tr>\n",
       "      <th>C</th>\n",
       "      <td>-1.175155</td>\n",
       "      <td>0.352587</td>\n",
       "      <td>-0.896502</td>\n",
       "      <td>0.806554</td>\n",
       "    </tr>\n",
       "  </tbody>\n",
       "</table>\n",
       "</div>"
      ],
      "text/plain": [
       "FirstLevel       bar       baz       foo       qux\n",
       "A           1.014034 -0.753476 -0.198990 -0.555008\n",
       "B          -1.314244  1.523974 -0.217874  1.188791\n",
       "C          -1.175155  0.352587 -0.896502  0.806554"
      ]
     },
     "execution_count": 36,
     "metadata": {},
     "output_type": "execute_result"
    }
   ],
   "source": [
    "df.xs('one', level='SecondLevel', axis='columns')"
   ]
  },
  {
   "cell_type": "raw",
   "metadata": {},
   "source": [
    "我喜欢xs的原因是, 它不仅可以用来选择列, 也可以用来选择行:"
   ]
  },
  {
   "cell_type": "code",
   "execution_count": 39,
   "metadata": {},
   "outputs": [
    {
     "data": {
      "text/plain": [
       "FirstLevel  SecondLevel\n",
       "bar         one           -1.754944\n",
       "            two            1.111560\n",
       "baz         one           -1.291416\n",
       "            two            1.556595\n",
       "foo         one            0.147699\n",
       "            two            1.379124\n",
       "qux         one           -0.981192\n",
       "            two            0.292709\n",
       "dtype: float64"
      ]
     },
     "execution_count": 39,
     "metadata": {},
     "output_type": "execute_result"
    }
   ],
   "source": [
    "s"
   ]
  },
  {
   "cell_type": "code",
   "execution_count": 38,
   "metadata": {},
   "outputs": [
    {
     "data": {
      "text/plain": [
       "FirstLevel\n",
       "bar   -1.754944\n",
       "baz   -1.291416\n",
       "foo    0.147699\n",
       "qux   -0.981192\n",
       "dtype: float64"
      ]
     },
     "execution_count": 38,
     "metadata": {},
     "output_type": "execute_result"
    }
   ],
   "source": [
    "s.xs('one', level='SecondLevel', axis='index')"
   ]
  },
  {
   "cell_type": "markdown",
   "metadata": {},
   "source": [
    "### 选择行\n",
    "\n",
    "下面我们把df进行转置, 然后看看一些选择行的操作:"
   ]
  },
  {
   "cell_type": "code",
   "execution_count": 43,
   "metadata": {},
   "outputs": [
    {
     "data": {
      "text/html": [
       "<div>\n",
       "<style scoped>\n",
       "    .dataframe tbody tr th:only-of-type {\n",
       "        vertical-align: middle;\n",
       "    }\n",
       "\n",
       "    .dataframe tbody tr th {\n",
       "        vertical-align: top;\n",
       "    }\n",
       "\n",
       "    .dataframe thead th {\n",
       "        text-align: right;\n",
       "    }\n",
       "</style>\n",
       "<table border=\"1\" class=\"dataframe\">\n",
       "  <thead>\n",
       "    <tr style=\"text-align: right;\">\n",
       "      <th></th>\n",
       "      <th></th>\n",
       "      <th>A</th>\n",
       "      <th>B</th>\n",
       "      <th>C</th>\n",
       "    </tr>\n",
       "    <tr>\n",
       "      <th>FirstLevel</th>\n",
       "      <th>SecondLevel</th>\n",
       "      <th></th>\n",
       "      <th></th>\n",
       "      <th></th>\n",
       "    </tr>\n",
       "  </thead>\n",
       "  <tbody>\n",
       "    <tr>\n",
       "      <th rowspan=\"2\" valign=\"top\">bar</th>\n",
       "      <th>one</th>\n",
       "      <td>1.014034</td>\n",
       "      <td>-1.314244</td>\n",
       "      <td>-1.175155</td>\n",
       "    </tr>\n",
       "    <tr>\n",
       "      <th>two</th>\n",
       "      <td>1.464162</td>\n",
       "      <td>-1.263142</td>\n",
       "      <td>-0.587370</td>\n",
       "    </tr>\n",
       "    <tr>\n",
       "      <th rowspan=\"2\" valign=\"top\">baz</th>\n",
       "      <th>one</th>\n",
       "      <td>-0.753476</td>\n",
       "      <td>1.523974</td>\n",
       "      <td>0.352587</td>\n",
       "    </tr>\n",
       "    <tr>\n",
       "      <th>two</th>\n",
       "      <td>-0.163394</td>\n",
       "      <td>0.541391</td>\n",
       "      <td>-0.047469</td>\n",
       "    </tr>\n",
       "    <tr>\n",
       "      <th rowspan=\"2\" valign=\"top\">foo</th>\n",
       "      <th>one</th>\n",
       "      <td>-0.198990</td>\n",
       "      <td>-0.217874</td>\n",
       "      <td>-0.896502</td>\n",
       "    </tr>\n",
       "    <tr>\n",
       "      <th>two</th>\n",
       "      <td>0.116046</td>\n",
       "      <td>0.019695</td>\n",
       "      <td>0.280792</td>\n",
       "    </tr>\n",
       "    <tr>\n",
       "      <th rowspan=\"2\" valign=\"top\">qux</th>\n",
       "      <th>one</th>\n",
       "      <td>-0.555008</td>\n",
       "      <td>1.188791</td>\n",
       "      <td>0.806554</td>\n",
       "    </tr>\n",
       "    <tr>\n",
       "      <th>two</th>\n",
       "      <td>-0.965797</td>\n",
       "      <td>-1.003912</td>\n",
       "      <td>0.132662</td>\n",
       "    </tr>\n",
       "  </tbody>\n",
       "</table>\n",
       "</div>"
      ],
      "text/plain": [
       "                               A         B         C\n",
       "FirstLevel SecondLevel                              \n",
       "bar        one          1.014034 -1.314244 -1.175155\n",
       "           two          1.464162 -1.263142 -0.587370\n",
       "baz        one         -0.753476  1.523974  0.352587\n",
       "           two         -0.163394  0.541391 -0.047469\n",
       "foo        one         -0.198990 -0.217874 -0.896502\n",
       "           two          0.116046  0.019695  0.280792\n",
       "qux        one         -0.555008  1.188791  0.806554\n",
       "           two         -0.965797 -1.003912  0.132662"
      ]
     },
     "execution_count": 43,
     "metadata": {},
     "output_type": "execute_result"
    }
   ],
   "source": [
    "df = df.T\n",
    "\n",
    "df"
   ]
  },
  {
   "cell_type": "markdown",
   "metadata": {},
   "source": [
    "选择FirstLevel是bar, SecondLevel是two的数据:"
   ]
  },
  {
   "cell_type": "code",
   "execution_count": 44,
   "metadata": {},
   "outputs": [
    {
     "data": {
      "text/plain": [
       "A    1.464162\n",
       "B   -1.263142\n",
       "C   -0.587370\n",
       "Name: (bar, two), dtype: float64"
      ]
     },
     "execution_count": 44,
     "metadata": {},
     "output_type": "execute_result"
    }
   ],
   "source": [
    "df.loc[('bar', 'two')]"
   ]
  },
  {
   "cell_type": "markdown",
   "metadata": {},
   "source": [
    "下面的用法是等效的:"
   ]
  },
  {
   "cell_type": "code",
   "execution_count": 45,
   "metadata": {},
   "outputs": [
    {
     "data": {
      "text/plain": [
       "A    1.464162\n",
       "B   -1.263142\n",
       "C   -0.587370\n",
       "Name: two, dtype: float64"
      ]
     },
     "execution_count": 45,
     "metadata": {},
     "output_type": "execute_result"
    }
   ],
   "source": [
    "df.loc['bar'].loc['two']"
   ]
  },
  {
   "cell_type": "markdown",
   "metadata": {},
   "source": [
    "选择行的同时也能选择列:"
   ]
  },
  {
   "cell_type": "code",
   "execution_count": 46,
   "metadata": {},
   "outputs": [
    {
     "data": {
      "text/plain": [
       "1.4641615518687836"
      ]
     },
     "execution_count": 46,
     "metadata": {},
     "output_type": "execute_result"
    }
   ],
   "source": [
    "df.loc[('bar', 'two'), 'A']"
   ]
  },
  {
   "cell_type": "markdown",
   "metadata": {},
   "source": [
    "我们还能使用切片操作:"
   ]
  },
  {
   "cell_type": "code",
   "execution_count": 48,
   "metadata": {},
   "outputs": [
    {
     "data": {
      "text/html": [
       "<div>\n",
       "<style scoped>\n",
       "    .dataframe tbody tr th:only-of-type {\n",
       "        vertical-align: middle;\n",
       "    }\n",
       "\n",
       "    .dataframe tbody tr th {\n",
       "        vertical-align: top;\n",
       "    }\n",
       "\n",
       "    .dataframe thead th {\n",
       "        text-align: right;\n",
       "    }\n",
       "</style>\n",
       "<table border=\"1\" class=\"dataframe\">\n",
       "  <thead>\n",
       "    <tr style=\"text-align: right;\">\n",
       "      <th></th>\n",
       "      <th></th>\n",
       "      <th>A</th>\n",
       "      <th>B</th>\n",
       "      <th>C</th>\n",
       "    </tr>\n",
       "    <tr>\n",
       "      <th>FirstLevel</th>\n",
       "      <th>SecondLevel</th>\n",
       "      <th></th>\n",
       "      <th></th>\n",
       "      <th></th>\n",
       "    </tr>\n",
       "  </thead>\n",
       "  <tbody>\n",
       "    <tr>\n",
       "      <th rowspan=\"2\" valign=\"top\">baz</th>\n",
       "      <th>one</th>\n",
       "      <td>-0.753476</td>\n",
       "      <td>1.523974</td>\n",
       "      <td>0.352587</td>\n",
       "    </tr>\n",
       "    <tr>\n",
       "      <th>two</th>\n",
       "      <td>-0.163394</td>\n",
       "      <td>0.541391</td>\n",
       "      <td>-0.047469</td>\n",
       "    </tr>\n",
       "    <tr>\n",
       "      <th rowspan=\"2\" valign=\"top\">foo</th>\n",
       "      <th>one</th>\n",
       "      <td>-0.198990</td>\n",
       "      <td>-0.217874</td>\n",
       "      <td>-0.896502</td>\n",
       "    </tr>\n",
       "    <tr>\n",
       "      <th>two</th>\n",
       "      <td>0.116046</td>\n",
       "      <td>0.019695</td>\n",
       "      <td>0.280792</td>\n",
       "    </tr>\n",
       "  </tbody>\n",
       "</table>\n",
       "</div>"
      ],
      "text/plain": [
       "                               A         B         C\n",
       "FirstLevel SecondLevel                              \n",
       "baz        one         -0.753476  1.523974  0.352587\n",
       "           two         -0.163394  0.541391 -0.047469\n",
       "foo        one         -0.198990 -0.217874 -0.896502\n",
       "           two          0.116046  0.019695  0.280792"
      ]
     },
     "execution_count": 48,
     "metadata": {},
     "output_type": "execute_result"
    }
   ],
   "source": [
    "df.loc['baz': 'foo']"
   ]
  },
  {
   "cell_type": "markdown",
   "metadata": {},
   "source": [
    "或许, 使用更多的是这样:"
   ]
  },
  {
   "cell_type": "code",
   "execution_count": 50,
   "metadata": {},
   "outputs": [
    {
     "data": {
      "text/html": [
       "<div>\n",
       "<style scoped>\n",
       "    .dataframe tbody tr th:only-of-type {\n",
       "        vertical-align: middle;\n",
       "    }\n",
       "\n",
       "    .dataframe tbody tr th {\n",
       "        vertical-align: top;\n",
       "    }\n",
       "\n",
       "    .dataframe thead th {\n",
       "        text-align: right;\n",
       "    }\n",
       "</style>\n",
       "<table border=\"1\" class=\"dataframe\">\n",
       "  <thead>\n",
       "    <tr style=\"text-align: right;\">\n",
       "      <th></th>\n",
       "      <th></th>\n",
       "      <th>A</th>\n",
       "      <th>B</th>\n",
       "      <th>C</th>\n",
       "    </tr>\n",
       "    <tr>\n",
       "      <th>FirstLevel</th>\n",
       "      <th>SecondLevel</th>\n",
       "      <th></th>\n",
       "      <th></th>\n",
       "      <th></th>\n",
       "    </tr>\n",
       "  </thead>\n",
       "  <tbody>\n",
       "    <tr>\n",
       "      <th>bar</th>\n",
       "      <th>two</th>\n",
       "      <td>1.464162</td>\n",
       "      <td>-1.263142</td>\n",
       "      <td>-0.587370</td>\n",
       "    </tr>\n",
       "    <tr>\n",
       "      <th rowspan=\"2\" valign=\"top\">baz</th>\n",
       "      <th>one</th>\n",
       "      <td>-0.753476</td>\n",
       "      <td>1.523974</td>\n",
       "      <td>0.352587</td>\n",
       "    </tr>\n",
       "    <tr>\n",
       "      <th>two</th>\n",
       "      <td>-0.163394</td>\n",
       "      <td>0.541391</td>\n",
       "      <td>-0.047469</td>\n",
       "    </tr>\n",
       "  </tbody>\n",
       "</table>\n",
       "</div>"
      ],
      "text/plain": [
       "                               A         B         C\n",
       "FirstLevel SecondLevel                              \n",
       "bar        two          1.464162 -1.263142 -0.587370\n",
       "baz        one         -0.753476  1.523974  0.352587\n",
       "           two         -0.163394  0.541391 -0.047469"
      ]
     },
     "execution_count": 50,
     "metadata": {},
     "output_type": "execute_result"
    }
   ],
   "source": [
    "df.loc[('bar', 'two'): ('baz', 'two')]"
   ]
  },
  {
   "cell_type": "markdown",
   "metadata": {},
   "source": [
    "当然, 我还是推荐大家使用xs, 它可以使你的代码更容易被别人理解, 而且选择行和列都用统一的方式:"
   ]
  },
  {
   "cell_type": "code",
   "execution_count": 47,
   "metadata": {},
   "outputs": [
    {
     "data": {
      "text/html": [
       "<div>\n",
       "<style scoped>\n",
       "    .dataframe tbody tr th:only-of-type {\n",
       "        vertical-align: middle;\n",
       "    }\n",
       "\n",
       "    .dataframe tbody tr th {\n",
       "        vertical-align: top;\n",
       "    }\n",
       "\n",
       "    .dataframe thead th {\n",
       "        text-align: right;\n",
       "    }\n",
       "</style>\n",
       "<table border=\"1\" class=\"dataframe\">\n",
       "  <thead>\n",
       "    <tr style=\"text-align: right;\">\n",
       "      <th></th>\n",
       "      <th>A</th>\n",
       "      <th>B</th>\n",
       "      <th>C</th>\n",
       "    </tr>\n",
       "    <tr>\n",
       "      <th>FirstLevel</th>\n",
       "      <th></th>\n",
       "      <th></th>\n",
       "      <th></th>\n",
       "    </tr>\n",
       "  </thead>\n",
       "  <tbody>\n",
       "    <tr>\n",
       "      <th>bar</th>\n",
       "      <td>1.464162</td>\n",
       "      <td>-1.263142</td>\n",
       "      <td>-0.587370</td>\n",
       "    </tr>\n",
       "    <tr>\n",
       "      <th>baz</th>\n",
       "      <td>-0.163394</td>\n",
       "      <td>0.541391</td>\n",
       "      <td>-0.047469</td>\n",
       "    </tr>\n",
       "    <tr>\n",
       "      <th>foo</th>\n",
       "      <td>0.116046</td>\n",
       "      <td>0.019695</td>\n",
       "      <td>0.280792</td>\n",
       "    </tr>\n",
       "    <tr>\n",
       "      <th>qux</th>\n",
       "      <td>-0.965797</td>\n",
       "      <td>-1.003912</td>\n",
       "      <td>0.132662</td>\n",
       "    </tr>\n",
       "  </tbody>\n",
       "</table>\n",
       "</div>"
      ],
      "text/plain": [
       "                   A         B         C\n",
       "FirstLevel                              \n",
       "bar         1.464162 -1.263142 -0.587370\n",
       "baz        -0.163394  0.541391 -0.047469\n",
       "foo         0.116046  0.019695  0.280792\n",
       "qux        -0.965797 -1.003912  0.132662"
      ]
     },
     "execution_count": 47,
     "metadata": {},
     "output_type": "execute_result"
    }
   ],
   "source": [
    "df.xs('two', level='SecondLevel', axis='index')"
   ]
  },
  {
   "cell_type": "markdown",
   "metadata": {},
   "source": [
    "### 数据对齐\n",
    "\n",
    "如果你需要对数据进行运算, 那么设置好了index可以给你带来很多便利:"
   ]
  },
  {
   "cell_type": "code",
   "execution_count": 40,
   "metadata": {
    "scrolled": true
   },
   "outputs": [
    {
     "data": {
      "text/plain": [
       "FirstLevel  SecondLevel\n",
       "bar         one           -1.754944\n",
       "            two            1.111560\n",
       "baz         one           -1.291416\n",
       "            two            1.556595\n",
       "foo         one            0.147699\n",
       "            two            1.379124\n",
       "qux         one           -0.981192\n",
       "            two            0.292709\n",
       "dtype: float64"
      ]
     },
     "execution_count": 40,
     "metadata": {},
     "output_type": "execute_result"
    }
   ],
   "source": [
    "s"
   ]
  },
  {
   "cell_type": "markdown",
   "metadata": {},
   "source": [
    "假设我们只需要对第二个元素之后的数据进行运算, 我们的pandas为我们做了按照index的自动数据对齐:"
   ]
  },
  {
   "cell_type": "code",
   "execution_count": 41,
   "metadata": {},
   "outputs": [
    {
     "data": {
      "text/plain": [
       "FirstLevel  SecondLevel\n",
       "bar         one                 NaN\n",
       "            two                 NaN\n",
       "baz         one           -2.582832\n",
       "            two            3.113191\n",
       "foo         one            0.295398\n",
       "            two            2.758247\n",
       "qux         one           -1.962383\n",
       "            two            0.585417\n",
       "dtype: float64"
      ]
     },
     "execution_count": 41,
     "metadata": {},
     "output_type": "execute_result"
    }
   ],
   "source": [
    "s + s[2:]"
   ]
  },
  {
   "cell_type": "markdown",
   "metadata": {},
   "source": [
    "或许下面这个看起来更有用:"
   ]
  },
  {
   "cell_type": "code",
   "execution_count": 42,
   "metadata": {},
   "outputs": [
    {
     "data": {
      "text/plain": [
       "FirstLevel  SecondLevel\n",
       "bar         one           -3.509889\n",
       "            two                 NaN\n",
       "baz         one           -2.582832\n",
       "            two                 NaN\n",
       "foo         one            0.295398\n",
       "            two                 NaN\n",
       "qux         one           -1.962383\n",
       "            two                 NaN\n",
       "dtype: float64"
      ]
     },
     "execution_count": 42,
     "metadata": {},
     "output_type": "execute_result"
    }
   ],
   "source": [
    "s + s[::2]"
   ]
  }
 ],
 "metadata": {
  "kernelspec": {
   "display_name": "Python 3",
   "language": "python",
   "name": "python3"
  },
  "language_info": {
   "codemirror_mode": {
    "name": "ipython",
    "version": 3
   },
   "file_extension": ".py",
   "mimetype": "text/x-python",
   "name": "python",
   "nbconvert_exporter": "python",
   "pygments_lexer": "ipython3",
   "version": "3.6.4"
  }
 },
 "nbformat": 4,
 "nbformat_minor": 2
}
