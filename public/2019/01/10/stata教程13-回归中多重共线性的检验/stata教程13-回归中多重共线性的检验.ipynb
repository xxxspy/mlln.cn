{
 "cells": [
  {
   "cell_type": "markdown",
   "metadata": {},
   "source": [
    "---\n",
    "title: stata教程13-回归中多重共线性的检验\n",
    "date: 2019-01-10 17:17:55\n",
    "tags: [stata]\n",
    "toc: true\n",
    "mathjax: true\n",
    "\n",
    "---\n",
    "\n",
    "\n",
    "<span></span>\n",
    "<!-- more -->"
   ]
  },
  {
   "cell_type": "markdown",
   "metadata": {},
   "source": [
    "在回归中, 解释变量(自变量)之间如果存在多重共线性就会导致回归系数的估计不准确, 因为方差变得很大, 如果你发现模型的总体回归指标是显著的, 但是单个系数的t检验却不显著, 那么我们就可以怀疑是否存在多重共线性。"
   ]
  },
  {
   "cell_type": "markdown",
   "metadata": {},
   "source": [
    "诊断多重共线性的方法就是计算解释变量的膨胀因子(VIF), 经验上来说, VIF不超过10。"
   ]
  },
  {
   "cell_type": "markdown",
   "metadata": {},
   "source": [
    "我们仍然使用\"nerlove.dta\"数据:"
   ]
  },
  {
   "cell_type": "code",
   "execution_count": 2,
   "metadata": {},
   "outputs": [
    {
     "name": "stdout",
     "output_type": "stream",
     "text": [
      "(Nerlove 1963 paper)\n"
     ]
    }
   ],
   "source": [
    "use data/nerlove.dta, clear"
   ]
  },
  {
   "cell_type": "markdown",
   "metadata": {},
   "source": [
    "回归分析:"
   ]
  },
  {
   "cell_type": "code",
   "execution_count": 3,
   "metadata": {},
   "outputs": [
    {
     "name": "stdout",
     "output_type": "stream",
     "text": [
      "\n",
      "      Source |       SS           df       MS      Number of obs   =       145\n",
      "-------------+----------------------------------   F(4, 140)       =    437.90\n",
      "       Model |  269.524728         4  67.3811819   Prob > F        =    0.0000\n",
      "    Residual |  21.5420958       140  .153872113   R-squared       =    0.9260\n",
      "-------------+----------------------------------   Adj R-squared   =    0.9239\n",
      "       Total |  291.066823       144  2.02129738   Root MSE        =    .39227\n",
      "\n",
      "------------------------------------------------------------------------------\n",
      "        lntc |      Coef.   Std. Err.      t    P>|t|     [95% Conf. Interval]\n",
      "-------------+----------------------------------------------------------------\n",
      "         lnq |   .7209135   .0174337    41.35   0.000     .6864462    .7553808\n",
      "        lnpl |   .4559645    .299802     1.52   0.131    -.1367602    1.048689\n",
      "        lnpk |  -.2151476   .3398295    -0.63   0.528    -.8870089    .4567136\n",
      "        lnpf |   .4258137   .1003218     4.24   0.000     .2274721    .6241554\n",
      "       _cons |  -3.566513   1.779383    -2.00   0.047    -7.084448   -.0485779\n",
      "------------------------------------------------------------------------------\n"
     ]
    }
   ],
   "source": [
    "reg lntc lnq lnpl lnpk lnpf"
   ]
  },
  {
   "cell_type": "markdown",
   "metadata": {},
   "source": [
    "然后使用estat命令计算VIF:"
   ]
  },
  {
   "cell_type": "code",
   "execution_count": 4,
   "metadata": {},
   "outputs": [
    {
     "name": "stdout",
     "output_type": "stream",
     "text": [
      "\n",
      "    Variable |       VIF       1/VIF  \n",
      "-------------+----------------------\n",
      "        lnpf |      1.21    0.824250\n",
      "        lnpl |      1.21    0.829013\n",
      "        lnpk |      1.09    0.918113\n",
      "         lnq |      1.04    0.960914\n",
      "-------------+----------------------\n",
      "    Mean VIF |      1.14\n"
     ]
    }
   ],
   "source": [
    "estat vif"
   ]
  },
  {
   "cell_type": "markdown",
   "metadata": {},
   "source": [
    "从结果中我们可以看出, VIF都处于1多一点, 远小于10, 所以不必担心存在多重共线性的风险。"
   ]
  }
 ],
 "metadata": {
  "kernelspec": {
   "display_name": "Stata",
   "language": "stata",
   "name": "stata"
  },
  "language_info": {
   "file_extension": ".do",
   "mimetype": "text/x-stata",
   "name": "stata"
  }
 },
 "nbformat": 4,
 "nbformat_minor": 2
}
