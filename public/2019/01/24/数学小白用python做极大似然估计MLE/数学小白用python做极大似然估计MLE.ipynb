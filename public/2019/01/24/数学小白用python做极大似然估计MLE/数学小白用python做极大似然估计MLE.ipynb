{
 "cells": [
  {
   "cell_type": "markdown",
   "metadata": {},
   "source": [
    "---\n",
    "title: 数学小白用python做极大似然估计MLE\n",
    "date: 2019-01-24 21:17:55\n",
    "tags: [numpy, scipy]\n",
    "toc: true\n",
    "xiongzhang: true\n",
    "xiongzhang_images: [main.jpg]\n",
    "mathjax: true\n",
    "\n",
    "---\n",
    "\n",
    "<span></span>\n",
    "<!-- more -->"
   ]
  },
  {
   "cell_type": "markdown",
   "metadata": {},
   "source": [
    "我们需要从模型中估计一个参数。通常，我们选择一个模型 - 比如说线性回归 - 并使用观测数据X来估计模型的参数θ。\n",
    "\n",
    "那么模型参数到底是如何估计出来的呢?例如, 我们从均值为`mu`标准差为`sd`的总体中随机抽取样本`x`, 我们的目标就是估计mu和sd的值。\n",
    "\n",
    "设想你正在做一个线性回归, 并且你要估计出模型自变量x的系数:"
   ]
  },
  {
   "cell_type": "markdown",
   "metadata": {},
   "source": [
    "### 估计参数\n",
    "\n",
    "我们从正态分布的概率密度函数(PDF)出发, 讲一些数学知识。\n",
    "\n",
    "$$\n",
    "f(x) =\n",
    "\\frac{1}{\\sigma \\sqrt{2\\pi}} \\exp\\left(−\\frac{(x−\\mu)^2}{2\\sigma^2}\\right).\n",
    "$$\n",
    "\n",
    "这个式子告诉我们, 我们的样本x来自的总体分布的参数是$\\mu$ 和 $\\delta$。\n",
    "\n",
    "如果我们知道样本x=4, 并且我们知道参数$\\mu=3$和$\\delta=1$, 那么我们就知道这个样本的出现的概率密度:\n"
   ]
  },
  {
   "cell_type": "code",
   "execution_count": 2,
   "metadata": {},
   "outputs": [
    {
     "data": {
      "text/plain": [
       "0.3989422804014327"
      ]
     },
     "execution_count": 2,
     "metadata": {},
     "output_type": "execute_result"
    }
   ],
   "source": [
    "from scipy.stats import norm\n",
    "\n",
    "norm.pdf(3, 3, 1)"
   ]
  },
  {
   "cell_type": "markdown",
   "metadata": {},
   "source": [
    "如果总体参数是$\\mu=7$和$\\sigma=2$, 那么我们样本x=4的概率就是:"
   ]
  },
  {
   "cell_type": "code",
   "execution_count": 3,
   "metadata": {},
   "outputs": [
    {
     "data": {
      "text/plain": [
       "0.02699548325659403"
      ]
     },
     "execution_count": 3,
     "metadata": {},
     "output_type": "execute_result"
    }
   ],
   "source": [
    "norm.pdf(3, 7, 2)"
   ]
  },
  {
   "cell_type": "markdown",
   "metadata": {},
   "source": [
    "综上所述, pdf告诉我们, 一个样本来自于某个总体的概率的大小。 那么我们的样本量不是1, 而是大于1呢? 其实也很简单, 根据概率公式, 多个独立事件出现的概率就是每个事件概率之积。\n",
    "\n",
    "比如现在有两个样本x=[2, 7], 那么他们来自总体N($(2, 1)的概率是:"
   ]
  },
  {
   "cell_type": "code",
   "execution_count": 4,
   "metadata": {},
   "outputs": [
    {
     "data": {
      "text/plain": [
       "5.931152735254122e-07"
      ]
     },
     "execution_count": 4,
     "metadata": {},
     "output_type": "execute_result"
    }
   ],
   "source": [
    "norm.pdf(2, 2, 1) * norm.pdf(7, 2, 1)"
   ]
  },
  {
   "cell_type": "markdown",
   "metadata": {},
   "source": [
    "### 根据样本选择分布"
   ]
  },
  {
   "cell_type": "markdown",
   "metadata": {},
   "source": [
    "假如现在给你两个可能分布N(2, 1)和N(3, 2), 让你猜测, 样本x=[2, 7]来自哪个分布?\n",
    "\n",
    "我们很容易想到, 分别求出样本x来自两个总体的概率即可:"
   ]
  },
  {
   "cell_type": "code",
   "execution_count": 6,
   "metadata": {},
   "outputs": [
    {
     "name": "stdout",
     "output_type": "stream",
     "text": [
      "p1: 5.931152735254122e-07\n",
      "p2: 0.0047520868169464775\n"
     ]
    }
   ],
   "source": [
    "p1 = norm.pdf(2, 2, 1) * norm.pdf(7, 2, 1)\n",
    "p2 = norm.pdf(2, 3, 2) * norm.pdf(7, 3, 2)\n",
    "print('p1:', p1)\n",
    "print('p2:', p2)"
   ]
  },
  {
   "cell_type": "markdown",
   "metadata": {},
   "source": [
    "所以我们说, 样本更有可能来自于N(3, 2)。\n",
    "\n",
    "到这里我们就大概知道MLE在做什么了, MLE就是知道一个样本, 让你求参θ(比如pdf的$\\mu$和$\\sigma$), 使得这个样本出现的概率最大。"
   ]
  },
  {
   "cell_type": "markdown",
   "metadata": {},
   "source": [
    "用数学来表达这件事就是, 我们知道x出现的概率可以这样计算:\n",
    "\n",
    "$$\n",
    "f(x) =\n",
    "\\frac{1}{\\sigma \\sqrt{2\\pi}} \\exp\\left(−\\frac{(x−\\mu)^2}{2\\sigma^2}\\right).\n",
    "$$\n",
    "\n",
    "那么我给你一个样本[1,2,3,4,5, 3,4,2,5,6,], 你给我求出参数$\\mu 和 \\sigma$, 使得这个样本出现的概率最大。\n",
    "\n",
    "如果样本是独立的, 那么我们可以先看看这个概率值应该这样求:\n",
    "\n",
    "$$\n",
    "p = \\prod_i f(x_i)\n",
    "$$\n",
    "\n",
    "但是因为小数多次连乘以后, 就会趋近于0, 所以我们通常取log值:\n",
    "\n",
    "$$\n",
    "\\log p = \\sum _ i \\log f(x_i)\n",
    "$$"
   ]
  },
  {
   "cell_type": "markdown",
   "metadata": {},
   "source": [
    "### 实战"
   ]
  },
  {
   "cell_type": "markdown",
   "metadata": {},
   "source": [
    "根据高中知识, 求函数的最大值, 可以使用求导的方式, 让导数为0 ,就可以得到极值点。\n",
    "\n",
    "因为我比较懒, 不喜欢求导数, 所以我用了一个求导数的python模块sympy, 下面我们先写出上面的公式$\\log p$:"
   ]
  },
  {
   "cell_type": "code",
   "execution_count": 13,
   "metadata": {},
   "outputs": [
    {
     "data": {
      "text/plain": [
       "log(0.707106781186547*pi**(-0.5)*exp(-(-m + x)**2/(2*s**2))/s)"
      ]
     },
     "execution_count": 13,
     "metadata": {},
     "output_type": "execute_result"
    }
   ],
   "source": [
    "from sympy import symbols, pi, exp, log\n",
    "from sympy.stats import Probability, Normal\n",
    "\n",
    "# 样本\n",
    "X = [1,2,3,4,5, 3,4,2,5,6,]\n",
    "x = symbols('x')\n",
    "# 总体 mu 和 sigma\n",
    "m, s = symbols('m s')\n",
    "# pdf\n",
    "pdf = 1/ (s * (2*pi)**0.5)*exp( -(x-m)**2 / (2*s**2) )\n",
    "logpdf = log(pdf)\n",
    "logpdf"
   ]
  },
  {
   "cell_type": "markdown",
   "metadata": {},
   "source": [
    "上面输出的内容就是logpdf公式。\n",
    "\n",
    "下面我们求已知样本后的累加log联合概率, 也叫似然函数:"
   ]
  },
  {
   "cell_type": "code",
   "execution_count": 17,
   "metadata": {},
   "outputs": [
    {
     "data": {
      "text/plain": [
       "log(0.707106781186547*pi**(-0.5)*exp(-(-m + 1)**2/(2*s**2))/s) + 2*log(0.707106781186547*pi**(-0.5)*exp(-(-m + 2)**2/(2*s**2))/s) + 2*log(0.707106781186547*pi**(-0.5)*exp(-(-m + 3)**2/(2*s**2))/s) + 2*log(0.707106781186547*pi**(-0.5)*exp(-(-m + 4)**2/(2*s**2))/s) + 2*log(0.707106781186547*pi**(-0.5)*exp(-(-m + 5)**2/(2*s**2))/s) + log(0.707106781186547*pi**(-0.5)*exp(-(-m + 6)**2/(2*s**2))/s)"
      ]
     },
     "execution_count": 17,
     "metadata": {},
     "output_type": "execute_result"
    }
   ],
   "source": [
    "logP = 0\n",
    "for xi in X:\n",
    "    logP += logpdf.subs({x: xi})\n",
    "    \n",
    "logP"
   ]
  },
  {
   "cell_type": "markdown",
   "metadata": {},
   "source": [
    "然后我们知道, 要求logP的最大值, 只需要分别求得m和s的偏导数, 然后让偏导数为0可以得到联立方程组:\n"
   ]
  },
  {
   "cell_type": "code",
   "execution_count": 19,
   "metadata": {},
   "outputs": [
    {
     "name": "stdout",
     "output_type": "stream",
     "text": [
      "m偏导数: -0.5*(2*m - 12)/s**2 - 1.0*(2*m - 10)/s**2 - 1.0*(2*m - 8)/s**2 - 1.0*(2*m - 6)/s**2 - 1.0*(2*m - 4)/s**2 - 0.5*(2*m - 2)/s**2\n",
      "s偏导数: 1.4142135623731*pi**0.5*s*(-0.707106781186547*pi**(-0.5)*exp(-(-m + 1)**2/(2*s**2))/s**2 + 0.707106781186547*pi**(-0.5)*(-m + 1)**2*exp(-(-m + 1)**2/(2*s**2))/s**4)*exp((-m + 1)**2/(2*s**2)) + 2.82842712474619*pi**0.5*s*(-0.707106781186547*pi**(-0.5)*exp(-(-m + 2)**2/(2*s**2))/s**2 + 0.707106781186547*pi**(-0.5)*(-m + 2)**2*exp(-(-m + 2)**2/(2*s**2))/s**4)*exp((-m + 2)**2/(2*s**2)) + 2.82842712474619*pi**0.5*s*(-0.707106781186547*pi**(-0.5)*exp(-(-m + 3)**2/(2*s**2))/s**2 + 0.707106781186547*pi**(-0.5)*(-m + 3)**2*exp(-(-m + 3)**2/(2*s**2))/s**4)*exp((-m + 3)**2/(2*s**2)) + 2.82842712474619*pi**0.5*s*(-0.707106781186547*pi**(-0.5)*exp(-(-m + 4)**2/(2*s**2))/s**2 + 0.707106781186547*pi**(-0.5)*(-m + 4)**2*exp(-(-m + 4)**2/(2*s**2))/s**4)*exp((-m + 4)**2/(2*s**2)) + 2.82842712474619*pi**0.5*s*(-0.707106781186547*pi**(-0.5)*exp(-(-m + 5)**2/(2*s**2))/s**2 + 0.707106781186547*pi**(-0.5)*(-m + 5)**2*exp(-(-m + 5)**2/(2*s**2))/s**4)*exp((-m + 5)**2/(2*s**2)) + 1.4142135623731*pi**0.5*s*(-0.707106781186547*pi**(-0.5)*exp(-(-m + 6)**2/(2*s**2))/s**2 + 0.707106781186547*pi**(-0.5)*(-m + 6)**2*exp(-(-m + 6)**2/(2*s**2))/s**4)*exp((-m + 6)**2/(2*s**2))\n"
     ]
    }
   ],
   "source": [
    "from sympy import diff\n",
    "\n",
    "logp_diff_m = diff(logP, m)\n",
    "logp_diff_s = diff(logP, s)\n",
    "\n",
    "print('m偏导数:', str(logp_diff_m))\n",
    "print('s偏导数:', str(logp_diff_s))"
   ]
  },
  {
   "cell_type": "markdown",
   "metadata": {},
   "source": [
    "我们知道让logp_diff_m=0和logp_diff_s=0可以得到联立方程组,然后解方程就可以得到参数的值, 但是我好像不会解这样的方程!!!"
   ]
  },
  {
   "cell_type": "markdown",
   "metadata": {},
   "source": [
    "先化简一下:"
   ]
  },
  {
   "cell_type": "code",
   "execution_count": 23,
   "metadata": {},
   "outputs": [
    {
     "data": {
      "text/plain": [
       "(-10.0*m + 35.0)/s**2"
      ]
     },
     "execution_count": 23,
     "metadata": {},
     "output_type": "execute_result"
    }
   ],
   "source": [
    "from sympy import simplify\n",
    "\n",
    "logp_diff_m = simplify(logp_diff_m)\n",
    "logp_diff_m"
   ]
  },
  {
   "cell_type": "code",
   "execution_count": 24,
   "metadata": {},
   "outputs": [
    {
     "data": {
      "text/plain": [
       "(10.0*m**2 - 70.0*m - 10.0*s**2 + 145.0)/s**3"
      ]
     },
     "execution_count": 24,
     "metadata": {},
     "output_type": "execute_result"
    }
   ],
   "source": [
    "logp_diff_s= simplify(logp_diff_s)\n",
    "logp_diff_s"
   ]
  },
  {
   "cell_type": "markdown",
   "metadata": {},
   "source": [
    "其实你看到上面化简的式子就能够手动解这个方程了, 不过我还是太懒了, 我想sympy一定能解!"
   ]
  },
  {
   "cell_type": "code",
   "execution_count": 25,
   "metadata": {},
   "outputs": [
    {
     "data": {
      "text/plain": [
       "[(3.50000000000000, -1.50000000000000), (3.50000000000000, 1.50000000000000)]"
      ]
     },
     "execution_count": 25,
     "metadata": {},
     "output_type": "execute_result"
    }
   ],
   "source": [
    "from sympy import solve\n",
    "\n",
    "funcs = [logp_diff_s, logp_diff_m]\n",
    "solve(funcs, [m, s])"
   ]
  },
  {
   "cell_type": "markdown",
   "metadata": {},
   "source": [
    "好了上面得到了m和s的值, 有两组解, 但是我们知道s>0, 所以第二组解是对的。"
   ]
  }
 ],
 "metadata": {
  "kernelspec": {
   "display_name": "Python 3",
   "language": "python",
   "name": "python3"
  },
  "language_info": {
   "codemirror_mode": {
    "name": "ipython",
    "version": 3
   },
   "file_extension": ".py",
   "mimetype": "text/x-python",
   "name": "python",
   "nbconvert_exporter": "python",
   "pygments_lexer": "ipython3",
   "version": "3.6.4"
  }
 },
 "nbformat": 4,
 "nbformat_minor": 2
}
