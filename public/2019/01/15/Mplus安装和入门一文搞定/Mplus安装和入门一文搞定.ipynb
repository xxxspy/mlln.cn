{
 "cells": [
  {
   "cell_type": "markdown",
   "metadata": {},
   "source": [
    "---\n",
    "title: Mplus教程-Mplus安装和入门一文搞定\n",
    "date: 2019-01-15 17:17:55\n",
    "tags: [mplus]\n",
    "toc: true\n",
    "\n",
    "---\n",
    "\n",
    "\n",
    "<span></span>\n",
    "<!-- more -->"
   ]
  },
  {
   "cell_type": "markdown",
   "metadata": {},
   "source": [
    "本篇文章主要是写给没用过mplus的人, 所以我们从安装软件开始, 然后用一个实例来演示如何使用Mplus。\n",
    "\n",
    "这个实例是一个结构方程分析, 如果你不懂这个模型也没关系, 我们主要是看看如何使用软件!"
   ]
  },
  {
   "cell_type": "markdown",
   "metadata": {},
   "source": [
    "### 下载地址\n",
    "\n",
    "- Mplus Demo版: 链接：https://pan.baidu.com/s/1zDI2hphZNvdeXvQ9YjnxDg 提取码：gxkr \n",
    "- Mplus 破解: 链接：https://pan.baidu.com/s/1afay1ioUn5pd21h9KTacbg 提取码：9gkc "
   ]
  },
  {
   "cell_type": "markdown",
   "metadata": {},
   "source": [
    "### 安装方法\n",
    "\n",
    "- 首先下载上面的两个软件\n",
    "- 先安装第一个软件, 它是官方下载的安装软件\n",
    "- 在安装第二个, 它实际上是修改了一些文件"
   ]
  },
  {
   "cell_type": "markdown",
   "metadata": {},
   "source": [
    "### 入门\n",
    "\n",
    "假设我们使用Mplus做一个结构方程分析:\n",
    "\n",
    "#### 数据介绍\n",
    "\n",
    "这里有一个SPSS数据, 数据的变量信息如下:\n",
    "\n",
    "\n",
    "- N: 神经质（Neuroticism）\t个体情绪的状态，体验内心苦恼的倾向性。\n",
    "- N1:\t焦虑(Anxiety)\t面对难以把握的事物、令人害怕情况时的状态。\n",
    "- N2:\t愤怒性敌意(Angry Hostility)\t人们准备去体验愤怒情绪的状态。\n",
    "- N3:\t抑郁(Depression)\t正常人倾向于体验抑郁情感的个体差异。\n",
    "- N4:\t自我意识(Self-Consciousness)\t人们体验羞耻和面临困境时的情绪状态。\n",
    "- N5:\t冲动性(Impulsiveness)\t个体控制自己的冲动和欲望的能力。\n",
    "- N6:\t脆弱性(Vulnerability)\t个体面对应激时的状态。\n",
    "- E: 外向性（Extraversion）\t个体神经系统的强弱和动力特征。\n",
    "- E1:\t热情性(Warmth)\t个体对待别人和人际关系的态度。\n",
    "- E2:\t乐群性(Gregariousness)\t指人们是否愿意成为其他人的伙伴。\n",
    "- E3:\t自我肯定(Assertiveness)\t个体支配别人和社会的欲望。\n",
    "- E4:\t活跃性(Activity)\t个体从事各类活动的动力和能量的强弱。\n",
    "- E5:\t刺激追寻(Excitement-Seeking)\t人们渴望兴奋和刺激的倾向性。\n",
    "- E6:\t正性情绪(Positive Emotions)\t人们倾向于体验到正性情绪的程度。\n",
    "- O: 开放性（Openness）\t个体对体验的开放性、智慧和创造性。\n",
    "- O1:\t幻想(Fantasy)\t个体富于幻想和想象的水平。\n",
    "- O2:\t美感(Aesthetics)\t个体对于艺术和美的敏感和热爱程度。\n",
    "- O3:\t情感(Feelings)\t人们对于自己的感觉和情绪的接受程度。\n",
    "- O4:\t行动(Action)\t人们是否愿意尝试各种不同活动的倾向性。\n",
    "- O5:\t观念(Ideas)\t人们对新观念、怪异想法的好奇程度。\n",
    "- O6:\t价值(Values)\t人们对现存价值观念的态度和接受程度。\n",
    "\n",
    "\n",
    "假设我们要做的结构方程的结构如下图:\n",
    "\n",
    "<img src=\"images/no-data-diagram.png\" />\n"
   ]
  },
  {
   "cell_type": "markdown",
   "metadata": {},
   "source": [
    "#### 数据格式转换\n",
    "\n",
    "因为Mplus常用的数据格式是dat格式, 因此我们需要将数据保存到一个dat文件中:\n",
    "\n",
    "- 选择\"File->Save As\"\n",
    "\n",
    "<img src=\"images/spss-save-as.png\" />\n",
    "\n",
    "- 选择dat格式:\n",
    "\n",
    "<img src=\"images/spss-save-as-dat.png\" />\n",
    "\n",
    "- 然后点击\"save\"即可\n"
   ]
  },
  {
   "cell_type": "markdown",
   "metadata": {},
   "source": [
    "#### 创建mplus脚本\n",
    "\n",
    "打开mplus软件, 按下\"ctrl + N\"创建一个新的文件。\n",
    "\n",
    "然后按下\"Ctrl + S\" 保存这个文件。\n",
    "\n",
    "<img src=\"images/mplus-save.png\" />"
   ]
  },
  {
   "cell_type": "markdown",
   "metadata": {},
   "source": [
    "#### 设置数据\n",
    "\n",
    "输入语句:\n",
    "\n",
    "```\n",
    "DATA: FILE IS D:\\jobs\\data-analysis\\mplus\\media-modera\\data.dat;\n",
    "```\n",
    "\n",
    "这里面`Data: FILE IS`是固定语句, 后面是数据的绝对路径。如果脚本文件和数据文件在同一个文件夹, 你可以只使用数据的文件名, 而没必要使用绝对路径。"
   ]
  },
  {
   "cell_type": "markdown",
   "metadata": {},
   "source": [
    "#### 设置变量名\n",
    "\n",
    "在Mplus中输入如下语句:\n",
    "\n",
    "```\n",
    "VARIABLE: NAMES ARE N1-N6 E1-E6 O1-O6;\n",
    "```\n",
    "\n",
    "`VARIABLE: NAMES ARE`是固定格式, 后面都是变量名, 注意你的数据和变量名顺序都是对应的, 如果上面的写法比较繁琐, 你可以使用下面的写法:\n",
    "\n",
    "```\n",
    "VARIABLE: NAMES ARE N1-N6 E1-E6 O1-O6;\n",
    "```"
   ]
  },
  {
   "cell_type": "markdown",
   "metadata": {},
   "source": [
    "#### 设置分析方法\n",
    "\n",
    "因为MPLUS中针对连续型变量的结构方程模型的默认分析方法是最小二乘法即ML ，\n",
    "所以如果使用的方法是这个，那么分析方法语句可以不写，\n",
    "当然也可以写，即ANALYSIS: ESTIMATOR = ML; 如果采用其他方法，需要写出来，\n",
    "例如 ANALYSIS: ESTIMATOR = MLR;或者ANALYSIS: ESTIMATOR = WLSMV;\n",
    "\n",
    "本例中我们使用下面的代码:\n",
    "\n",
    "```\n",
    "ESTIMATOR = ML;\n",
    "```"
   ]
  },
  {
   "cell_type": "markdown",
   "metadata": {},
   "source": [
    "#### 设置模型\n",
    "\n",
    "首先设置潜变量所包含的显变量:\n",
    "\n",
    "```\n",
    "MODEL: N BY N1-N6;\n",
    "    E BY E1-E6;\n",
    "    O BY O1-O6;\n",
    "```\n",
    "\n",
    "然后我们设置潜变量之间的回归关系, 比如N对E和O回归, E对O回归:\n",
    "\n",
    "```\n",
    "    N on E O;\n",
    "    E on O;\n",
    "```\n",
    "\n",
    "写到一起就是:\n",
    "\n",
    "```\n",
    "MODEL: N BY N1-N6;\n",
    "    E BY E1-E6;\n",
    "    O BY O1-O6;\n",
    "    N on E O;\n",
    "    E on O;\n",
    "```"
   ]
  },
  {
   "cell_type": "markdown",
   "metadata": {},
   "source": [
    "#### 运行脚本\n",
    "\n",
    "上面我们已经写完了所有的基本脚本, 我们可以把所有的命令都贴出来:\n",
    "\n",
    "```\n",
    "DATA: FILE IS D:\\jobs\\data-analysis\\mplus\\media-modera\\data.dat;\n",
    "VARIABLE: NAMES ARE N1-N6 E1-E6 O1-O6;\n",
    "\n",
    "MODEL: N BY N1-N6;\n",
    "    E BY E1-E6;\n",
    "    O BY O1-O6;\n",
    "    N on E O;\n",
    "    E on O;\n",
    "```\n",
    "\n",
    "点击mplus中的\"run\"按钮即可运行分析过程:\n",
    "\n",
    "<img src=\"images/run-mplus.png\" />"
   ]
  },
  {
   "cell_type": "markdown",
   "metadata": {},
   "source": [
    "#### 查看路径图\n",
    "\n",
    "如果你想看到结构方程的路径图, 你可以点击菜单\"diagram->view diagram\", 下图就是我们看到的图:\n",
    "\n",
    "<img src=\"images/diagram-path.png\" />"
   ]
  }
 ],
 "metadata": {
  "kernelspec": {
   "display_name": "Python 3",
   "language": "python",
   "name": "python3"
  },
  "language_info": {
   "codemirror_mode": {
    "name": "ipython",
    "version": 3
   },
   "file_extension": ".py",
   "mimetype": "text/x-python",
   "name": "python",
   "nbconvert_exporter": "python",
   "pygments_lexer": "ipython3",
   "version": "3.6.4"
  }
 },
 "nbformat": 4,
 "nbformat_minor": 2
}
