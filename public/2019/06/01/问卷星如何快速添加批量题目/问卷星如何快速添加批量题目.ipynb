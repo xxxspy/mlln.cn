{
 "cells": [
  {
   "cell_type": "markdown",
   "metadata": {},
   "source": [
    "---\n",
    "\n",
    "title: 问卷星如何快速添加批量题目\n",
    "date: 2019-06-01 08:44:03\n",
    "tags: [问卷星, 问卷网,]\n",
    "\n",
    "---\n",
    "\n",
    "问卷星在录入问卷题目的时候是挺麻烦的事情, 一个心理学问卷动辄上百题, 都要手动敲进去是很麻烦的, 所以问卷星提供了批量题目快速录入的功能,\n",
    "我在这里跟大家分享一下如何做。\n",
    "\n",
    "<!--more--> "
   ]
  },
  {
   "cell_type": "markdown",
   "metadata": {},
   "source": [
    "### 首先新建一个问卷\n",
    "\n",
    "\n",
    "这里我不给大家演示如何创建一个问卷了, 太简单!"
   ]
  },
  {
   "cell_type": "markdown",
   "metadata": {},
   "source": [
    "### 问卷编辑页面, 点击\"批量添加题目\"\n",
    "\n",
    "<img src=\"images/批量录入.png\" />"
   ]
  },
  {
   "cell_type": "markdown",
   "metadata": {},
   "source": [
    "### 在这个页面, 录入题目, 不同题型不同的方式不同\n",
    "\n",
    "\n",
    "<img src=\"images/编辑录入题目.png\" />"
   ]
  },
  {
   "cell_type": "markdown",
   "metadata": {},
   "source": [
    "#### 单选题格式\n",
    "\n",
    "单选题的格式很简单, 第一行是题目, 以下几行是选项, 每个选项占一行, 中间不能空行:\n",
    "\n",
    "```\n",
    "1. 题目1\n",
    "选项1\n",
    "选项2\n",
    "选项3\n",
    "```\n",
    "\n",
    "注意, 题目必须位于第一行, 题目前面必须带有数字, 表示题号, 题号后面是一个圆点符号。"
   ]
  },
  {
   "cell_type": "markdown",
   "metadata": {},
   "source": [
    "#### 多选题\n",
    "\n",
    "多选题和单选题的格式类似, 但是注意一点不同,  多选题在题目的行尾有\"[多选题]\"这几个字。\n",
    "\n",
    "```\n",
    "2.题目2[多选题]\n",
    "选项4\n",
    "选项5\n",
    "选项6```"
   ]
  },
  {
   "cell_type": "markdown",
   "metadata": {},
   "source": [
    "#### 填空题\n",
    "\n",
    "问答题/填空题就更简单了, 只需要录入题目, 后面的选项忽略, 得到的就是问答题了。"
   ]
  },
  {
   "cell_type": "markdown",
   "metadata": {},
   "source": [
    "### 注意事项\n",
    "\n",
    "\n",
    "- 题目和选项之间不能有空行\n",
    "- 题目要有题号和点号\".\"\n",
    "- 题目之间用空行隔开\n"
   ]
  },
  {
   "cell_type": "markdown",
   "metadata": {},
   "source": [
    "### 如何快速收集网络问卷调查的数据\n",
    "\n",
    "收集网络调查问卷的数据有两种方式, 1是找同学互填, 这个有一些问题就是你的朋友可能不够多, 或者朋友的ip地址都是一个地方的, 都会导致数据有问题, 或者无法毕业, 另一种方式可以找人代填, 低至0.1元一份问卷, 10块钱就能收集100份问卷, 而且只需要半小时的时间, 这样就大大加速了你毕业的速度! 所以我推荐给大家一个问卷互填qq群(号是: 九八四三2四7九零), 群主可以帮大家把问卷发送给其他几十个被试群, 可以快速收集大量问卷数据, 信效度不高可以免费再填!"
   ]
  },
  {
   "cell_type": "markdown",
   "metadata": {},
   "source": [
    "### 如何找到问卷\n",
    "\n",
    "设计问卷的难点之一就是问题要有针对性, 并且题目最好是成熟的量表, 所以我收集了网络上存在的问卷题目, 这样大家可以快速找到需要的问卷和题目, 有需要的可以在这个网站搜索以下, 就能找到自己需要的问卷。  https://eprime.cn  点击链接即可跳转!"
   ]
  }
 ],
 "metadata": {
  "kernelspec": {
   "display_name": "Python 3",
   "language": "python",
   "name": "python3"
  },
  "language_info": {
   "codemirror_mode": {
    "name": "ipython",
    "version": 3
   },
   "file_extension": ".py",
   "mimetype": "text/x-python",
   "name": "python",
   "nbconvert_exporter": "python",
   "pygments_lexer": "ipython3",
   "version": "3.6.5"
  }
 },
 "nbformat": 4,
 "nbformat_minor": 2
}
