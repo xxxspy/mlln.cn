{
 "cells": [
  {
   "cell_type": "markdown",
   "metadata": {},
   "source": [
    "---\n",
    "\n",
    "title: mongodb解决textsearch搜索中文的问题\n",
    "date: 2019-06-26 12:44:03\n",
    "tags: [requests, python, cookies, mongodb]\n",
    "\n",
    "---\n",
    "\n",
    "这篇文章我主要介绍一下cookies的保存和复用。\n",
    "\n",
    "<!-- more -->"
   ]
  },
  {
   "cell_type": "markdown",
   "metadata": {},
   "source": [
    "### 简介\n",
    "\n",
    "python的requests库是非常著名的模拟网络访问的库, 通常我们使用requests发送一些网络请求, 以便获取数据或者上传数据。\n",
    "\n",
    "对于数据requests的人来说, 下面的代码应该非常熟悉:"
   ]
  },
  {
   "cell_type": "code",
   "execution_count": 3,
   "metadata": {},
   "outputs": [
    {
     "data": {
      "text/plain": [
       "<Response [200]>"
      ]
     },
     "execution_count": 3,
     "metadata": {},
     "output_type": "execute_result"
    }
   ],
   "source": [
    "import requests\n",
    "sess = requests.session()\n",
    "sess.cookies.update({'logined': '1'})\n",
    "sess.get('http://baidu.com')"
   ]
  },
  {
   "cell_type": "markdown",
   "metadata": {},
   "source": [
    "假如我们的cookies保留了登录信息, 那我们想要复用这个登录信息, 就可以免去重复登录的麻烦了。所以我想到的是将cookies保存到硬盘, 用到的时候再复用。"
   ]
  },
  {
   "cell_type": "markdown",
   "metadata": {},
   "source": [
    "### 具体实现\n",
    "\n",
    "在诸如`r = sess.get（）`之类的调用之后，`r.cookies`将返回一个`RequestsCookieJar`对象，你可以直接pickle它，即可以保存到硬盘了。"
   ]
  },
  {
   "cell_type": "code",
   "execution_count": 7,
   "metadata": {},
   "outputs": [
    {
     "data": {
      "text/plain": [
       "<Response [200]>"
      ]
     },
     "execution_count": 7,
     "metadata": {},
     "output_type": "execute_result"
    }
   ],
   "source": [
    "import pickle\n",
    "def save_cookies(requests_cookiejar, filename):\n",
    "    with open(filename, 'wb') as f:\n",
    "        pickle.dump(requests_cookiejar, f)\n",
    "\n",
    "def load_cookies(filename):\n",
    "    with open(filename, 'rb') as f:\n",
    "        return pickle.load(f)\n",
    "\n",
    "#save cookies\n",
    "r = sess.get('http://baidu.com/')\n",
    "save_cookies(r.cookies, 'd:/test.cookies')\n",
    "\n",
    "#load cookies and do a request\n",
    "sess.get('http://baidu.com/', cookies=load_cookies('d:/test.cookies'))"
   ]
  },
  {
   "cell_type": "markdown",
   "metadata": {},
   "source": [
    "### 高级实现\n",
    "\n",
    "session可以和任何cookielib CookieJar一起使用。 LWPCookieJar（和MozillaCookieJar）可以在文件中保存和加载cookie。下面是一个完整的代码片段，它将为session保存和加载cookie。 ignore_discard参数用于与测试的httpbin一起使用，但您可能不希望将其包含在实际代码中。"
   ]
  },
  {
   "cell_type": "code",
   "execution_count": 11,
   "metadata": {},
   "outputs": [
    {
     "name": "stdout",
     "output_type": "stream",
     "text": [
      "setting cookies\n",
      "{\n",
      "  \"cookies\": {\n",
      "    \"k1\": \"v1\", \n",
      "    \"k2\": \"v2\"\n",
      "  }\n",
      "}\n",
      "\n"
     ]
    }
   ],
   "source": [
    "import os\n",
    "from http.cookiejar import LWPCookieJar\n",
    "\n",
    "import requests\n",
    "\n",
    "\n",
    "s = requests.Session()\n",
    "s.cookies = LWPCookieJar('cookiejar')\n",
    "if not os.path.exists('cookiejar'):\n",
    "    # Create a new cookies file and set our Session's cookies\n",
    "    print('setting cookies')\n",
    "    s.cookies.save()\n",
    "    r = s.get('http://httpbin.org/cookies/set?k1=v1&k2=v2')\n",
    "else:\n",
    "    # Load saved cookies from the file and use them in a request\n",
    "    print('loading saved cookies')\n",
    "    s.cookies.load(ignore_discard=True)\n",
    "    r = s.get('http://httpbin.org/cookies')\n",
    "print(r.text)\n",
    "# Save the session's cookies back to the file\n",
    "s.cookies.save(ignore_discard=True)"
   ]
  },
  {
   "cell_type": "markdown",
   "metadata": {},
   "source": [
    "### 保存到json\n",
    "\n",
    "很多时候我们希望使用json来保存json, 因为requests.Session可以当作一个字典数据, 保存字典最直观的方式就是使用json:"
   ]
  },
  {
   "cell_type": "code",
   "execution_count": 13,
   "metadata": {},
   "outputs": [],
   "source": [
    "# to save cookie\n",
    "import json\n",
    "\n",
    "with open('cookie.txt', 'w') as f:\n",
    "    json.dump(requests.utils.dict_from_cookiejar(sess.cookies), f)"
   ]
  },
  {
   "cell_type": "code",
   "execution_count": 15,
   "metadata": {},
   "outputs": [
    {
     "name": "stdout",
     "output_type": "stream",
     "text": [
      "<RequestsCookieJar[<Cookie logined=1 for />]>\n"
     ]
    }
   ],
   "source": [
    "# to load cookie\n",
    "import json\n",
    "with open('cookie.txt', 'r') as f:\n",
    "    cookie = requests.utils.cookiejar_from_dict(json.load(f))\n",
    "    print(cookie)"
   ]
  },
  {
   "cell_type": "markdown",
   "metadata": {},
   "source": [
    "### 保存到mongodb\n",
    "\n",
    "在生产环境我们更希望把所有数据都保存到数据库, 这时候使用mnongodb保存cookies也是不错的选择。\n",
    "我们都知道mongodb是可以保存字典字段的, 所以使用`dict_from_cookiejar`将cookies对象转换成字典, \n",
    "然后将字典保存到数据库即可, 这里不多演示了。"
   ]
  }
 ],
 "metadata": {
  "kernelspec": {
   "display_name": "Python 3",
   "language": "python",
   "name": "python3"
  },
  "language_info": {
   "codemirror_mode": {
    "name": "ipython",
    "version": 3
   },
   "file_extension": ".py",
   "mimetype": "text/x-python",
   "name": "python",
   "nbconvert_exporter": "python",
   "pygments_lexer": "ipython3",
   "version": "3.6.5"
  }
 },
 "nbformat": 4,
 "nbformat_minor": 2
}
