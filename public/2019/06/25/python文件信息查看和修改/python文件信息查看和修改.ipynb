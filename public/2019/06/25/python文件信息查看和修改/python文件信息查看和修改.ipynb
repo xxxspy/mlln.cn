{
 "cells": [
  {
   "cell_type": "markdown",
   "metadata": {},
   "source": [
    "---\n",
    "\n",
    "title: python文件信息查看和修改\n",
    "date: 2019-06-25 12:44:03\n",
    "tags: [python, os]\n",
    "\n",
    "---\n",
    "\n",
    "这篇文章主要介绍文件信息的获取和修改(主要是文件的访问和修改时间)\n",
    "\n",
    "<!--more-->"
   ]
  },
  {
   "cell_type": "markdown",
   "metadata": {},
   "source": [
    "### 文件信息的读取"
   ]
  },
  {
   "cell_type": "markdown",
   "metadata": {},
   "source": [
    "文件系统本身可以显示有关文档的一些有趣信息。例如，它可以告诉你文档文件的大小，以及创建/修改或上次读取的时间。在某些平台上，你还可以找出拥有相关文件的人员。要在Python中获取此信息，您可以在跨平台的os模块中使用stat函数："
   ]
  },
  {
   "cell_type": "code",
   "execution_count": 2,
   "metadata": {},
   "outputs": [
    {
     "name": "stdout",
     "output_type": "stream",
     "text": [
      "Type of st: <class 'os.stat_result'>\n",
      "st: os.stat_result(st_mode=33206, st_ino=10133099161596645, st_dev=3649960629, st_nlink=1, st_uid=0, st_gid=0, st_size=9649, st_atime=1561387614, st_mtime=1561387614, st_ctime=1552207589)\n"
     ]
    }
   ],
   "source": [
    "import os\n",
    "\n",
    "st = os.stat(\"d:/test.html\")\n",
    "print('Type of st:', type(st))\n",
    "print('st:', st)"
   ]
  },
  {
   "cell_type": "markdown",
   "metadata": {},
   "source": [
    "如果你懂点英文可能已经看出来我们可以获取的信息: \n",
    "\n",
    "- mod: 此文件的访问权限\n",
    "- ino/dev: ino（I节点）和dev（设备）成员可用于确定文件的物理位置。在UNIX系统上，（dev，ino）可以唯一标识物理文件。在Windows系统上，设备编号对应于驱动器号\n",
    "- nlink: 在UNIX系统上，这是此文件的硬链接数。在Windows下，此成员始终为1。\n",
    "- uid,gid: 在UNIX系统上，这些可用于确定给定文件的所有者。在Windows下，这些都为0。\n",
    "- size: 文件的大小，以字节为单位。\n",
    "- atime, mtime, ctime: 上次访问文件，上次修改文件以及上次更改文件信息的时间。时间以秒为单位，因为参考时间（“epoch”，通常是1970年）与time.time（）一起返回当前时间。在Windows下，上次访问的时间通常无效。"
   ]
  },
  {
   "cell_type": "markdown",
   "metadata": {},
   "source": [
    "下面是一个例子, 用来打印文件的大小和修改时间:"
   ]
  },
  {
   "cell_type": "code",
   "execution_count": 5,
   "metadata": {},
   "outputs": [
    {
     "name": "stdout",
     "output_type": "stream",
     "text": [
      "size: 9649\n",
      "修改时间: 1561387614.9498422\n"
     ]
    }
   ],
   "source": [
    "st = os.stat('d:/test.html')\n",
    "print('size:', st.st_size)\n",
    "print('修改时间:', st.st_mtime)"
   ]
  },
  {
   "cell_type": "raw",
   "metadata": {},
   "source": [
    "如果你想要看到人类能读懂的时间, 可以使用time模块进行转换:"
   ]
  },
  {
   "cell_type": "code",
   "execution_count": 6,
   "metadata": {},
   "outputs": [
    {
     "data": {
      "text/plain": [
       "'Mon Jun 24 22:46:54 2019'"
      ]
     },
     "execution_count": 6,
     "metadata": {},
     "output_type": "execute_result"
    }
   ],
   "source": [
    "import time\n",
    "\n",
    "time.asctime(time.localtime(st.st_mtime))"
   ]
  },
  {
   "cell_type": "markdown",
   "metadata": {},
   "source": [
    "os模块还提供了一个fstat函数，可以在打开的文件中使用。它需要一个整数文件句柄，而不是文件对象，因此您必须在文件对象上使用fileno方法以便获取文件句柄："
   ]
  },
  {
   "cell_type": "code",
   "execution_count": 7,
   "metadata": {},
   "outputs": [
    {
     "name": "stdout",
     "output_type": "stream",
     "text": [
      "os.stat_result(st_mode=33206, st_ino=10133099161596645, st_dev=3649960629, st_nlink=1, st_uid=0, st_gid=0, st_size=9613, st_atime=1561427779, st_mtime=1561427779, st_ctime=1552207589)\n"
     ]
    }
   ],
   "source": [
    "f = open('d:/test.html', 'r')\n",
    "st = os.fstat(f.fileno())\n",
    "print(st)"
   ]
  },
  {
   "cell_type": "markdown",
   "metadata": {},
   "source": [
    "### 修改\"文件的修改时间\"\n",
    "\n",
    "语法是: `os.utime(path, time)`\n",
    "\n",
    "- path -- 文件路径\n",
    "\n",
    "- times -- 如果时间是 None, 则文件的访问和修改设为当前时间 。 否则, 时间是一个 2-tuple数字, (atime, mtime) 用来分别作为访问和修改的时间。 注意atime和mtime都是参考1970年的时间戳。"
   ]
  },
  {
   "cell_type": "markdown",
   "metadata": {},
   "source": [
    "我们用下面的小例子来说明:"
   ]
  },
  {
   "cell_type": "code",
   "execution_count": 9,
   "metadata": {},
   "outputs": [
    {
     "name": "stdout",
     "output_type": "stream",
     "text": [
      "当前的时间: 1561428715.2898495\n",
      "文件的真实修改时间: 1561428043.960675\n",
      "文件的修改时间变成: 1561428615.2898495\n"
     ]
    }
   ],
   "source": [
    "now = time.time()\n",
    "print('当前的时间:', now)\n",
    "# 文件真实的访问和修改时间\n",
    "st = os.stat('d:/test.html')\n",
    "print('文件的真实修改时间:', st.st_mtime)\n",
    "# 修改文件修改时间\n",
    "os.utime('d:/test.html', (now, now-100))\n",
    "st = os.stat('d:/test.html')\n",
    "print('文件的修改时间变成:', st.st_mtime)\n"
   ]
  },
  {
   "cell_type": "code",
   "execution_count": null,
   "metadata": {},
   "outputs": [],
   "source": []
  }
 ],
 "metadata": {
  "kernelspec": {
   "display_name": "Python 3",
   "language": "python",
   "name": "python3"
  },
  "language_info": {
   "codemirror_mode": {
    "name": "ipython",
    "version": 3
   },
   "file_extension": ".py",
   "mimetype": "text/x-python",
   "name": "python",
   "nbconvert_exporter": "python",
   "pygments_lexer": "ipython3",
   "version": "3.6.5"
  }
 },
 "nbformat": 4,
 "nbformat_minor": 2
}
