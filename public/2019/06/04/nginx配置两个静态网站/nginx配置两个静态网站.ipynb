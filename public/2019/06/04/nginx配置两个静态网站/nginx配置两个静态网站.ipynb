{
 "cells": [
  {
   "cell_type": "markdown",
   "metadata": {},
   "source": [
    "---\n",
    "\n",
    "title: nginx配置两个静态网站\n",
    "date: 2019-06-04 08:44:03\n",
    "tags: [nginx, ]\n",
    "\n",
    "---\n",
    "\n",
    "略\n",
    "\n",
    "<--! more -->"
   ]
  },
  {
   "cell_type": "markdown",
   "metadata": {},
   "source": [
    "### 任务介绍\n",
    "\n",
    "本来我有一个网站已经使用nginx配置好了, 现在我要增加一个网站, 直接使用nginx配置多个网站即可, 但是我有几个问题:\n",
    "\n",
    "- 我忘记nginx安装在哪里了\n",
    "- 我忘记配置文件放在哪里了\n",
    "\n",
    "所以我先解决这俩问题, 然后再配置多个网站。"
   ]
  },
  {
   "cell_type": "markdown",
   "metadata": {},
   "source": [
    "### nginx安装位置\n",
    "\n",
    "首先我想到的方法是使用命令`rpm -ql nginx `, 这个命令按道理可以列出所有nginx安装的目录, 但是前提是你是使用\"yum\"包管理的方式安装的nginx , 可惜的是, 我不是这种方式。\n",
    "\n",
    "我知道我的nginx一直再运行状态, 所以我先看了看nginx的进程:\n",
    "\n",
    "```\n",
    "netstat -tnlp|grep nginx\n",
    "```\n",
    "\n",
    "得到了下面的信息:\n",
    "\n",
    "```\n",
    "tcp 0 0 0.0.0.0:80 0.0.0.0:* LISTEN 21196/nginx: master\n",
    "```\n",
    "\n",
    "使用上面得到的最后一组数字, 那就是进程号, 然后运行下面的命令:\n",
    "\n",
    "```\n",
    "ps -aux |grep 21196\n",
    "```\n",
    "\n",
    "得到的输出信息里就包含nginx的路径:\n",
    "\n",
    "```\n",
    "root 21196 0.0 0.0 48044 924 ? Ss 23:40 0:00 nginx: master process /usr/sbin/nginx -c /etc/nginx/nginx.conf\n",
    "```"
   ]
  },
  {
   "cell_type": "markdown",
   "metadata": {},
   "source": [
    "### nginx配置文件\n",
    "\n",
    "我们下面开始找nginx配置文件的路径, 因为nginx一直在运行, 所以我使用下面的命令就行:\n",
    "\n",
    "```\n",
    "nginx -t\n",
    "```\n",
    "\n",
    "你可以看到输出信息, 指明了配置文件的路径。\n",
    "\n",
    "这个配置文件中写明了一句:\n",
    "\n",
    "```\n",
    "include /etc/nginx/sites-avalable/*;\n",
    "```\n",
    "\n",
    "这说明sites-enabled目录下的配置文件也被纳入到配置中。"
   ]
  },
  {
   "cell_type": "markdown",
   "metadata": {},
   "source": [
    "###  复制配置文件\n",
    "\n",
    "因为我已经有一个网站在运行中, 所以在`/etc/nginx/sites-avalable/`目录下已经有了一个配置文件, 我直接复制已有的配置文件, 然后修改以下配置信息, 主要是配置\"server_name\", 它一般指你的网站域名, (注意两个网站都监听80端口是可以的, 只要server_name不同即可)。 "
   ]
  },
  {
   "cell_type": "markdown",
   "metadata": {},
   "source": [
    "### 具体配置内容\n",
    "\n",
    "具体配置内容很简单, 只要填写以下内容就可以了。\n",
    "\n",
    "```\n",
    "server {\n",
    "    listen 80;\n",
    "    server_name file.52itstyle.com; # 域名\n",
    "    charset utf-8;\n",
    "    root /data/share; # html页面所在路径\n",
    "  }\n",
    "```"
   ]
  }
 ],
 "metadata": {
  "kernelspec": {
   "display_name": "Python 3",
   "language": "python",
   "name": "python3"
  },
  "language_info": {
   "codemirror_mode": {
    "name": "ipython",
    "version": 3
   },
   "file_extension": ".py",
   "mimetype": "text/x-python",
   "name": "python",
   "nbconvert_exporter": "python",
   "pygments_lexer": "ipython3",
   "version": "3.6.5"
  }
 },
 "nbformat": 4,
 "nbformat_minor": 2
}
