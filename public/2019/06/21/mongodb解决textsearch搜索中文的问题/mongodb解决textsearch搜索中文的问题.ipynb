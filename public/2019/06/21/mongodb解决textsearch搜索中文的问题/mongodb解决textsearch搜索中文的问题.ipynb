{
 "cells": [
  {
   "cell_type": "markdown",
   "metadata": {},
   "source": [
    "---\n",
    "\n",
    "title: mongodb解决textsearch搜索中文的问题\n",
    "date: 2019-06-21 12:44:03\n",
    "tags: [mongodb, python, jieba, mongoengine]\n",
    "\n",
    "---\n",
    "\n",
    "这篇文章我主要介绍一下自己是如何在mongodb中实现中文的全文搜索功能的!\n",
    "\n",
    "<!-- more -->"
   ]
  },
  {
   "cell_type": "markdown",
   "metadata": {},
   "source": [
    "我们都知道, mongodb有textsearch的功能, 也就是文本搜索, 但是实际上它并没有对中文提供很好的支持, 因为中文并没有像英文那样的词干和分词符号(空格), 所以你在使用mongodb的文本搜索功能的时候难免会发现--根本没卵用!!!"
   ]
  },
  {
   "cell_type": "markdown",
   "metadata": {},
   "source": [
    "为了解决这个问题, 我们其实可以给mongodb预先分好词, 为了简单起见, 我并不太追求分词的准确性, 使用的是最简单的jieba分词库, 这是python里的一个自然语言处理第三方库!"
   ]
  },
  {
   "cell_type": "markdown",
   "metadata": {},
   "source": [
    "为了实现以上目标, 我们的工作分为两步:\n",
    "\n",
    "\n",
    "- 将搜索字段进行分词, 并以空格为词的分隔符形成新的字符串\n",
    "- 在mongodb中设置文本索引"
   ]
  },
  {
   "cell_type": "markdown",
   "metadata": {},
   "source": [
    "### 安装和使用jieba\n",
    "\n",
    "我们使用pip安装jieba:"
   ]
  },
  {
   "cell_type": "code",
   "execution_count": 1,
   "metadata": {},
   "outputs": [
    {
     "name": "stdout",
     "output_type": "stream",
     "text": [
      "Collecting jieba\n",
      "  Using cached https://files.pythonhosted.org/packages/71/46/c6f9179f73b818d5827202ad1c4a94e371a29473b7f043b736b4dab6b8cd/jieba-0.39.zip\n",
      "Building wheels for collected packages: jieba\n",
      "  Building wheel for jieba (setup.py): started\n",
      "  Building wheel for jieba (setup.py): finished with status 'done'\n",
      "  Stored in directory: C:\\Users\\syd\\AppData\\Local\\pip\\Cache\\wheels\\c9\\c7\\63\\a9ec0322ccc7c365fd51e475942a82395807186e94f0522243\n",
      "Successfully built jieba\n",
      "Installing collected packages: jieba\n",
      "Successfully installed jieba-0.39\n"
     ]
    },
    {
     "name": "stderr",
     "output_type": "stream",
     "text": [
      "You are using pip version 19.0.3, however version 19.1.1 is available.\n",
      "You should consider upgrading via the 'python -m pip install --upgrade pip' command.\n"
     ]
    }
   ],
   "source": [
    "!pip install jieba"
   ]
  },
  {
   "cell_type": "markdown",
   "metadata": {},
   "source": [
    "jieba中有专门为搜索而设的分词接口: cut_for_search"
   ]
  },
  {
   "cell_type": "code",
   "execution_count": 3,
   "metadata": {},
   "outputs": [
    {
     "name": "stderr",
     "output_type": "stream",
     "text": [
      "Building prefix dict from the default dictionary ...\n",
      "Dumping model to file cache C:\\Users\\syd\\AppData\\Local\\Temp\\jieba.cache\n",
      "Loading model cost 1.273 seconds.\n",
      "Prefix dict has been built succesfully.\n"
     ]
    },
    {
     "name": "stdout",
     "output_type": "stream",
     "text": [
      "你好\n",
      "mlln\n",
      ".\n",
      "cn\n",
      ",\n",
      " \n",
      "我\n",
      "可以\n",
      "被\n",
      "分词\n",
      "吗\n",
      "?\n"
     ]
    }
   ],
   "source": [
    "import jieba\n",
    "\n",
    "words = jieba.cut_for_search('你好mlln.cn, 我可以被分词吗?')\n",
    "for w in words:\n",
    "    print(w)"
   ]
  },
  {
   "cell_type": "markdown",
   "metadata": {},
   "source": [
    "### 设置mongodb的文本索引\n",
    "\n",
    "我使用的是python中的mongoengine模块, 它可以帮助我们用类的方式组织Document, 我的其中一个需要搜索的Document的定义是这样的:"
   ]
  },
  {
   "cell_type": "code",
   "execution_count": null,
   "metadata": {},
   "outputs": [],
   "source": [
    "class Questionaire(Document):\n",
    "    qtype = StringField(required=True)\n",
    "    source_id = StringField(required=True, unique=True)\n",
    "    title = StringField(required=True)\n",
    "    title_words = StringField(required=False)\n",
    "    des = StringField(required=False)\n",
    "    des_words = StringField(required=False)\n",
    "    has_factor = BooleanField(default=False)\n",
    "    has_data = BooleanField(default=False)\n",
    "    meta = {\n",
    "        'indexes': [\n",
    "            'source_id', \n",
    "            {\n",
    "                'fields': ['$title_words', \"$des_words\"],\n",
    "                'default_language': 'english',\n",
    "                'weights': {'title_words': 10, 'des_words': 2}\n",
    "            }\n",
    "        ]\n",
    "    }"
   ]
  },
  {
   "cell_type": "markdown",
   "metadata": {},
   "source": [
    "你不需要理解上面的代码, 你只需要看meta这个成员, 它定义了索引, 第二个索引就是一个文本索引:\n",
    "```\n",
    "    {\n",
    "        'fields': ['$title_words', \"$des_words\"],\n",
    "        'default_language': 'english',\n",
    "        'weights': {'title': 10, 'des': 2}\n",
    "    }\n",
    "```\n",
    "\n",
    "你应该可以猜测到, 我使用了title_words和des_words两个字段作为索引, 而这两个字段也是需要被分词的。"
   ]
  },
  {
   "cell_type": "markdown",
   "metadata": {},
   "source": [
    "### 分词\n",
    "\n",
    "使用jieba将需要分词的字段进行分词, 然后重新组合成分词后的字符串, 伪代码是这样的:"
   ]
  },
  {
   "cell_type": "code",
   "execution_count": 4,
   "metadata": {},
   "outputs": [],
   "source": [
    "def fenci(sentence: str)->str:\n",
    "    words = jieba.lcut_for_search(sentence)\n",
    "    return ' '.join(words)"
   ]
  },
  {
   "cell_type": "markdown",
   "metadata": {},
   "source": [
    "我们使用上面的方法分词以后, 将分词后的字符串保存到mongodb, 然后就可以进行搜索了:"
   ]
  },
  {
   "cell_type": "markdown",
   "metadata": {},
   "source": [
    "### 搜索\n",
    "\n",
    "核心的方式就是使用search_text方法进行搜索, 排序的话使用text_score, 这个text_score的定义就要看我们在构建索引的时候定义的计算权重:` 'weights': {'title_words': 10, 'des_words': 2}`, 它的意思是title_words占10分, des_words占2分, 以这样的权重来计算text_score。"
   ]
  },
  {
   "cell_type": "code",
   "execution_count": null,
   "metadata": {},
   "outputs": [],
   "source": [
    "from itembank import models as M \n",
    "from itembank import settings\n",
    "\n",
    "M.get_cnn(settings.DBNAME)\n",
    "qs = M.Questionaire.objects.search_text('生活').order_by('$text_score')\n",
    "print(qs)"
   ]
  },
  {
   "cell_type": "markdown",
   "metadata": {},
   "source": [
    "搜索得到的结果就是:\n",
    "```\n",
    "[<Questionaire: <Questionaire 大学生生活体验调查问卷>>]\n",
    "```"
   ]
  }
 ],
 "metadata": {
  "kernelspec": {
   "display_name": "Python 3",
   "language": "python",
   "name": "python3"
  },
  "language_info": {
   "codemirror_mode": {
    "name": "ipython",
    "version": 3
   },
   "file_extension": ".py",
   "mimetype": "text/x-python",
   "name": "python",
   "nbconvert_exporter": "python",
   "pygments_lexer": "ipython3",
   "version": "3.6.5"
  }
 },
 "nbformat": 4,
 "nbformat_minor": 2
}
