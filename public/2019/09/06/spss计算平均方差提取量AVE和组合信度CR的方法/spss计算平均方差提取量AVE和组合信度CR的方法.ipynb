{
 "cells": [
  {
   "cell_type": "markdown",
   "metadata": {},
   "source": [
    "---\n",
    "\n",
    "title: spss计算平均方差提取量AVE和组合信度CR的方法\n",
    "date: 2019-09-06 12:44:03\n",
    "mathjax: true\n",
    "tags: [spss, ]\n",
    "\n",
    "---\n",
    "\n",
    "\n",
    "这篇文章主要介绍了如何使用SPSS计算平均提取方差值AVE(Average Variance Extracted)和组合信度CR( Composite Reliability)的方法, 并且提供了计算他们的小程序, 帮助你在线计算。\n",
    "\n",
    "<!-- more -->"
   ]
  },
  {
   "cell_type": "markdown",
   "metadata": {},
   "source": [
    "在统计学（经典测量理论）中，提取的平均方差（AVE）是因子包含题目的的方差量的量度，与测量误差引起的方差量有关。  在下图中$\\lambda$代表了因子载荷:\n",
    "\n",
    "\n",
    "<img src=\"imgs/factor-analysis.png\">"
   ]
  },
  {
   "cell_type": "markdown",
   "metadata": {},
   "source": [
    "### spss操作"
   ]
  },
  {
   "cell_type": "markdown",
   "metadata": {},
   "source": [
    "在spss中, 我们可以这样去计算每个题目(变量)的因子载荷:\n",
    "\n",
    "<img src=\"imgs/factor-analysis-menue.png\">\n",
    "\n",
    "注意我们需要用到因子旋转后的因子载荷, 所以要设置旋转方法:\n",
    "\n",
    "<img src=\"imgs/factor-analysis-dialog.png\">"
   ]
  },
  {
   "cell_type": "markdown",
   "metadata": {},
   "source": [
    "运行命令以后, 可以输出旋转后因子成分矩阵, 下图中, 红色方框中的因子载荷就是第一个因子的因子载荷, 利用这些数据就可以计算第一个因子的平均提取方差值(AVE)和组合信度(CR):\n",
    "\n",
    "<img src=\"imgs/rotated-component-matrix.png\">"
   ]
  },
  {
   "cell_type": "markdown",
   "metadata": {},
   "source": [
    "### 计算公式"
   ]
  },
  {
   "cell_type": "markdown",
   "metadata": {},
   "source": [
    "假设$\\lambda$代表题目的因子载荷, 那么平均方差提取量(Average Variance Extracted)$l_{AVE}$的计算公式是:\n",
    "\n",
    "\n",
    "$$\n",
    "l_{AVE} = {\\sum \\lambda ^ 2 \\over n}\n",
    "$$\n",
    "\n",
    "\n"
   ]
  },
  {
   "cell_type": "markdown",
   "metadata": {},
   "source": [
    "那么组合信度( Composite Reliability)的计算公式是:\n",
    "\n",
    "$$\n",
    "l_{CR} = {( \\sum \\lambda)^2 \\over {( \\sum \\lambda)^2 + \\sum \\varepsilon}}\n",
    "$$\n",
    "\n",
    "\n",
    "其中$\\varepsilon$的计算方法是:\n",
    "\n",
    "$$\n",
    "\\varepsilon = 1 - \\lambda\n",
    "$$"
   ]
  },
  {
   "cell_type": "markdown",
   "metadata": {},
   "source": [
    "### 在线计算器\n",
    "\n",
    "为了方便广大童鞋能够正确的计算AVE和CR值, 我在这里写了一个小程序:\n",
    "\n",
    "\n",
    "<script>\n",
    "console.log('hello')\n",
    "</script>\n",
    "\n",
    "<table class=\"table\">\n",
    "    <tr>\n",
    "        <td>输入因子载荷(英文逗号隔开)</td>\n",
    "        <td>\n",
    "           <input class=\"form-control\" placeholder=\"输入因子载荷, 然后点击计算按钮\" type=\"text\">\n",
    "        </td>\n",
    "    </tr>\n",
    "    <tr><td>AVE=</td><td> <input readonly class=\"form-control\" id=\"ave\" type=\"number\"></td>\n",
    "    </tr>\n",
    "    <tr><td>CR=</td><td ><input readonly class=\"form-control\" id=\"cr\" type=\"number\"></td></tr>\n",
    "    <tr><td colspan=\"2\"><button onclick=\"cal_cr()\" class=\"btn btn-default\">计算</button></td></tr>\n",
    "</table>"
   ]
  }
 ],
 "metadata": {
  "kernelspec": {
   "display_name": "Python 3",
   "language": "python",
   "name": "python3"
  },
  "language_info": {
   "codemirror_mode": {
    "name": "ipython",
    "version": 3
   },
   "file_extension": ".py",
   "mimetype": "text/x-python",
   "name": "python",
   "nbconvert_exporter": "python",
   "pygments_lexer": "ipython3",
   "version": "3.6.5"
  }
 },
 "nbformat": 4,
 "nbformat_minor": 2
}
