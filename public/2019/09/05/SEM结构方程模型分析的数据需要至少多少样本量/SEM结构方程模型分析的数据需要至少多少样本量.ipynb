{
 "cells": [
  {
   "cell_type": "markdown",
   "metadata": {},
   "source": [
    "---\n",
    "\n",
    "title: SEM结构方程模型分析的数据需要至少多少样本量\n",
    "date: 2019-09-05 12:44:03\n",
    "tags: [spss, process]\n",
    "\n",
    "---\n",
    "\n",
    "\n",
    "这篇文章主要介绍了如何确定CFA和SEM等模型所需要的样本量。\n",
    "\n",
    "<!-- more -->\n"
   ]
  },
  {
   "cell_type": "markdown",
   "metadata": {},
   "source": [
    "尽管确定合适的样本量是SEM中的一个关键问题，但遗憾的是，文献中没有就SEM的适当样本大小达成共识。有证据表明即使样本量很小，简单的SEM模型也可以进行有意义的测试（Hoyle，1999; Hoyle和Kenny，1999; Marsh和Hau，1999），但通常，N = 100-150被认为是最小样本量用于进行SEM（Tinsley和Tinsley，1987; Anderson和Gerbing，1988; Ding，Velicer和Harlow，1995; Tabachnick和Fidell，2001）。一些研究人员认为SEM需要更大的样本量，例如，N = 200（Hoogland和Boomsma 1998; Boomsma和Hoogland，2001; Kline，2005）。模拟研究表明，对于正态分布的指标变量且没有缺失数据，简单CFA模型的合理样本大小约为N = 150（Muthén和Muthén，2002）。对于多组建模，经验法则是每组至少100个样本比较合适（Kline，2005）。"
   ]
  },
  {
   "cell_type": "markdown",
   "metadata": {},
   "source": [
    "通常根据观察到的变量的数量来考虑样本大小。对于正态分布数据，Bentler和Chou（1987）建议，当潜在变量有多个指标时，每个变量低至5个案例的比例就足够了。一个广泛接受的经验法则是每个指标变量10个案例/观察变量，以此作为样本量的下限（Nunnally，1967）。\n",
    "\n"
   ]
  },
  {
   "cell_type": "markdown",
   "metadata": {},
   "source": [
    "\n",
    "\n",
    "通常关注在用于确定样本大小的模型中估计的案例/观察（N）的（N：q）与自由参数（q）的数量的比率。较高的N：q比是优选的。经验法则是模型中每个自由参数至少5个案例/观察值（即N：q 5）（Bentler和Chou，1987; Bentler，1995）。对于强烈的神经数据，最小样本量应至少是自由参数数量的10倍（即N：q 10）（Hoogland和Boomsma，1998）。 Kline（1998）认为N：q比应在10或甚至20的范围内。\n",
    "\n",
    "很多人关注样本量（N）和模型中估计的自由参数数量（q）的比率（N：q）。较高的N：q比是比较好的额。经验法则至少N/q=5（Bentler和Chou，1987年; Bentler，1995）。对于具有强烈的kurtotic数据，最小样本量应该至少是自由参数数量的10倍（即N：q > 10）（Hoogland和Boomsma，1998）。 Kline（1998）认为N：q比率应该在10甚至20以上。"
   ]
  },
  {
   "cell_type": "markdown",
   "metadata": {},
   "source": [
    "\n",
    "\n",
    "\n",
    "还可以根据每个潜在变量/因子的指示变量的数量来考虑样本大小确定。根据一些研究人员（Marsh等，1998; Marsh和Hau，1999）认为，每个因子的观察指标越多，可以弥补小样本量的缺陷，更大的样本量可以弥补每个因素的指标较少的缺陷。对于每个因子具有6-12个指示变量的CFA模型，可以认为N = 50的样本大小是足够的，而对于每个因子具有3-4个指标的模型，样本大小应该至少为N = 100（Boomsma， 1985; Marsh和Hau，1999）。但是，如果CFA模型中每个因子只有2个指标，则所需的样本量至少应为N>400（Marsh和Hau，1999; Boomsma和Hoogland，2001）。然而，根据我们的经验，每个因素都有大量的指标/项目，在实际研究中通常很难验证量表的因子结构，因为很多误差项可能会因此而相互关联。各种原因, 通常，每个因子具有多个指标的CFA模型不能很好地拟合数据，除非在模型中指定了一些误差方差或交叉因子载荷。\n",
    "\n"
   ]
  },
  {
   "cell_type": "markdown",
   "metadata": {},
   "source": [
    "\n",
    " \n",
    " 确定SEM所需的样本量是非常复杂的。对于足够的样本量没有绝对的标准，没有适用于SEM中所有情况的经验法则（Muthen和Muthen，2002）。除了需要估算的自由参数的数量和每个潜在变量的指标数量之外，SEM所需的样本量还取决于与数据特征和被测试模型相关的许多其他因素，例如观察指标（Gerbing和Anderson，1985; Velicer和Fava，1998），研究设计（例如，横截面与纵向; Muthen和Muthen，2002），数据多变量正态性（West，Finch和Curran，1995; Anderson，1996），处理缺失数据（Brown，1994），模型复杂性（Kline，1998），以及模型估计（例如，ML，MLR，WLSMV）（Fan，Thompson和Wang，1999）。在简单地信任文献中给出的经验法则时，应该谨慎。相反，一些基于模型的方法，如Satorra和Saris的方法（1985）和蒙特卡罗模拟（Muthen和Muthen，2002），以及基于模型拟合指数的方法[例如，MacCallum，Browne和Sugawara的方法（1996） ）和Kim的方法（2005）]，越来越多地用于进行功率分析和估计特定SEM模型的样本量。在这些方法中，在给定样本大小和显着性水平（例如，1 / 0.05）或估计达到某一功率所需的样本大小（例如，0.80）的情况下估计统计功效1。"
   ]
  }
 ],
 "metadata": {
  "kernelspec": {
   "display_name": "Python 3",
   "language": "python",
   "name": "python3"
  },
  "language_info": {
   "codemirror_mode": {
    "name": "ipython",
    "version": 3
   },
   "file_extension": ".py",
   "mimetype": "text/x-python",
   "name": "python",
   "nbconvert_exporter": "python",
   "pygments_lexer": "ipython3",
   "version": "3.6.5"
  }
 },
 "nbformat": 4,
 "nbformat_minor": 2
}
