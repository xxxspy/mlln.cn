{
 "cells": [
  {
   "cell_type": "markdown",
   "metadata": {},
   "source": [
    "---\n",
    "\n",
    "title: python中logging模块的error和exception的区别和最佳实践\n",
    "date: 2019-08-04 12:44:03\n",
    "tags: [logging, python]\n",
    "\n",
    "---\n",
    "\n",
    "在python中, logging模块是用于处理日志信息的, 几乎在所有项目中都会用到这个模块。\n",
    "而logging.error和logging.exception这两个方法很相似, 用起来也容易混淆。\n",
    "\n",
    "<!-- more -->"
   ]
  },
  {
   "cell_type": "markdown",
   "metadata": {},
   "source": [
    "\n",
    "\n",
    "其实这两个方法只有一个区别, loging.error只是记录一个日志消息, 日志等级是error, 而exception在记录消息的同时, 默认会记录错误发生的traceback信息, 所以说, 如果你想记录更详细的错误信息, 你最好是使用exception, 但是error方法也可以输出traceback信息, 只需要你设置一个参数`exc_info`, 下面我们使用例子来看看具体的区别:"
   ]
  },
  {
   "cell_type": "markdown",
   "metadata": {},
   "source": [
    "先引入logging模块:"
   ]
  },
  {
   "cell_type": "code",
   "execution_count": 1,
   "metadata": {},
   "outputs": [],
   "source": [
    "import logging\n",
    "\n",
    "log = logging.getLogger(__name__)"
   ]
  },
  {
   "cell_type": "markdown",
   "metadata": {},
   "source": [
    "### 使用error记录错误日志\n",
    "\n",
    "你只能看到一个简单的信息:"
   ]
  },
  {
   "cell_type": "code",
   "execution_count": 8,
   "metadata": {
    "scrolled": true
   },
   "outputs": [
    {
     "name": "stderr",
     "output_type": "stream",
     "text": [
      "值错误\n"
     ]
    }
   ],
   "source": [
    "try:\n",
    "    raise ValueError('A error happend !')\n",
    "except ValueError as e:\n",
    "    log.error(\"值错误\")"
   ]
  },
  {
   "cell_type": "markdown",
   "metadata": {},
   "source": [
    "我们使用`exc_info`参数: 这样就能看到traceback信息:"
   ]
  },
  {
   "cell_type": "code",
   "execution_count": 9,
   "metadata": {},
   "outputs": [
    {
     "name": "stderr",
     "output_type": "stream",
     "text": [
      "值错误\n",
      "Traceback (most recent call last):\n",
      "  File \"<ipython-input-9-7b3dde823828>\", line 2, in <module>\n",
      "    raise ValueError('A error happend !')\n",
      "ValueError: A error happend !\n"
     ]
    }
   ],
   "source": [
    "try:\n",
    "    raise ValueError('A error happend !')\n",
    "except ValueError as e:\n",
    "    log.error(\"值错误\", exc_info=True)"
   ]
  },
  {
   "cell_type": "markdown",
   "metadata": {},
   "source": [
    "### 使用exception\n",
    "\n",
    "exception默认就会输出traceback信息:"
   ]
  },
  {
   "cell_type": "code",
   "execution_count": 10,
   "metadata": {},
   "outputs": [
    {
     "name": "stderr",
     "output_type": "stream",
     "text": [
      "值错误\n",
      "Traceback (most recent call last):\n",
      "  File \"<ipython-input-10-aaffeaaf1df4>\", line 2, in <module>\n",
      "    raise ValueError('A error happend !')\n",
      "ValueError: A error happend !\n"
     ]
    }
   ],
   "source": [
    "try:\n",
    "    raise ValueError('A error happend !')\n",
    "except ValueError as e:\n",
    "    log.exception('值错误')"
   ]
  }
 ],
 "metadata": {
  "kernelspec": {
   "display_name": "Python 3",
   "language": "python",
   "name": "python3"
  },
  "language_info": {
   "codemirror_mode": {
    "name": "ipython",
    "version": 3
   },
   "file_extension": ".py",
   "mimetype": "text/x-python",
   "name": "python",
   "nbconvert_exporter": "python",
   "pygments_lexer": "ipython3",
   "version": "3.6.5"
  }
 },
 "nbformat": 4,
 "nbformat_minor": 2
}
