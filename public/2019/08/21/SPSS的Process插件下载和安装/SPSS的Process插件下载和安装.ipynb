{
 "cells": [
  {
   "cell_type": "markdown",
   "metadata": {},
   "source": [
    "---\n",
    "\n",
    "title: SPSS的Process插件下载和安装\n",
    "date: 2019-08-21 12:44:03\n",
    "tags: [spss, process]\n",
    "\n",
    "\n",
    "SPSS的Process插件由 Andrew F. Hayes, Ph.D 开发, 大家可以免费使用。Process的主要用途就是进行一些路径分析, 比如中介效应/调节效应的检验, 不过, 其实没有这个插件, 我们也能进行这些分析, 有了Process插件的好处就是我们不必重复劳动, 而且提高了工作效率。\n",
    "\n",
    "今天这篇文章我主要介绍一下Process的下载和安装方法。\n",
    "\n",
    "<!-- more -->\n",
    "\n",
    "---"
   ]
  },
  {
   "cell_type": "markdown",
   "metadata": {},
   "source": [
    "### Process有两种使用方法\n",
    "\n",
    "第一种方法是使用作者提供的界面, 你需要安装这个插件才能使用界面; 第二种方法并不需要安装, 只要在syntax中引用process的源码即可, 但是你只能自己写syntax, 下面我们分别介绍两种方法。"
   ]
  },
  {
   "cell_type": "markdown",
   "metadata": {},
   "source": [
    "### 下载\n",
    "\n",
    "从下面的网址中下载插件的压缩包:\n",
    "\n",
    "下载地址:  http://www.afhayes.com/public/processv34.zip\n",
    "\n",
    "你会得到一个压缩包, 解压以后得到如下文件:\n",
    "\n",
    "<img src=\"imgs/01.png\">\n",
    "\n",
    "打开这个文件夹, 我们看到这些文件:\n",
    "\n",
    "<img src=\"imgs/02.png\">"
   ]
  },
  {
   "cell_type": "markdown",
   "metadata": {},
   "source": [
    "### 第一种方法: 安装界面\n",
    "\n",
    "打开spss软件, 然后来到这个菜单(中文版的spss可以按照菜单位置来定位):\n",
    "\n",
    "<img src=\"imgs/04.png\">"
   ]
  },
  {
   "cell_type": "markdown",
   "metadata": {},
   "source": [
    "在打开的对话框中选择文件夹`custom dialog builder file`下面的这个文件`process.spd`:\n",
    "\n",
    "<img src=\"imgs/05.png\">\n",
    "\n",
    "在打开的这个界面中, 选择install, 然后点\"yes\":\n",
    "\n",
    "<img src=\"imgs/06.png\">\n",
    "\n",
    "接下来基本结束了, 安装成功!"
   ]
  },
  {
   "cell_type": "markdown",
   "metadata": {},
   "source": [
    "### 无需安装, 直接引用process源码\n",
    "\n",
    "\n",
    "其实, 如果你熟悉spss的syntax, 你可以直接使用process这个命令, 方法是:\n",
    "\n",
    "首先你需要新建一个syntax文件, 然后再文件中写入这样一行代码, 它就是引用了`process.sps`, 注意后缀名是sps。\n",
    "\n",
    "```spss\n",
    "INCLUDE 'D:\\PROCESS v3.4 for SPSS\\process.sps'.\n",
    "```\n",
    "\n",
    "然后, 你可以使用process命令来进行数据分析, 比如下面的代码就是做了一个简单的中介效应分析:\n",
    "\n",
    "```\n",
    "PROCESS \n",
    "  y=Q16_2\n",
    "  /x=Q18_1\n",
    "  /m=Q20_1\n",
    "  /plot=1\n",
    "  /covcoeff=1\n",
    "  /decimals=F10.4\n",
    "  /boot=5000\n",
    "  /conf=95\n",
    "  /model=4.\n",
    "\n",
    "```"
   ]
  },
  {
   "cell_type": "markdown",
   "metadata": {},
   "source": [
    "### 怎么打开Process对话框\n",
    "\n",
    "\n",
    "当你安装好了process的界面到spss以后, 你可以在这里找到process的入口:\n",
    "\n",
    "<img src=\"imgs/07.png\">"
   ]
  },
  {
   "cell_type": "markdown",
   "metadata": {},
   "source": [
    "### 两种方法的联系\n",
    "\n",
    "其实使用Process的对话框和使用Process的syntax命令本质都是在调用process命令, 所以我们可以对比一下界面和命令的联系在那里, 也就是界面上的各种配置都决定了命令的什么参数, 这样可以帮助我们使用syntax, 因为syntax的效率更高!\n",
    "\n",
    "<img src=\"imgs/08.png\">\n",
    "\n",
    "<img src=\"imgs/09.png\">"
   ]
  },
  {
   "cell_type": "markdown",
   "metadata": {},
   "source": [
    "### 关于Process插件如何进行分析\n",
    "\n",
    "我会在之后的文章中以案例的方式给大家分享。"
   ]
  }
 ],
 "metadata": {
  "kernelspec": {
   "display_name": "Python 3",
   "language": "python",
   "name": "python3"
  },
  "language_info": {
   "codemirror_mode": {
    "name": "ipython",
    "version": 3
   },
   "file_extension": ".py",
   "mimetype": "text/x-python",
   "name": "python",
   "nbconvert_exporter": "python",
   "pygments_lexer": "ipython3",
   "version": "3.6.5"
  }
 },
 "nbformat": 4,
 "nbformat_minor": 2
}
