{
 "cells": [
  {
   "cell_type": "markdown",
   "metadata": {},
   "source": [
    "---\n",
    "\n",
    "title: python自带GUI根据url显示网络图片\n",
    "date: 2019-07-13 12:44:03\n",
    "tags: [python, pil, tkinter]\n",
    "\n",
    "---\n",
    "\n",
    "我们知道一个图片的url, 如何显示到GUI中, 下面就是来演示一下, 我们使用的是python3.6, 利用官方自带的tkinter作为GUI。 使用urlopen下载图片, 然后使用io模块存放图片数据, 最后使用PIL转换为图片, 最后将图片显示到GUI中。\n",
    "\n",
    "<!-- more -->"
   ]
  },
  {
   "cell_type": "markdown",
   "metadata": {},
   "source": [
    "下面我安装一下PIL模块:"
   ]
  },
  {
   "cell_type": "code",
   "execution_count": 3,
   "metadata": {
    "scrolled": true
   },
   "outputs": [
    {
     "name": "stdout",
     "output_type": "stream",
     "text": [
      "Collecting pillow\n",
      "  Downloading https://files.pythonhosted.org/packages/4e/d9/468422371e6fcf02d6a162ee30db4552221de8b2b3ff837363bf54cbb347/Pillow-6.1.0-cp36-cp36m-win_amd64.whl (2.0MB)\n",
      "Installing collected packages: pillow\n",
      "Successfully installed pillow-6.1.0\n"
     ]
    },
    {
     "name": "stderr",
     "output_type": "stream",
     "text": [
      "You are using pip version 19.0.3, however version 19.1.1 is available.\n",
      "You should consider upgrading via the 'python -m pip install --upgrade pip' command.\n"
     ]
    }
   ],
   "source": [
    "!pip install pillow"
   ]
  },
  {
   "cell_type": "markdown",
   "metadata": {},
   "source": [
    "下面是代码, 里面有注释:"
   ]
  },
  {
   "cell_type": "code",
   "execution_count": 10,
   "metadata": {},
   "outputs": [],
   "source": [
    "import io\n",
    "from PIL import Image, ImageTk\n",
    "import tkinter as tk\n",
    "from urllib.request import urlopen\n",
    "root = tk.Tk()\n",
    "# 随便挑了一个网页图片\n",
    "url = \"https://checkimage.etest.net.cn/460032A72DDE122655301C16E6225789.jpg\"\n",
    "# 下载图片数据\n",
    "image_bytes = urlopen(url).read()\n",
    "# 将数据存放到data_stream中\n",
    "data_stream = io.BytesIO(image_bytes)\n",
    "# 转换为图片格式\n",
    "pil_image = Image.open(data_stream)\n",
    "# 获取图片的宽度和高度\n",
    "w, h = pil_image.size\n",
    "# 获取图片的文件名\n",
    "fname = url.split('/')[-1]\n",
    "sf = \"{} ({}x{})\".format(fname, w, h)\n",
    "# 设置窗口title\n",
    "root.title(sf)\n",
    "# 将pil格式的图片转换为tk格式的image\n",
    "tk_image = ImageTk.PhotoImage(pil_image)\n",
    "# 创建个label组件, root作为父节点\n",
    "label = tk.Label(root, image=tk_image, bg='black')\n",
    "# 设置一些padding\n",
    "label.pack(padx=5, pady=5)\n",
    "root.mainloop()"
   ]
  }
 ],
 "metadata": {
  "kernelspec": {
   "display_name": "Python 3",
   "language": "python",
   "name": "python3"
  },
  "language_info": {
   "codemirror_mode": {
    "name": "ipython",
    "version": 3
   },
   "file_extension": ".py",
   "mimetype": "text/x-python",
   "name": "python",
   "nbconvert_exporter": "python",
   "pygments_lexer": "ipython3",
   "version": "3.6.5"
  }
 },
 "nbformat": 4,
 "nbformat_minor": 2
}
