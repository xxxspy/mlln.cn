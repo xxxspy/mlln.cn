{
 "cells": [
  {
   "cell_type": "markdown",
   "metadata": {},
   "source": [
    "---\n",
    "\n",
    "title: python3的logging模块的最佳实践\n",
    "date: 2019-07-21 12:44:03\n",
    "tags: [python, logging]\n",
    "\n",
    "---\n",
    "\n",
    "日志记录的内容非常丰富, 日志的形式也千变万化。\n",
    "在本文中，我们将探讨如何使用Python的logging模块进行日志记录，\n",
    "以便更好地了解应用程序中发生了什么。此外，我将探索一些最佳实践，\n",
    "这些实践将帮助您使用内置的Python模块从日志中获得最大价值。\n",
    "\n",
    "<!-- more -->"
   ]
  },
  {
   "cell_type": "markdown",
   "metadata": {},
   "source": [
    "### 简介\n",
    "\n",
    "\n",
    "如果操作正确，日志是你开发的软件的重要组成部分。日志讲述了应用程序中数据如何变化的。他们让您回答以下问题：为什么John Doe在结账时收到错误？他提供什么输入数据？\n",
    "\n",
    "日志记录的内容非常丰富, 日志的形式也千变万化。在本文中，我们将探讨如何使用Python的logging模块进行日志记录，以便更好地了解应用程序中发生了什么。此外，我将探索一些最佳实践，这些实践将帮助您使用内置的Python模块从日志中获得最大价值。"
   ]
  },
  {
   "cell_type": "markdown",
   "metadata": {},
   "source": [
    "### 为什么不直接使用print语句\n",
    "\n",
    "很多python入门教程都使用print语句来输出数据, 让学习者看到程序在做什么, 但是这种实践让很多学习者误入歧途, 在工业界很少有合格的程序员使用print作为日志工具。\n",
    "\n",
    "虽然`print`在较小的脚本程序中很有用，但随着应用程序需求的增长，`print`成为一种不太可行的解决方案。它不能为您提供关闭整个输出的灵活性，它只允许您输出到标准输出(stdout)。它还会遗漏print的行号和时间等信息，这些信息可以帮助调试代码。虽然print是最简单的方法，因为它不需要设置，它可以很快反馈给你。使用包含print语句的第三方库也是不提倡的，因为它会让你无法控制自己的程序的输出, 除非你修改他的代码, 否则你无法控制什么东西会被打印出来, 对于你调试程序, 额外的无用输出是很恼人的。\n",
    "\n"
   ]
  },
  {
   "cell_type": "markdown",
   "metadata": {},
   "source": [
    "### Logging.info(\"Hello world\")\n",
    "\n",
    "\n",
    "logging模块是Python标准库的一部分，从版本2.3开始。它会自动将日志（例如行号和时间戳）添加到日志中。该模块可以轻松添加命名空间日志记录和日志级别，以便您更好地控制输出的位置和内容。\n",
    "\n",
    "我相信最好的学习方法就是\"去做\"，所以我鼓励你跟进Python REPL。开始使用日志记录模块很简单，这就是您需要做的所有事情：\n",
    "\n"
   ]
  },
  {
   "cell_type": "code",
   "execution_count": 1,
   "metadata": {},
   "outputs": [
    {
     "name": "stderr",
     "output_type": "stream",
     "text": [
      "CRITICAL:__main__:logging is easier than I was expecting!\n"
     ]
    }
   ],
   "source": [
    "import logging\n",
    "logging.basicConfig()\n",
    "logger = logging.getLogger(__name__)\n",
    "logger.critical(\"logging is easier than I was expecting!\")"
   ]
  },
  {
   "cell_type": "markdown",
   "metadata": {},
   "source": [
    "上面的代码做了什么, 其实很简单, 首先我们使用`getLogger`获取了logger实例, 然后用实例的`critical`方法记录了一条日志: logging is easier than I was expecting!, 日志的重要性级别就是`critical`。\n",
    "\n"
   ]
  },
  {
   "cell_type": "markdown",
   "metadata": {},
   "source": [
    "### Levels\n",
    "\n",
    "Python模块允许您根据日志的严重性级别区分日志。级别表示为0到50之间的整数。logging模块在整个范围中定义了五个常量，便于区分日志等级。\n",
    "\n",
    "运行下面的五个语句, 查看输出:\n"
   ]
  },
  {
   "cell_type": "code",
   "execution_count": 2,
   "metadata": {},
   "outputs": [
    {
     "name": "stderr",
     "output_type": "stream",
     "text": [
      "CRITICAL:__main__:this better be bad\n"
     ]
    }
   ],
   "source": [
    "logger.critical(\"this better be bad\")"
   ]
  },
  {
   "cell_type": "code",
   "execution_count": 3,
   "metadata": {},
   "outputs": [
    {
     "name": "stderr",
     "output_type": "stream",
     "text": [
      "ERROR:__main__:more serious problem\n"
     ]
    }
   ],
   "source": [
    "logger.error(\"more serious problem\")"
   ]
  },
  {
   "cell_type": "code",
   "execution_count": 4,
   "metadata": {},
   "outputs": [
    {
     "name": "stderr",
     "output_type": "stream",
     "text": [
      "WARNING:__main__:an unexpected event\n"
     ]
    }
   ],
   "source": [
    "logger.warning(\"an unexpected event\")"
   ]
  },
  {
   "cell_type": "code",
   "execution_count": 5,
   "metadata": {},
   "outputs": [],
   "source": [
    "logger.info(\"show user flow through program\")"
   ]
  },
  {
   "cell_type": "code",
   "execution_count": 6,
   "metadata": {},
   "outputs": [],
   "source": [
    "logger.debug(\"used to track variables when coding\")"
   ]
  },
  {
   "cell_type": "markdown",
   "metadata": {},
   "source": [
    "你会发现, info和debug这两个方法并没有像标准输出中产生任何影响。默认情况下, 日志模块仅仅会将`warning/error/critical`级别的日志信息打印到标准输出中。你可以自定义这个行为, 并且在程序运行时修改这些设置。"
   ]
  },
  {
   "cell_type": "code",
   "execution_count": 7,
   "metadata": {},
   "outputs": [],
   "source": [
    "logger.setLevel(logging.DEBUG)"
   ]
  },
  {
   "cell_type": "code",
   "execution_count": 8,
   "metadata": {},
   "outputs": [
    {
     "name": "stderr",
     "output_type": "stream",
     "text": [
      "INFO:__main__:Hello\n"
     ]
    }
   ],
   "source": [
    "logger.info('Hello')"
   ]
  },
  {
   "cell_type": "markdown",
   "metadata": {},
   "source": [
    "### 格式化日志消息\n",
    "\n",
    "默认格式化程序对格式化日志没有用，因为它不包含关键信息。日志记录模块使您可以通过更改格式轻松添加它。\n",
    "\n",
    "我们将设置格式以显示时间，级别和消息："
   ]
  },
  {
   "cell_type": "code",
   "execution_count": 23,
   "metadata": {},
   "outputs": [
    {
     "name": "stderr",
     "output_type": "stream",
     "text": [
      "2019-07-21 14:46:21,141 - INFO - test\r\n"
     ]
    }
   ],
   "source": [
    "%%script python\n",
    "\n",
    "import logging\n",
    "logFormatter = '%(asctime)s - %(levelname)s - %(message)s'\n",
    "logging.basicConfig(format=logFormatter, level=logging.DEBUG)\n",
    "logger = logging.getLogger(__name__)\n",
    "logger.info(\"test\")"
   ]
  },
  {
   "cell_type": "markdown",
   "metadata": {},
   "source": [
    "注意: 我在程序的开头写了`%%script python`, 因为我的程序运行在jupyter notebook中, 因此为了正确显示log信息, 我需要让程序运行在一个独立的环境中, 所以我使用了notebook的魔法`script`来调用python命令, 独立执行这段代码。"
   ]
  },
  {
   "cell_type": "markdown",
   "metadata": {},
   "source": [
    "### 添加额外信息\n",
    "\n",
    "虽然日志格式化了, 更好看了, 但是缺少一些必要信息。 想象一下，如果你必须通过你的日志了解购物车的动态。这使得很难回答以下问题：物品什么时候删除？谁删除了它？他们删除了什么？\n",
    "\n",
    "所以, 我们能不能在日志中添加以下额外信息呢, 答案是可以!"
   ]
  },
  {
   "cell_type": "code",
   "execution_count": 25,
   "metadata": {},
   "outputs": [
    {
     "name": "stderr",
     "output_type": "stream",
     "text": [
      "2019-07-21 14:53:45,539 - Sid Panjwani - INFO - purchase completed\r\n"
     ]
    }
   ],
   "source": [
    "%%script python\n",
    "\n",
    "import logging\n",
    "# 下面的格式中, 有一个额外的信息: user\n",
    "logFormatter = '%(asctime)s - %(user)s - %(levelname)s - %(message)s'\n",
    "logging.basicConfig(format=logFormatter, level=logging.DEBUG)\n",
    "logger = logging.getLogger(__name__)\n",
    "# 在输出日志的时候, 我们需要提供参数extra来提供上下文信息\n",
    "logger.info('purchase completed', extra={'user': 'Sid Panjwani'})"
   ]
  },
  {
   "cell_type": "markdown",
   "metadata": {},
   "source": [
    "### 性能问题\n",
    "\n",
    "记录日志有时候对性能的影响较大, 比如要记录一些计算值。 虽然开销通常可以忽略不计，但不良做法和错误可能导致不幸的情况。\n",
    "\n",
    "比如有一个函数的计算结果需要1秒, 你只希望在软件开发的阶段记录这个日志, 但是下面的写法就是错误的:\n",
    "\n",
    "```py\n",
    "logger.debug('%s', func_needs_time())\n",
    "```\n",
    "\n",
    "这种写法, 需要先计算函数返回值, 然后再去判断是否记录这个输出值。\n",
    "\n",
    "严格的写法应该是这样:\n",
    "\n",
    "```py\n",
    "# 先判断当前是否能输出debug日志:\n",
    "if logger.isEnabledFor(logging.INFO):\n",
    "    logger.debug('%s', expensive_func())\n",
    "```"
   ]
  },
  {
   "cell_type": "markdown",
   "metadata": {},
   "source": [
    "### 保存和获取日志\n",
    "\n",
    "现在您已经学会了编写这些（漂亮的）日志，您必须确定如何保存它们。默认情况下，日志会写入标准输出设备（可能是您的终端窗口），但Python的logging模块提供了一组丰富的选项来自定义存储方式。我们提倡将日志记录到标准输出，Heroku，Amazon Elastic Beanstalk和Docker等平台通过捕获标准输出并重定向到平台级别的其他日志记录工具来存储日志。\n",
    "\n",
    "但是, 有时候我们还需要使用其他一些存储方式, 这里做简单介绍:\n",
    "\n",
    "- 存储到文件\n",
    "\n",
    "\n"
   ]
  },
  {
   "cell_type": "code",
   "execution_count": 44,
   "metadata": {},
   "outputs": [],
   "source": [
    "%%script python\n",
    "\n",
    "import logging\n",
    "logger = logging.getLogger(__name__)\n",
    "\n",
    "handler = logging.FileHandler('myLogs.log')\n",
    "handler.setLevel(logging.INFO)\n",
    "\n",
    "logger.addHandler(handler)\n",
    "logger.warn('You can find this written in myLogs.log')"
   ]
  },
  {
   "cell_type": "code",
   "execution_count": 45,
   "metadata": {},
   "outputs": [
    {
     "data": {
      "text/plain": [
       "'You can find this written in myLogs.log\\nYou2 can find this written in myLogs.log\\nYou can find this written in myLogs.log\\n'"
      ]
     },
     "execution_count": 45,
     "metadata": {},
     "output_type": "execute_result"
    }
   ],
   "source": [
    "open('myLogs.log', 'r').read()"
   ]
  },
  {
   "cell_type": "markdown",
   "metadata": {},
   "source": [
    "### Logging in Library\n",
    "\n",
    "当你开发一个python库, 你的库最好是共享一个日志配置, 而不是每个模块都重新配置日志。\n",
    "\n",
    "在库中实例化logger时的最佳做法是仅使用`__name__`全局变量创建它们：logging模块使用点表示法创建记录器层次结构，因此使用`__name__`可确保没有名称冲突。\n",
    "\n",
    "下面是python著名的requests库所采用的方法, 在`__init__.py`文件中, 有如下代码:\n",
    "\n",
    "```py\n",
    "import logging\n",
    "logging.getLogger(__name__).addHandler(logging.NullHandler())\n",
    "```\n",
    "\n",
    "位于logging包中的NullHandler类不执行任何格式化或输出。它本质上是一个供库开发人员使用的“无操作”处理程序。类似于占位符。 当然, 你可以使用文件处理器来替换它:"
   ]
  },
  {
   "cell_type": "code",
   "execution_count": null,
   "metadata": {},
   "outputs": [],
   "source": [
    "import logging\n",
    "\n",
    "logging.getLogger(__name__).addHandler(logging.FileHandler('myLogs.log'))"
   ]
  },
  {
   "cell_type": "markdown",
   "metadata": {},
   "source": [
    "### Logging in an Application\n",
    "\n",
    "twelve factor应用程序是应用程序开发中良好实践的权威参考，其中包含日志的最佳实践。它着重提倡将日志事件视为事件流，并将该事件流发送到标准输出以由应用程序环境处理。\n",
    "\n",
    "在应用程序开发中, 至少有三种方式来配置日志系统:"
   ]
  },
  {
   "cell_type": "markdown",
   "metadata": {},
   "source": [
    "- 使用ini文件\n",
    "- 使用json文件\n",
    "- 使用python代码\n",
    "\n",
    "#### 使用init文件的例子\n",
    "\n",
    "```\n",
    "[loggers]\n",
    "keys=root\n",
    "\n",
    "[handlers]\n",
    "keys=stream_handler\n",
    "\n",
    "[formatters]\n",
    "keys=formatter\n",
    "\n",
    "[logger_root]\n",
    "level=DEBUG\n",
    "handlers=stream_handler\n",
    "\n",
    "[handler_stream_handler]\n",
    "class=StreamHandler\n",
    "level=DEBUG\n",
    "formatter=formatter\n",
    "args=(sys.stderr,)\n",
    "\n",
    "[formatter_formatter]\n",
    "format=%(asctime)s %(name)-12s %(levelname)-8s %(message)s\n",
    "```\n",
    "\n",
    "在代码中, 使用`logging.config.fileConfig() `来加载ini配置文件:"
   ]
  },
  {
   "cell_type": "code",
   "execution_count": null,
   "metadata": {},
   "outputs": [],
   "source": [
    "import logging\n",
    "from logging.config import fileConfig\n",
    "\n",
    "fileConfig('logging_config.ini')\n",
    "logger = logging.getLogger()\n",
    "logger.debug('often makes a very good meal of %s', 'visiting tourists')"
   ]
  },
  {
   "cell_type": "markdown",
   "metadata": {},
   "source": [
    "#### 字典或者json配置"
   ]
  },
  {
   "cell_type": "code",
   "execution_count": null,
   "metadata": {},
   "outputs": [],
   "source": [
    "import logging\n",
    "from logging.config import dictConfig\n",
    "\n",
    "logging_config = dict(\n",
    "    version = 1,\n",
    "    formatters = {\n",
    "        'f': {'format':\n",
    "              '%(asctime)s %(name)-12s %(levelname)-8s %(message)s'}\n",
    "        },\n",
    "    handlers = {\n",
    "        'h': {'class': 'logging.StreamHandler',\n",
    "              'formatter': 'f',\n",
    "              'level': logging.DEBUG}\n",
    "        },\n",
    "    root = {\n",
    "        'handlers': ['h'],\n",
    "        'level': logging.DEBUG,\n",
    "        },\n",
    ")\n",
    "\n",
    "dictConfig(logging_config)\n",
    "\n",
    "logger = logging.getLogger()\n",
    "logger.debug('often makes a very good meal of %s', 'visiting tourists')"
   ]
  },
  {
   "cell_type": "markdown",
   "metadata": {},
   "source": [
    "#### 在python代码中配置"
   ]
  },
  {
   "cell_type": "code",
   "execution_count": null,
   "metadata": {},
   "outputs": [],
   "source": [
    "import logging\n",
    "\n",
    "logger = logging.getLogger()\n",
    "handler = logging.StreamHandler()\n",
    "formatter = logging.Formatter(\n",
    "        '%(asctime)s %(name)-12s %(levelname)-8s %(message)s')\n",
    "handler.setFormatter(formatter)\n",
    "logger.addHandler(handler)\n",
    "logger.setLevel(logging.DEBUG)\n",
    "\n",
    "logger.debug('often makes a very good meal of %s', 'visiting tourists')"
   ]
  }
 ],
 "metadata": {
  "kernelspec": {
   "display_name": "Python 3",
   "language": "python",
   "name": "python3"
  },
  "language_info": {
   "codemirror_mode": {
    "name": "ipython",
    "version": 3
   },
   "file_extension": ".py",
   "mimetype": "text/x-python",
   "name": "python",
   "nbconvert_exporter": "python",
   "pygments_lexer": "ipython3",
   "version": "3.6.5"
  }
 },
 "nbformat": 4,
 "nbformat_minor": 2
}
